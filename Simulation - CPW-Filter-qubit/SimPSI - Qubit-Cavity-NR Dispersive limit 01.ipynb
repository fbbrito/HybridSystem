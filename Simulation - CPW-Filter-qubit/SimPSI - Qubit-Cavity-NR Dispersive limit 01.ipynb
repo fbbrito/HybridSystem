{
 "cells": [
  {
   "cell_type": "markdown",
   "metadata": {},
   "source": [
    "# Symbolic derivation qubit-cavity Hamiltonian"
   ]
  },
  {
   "cell_type": "markdown",
   "metadata": {},
   "source": [
    "<style>\n",
    "p {\n",
    "    font-family: \"Liberation Serif\", serif;\n",
    "    font-size: 12pt;\n",
    "}\n",
    "</style>"
   ]
  },
  {
   "cell_type": "markdown",
   "metadata": {},
   "source": [
    "\n",
    "Based on: J. R. Johansson (robert@riken.jp), [http://jrjohansson.github.io](http://jrjohansson.github.io), and Eunjong Kim."
   ]
  },
  {
   "cell_type": "markdown",
   "metadata": {},
   "source": [
    "## Setup modules"
   ]
  },
  {
   "cell_type": "code",
   "execution_count": 1,
   "metadata": {
    "collapsed": false
   },
   "outputs": [],
   "source": [
    "from sympy import *\n",
    "init_printing()"
   ]
  },
  {
   "cell_type": "code",
   "execution_count": 2,
   "metadata": {
    "collapsed": false
   },
   "outputs": [],
   "source": [
    "from sympsi import *\n",
    "from sympsi.boson import *\n",
    "from sympsi.pauli import *"
   ]
  },
  {
   "cell_type": "markdown",
   "metadata": {},
   "source": [
    "## The Jaynes-Cummings model"
   ]
  },
  {
   "cell_type": "markdown",
   "metadata": {},
   "source": [
    "The [Jaynes-Cummings model](http://en.wikipedia.org/wiki/Jaynes%E2%80%93Cummings_model) is one of the most elementary quantum mechanical models light-matter interaction. It describes a single two-level atom that interacts with a single harmonic-oscillator mode of a electromagnetic cavity.\n",
    "\n",
    "The Hamiltonian for a two-level system in its eigenbasis can be written as\n",
    "\n",
    "$$\n",
    "H = \\frac{1}{2}\\omega_q \\sigma_z\n",
    "$$\n",
    "\n",
    "and the Hamiltonian of a quantum harmonic oscillator (cavity or nanomechanical resonator, NR) is\n",
    "\n",
    "$$\n",
    "H = \\hbar\\omega_r (a^\\dagger a + 1/2)\n",
    "$$\n",
    "\n",
    "$$\n",
    "H = \\hbar\\omega_{NR} (b^\\dagger b + 1/2)\n",
    "$$\n",
    "\n",
    "The atom interacts with the electromagnetic field produced by the cavity (NR) mode $a + a^\\dagger$ ($b + b^\\dagger$) through its dipole moment. The dipole-transition operators is $\\sigma_x$ (which cause a transition from the two dipole states of the atom). The combined atom-cavity Hamiltonian can therefore be written in the form\n",
    "\n",
    "$$\n",
    "H = \n",
    "\\hbar \\omega_r (a^\\dagger a + 1/2)\n",
    "+\n",
    "\\hbar \\omega_{NR} (b^\\dagger b + 1/2)\n",
    "+ \\frac{1}{2}\\hbar\\Omega\\sigma_z \n",
    "+\n",
    "\\hbar\n",
    "\\sigma_x \\left( g(a + a^\\dagger)\n",
    "+\n",
    "\\lambda(b + b^\\dagger)\\right)\n",
    "$$\n",
    "\n",
    "\n"
   ]
  },
  {
   "cell_type": "markdown",
   "metadata": {},
   "source": [
    "Although the Jaynes-Cumming Hamiltonian allow us to evolve the given initial state according to the Schrödinger Equation, in an experiment we would like to predicte the response of the coupled cavity-NR-qubit system under the influence of driving fields for the cavity and qubit, and also account for the effects of dissipation and dephasing (not treated here)\n",
    "\n",
    "The external coherent-state input may be incorporated in the Jaynes-Cummings Hamiltonian by addition of terms involving the amplitude of the driving field $\\vec{E_d} \\left(\\vec{E_s}\\right)$ and it's frequency $\\omega_d\\left(\\omega_s\\right)$\n",
    "\n",
    "$$\n",
    "H_{cavity} = \n",
    "E_d \\left(e^{i\\omega_dt}a +e^{-i\\omega_dt}a^\\dagger\\right)\n",
    "$$\n",
    "\n",
    "$$\n",
    "H_{qubit} = \n",
    "E_s \\left(e^{i\\omega_st}\\sigma_- +e^{-i\\omega_st}\\sigma_+\\right)\n",
    "$$\n",
    "\n",
    "$$\n",
    "H_{NR} = \n",
    "E_p \\left(e^{i\\omega_st}b +e^{-i\\omega_st}b^\\dagger\\right)\n",
    "$$"
   ]
  },
  {
   "cell_type": "markdown",
   "metadata": {},
   "source": [
    "To obtain the Jaynes-Cumming Hamiltonian \n",
    "\n",
    "$$\n",
    "?\n",
    "H = \n",
    "\\hbar\\omega_r (a^\\dagger a + 1/2)\n",
    "%-\\frac{1}{2}\\Delta\\sigma_x \n",
    "+ \\frac{1}{2}\\hbar\\Omega\\sigma_z \n",
    "+\n",
    "\\hbar\n",
    "\\sigma_x \\left( g(a + a^\\dagger)\n",
    "+\n",
    "\\lambda(b + b^\\dagger)\\right)\n",
    "$$\n",
    "\n",
    "we also need to perform a rotating-wave approximation which simplifies the interaction part of the Hamiltonian. In the following we will begin with looking at how these two Hamiltonians are related.\n",
    "\n",
    "To represent the atom-cavity Hamiltonian in SymPy we creates an instances of the operator classes `BosonOp` and `SigmaX`, `SigmaY`, and `SigmaZ`, and use these to construct the Hamiltonian (we work in units where $\\hbar = 1$)."
   ]
  },
  {
   "cell_type": "code",
   "execution_count": 3,
   "metadata": {
    "collapsed": false
   },
   "outputs": [],
   "source": [
    "# CPW, qubit and NR energies\n",
    "omega_r, omega_q, omega_nr = symbols(\"omega_r, omega_q, omega_{NR}\") \n",
    "# Coupling CPW-qubit, NR_qubit\n",
    "g, L, chi, eps = symbols(\"g, lambda, chi, epsilon\")\n",
    "# Detuning \n",
    "\n",
    "# Drives and detunnings\n",
    "\n",
    "Delta_d, Delta_s, Delta_p  = symbols(\" Delta_d, Delta_s, Delta_p \")\n",
    "\n",
    "A, B, C = symbols(\"A,B,C\") # Electric field amplitude\n",
    "\n",
    "omega_d, omega_s, omega_p = symbols(\"omega_d, omega_s, omega_p\") # drive frequencies\n",
    "\n",
    "# Detunning CPW-qubit, NR-qubit\n",
    "\n",
    "Delta_CPW, Delta_NR = symbols(\"Delta_{CPW},Delta_{NR}\")\n",
    "\n",
    "# auxilary variables\n",
    "\n",
    "x, y, t, Hsym = symbols(\"x, y, t, H \") \n",
    "\n",
    "Delta_SP, Delta_SD = symbols(\"Delta_{SP},Delta_{SD}\")"
   ]
  },
  {
   "cell_type": "code",
   "execution_count": 4,
   "metadata": {
    "collapsed": false
   },
   "outputs": [],
   "source": [
    "# omega_r, omega_q, g, Delta_d, Delta_s, t, x, chi, Hsym = symbols(\"omega_r, omega_q, g, Delta_d, Delta_s, t, x, chi, H\")\n",
    "\n",
    "# A, B, C = symbols(\"A,B,C\") # Electric field amplitude\n",
    "\n",
    "# omega_d, omega_s = symbols(\"omega_d, omega_s\") # \n",
    "\n",
    "# omega_nr, L = symbols(\"omega_{NR},lambda\")\n",
    "\n",
    "# Delta,Delta_t = symbols(\"Delta,Delta_t\")\n",
    "\n",
    "# y, omega_t = symbols(\"y, omega_t\")"
   ]
  },
  {
   "cell_type": "code",
   "execution_count": 5,
   "metadata": {
    "collapsed": false
   },
   "outputs": [],
   "source": [
    "\n",
    "sx, sy, sz, sm, sp = SigmaX(), SigmaY(), SigmaZ(), SigmaMinus(), SigmaPlus()\n",
    "a = BosonOp(\"a\")\n",
    "b = BosonOp(\"b\")"
   ]
  },
  {
   "cell_type": "code",
   "execution_count": 87,
   "metadata": {
    "collapsed": false
   },
   "outputs": [
    {
     "data": {
      "image/png": "[encoded data removed]",
      "text/latex": [
       "$$H = g {\\sigma_x} \\left({{a}^\\dagger} + {a}\\right) + \\lambda {\\sigma_x} \\left({{b}^\\dagger} + {b}\\right) + \\frac{\\omega_{q} {\\sigma_z}}{2} + \\omega_{r} {{a}^\\dagger} {a} + \\omega_{{NR}} {{b}^\\dagger} {b}$$"
      ],
      "text/plain": [
       "            ⎛ †    ⎞           ⎛ †    ⎞   ω_q⋅False       †             †  \n",
       "H = g⋅False⋅⎝a  + a⎠ + λ⋅False⋅⎝b  + b⎠ + ───────── + ωᵣ⋅a ⋅a + ω_{NR}⋅b ⋅b\n",
       "                                              2                            "
      ]
     },
     "execution_count": 87,
     "metadata": {},
     "output_type": "execute_result"
    }
   ],
   "source": [
    "H = omega_r * Dagger(a) * a + omega_q/2 * sz + omega_nr * Dagger(b) * b \n",
    "\n",
    "H_int = sx * (g  * (a + Dagger(a)))\n",
    "H_int_2 = sx *( L * (b + Dagger(b)))\n",
    "\n",
    "\n",
    "H_drive_r = A * (exp(I*omega_d*t)*a + exp(-I*omega_d*t)*Dagger(a))\n",
    "H_drive_q = B * (exp(I*omega_s*t)*sm + exp(-I*omega_s*t)*sp)\n",
    "H_drive_NR = C * (exp(I*omega_p*t)*b + exp(-I*omega_p*t)*Dagger(b))\n",
    "H_total  =  H +  H_int + H_int_2 #+ H_drive_r + H_drive_q #+ H_drive_NR\n",
    "Eq(Hsym,H_total)\n"
   ]
  },
  {
   "cell_type": "markdown",
   "metadata": {},
   "source": [
    "First move to the interaction picture:"
   ]
  },
  {
   "cell_type": "code",
   "execution_count": 88,
   "metadata": {
    "collapsed": false
   },
   "outputs": [
    {
     "data": {
      "image/png": "[encoded data removed]",
      "text/latex": [
       "$$e^{i \\omega_{r} t {{a}^\\dagger} {a}}$$"
      ],
      "text/plain": [
       "         †  \n",
       " ⅈ⋅ωᵣ⋅t⋅a ⋅a\n",
       "ℯ           "
      ]
     },
     "execution_count": 88,
     "metadata": {},
     "output_type": "execute_result"
    }
   ],
   "source": [
    "U = exp(I * omega_r * t * Dagger(a) * a)\n",
    "\n",
    "U\n"
   ]
  },
  {
   "cell_type": "code",
   "execution_count": 89,
   "metadata": {
    "collapsed": false
   },
   "outputs": [
    {
     "data": {
      "image/png": "[encoded data removed]",
      "text/latex": [
       "$$g e^{i \\omega_{r} t} {\\sigma_x} {{a}^\\dagger} + g e^{- i \\omega_{r} t} {\\sigma_x} {a} + \\lambda {\\sigma_x} {{b}^\\dagger} + \\lambda {\\sigma_x} {b} + \\frac{\\omega_{q} {\\sigma_z}}{2} + \\omega_{{NR}} {{b}^\\dagger} {b}$$"
      ],
      "text/plain": [
       "   ⅈ⋅ωᵣ⋅t        †      -ⅈ⋅ωᵣ⋅t                    †               ω_q⋅False  \n",
       "g⋅ℯ      ⋅False⋅a  + g⋅ℯ       ⋅False⋅a + λ⋅False⋅b  + λ⋅False⋅b + ───────── +\n",
       "                                                                       2      \n",
       "\n",
       "         †  \n",
       " ω_{NR}⋅b ⋅b\n",
       "            "
      ]
     },
     "execution_count": 89,
     "metadata": {},
     "output_type": "execute_result"
    }
   ],
   "source": [
    "H2 = hamiltonian_transformation(U, H_total.expand(),independent = True)\n",
    "\n",
    "H2"
   ]
  },
  {
   "cell_type": "code",
   "execution_count": 90,
   "metadata": {
    "collapsed": false
   },
   "outputs": [
    {
     "data": {
      "image/png": "[encoded data removed]",
      "text/latex": [
       "$$e^{i \\omega_{q} t {\\sigma_+} {\\sigma_-}}$$"
      ],
      "text/plain": [
       " ⅈ⋅ω_q⋅t⋅False⋅False\n",
       "ℯ                   "
      ]
     },
     "execution_count": 90,
     "metadata": {},
     "output_type": "execute_result"
    }
   ],
   "source": [
    "U = exp(I * omega_q * t * sp * sm)\n",
    "\n",
    "U"
   ]
  },
  {
   "cell_type": "code",
   "execution_count": 91,
   "metadata": {
    "collapsed": false
   },
   "outputs": [
    {
     "data": {
      "image/png": "[encoded data removed]",
      "text/latex": [
       "$$g e^{- i \\omega_{q} t - i \\omega_{r} t} {\\sigma_-} {a} + g e^{- i \\omega_{q} t + i \\omega_{r} t} {\\sigma_-} {{a}^\\dagger} + g e^{i \\omega_{q} t - i \\omega_{r} t} {\\sigma_+} {a} + g e^{i \\omega_{q} t + i \\omega_{r} t} {\\sigma_+} {{a}^\\dagger} + \\lambda e^{i \\omega_{q} t} {\\sigma_+} {{b}^\\dagger} + \\lambda e^{i \\omega_{q} t} {\\sigma_+} {b} + \\lambda e^{- i \\omega_{q} t} {\\sigma_-} {{b}^\\dagger} + \\lambda e^{- i \\omega_{q} t} {\\sigma_-} {b} - \\frac{\\omega_{q}}{2} \\left(1 + {\\sigma_z}\\right) + \\frac{\\omega_{q} {\\sigma_z}}{2} + \\omega_{{NR}} {{b}^\\dagger} {b}$$"
      ],
      "text/plain": [
       "   -ⅈ⋅ω_q⋅t - ⅈ⋅ωᵣ⋅t              -ⅈ⋅ω_q⋅t + ⅈ⋅ωᵣ⋅t        †      ⅈ⋅ω_q⋅t - ⅈ⋅\n",
       "g⋅ℯ                 ⋅False⋅a + g⋅ℯ                 ⋅False⋅a  + g⋅ℯ            \n",
       "                                                                              \n",
       "\n",
       "ωᵣ⋅t              ⅈ⋅ω_q⋅t + ⅈ⋅ωᵣ⋅t        †      ⅈ⋅ω_q⋅t        †      ⅈ⋅ω_q⋅t\n",
       "    ⋅False⋅a + g⋅ℯ                ⋅False⋅a  + λ⋅ℯ       ⋅False⋅b  + λ⋅ℯ       \n",
       "                                                                              \n",
       "\n",
       "              -ⅈ⋅ω_q⋅t        †      -ⅈ⋅ω_q⋅t           ω_q⋅(1 + False)   ω_q⋅\n",
       "⋅False⋅b + λ⋅ℯ        ⋅False⋅b  + λ⋅ℯ        ⋅False⋅b - ─────────────── + ────\n",
       "                                                               2              \n",
       "\n",
       "False           †  \n",
       "───── + ω_{NR}⋅b ⋅b\n",
       "2                  "
      ]
     },
     "execution_count": 91,
     "metadata": {},
     "output_type": "execute_result"
    }
   ],
   "source": [
    "H3 = hamiltonian_transformation(U, H2.expand(), independent = True)\n",
    "\n",
    "H3 = H3.subs(sx, sm + sp).expand()\n",
    "\n",
    "H3 = powsimp(H3)\n",
    "\n",
    "H3"
   ]
  },
  {
   "cell_type": "markdown",
   "metadata": {},
   "source": [
    "We introduce the detuning parameter $\\Delta = \\omega_q - \\omega_r$ and substitute into this expression"
   ]
  },
  {
   "cell_type": "code",
   "execution_count": 92,
   "metadata": {
    "collapsed": true
   },
   "outputs": [],
   "source": [
    "# trick to simplify exponents\n",
    "def simplify_exp(e):\n",
    "    if isinstance(e, exp):\n",
    "        return exp(simplify(e.exp.expand()))\n",
    "\n",
    "    if isinstance(e, (Add, Mul)):\n",
    "        return type(e)(*(simplify_exp(arg) for arg in e.args)) \n",
    "\n",
    "    return e"
   ]
  },
  {
   "cell_type": "code",
   "execution_count": 93,
   "metadata": {
    "collapsed": false
   },
   "outputs": [
    {
     "data": {
      "image/png": "[encoded data removed]",
      "text/latex": [
       "$$g e^{i \\Delta_{{CPW}} t} {\\sigma_+} {a} + g e^{i t \\left(\\omega_{q} + \\omega_{r}\\right)} {\\sigma_+} {{a}^\\dagger} + g e^{- i t \\left(\\omega_{q} + \\omega_{r}\\right)} {\\sigma_-} {a} + g e^{- i \\Delta_{{CPW}} t} {\\sigma_-} {{a}^\\dagger} + \\lambda e^{i \\omega_{q} t} {\\sigma_+} {{b}^\\dagger} + \\lambda e^{i \\omega_{q} t} {\\sigma_+} {b} + \\lambda e^{- i \\omega_{q} t} {\\sigma_-} {{b}^\\dagger} + \\lambda e^{- i \\omega_{q} t} {\\sigma_-} {b} - \\frac{\\omega_{q}}{2} \\left(1 + {\\sigma_z}\\right) + \\frac{\\omega_{q} {\\sigma_z}}{2} + \\omega_{{NR}} {{b}^\\dagger} {b}$$"
      ],
      "text/plain": [
       "   ⅈ⋅Δ_{CPW}⋅t              ⅈ⋅t⋅(ω_q + ωᵣ)        †      -ⅈ⋅t⋅(ω_q + ωᵣ)      \n",
       "g⋅ℯ           ⋅False⋅a + g⋅ℯ              ⋅False⋅a  + g⋅ℯ               ⋅False\n",
       "                                                                              \n",
       "\n",
       "        -ⅈ⋅Δ_{CPW}⋅t        †      ⅈ⋅ω_q⋅t        †      ⅈ⋅ω_q⋅t              \n",
       "⋅a + g⋅ℯ            ⋅False⋅a  + λ⋅ℯ       ⋅False⋅b  + λ⋅ℯ       ⋅False⋅b + λ⋅ℯ\n",
       "                                                                              \n",
       "\n",
       "-ⅈ⋅ω_q⋅t        †      -ⅈ⋅ω_q⋅t           ω_q⋅(1 + False)   ω_q⋅False         \n",
       "        ⋅False⋅b  + λ⋅ℯ        ⋅False⋅b - ─────────────── + ───────── + ω_{NR}\n",
       "                                                 2              2             \n",
       "\n",
       "  †  \n",
       "⋅b ⋅b\n",
       "     "
      ]
     },
     "execution_count": 93,
     "metadata": {},
     "output_type": "execute_result"
    }
   ],
   "source": [
    "H4 = simplify_exp(H3).subs(-omega_r + omega_q, Delta_CPW)\n",
    "\n",
    "H4"
   ]
  },
  {
   "cell_type": "markdown",
   "metadata": {},
   "source": [
    "Now, in the rotating-wave approximation we can drop the fast oscillating terms containing the factors $ e^{\\pm i( (\\omega_q + \\omega_r)t}$"
   ]
  },
  {
   "cell_type": "code",
   "execution_count": 94,
   "metadata": {
    "collapsed": false
   },
   "outputs": [
    {
     "data": {
      "image/png": "[encoded data removed]",
      "text/latex": [
       "$$H = g e^{i \\Delta_{{CPW}} t} {\\sigma_+} {a} + g e^{- i \\Delta_{{CPW}} t} {\\sigma_-} {{a}^\\dagger} + \\lambda e^{i \\omega_{q} t} {\\sigma_+} {{b}^\\dagger} + \\lambda e^{i \\omega_{q} t} {\\sigma_+} {b} + \\lambda e^{- i \\omega_{q} t} {\\sigma_-} {{b}^\\dagger} + \\lambda e^{- i \\omega_{q} t} {\\sigma_-} {b} + \\omega_{{NR}} {{b}^\\dagger} {b}$$"
      ],
      "text/plain": [
       "       ⅈ⋅Δ_{CPW}⋅t              -ⅈ⋅Δ_{CPW}⋅t        †      ⅈ⋅ω_q⋅t        †   \n",
       "H = g⋅ℯ           ⋅False⋅a + g⋅ℯ            ⋅False⋅a  + λ⋅ℯ       ⋅False⋅b  + \n",
       "\n",
       "   ⅈ⋅ω_q⋅t              -ⅈ⋅ω_q⋅t        †      -ⅈ⋅ω_q⋅t                   †  \n",
       "λ⋅ℯ       ⋅False⋅b + λ⋅ℯ        ⋅False⋅b  + λ⋅ℯ        ⋅False⋅b + ω_{NR}⋅b ⋅b"
      ]
     },
     "execution_count": 94,
     "metadata": {},
     "output_type": "execute_result"
    }
   ],
   "source": [
    "H5 = drop_terms_containing(H4, [exp( I * (omega_q + omega_r) * t),\n",
    "                                exp(-I * (omega_q + omega_r) * t)])\n",
    "\n",
    "H5 = drop_c_number_terms(H5.expand())\n",
    "\n",
    "Eq(Hsym, H5)"
   ]
  },
  {
   "cell_type": "markdown",
   "metadata": {},
   "source": [
    "This is the interaction term of in the Jaynes-Cumming model in the interaction picture. If we transform back to the Schrödinger picture we have:"
   ]
  },
  {
   "cell_type": "code",
   "execution_count": 95,
   "metadata": {
    "collapsed": true
   },
   "outputs": [],
   "source": [
    "U = exp(-I * omega_r * t * Dagger(a) * a)\n",
    "H6 = hamiltonian_transformation(U, H5.expand(), independent =True)"
   ]
  },
  {
   "cell_type": "code",
   "execution_count": 96,
   "metadata": {
    "collapsed": true
   },
   "outputs": [],
   "source": [
    "U = exp(-I * omega_q * t * sp * sm)\n",
    "H7 = hamiltonian_transformation(U, H6.expand(),independent = True)"
   ]
  },
  {
   "cell_type": "code",
   "execution_count": 97,
   "metadata": {
    "collapsed": false
   },
   "outputs": [
    {
     "data": {
      "image/png": "[encoded data removed]",
      "text/latex": [
       "$$H = g \\left({\\sigma_-} {{a}^\\dagger} + {\\sigma_+} {a}\\right) + \\lambda {\\sigma_-} {{b}^\\dagger} + \\lambda {\\sigma_-} {b} + \\lambda {\\sigma_+} {{b}^\\dagger} + \\lambda {\\sigma_+} {b} + \\frac{\\omega_{q} {\\sigma_z}}{2} + \\omega_{r} {{a}^\\dagger} {a} + \\omega_{{NR}} {{b}^\\dagger} {b}$$"
      ],
      "text/plain": [
       "      ⎛       †          ⎞            †                        †              \n",
       "H = g⋅⎝False⋅a  + False⋅a⎠ + λ⋅False⋅b  + λ⋅False⋅b + λ⋅False⋅b  + λ⋅False⋅b +\n",
       "                                                                              \n",
       "\n",
       " ω_q⋅False       †             †  \n",
       " ───────── + ωᵣ⋅a ⋅a + ω_{NR}⋅b ⋅b\n",
       "     2                            "
      ]
     },
     "execution_count": 97,
     "metadata": {},
     "output_type": "execute_result"
    }
   ],
   "source": [
    "H8 = simplify_exp(H7).subs(Delta_CPW, omega_q - omega_r)\n",
    "\n",
    "H8 = simplify_exp(powsimp(H8)).expand()\n",
    "\n",
    "H8 = drop_c_number_terms(H8)\n",
    "\n",
    "H = collect(H8, [g])\n",
    "\n",
    "Eq(Hsym, H)"
   ]
  },
  {
   "cell_type": "code",
   "execution_count": 180,
   "metadata": {
    "collapsed": false
   },
   "outputs": [
    {
     "data": {
      "image/png": "[encoded data removed]",
      "text/latex": [
       "$$g \\left({\\sigma_-} {{a}^\\dagger} + {\\sigma_+} {a}\\right) + \\lambda \\left({{b}^\\dagger} + {b}\\right) {\\sigma_x} + \\frac{\\omega_{q} {\\sigma_z}}{2} + \\omega_{r} {{a}^\\dagger} {a} + \\omega_{{NR}} {{b}^\\dagger} {b}$$"
      ],
      "text/plain": [
       "  ⎛       †          ⎞     ⎛ †    ⎞         ω_q⋅False       †             †  \n",
       "g⋅⎝False⋅a  + False⋅a⎠ + λ⋅⎝b  + b⎠⋅False + ───────── + ωᵣ⋅a ⋅a + ω_{NR}⋅b ⋅b\n",
       "                                                2                            "
      ]
     },
     "execution_count": 180,
     "metadata": {},
     "output_type": "execute_result"
    }
   ],
   "source": [
    "H = collect(H,[L*sm])\n",
    "H = collect(H,[L*sp])\n",
    "H = collect(H,[L*(Dagger(b)+b)])\n",
    "H = H.subs(sm+sp,sx)\n",
    "H"
   ]
  },
  {
   "cell_type": "markdown",
   "metadata": {
    "collapsed": true
   },
   "source": [
    "##Dispersive Regime"
   ]
  },
  {
   "cell_type": "code",
   "execution_count": 181,
   "metadata": {
    "collapsed": false
   },
   "outputs": [
    {
     "data": {
      "image/png": "[encoded data removed]",
      "text/latex": [
       "$$e^{- x {{a}^\\dagger} {\\sigma_-} + x {a} {\\sigma_+}}$$"
      ],
      "text/plain": [
       "      †                  \n",
       " - x⋅a ⋅False + x⋅a⋅False\n",
       "ℯ                        "
      ]
     },
     "execution_count": 181,
     "metadata": {},
     "output_type": "execute_result"
    }
   ],
   "source": [
    "U = exp((x * (  -Dagger(a) * sm + a * sp )).expand())\n",
    "\n",
    "U"
   ]
  },
  {
   "cell_type": "code",
   "execution_count": 182,
   "metadata": {
    "collapsed": false
   },
   "outputs": [],
   "source": [
    "H1 = hamiltonian_transformation(U, H, expansion_search=False, N=4).expand()\n",
    "\n",
    "H1 = qsimplify(H1)\n",
    "\n",
    "# H1"
   ]
  },
  {
   "cell_type": "code",
   "execution_count": 213,
   "metadata": {
    "collapsed": false
   },
   "outputs": [],
   "source": [
    "H2 = drop_terms_containing(H1.expand(), [ x**4,x**5,x**6])\n",
    "\n",
    "# H2"
   ]
  },
  {
   "cell_type": "code",
   "execution_count": 214,
   "metadata": {
    "collapsed": false
   },
   "outputs": [],
   "source": [
    "H3 = H2.subs(x, g/Delta_CPW)\n",
    "\n",
    "# H3"
   ]
  },
  {
   "cell_type": "code",
   "execution_count": 215,
   "metadata": {
    "collapsed": false
   },
   "outputs": [],
   "source": [
    "H4 = drop_c_number_terms(H3)\n",
    "\n",
    "# H4"
   ]
  },
  {
   "cell_type": "code",
   "execution_count": 216,
   "metadata": {
    "collapsed": false
   },
   "outputs": [],
   "source": [
    "H5 = collect(H4, [Dagger(a) * a, sz])\n",
    "\n",
    "# H5"
   ]
  },
  {
   "cell_type": "code",
   "execution_count": 217,
   "metadata": {
    "collapsed": true
   },
   "outputs": [],
   "source": [
    "\n",
    "U = exp(I * omega_r * t * Dagger(a) * a)"
   ]
  },
  {
   "cell_type": "code",
   "execution_count": 218,
   "metadata": {
    "collapsed": false
   },
   "outputs": [],
   "source": [
    "H6 = hamiltonian_transformation(U, H5.expand(),independent = True);\n",
    "# H6"
   ]
  },
  {
   "cell_type": "code",
   "execution_count": 219,
   "metadata": {
    "collapsed": true
   },
   "outputs": [],
   "source": [
    "U = exp(I * omega_q * t * Dagger(sm) * sm)"
   ]
  },
  {
   "cell_type": "code",
   "execution_count": 220,
   "metadata": {
    "collapsed": false
   },
   "outputs": [],
   "source": [
    "H7 = hamiltonian_transformation(U, H6.expand(),independent=True); \n",
    "# H7"
   ]
  },
  {
   "cell_type": "code",
   "execution_count": 221,
   "metadata": {
    "collapsed": false
   },
   "outputs": [],
   "source": [
    "\n",
    "H8 = drop_terms_containing(H7, [exp(I * omega_r * t), exp(-I * omega_r * t),\n",
    "                                exp(I * omega_q * t), exp(-I * omega_q * t)])\n",
    "\n",
    "# H8"
   ]
  },
  {
   "cell_type": "code",
   "execution_count": 222,
   "metadata": {
    "collapsed": false
   },
   "outputs": [
    {
     "name": "stderr",
     "output_type": "stream",
     "text": [
      "/opt/local/Library/Frameworks/Python.framework/Versions/3.4/lib/python3.4/site-packages/sympsi/qutility.py:482: UserWarning: Too high level or recursion, aborting\n",
      "  warnings.warn(\"Too high level or recursion, aborting\")\n"
     ]
    }
   ],
   "source": [
    "H9 = qsimplify(H8)\n",
    "\n",
    "H9 = collect(H9, [Dagger(a) * a, sz])\n",
    "\n",
    "# H9"
   ]
  },
  {
   "cell_type": "code",
   "execution_count": 223,
   "metadata": {
    "collapsed": true
   },
   "outputs": [],
   "source": [
    "U = exp(-I * omega_r * t * Dagger(a) * a)"
   ]
  },
  {
   "cell_type": "code",
   "execution_count": 224,
   "metadata": {
    "collapsed": false
   },
   "outputs": [],
   "source": [
    "H10 = hamiltonian_transformation(U, H9.expand(),independent = True);\n",
    "# H10"
   ]
  },
  {
   "cell_type": "code",
   "execution_count": 225,
   "metadata": {
    "collapsed": true
   },
   "outputs": [],
   "source": [
    "U = exp(-I * omega_q * t * Dagger(sm) * sm)"
   ]
  },
  {
   "cell_type": "code",
   "execution_count": 226,
   "metadata": {
    "collapsed": false
   },
   "outputs": [],
   "source": [
    "H11 = hamiltonian_transformation(U, H10.expand(),independent=True); \n",
    "# H11"
   ]
  },
  {
   "cell_type": "code",
   "execution_count": 227,
   "metadata": {
    "collapsed": false
   },
   "outputs": [
    {
     "name": "stderr",
     "output_type": "stream",
     "text": [
      "/opt/local/Library/Frameworks/Python.framework/Versions/3.4/lib/python3.4/site-packages/sympsi/qutility.py:482: UserWarning: Too high level or recursion, aborting\n",
      "  warnings.warn(\"Too high level or recursion, aborting\")\n"
     ]
    },
    {
     "data": {
      "image/png": "[encoded data removed]",
      "text/latex": [
       "$$H = \\lambda {{b}^\\dagger} {\\sigma_x} + \\lambda {b} {\\sigma_x} + \\omega_{{NR}} {{b}^\\dagger} {b} + {{a}^\\dagger} {a} \\left(\\omega_{r} + \\frac{g^{2} {\\sigma_z}}{\\Delta_{{CPW}}} - \\frac{g^{2} \\lambda {{b}^\\dagger} {\\sigma_x}}{2 \\Delta_{{CPW}}^{2}} - \\frac{g^{2} \\lambda {b} {\\sigma_x}}{2 \\Delta_{{CPW}}^{2}} - \\frac{4 g^{4}}{3 \\Delta_{{CPW}}^{3}} - \\frac{8 g^{4} {\\sigma_z}}{3 \\Delta_{{CPW}}^{3}} + \\frac{4 g^{3} \\lambda \\left[{{a}^\\dagger},{b}\\right]}{3 \\Delta_{{CPW}}^{3}} {\\sigma_z} + \\frac{g^{3} \\lambda {\\sigma_-} \\left[{{a}^\\dagger},{b}\\right]}{2 \\Delta_{{CPW}}^{3}} {\\sigma_-} + \\frac{g^{3} \\lambda {\\sigma_-} \\left[{{a}^\\dagger},{b}\\right]}{2 \\Delta_{{CPW}}^{3}} {\\sigma_+} - \\frac{g^{3} \\lambda {\\sigma_+} \\left[{a},{{b}^\\dagger}\\right]}{2 \\Delta_{{CPW}}^{3}} {\\sigma_-} - \\frac{g^{3} \\lambda {\\sigma_+} \\left[{a},{{b}^\\dagger}\\right]}{2 \\Delta_{{CPW}}^{3}} {\\sigma_+} - \\frac{g^{3} \\lambda {\\sigma_z} \\left[{{a}^\\dagger},{b}\\right]}{2 \\Delta_{{CPW}}^{3}} {\\sigma_z} + \\frac{g^{3} \\lambda {\\sigma_z} \\left[{a},{{b}^\\dagger}\\right]}{2 \\Delta_{{CPW}}^{3}} {\\sigma_z}\\right) + {\\sigma_z} \\left(\\frac{\\omega_{q}}{2} + \\frac{g^{2}}{2 \\Delta_{{CPW}}} - \\frac{g \\lambda}{\\Delta_{{CPW}}} \\left[{{a}^\\dagger},{b}\\right] - \\frac{2 g^{4}}{3 \\Delta_{{CPW}}^{3}} + \\frac{g^{3} \\lambda {{a}^\\dagger} \\left[{a},{{b}^\\dagger}\\right]}{2 \\Delta_{{CPW}}^{3}} {{a}^\\dagger} {\\sigma_z} - \\frac{g^{3} \\lambda {a} \\left[{{a}^\\dagger},{b}\\right]}{2 \\Delta_{{CPW}}^{3}} {a} {\\sigma_z} + \\frac{2 g^{3} \\lambda \\left[{{a}^\\dagger},{b}\\right]}{3 \\Delta_{{CPW}}^{3}} + \\frac{2 g^{3} \\lambda \\left[{{a}^\\dagger},{b}\\right]}{3 \\Delta_{{CPW}}^{3}} \\left({a}\\right)^{2}\\right) + \\frac{g^{2} \\lambda}{\\Delta_{{CPW}}^{2}} \\left(- \\frac{{{a}^\\dagger} \\left[{a},{{b}^\\dagger}\\right]}{2} e^{i \\Delta_{{CPW}} t} e^{- i \\omega_{q} t} {\\sigma_x} - \\frac{{{a}^\\dagger} \\left[{a},{{b}^\\dagger}\\right]}{2} {\\sigma_x} - \\frac{{{b}^\\dagger} {\\sigma_x}}{4} + \\frac{i {{b}^\\dagger}}{4} {\\sigma_y} - \\frac{{b} {\\sigma_x}}{4} + \\frac{i {b}}{4} {\\sigma_y}\\right) - \\frac{g^{2} \\omega_{{NR}}}{\\Delta_{{CPW}}^{2}} {\\sigma_+} \\left[{a},{{b}^\\dagger}\\right] {\\sigma_-} \\left[{{a}^\\dagger},{b}\\right] - \\frac{4 g^{4} \\left({{a}^\\dagger}\\right)^{2} \\left({a}\\right)^{2}}{3 \\Delta_{{CPW}}^{3}} {\\sigma_z} + \\frac{g^{3} \\lambda}{\\Delta_{{CPW}}^{3}} \\left(\\frac{\\left[{{a}^\\dagger},{b}\\right]}{2} + {\\sigma_-} \\left[{{a}^\\dagger},{b}\\right] \\left({{a}^\\dagger}\\right)^{2} {\\sigma_-} + {\\sigma_-} \\left[{{a}^\\dagger},{b}\\right] \\left({a}\\right)^{2} {\\sigma_+} + \\frac{{\\sigma_-} \\left[{{a}^\\dagger},{b}\\right]}{2} {\\sigma_+} - {\\sigma_+} \\left[{a},{{b}^\\dagger}\\right] \\left({{a}^\\dagger}\\right)^{2} {\\sigma_-} - {\\sigma_+} \\left[{a},{{b}^\\dagger}\\right] \\left({a}\\right)^{2} {\\sigma_+} - \\frac{{\\sigma_+} \\left[{a},{{b}^\\dagger}\\right]}{2} {\\sigma_+}\\right)$$"
      ],
      "text/plain": [
       "                                                                              \n",
       "                                                                              \n",
       "                                                ⎛      2          2    †      \n",
       "       †                             †      †   ⎜     g ⋅False   g ⋅λ⋅b ⋅False\n",
       "H = λ⋅b ⋅False + λ⋅b⋅False + ω_{NR}⋅b ⋅b + a ⋅a⋅⎜ωᵣ + ──────── - ─────────────\n",
       "                                                ⎜     Δ_{CPW}               2 \n",
       "                                                ⎝                  2⋅Δ_{CPW}  \n",
       "\n",
       "                                                                              \n",
       "                                                                              \n",
       "    2                   4         4            3   ⎡ †  ⎤          3         ⎡\n",
       "   g ⋅λ⋅b⋅False      4⋅g       8⋅g ⋅False   4⋅g ⋅λ⋅⎣a ,b⎦⋅False   g ⋅λ⋅False⋅⎣\n",
       " - ──────────── - ────────── - ────────── + ─────────────────── + ────────────\n",
       "             2             3            3                 3                   \n",
       "    2⋅Δ_{CPW}     3⋅Δ_{CPW}    3⋅Δ_{CPW}         3⋅Δ_{CPW}               2⋅Δ_{\n",
       "\n",
       "                                                                              \n",
       "                                                                              \n",
       " †  ⎤          3         ⎡ †  ⎤          3         ⎡   †⎤          3         ⎡\n",
       "a ,b⎦⋅False   g ⋅λ⋅False⋅⎣a ,b⎦⋅False   g ⋅λ⋅False⋅⎣a,b ⎦⋅False   g ⋅λ⋅False⋅⎣\n",
       "─────────── + ─────────────────────── - ─────────────────────── - ────────────\n",
       "    3                         3                         3                     \n",
       "CPW}                 2⋅Δ_{CPW}                 2⋅Δ_{CPW}                 2⋅Δ_{\n",
       "\n",
       "                                                                              \n",
       "                                                                              \n",
       "   †⎤          3         ⎡ †  ⎤          3         ⎡   †⎤      ⎞         ⎛    \n",
       "a,b ⎦⋅False   g ⋅λ⋅False⋅⎣a ,b⎦⋅False   g ⋅λ⋅False⋅⎣a,b ⎦⋅False⎟         ⎜ω_q \n",
       "─────────── - ─────────────────────── + ───────────────────────⎟ + False⋅⎜─── \n",
       "    3                         3                         3      ⎟         ⎜ 2  \n",
       "CPW}                 2⋅Δ_{CPW}                 2⋅Δ_{CPW}       ⎠         ⎝    \n",
       "\n",
       "                                                                              \n",
       "                                                                              \n",
       "       2          ⎡ †  ⎤         4       3    † ⎡   †⎤  †          3     ⎡ †  \n",
       "      g       g⋅λ⋅⎣a ,b⎦      2⋅g       g ⋅λ⋅a ⋅⎣a,b ⎦⋅a ⋅False   g ⋅λ⋅a⋅⎣a ,b\n",
       "+ ───────── - ────────── - ────────── + ─────────────────────── - ────────────\n",
       "  2⋅Δ_{CPW}    Δ_{CPW}              3                   3                     \n",
       "                           3⋅Δ_{CPW}           2⋅Δ_{CPW}                2⋅Δ_{C\n",
       "\n",
       "                                                     ⎛   ⅈ⋅Δ_{CPW}⋅t  -ⅈ⋅ω_q⋅t\n",
       "                                                 2   ⎜  ℯ           ⋅ℯ        \n",
       "⎤              3   ⎡ †  ⎤      3   ⎡ †  ⎤  2⎞   g ⋅λ⋅⎜- ──────────────────────\n",
       "⎦⋅a⋅False   2⋅g ⋅λ⋅⎣a ,b⎦   2⋅g ⋅λ⋅⎣a ,b⎦⋅a ⎟        ⎝                    2   \n",
       "───────── + ───────────── + ────────────────⎟ + ──────────────────────────────\n",
       "   3                   3                3   ⎟                                 \n",
       "PW}           3⋅Δ_{CPW}        3⋅Δ_{CPW}    ⎠                                 \n",
       "\n",
       "  † ⎡   †⎤          † ⎡   †⎤          †            †                          \n",
       "⋅a ⋅⎣a,b ⎦⋅False   a ⋅⎣a,b ⎦⋅False   b ⋅False   ⅈ⋅b ⋅False   b⋅False   ⅈ⋅b⋅Fal\n",
       "──────────────── - ─────────────── - ──────── + ────────── - ─────── + ───────\n",
       "                          2             4           4           4          4  \n",
       "──────────────────────────────────────────────────────────────────────────────\n",
       "                             2                                                \n",
       "                      Δ_{CPW}                                                 \n",
       "\n",
       "  ⎞                                                                    ⎛⎡ †  ⎤\n",
       "se⎟                                                  2             3   ⎜⎣a ,b⎦\n",
       "──⎟    2              ⎡   †⎤       ⎡ †  ⎤      4 ⎛ †⎞   2         g ⋅λ⋅⎜──────\n",
       "  ⎠   g ⋅ω_{NR}⋅False⋅⎣a,b ⎦⋅False⋅⎣a ,b⎦   4⋅g ⋅⎝a ⎠ ⋅a ⋅False        ⎝  2   \n",
       "─── - ─────────────────────────────────── - ─────────────────── + ────────────\n",
       "                           2                              3                   \n",
       "                    Δ_{CPW}                      3⋅Δ_{CPW}                    \n",
       "\n",
       "                    2                                       ⎡ †  ⎤            \n",
       "         ⎡ †  ⎤ ⎛ †⎞                ⎡ †  ⎤  2         False⋅⎣a ,b⎦⋅False      \n",
       " + False⋅⎣a ,b⎦⋅⎝a ⎠ ⋅False + False⋅⎣a ,b⎦⋅a ⋅False + ────────────────── - Fal\n",
       "                                                              2               \n",
       "──────────────────────────────────────────────────────────────────────────────\n",
       "                                                                      3       \n",
       "                                                               Δ_{CPW}        \n",
       "\n",
       "              2                                       ⎡   †⎤      ⎞\n",
       "   ⎡   †⎤ ⎛ †⎞                ⎡   †⎤  2         False⋅⎣a,b ⎦⋅False⎟\n",
       "se⋅⎣a,b ⎦⋅⎝a ⎠ ⋅False - False⋅⎣a,b ⎦⋅a ⋅False - ──────────────────⎟\n",
       "                                                        2         ⎠\n",
       "───────────────────────────────────────────────────────────────────\n",
       "                                                                   \n",
       "                                                                   "
      ]
     },
     "execution_count": 227,
     "metadata": {},
     "output_type": "execute_result"
    }
   ],
   "source": [
    "# H11  = drop_c_number_terms(H11)\n",
    "H12 = qsimplify(H11)\n",
    "\n",
    "H12 = collect(H12, [Dagger(a) * a, sz])\n",
    "\n",
    "H12 = H12.subs(omega_r, omega_q-Delta_CPW).expand().collect([Dagger(a)*a, Dagger(b)*b, sz, L*g/2/Delta_CPW]).subs(omega_q-Delta_CPW,omega_r)\n",
    "\n",
    "Eq(Hsym, H12)"
   ]
  },
  {
   "cell_type": "code",
   "execution_count": null,
   "metadata": {
    "collapsed": false
   },
   "outputs": [],
   "source": []
  },
  {
   "cell_type": "code",
   "execution_count": null,
   "metadata": {
    "collapsed": false
   },
   "outputs": [],
   "source": []
  },
  {
   "cell_type": "code",
   "execution_count": null,
   "metadata": {
    "collapsed": true
   },
   "outputs": [],
   "source": []
  }
 ],
 "metadata": {
  "kernelspec": {
   "display_name": "Python 3",
   "language": "python",
   "name": "python3"
  },
  "language_info": {
   "codemirror_mode": {
    "name": "ipython",
    "version": 3
   },
   "file_extension": ".py",
   "mimetype": "text/x-python",
   "name": "python",
   "nbconvert_exporter": "python",
   "pygments_lexer": "ipython3",
   "version": "3.4.3"
  }
 },
 "nbformat": 4,
 "nbformat_minor": 0
}
