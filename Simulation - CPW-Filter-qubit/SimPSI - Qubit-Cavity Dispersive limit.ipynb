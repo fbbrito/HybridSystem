{
 "cells": [
  {
   "cell_type": "markdown",
   "metadata": {},
   "source": [
    "# Symbolic derivation qubit-cavity Hamiltonian"
   ]
  },
  {
   "cell_type": "markdown",
   "metadata": {},
   "source": [
    "<style>\n",
    "p {\n",
    "    font-family: \"Liberation Serif\", serif;\n",
    "    font-size: 12pt;\n",
    "}\n",
    "</style>"
   ]
  },
  {
   "cell_type": "markdown",
   "metadata": {},
   "source": [
    "\n",
    "Based on: J. R. Johansson (robert@riken.jp), [http://jrjohansson.github.io](http://jrjohansson.github.io), and Eunjong Kim."
   ]
  },
  {
   "cell_type": "markdown",
   "metadata": {},
   "source": [
    "## Setup modules"
   ]
  },
  {
   "cell_type": "code",
   "execution_count": 3,
   "metadata": {
    "collapsed": false
   },
   "outputs": [],
   "source": [
    "from sympy import *\n",
    "init_printing()"
   ]
  },
  {
   "cell_type": "code",
   "execution_count": 4,
   "metadata": {
    "collapsed": false
   },
   "outputs": [],
   "source": [
    "from sympsi import *\n",
    "from sympsi.boson import *\n",
    "from sympsi.pauli import *"
   ]
  },
  {
   "cell_type": "markdown",
   "metadata": {},
   "source": [
    "## The Jaynes-Cummings model"
   ]
  },
  {
   "cell_type": "markdown",
   "metadata": {},
   "source": [
    "The [Jaynes-Cummings model](http://en.wikipedia.org/wiki/Jaynes%E2%80%93Cummings_model) is one of the most elementary quantum mechanical models light-matter interaction. It describes a single two-level atom that interacts with a single harmonic-oscillator mode of a electromagnetic cavity.\n",
    "\n",
    "The Hamiltonian for a two-level system in its eigenbasis can be written as\n",
    "\n",
    "$$\n",
    "H = \\frac{1}{2}\\omega_q \\sigma_z\n",
    "$$\n",
    "\n",
    "and the Hamiltonian of a quantum harmonic oscillator (cavity) is\n",
    "\n",
    "$$\n",
    "H = \\hbar\\omega_r (a^\\dagger a + 1/2)\n",
    "$$\n",
    "\n",
    "The atom interacts with the electromagnetic field produced by the cavity mode $a + a^\\dagger$ through its dipole moment. The dipole-transition operators is $\\sigma_x$ (which cause a transition from the two dipole states of the atom). The combined atom-cavity Hamiltonian can therefore be written in the form\n",
    "\n",
    "$$\n",
    "H = \n",
    "\\hbar\\omega_r (a^\\dagger a + 1/2)\n",
    "+ \\frac{1}{2}\\hbar\\Omega\\sigma_z \n",
    "+\n",
    "\\hbar\n",
    "g\\sigma_x(a + a^\\dagger)\n",
    "$$\n",
    "\n",
    "\n"
   ]
  },
  {
   "cell_type": "markdown",
   "metadata": {},
   "source": [
    "Although the Jaynes-Cumming Hamiltonian allow us to evolve the given initial state according to the Schrödinger Equation, in an experiment we would like to predicte the response of the coupled cavity-qubit system under the influence of driving fields for the cavity and qubit, and also account for the effects of dissipation and dephasing (not treated here)\n",
    "\n",
    "The external coherent-state input may be incorporated in the Jaynes-Cummings Hamiltonian by addition of terms involving the amplitude of the driving field $\\vec{E_d} \\left(\\vec{E_s}\\right)$ and it's frequency $\\omega_d\\left(\\omega_s\\right)$\n",
    "\n",
    "$$\n",
    "H_{cavity} = \n",
    "E_d \\left(e^{i\\omega_dt}a +e^{-i\\omega_dt}\\right)\n",
    "$$\n",
    "\n",
    "$$\n",
    "H_{qubit} = \n",
    "E_s \\left(e^{i\\omega_st}a +e^{-i\\omega_st}\\right)\n",
    "$$"
   ]
  },
  {
   "cell_type": "markdown",
   "metadata": {},
   "source": [
    "To obtain the Jaynes-Cumming Hamiltonian \n",
    "\n",
    "$$\n",
    "H = \n",
    "\\hbar\\omega_r (a^\\dagger a + 1/2)\n",
    "%-\\frac{1}{2}\\Delta\\sigma_x \n",
    "+ \\frac{1}{2}\\hbar\\Omega\\sigma_z \n",
    "+\n",
    "\\hbar\n",
    "g(\\sigma_+ a + \\sigma_- a^\\dagger)\n",
    "$$\n",
    "\n",
    "we also need to perform a rotating-wave approximation which simplifies the interaction part of the Hamiltonian. In the following we will begin with looking at how these two Hamiltonians are related.\n",
    "\n",
    "To represent the atom-cavity Hamiltonian in SymPy we creates an instances of the operator classes `BosonOp` and `SigmaX`, `SigmaY`, and `SigmaZ`, and use these to construct the Hamiltonian (we work in units where $\\hbar = 1$)."
   ]
  },
  {
   "cell_type": "code",
   "execution_count": 5,
   "metadata": {
    "collapsed": false
   },
   "outputs": [],
   "source": [
    "omega_r, omega_q, g, Delta_d, Delta_s, t, x, chi, Hsym = symbols(\"omega_r, omega_q, g, Delta_d, Delta_s, t, x, chi, H\")\n",
    "A, B = symbols(\"A,B\") # Electric field amplitude\n",
    "omega_d, omega_s = symbols(\"omega_d, omega_s\")\n",
    "Delta,Delta_t = symbols(\"Delta,Delta_t\")"
   ]
  },
  {
   "cell_type": "code",
   "execution_count": 6,
   "metadata": {
    "collapsed": false
   },
   "outputs": [],
   "source": [
    "sx, sy, sz, sm, sp = SigmaX(), SigmaY(), SigmaZ(), SigmaMinus(), SigmaPlus()\n",
    "a = BosonOp(\"a\")"
   ]
  },
  {
   "cell_type": "code",
   "execution_count": 7,
   "metadata": {
    "collapsed": false
   },
   "outputs": [
    {
     "data": {
      "image/png": "[encoded data removed]",
      "text/latex": [
       "$$H = A \\left(e^{i \\omega_{d} t} {a} + e^{- i \\omega_{d} t} {{a}^\\dagger}\\right) + B \\left(e^{i \\omega_{s} t} {\\sigma_-} + e^{- i \\omega_{s} t} {\\sigma_+}\\right) + g {\\sigma_x} \\left({{a}^\\dagger} + {a}\\right) + \\frac{\\omega_{q} {\\sigma_z}}{2} + \\omega_{r} {{a}^\\dagger} {a}$$"
      ],
      "text/plain": [
       "      ⎛ ⅈ⋅ω_d⋅t      -ⅈ⋅ω_d⋅t  †⎞     ⎛ ⅈ⋅ω_s⋅t          -ⅈ⋅ω_s⋅t      ⎞      \n",
       "H = A⋅⎝ℯ       ⋅a + ℯ        ⋅a ⎠ + B⋅⎝ℯ       ⋅False + ℯ        ⋅False⎠ + g⋅F\n",
       "                                                                              \n",
       "\n",
       "     ⎛ †    ⎞   ω_q⋅False       †  \n",
       "alse⋅⎝a  + a⎠ + ───────── + ωᵣ⋅a ⋅a\n",
       "                    2              "
      ]
     },
     "execution_count": 7,
     "metadata": {},
     "output_type": "execute_result"
    }
   ],
   "source": [
    "H = omega_r * Dagger(a) * a + omega_q/2 * sz \n",
    "H_int = g * sx * (a + Dagger(a))\n",
    "H_drive_r = A * (exp(I*omega_d*t)*a + exp(-I*omega_d*t)*Dagger(a))\n",
    "H_drive_q = B * (exp(I*omega_s*t)*sm + exp(-I*omega_s*t)*sp)\n",
    "H_total =  H+ H_drive_r + H_drive_q+ H_int\n",
    "Eq(Hsym, H+ H_drive_r + H_drive_q+ H_int)\n"
   ]
  },
  {
   "cell_type": "markdown",
   "metadata": {},
   "source": [
    "Unitary transformation to interaction picture"
   ]
  },
  {
   "cell_type": "code",
   "execution_count": 8,
   "metadata": {
    "collapsed": false
   },
   "outputs": [
    {
     "data": {
      "image/png": "[encoded data removed]",
      "text/latex": [
       "$$e^{i \\omega_{r} t {{a}^\\dagger} {a}}$$"
      ],
      "text/plain": [
       "         †  \n",
       " ⅈ⋅ωᵣ⋅t⋅a ⋅a\n",
       "ℯ           "
      ]
     },
     "execution_count": 8,
     "metadata": {},
     "output_type": "execute_result"
    }
   ],
   "source": [
    "U = exp(I  * omega_r * t * Dagger(a)*a)\n",
    "U"
   ]
  },
  {
   "cell_type": "code",
   "execution_count": 9,
   "metadata": {
    "collapsed": false
   },
   "outputs": [
    {
     "data": {
      "image/png": "[encoded data removed]",
      "text/latex": [
       "$$A e^{i \\omega_{d} t} e^{- i \\omega_{r} t} {a} + A e^{- i \\omega_{d} t} e^{i \\omega_{r} t} {{a}^\\dagger} + B e^{i \\omega_{s} t} {\\sigma_-} + B e^{- i \\omega_{s} t} {\\sigma_+} + g e^{i \\omega_{r} t} {\\sigma_x} {{a}^\\dagger} + g e^{- i \\omega_{r} t} {\\sigma_x} {a} + \\frac{\\omega_{q} {\\sigma_z}}{2}$$"
      ],
      "text/plain": [
       "   ⅈ⋅ω_d⋅t  -ⅈ⋅ωᵣ⋅t        -ⅈ⋅ω_d⋅t  ⅈ⋅ωᵣ⋅t  †      ⅈ⋅ω_s⋅t            -ⅈ⋅ω_s⋅\n",
       "A⋅ℯ       ⋅ℯ       ⋅a + A⋅ℯ        ⋅ℯ      ⋅a  + B⋅ℯ       ⋅False + B⋅ℯ       \n",
       "                                                                              \n",
       "\n",
       "t            ⅈ⋅ωᵣ⋅t        †      -ⅈ⋅ωᵣ⋅t           ω_q⋅False\n",
       " ⋅False + g⋅ℯ      ⋅False⋅a  + g⋅ℯ       ⋅False⋅a + ─────────\n",
       "                                                        2    "
      ]
     },
     "execution_count": 9,
     "metadata": {},
     "output_type": "execute_result"
    }
   ],
   "source": [
    "H1 = hamiltonian_transformation(U, H_total.expand())\n",
    "\n",
    "H1"
   ]
  },
  {
   "cell_type": "code",
   "execution_count": 10,
   "metadata": {
    "collapsed": false
   },
   "outputs": [
    {
     "data": {
      "image/png": "[encoded data removed]",
      "text/latex": [
       "$$e^{i \\omega_{q} t {\\sigma_+} {\\sigma_-}}$$"
      ],
      "text/plain": [
       " ⅈ⋅ω_q⋅t⋅False⋅False\n",
       "ℯ                   "
      ]
     },
     "execution_count": 10,
     "metadata": {},
     "output_type": "execute_result"
    }
   ],
   "source": [
    "U = exp(I * omega_q * t * sp * sm)\n",
    "\n",
    "U"
   ]
  },
  {
   "cell_type": "code",
   "execution_count": 11,
   "metadata": {
    "collapsed": false
   },
   "outputs": [
    {
     "data": {
      "image/png": "[encoded data removed]",
      "text/latex": [
       "$$A e^{- i \\omega_{d} t + i \\omega_{r} t} {{a}^\\dagger} + A e^{i \\omega_{d} t - i \\omega_{r} t} {a} + B e^{- i \\omega_{q} t + i \\omega_{s} t} {\\sigma_-} + B e^{i \\omega_{q} t - i \\omega_{s} t} {\\sigma_+} + g e^{- i \\omega_{q} t - i \\omega_{r} t} {\\sigma_-} {a} + g e^{- i \\omega_{q} t + i \\omega_{r} t} {\\sigma_-} {{a}^\\dagger} + g e^{i \\omega_{q} t - i \\omega_{r} t} {\\sigma_+} {a} + g e^{i \\omega_{q} t + i \\omega_{r} t} {\\sigma_+} {{a}^\\dagger} - \\frac{\\omega_{q}}{2} \\left(1 + {\\sigma_z}\\right) + \\frac{\\omega_{q} {\\sigma_z}}{2}$$"
      ],
      "text/plain": [
       "   -ⅈ⋅ω_d⋅t + ⅈ⋅ωᵣ⋅t  †      ⅈ⋅ω_d⋅t - ⅈ⋅ωᵣ⋅t        -ⅈ⋅ω_q⋅t + ⅈ⋅ω_s⋅t       \n",
       "A⋅ℯ                 ⋅a  + A⋅ℯ                ⋅a + B⋅ℯ                  ⋅False \n",
       "                                                                              \n",
       "\n",
       "     ⅈ⋅ω_q⋅t - ⅈ⋅ω_s⋅t            -ⅈ⋅ω_q⋅t - ⅈ⋅ωᵣ⋅t              -ⅈ⋅ω_q⋅t + ⅈ⋅\n",
       "+ B⋅ℯ                 ⋅False + g⋅ℯ                 ⋅False⋅a + g⋅ℯ             \n",
       "                                                                              \n",
       "\n",
       "ωᵣ⋅t        †      ⅈ⋅ω_q⋅t - ⅈ⋅ωᵣ⋅t              ⅈ⋅ω_q⋅t + ⅈ⋅ωᵣ⋅t        †   ω\n",
       "    ⋅False⋅a  + g⋅ℯ                ⋅False⋅a + g⋅ℯ                ⋅False⋅a  - ─\n",
       "                                                                              \n",
       "\n",
       "_q⋅(1 + False)   ω_q⋅False\n",
       "────────────── + ─────────\n",
       "      2              2    "
      ]
     },
     "execution_count": 11,
     "metadata": {},
     "output_type": "execute_result"
    }
   ],
   "source": [
    "H2 = hamiltonian_transformation(U, H1.expand())\n",
    "\n",
    "H2 = H2.subs(sx, sm + sp).expand()\n",
    "\n",
    "H2 = powsimp(H2)\n",
    "\n",
    "H2"
   ]
  },
  {
   "cell_type": "code",
   "execution_count": 12,
   "metadata": {
    "collapsed": false
   },
   "outputs": [],
   "source": [
    "# trick to simplify exponents\n",
    "def simplify_exp(e):\n",
    "    if isinstance(e, exp):\n",
    "        return exp(simplify(e.exp.expand()))\n",
    "\n",
    "    if isinstance(e, (Add, Mul)):\n",
    "        return type(e)(*(simplify_exp(arg) for arg in e.args)) \n",
    "\n",
    "    return e"
   ]
  },
  {
   "cell_type": "code",
   "execution_count": 13,
   "metadata": {
    "collapsed": false
   },
   "outputs": [
    {
     "data": {
      "image/png": "[encoded data removed]",
      "text/latex": [
       "$$A e^{i t \\left(- \\omega_{d} + \\omega_{r}\\right)} {{a}^\\dagger} + A e^{i t \\left(\\omega_{d} - \\omega_{r}\\right)} {a} + B e^{i t \\left(- \\omega_{q} + \\omega_{s}\\right)} {\\sigma_-} + B e^{i t \\left(\\omega_{q} - \\omega_{s}\\right)} {\\sigma_+} + g e^{i \\Delta t} {\\sigma_+} {a} + g e^{i t \\left(\\omega_{q} + \\omega_{r}\\right)} {\\sigma_+} {{a}^\\dagger} + g e^{- i t \\left(\\omega_{q} + \\omega_{r}\\right)} {\\sigma_-} {a} + g e^{- i \\Delta t} {\\sigma_-} {{a}^\\dagger} - \\frac{\\omega_{q}}{2} \\left(1 + {\\sigma_z}\\right) + \\frac{\\omega_{q} {\\sigma_z}}{2}$$"
      ],
      "text/plain": [
       "   ⅈ⋅t⋅(-ω_d + ωᵣ)  †      ⅈ⋅t⋅(ω_d - ωᵣ)        ⅈ⋅t⋅(-ω_q + ω_s)            ⅈ\n",
       "A⋅ℯ               ⋅a  + A⋅ℯ              ⋅a + B⋅ℯ                ⋅False + B⋅ℯ \n",
       "                                                                              \n",
       "\n",
       "⋅t⋅(ω_q - ω_s)            ⅈ⋅Δ⋅t              ⅈ⋅t⋅(ω_q + ωᵣ)        †      -ⅈ⋅t\n",
       "              ⋅False + g⋅ℯ     ⋅False⋅a + g⋅ℯ              ⋅False⋅a  + g⋅ℯ    \n",
       "                                                                              \n",
       "\n",
       "⋅(ω_q + ωᵣ)              -ⅈ⋅Δ⋅t        †   ω_q⋅(1 + False)   ω_q⋅False\n",
       "           ⋅False⋅a + g⋅ℯ      ⋅False⋅a  - ─────────────── + ─────────\n",
       "                                                  2              2    "
      ]
     },
     "execution_count": 13,
     "metadata": {},
     "output_type": "execute_result"
    }
   ],
   "source": [
    "H3 = simplify_exp(H2).subs(-omega_r + omega_q, Delta)\n",
    "\n",
    "H3"
   ]
  },
  {
   "cell_type": "markdown",
   "metadata": {},
   "source": [
    "Now, in the rotating-wave approximation we can drop the fast oscillating terms containing the factors\n",
    "$e^{\\pm i(\\omega_q + \\omega_r)t}$"
   ]
  },
  {
   "cell_type": "code",
   "execution_count": 14,
   "metadata": {
    "collapsed": false
   },
   "outputs": [
    {
     "data": {
      "image/png": "[encoded data removed]",
      "text/latex": [
       "$$H = A e^{i \\omega_{d} t} e^{- i \\omega_{r} t} {a} + A e^{- i \\omega_{d} t} e^{i \\omega_{r} t} {{a}^\\dagger} + B e^{i \\omega_{q} t} e^{- i \\omega_{s} t} {\\sigma_+} + B e^{- i \\omega_{q} t} e^{i \\omega_{s} t} {\\sigma_-} + g e^{i \\Delta t} {\\sigma_+} {a} + g e^{- i \\Delta t} {\\sigma_-} {{a}^\\dagger}$$"
      ],
      "text/plain": [
       "       ⅈ⋅ω_d⋅t  -ⅈ⋅ωᵣ⋅t        -ⅈ⋅ω_d⋅t  ⅈ⋅ωᵣ⋅t  †      ⅈ⋅ω_q⋅t  -ⅈ⋅ω_s⋅t     \n",
       "H = A⋅ℯ       ⋅ℯ       ⋅a + A⋅ℯ        ⋅ℯ      ⋅a  + B⋅ℯ       ⋅ℯ        ⋅Fals\n",
       "\n",
       "       -ⅈ⋅ω_q⋅t  ⅈ⋅ω_s⋅t            ⅈ⋅Δ⋅t              -ⅈ⋅Δ⋅t        †\n",
       "e + B⋅ℯ        ⋅ℯ       ⋅False + g⋅ℯ     ⋅False⋅a + g⋅ℯ      ⋅False⋅a "
      ]
     },
     "execution_count": 14,
     "metadata": {},
     "output_type": "execute_result"
    }
   ],
   "source": [
    "H4 = drop_terms_containing(H3, [exp( I * (omega_q + omega_r) * t),\n",
    "                                exp(-I * (omega_q + omega_r) * t)])\n",
    "\n",
    "H4 = drop_c_number_terms(H4.expand())\n",
    "\n",
    "Eq(Hsym, H4)"
   ]
  },
  {
   "cell_type": "markdown",
   "metadata": {},
   "source": [
    "This is the interaction term of in the Jaynes-Cumming model in the interaction picture. If we transform back to the Schrödinger picture we have:"
   ]
  },
  {
   "cell_type": "code",
   "execution_count": null,
   "metadata": {
    "collapsed": false
   },
   "outputs": [
    {
     "data": {
      "image/png": "[encoded data removed]",
      "text/latex": [
       "$$A e^{i \\omega_{d} t} {a} + A e^{- i \\omega_{d} t} {{a}^\\dagger} + B e^{i \\omega_{q} t} e^{- i \\omega_{s} t} {\\sigma_+} + B e^{- i \\omega_{q} t} e^{i \\omega_{s} t} {\\sigma_-} + g e^{i \\Delta t} e^{i \\omega_{r} t} {\\sigma_+} {a} + g e^{- i \\Delta t} e^{- i \\omega_{r} t} {\\sigma_-} {{a}^\\dagger} + \\omega_{r} {{a}^\\dagger} {a}$$"
      ],
      "text/plain": [
       "   ⅈ⋅ω_d⋅t        -ⅈ⋅ω_d⋅t  †      ⅈ⋅ω_q⋅t  -ⅈ⋅ω_s⋅t            -ⅈ⋅ω_q⋅t  ⅈ⋅ω_\n",
       "A⋅ℯ       ⋅a + A⋅ℯ        ⋅a  + B⋅ℯ       ⋅ℯ        ⋅False + B⋅ℯ        ⋅ℯ    \n",
       "\n",
       "s⋅t            ⅈ⋅Δ⋅t  ⅈ⋅ωᵣ⋅t              -ⅈ⋅Δ⋅t  -ⅈ⋅ωᵣ⋅t        †       †  \n",
       "   ⋅False + g⋅ℯ     ⋅ℯ      ⋅False⋅a + g⋅ℯ      ⋅ℯ       ⋅False⋅a  + ωᵣ⋅a ⋅a"
      ]
     },
     "execution_count": 15,
     "metadata": {},
     "output_type": "execute_result"
    }
   ],
   "source": [
    "U = exp(-I * omega_r * t * Dagger(a) * a)\n",
    "H5 = hamiltonian_transformation(U, H4.expand())\n",
    "H5"
   ]
  },
  {
   "cell_type": "code",
   "execution_count": null,
   "metadata": {
    "collapsed": false
   },
   "outputs": [],
   "source": [
    "U = exp(-I * omega_q * t * sp * sm)\n",
    "H6 = hamiltonian_transformation(U, H5.expand())\n",
    "H6"
   ]
  },
  {
   "cell_type": "code",
   "execution_count": null,
   "metadata": {
    "collapsed": false
   },
   "outputs": [],
   "source": [
    "H7 = simplify_exp(H6).subs(Delta, omega_q - omega_r)\n",
    "H7 = simplify_exp(powsimp(H7)).expand()\n",
    "\n",
    "H7 = drop_c_number_terms(H7)\n",
    "\n",
    "H = collect(H7, [A,B,g])\n",
    "\n",
    "Eq(Hsym, H)"
   ]
  },
  {
   "cell_type": "markdown",
   "metadata": {},
   "source": [
    "## Linearized interaction"
   ]
  },
  {
   "cell_type": "markdown",
   "metadata": {},
   "source": [
    "First we apply the unitary transformation $U = e^{i \\omega_d a^\\dagger a t}$:"
   ]
  },
  {
   "cell_type": "code",
   "execution_count": null,
   "metadata": {
    "collapsed": false
   },
   "outputs": [],
   "source": [
    "U = exp(I * Dagger(a) * a * omega_d * t)\n",
    "\n",
    "U"
   ]
  },
  {
   "cell_type": "code",
   "execution_count": null,
   "metadata": {
    "collapsed": false
   },
   "outputs": [],
   "source": [
    "H1 = hamiltonian_transformation(U, H, independent=True)\n",
    "\n",
    "H1"
   ]
  },
  {
   "cell_type": "markdown",
   "metadata": {},
   "source": [
    "We can now perform a rotating-wave approximation (RWA) by eliminating all terms that rotate with frequencies $2\\omega_d$:"
   ]
  },
  {
   "cell_type": "code",
   "execution_count": null,
   "metadata": {
    "collapsed": false
   },
   "outputs": [],
   "source": [
    "H2 = drop_terms_containing(H1.expand(), [exp(-2*I*omega_d*t), exp(2*I*omega_d*t)])\n",
    "H2 = H2.collect([A,B,Dagger(a)*a,g])\n",
    "H2\n",
    "# Eq(Symbol(\"H_{rwa}\"), H2)"
   ]
  },
  {
   "cell_type": "markdown",
   "metadata": {},
   "source": [
    "Introduce the detuning $\\Delta_d = \\omega_r - \\omega_d$:"
   ]
  },
  {
   "cell_type": "code",
   "execution_count": null,
   "metadata": {
    "collapsed": false
   },
   "outputs": [],
   "source": [
    "H3 = H2.subs(-omega_d+omega_r, Delta_d).expand()\n",
    "\n",
    "H3 = H3.collect([A,B,Dagger(a)*a,g])\n",
    "H3"
   ]
  },
  {
   "cell_type": "code",
   "execution_count": null,
   "metadata": {
    "collapsed": false
   },
   "outputs": [],
   "source": [
    "H3 = H3.subs(sz,2*sp*sm).expand()\n",
    "H3"
   ]
  },
  {
   "cell_type": "code",
   "execution_count": null,
   "metadata": {
    "collapsed": false
   },
   "outputs": [],
   "source": [
    "H3 = H3.collect([A,B,Dagger(a)*a,g])\n",
    "H3"
   ]
  },
  {
   "cell_type": "markdown",
   "metadata": {},
   "source": [
    "Second we apply the unitary transformation $U = e^{i \\omega_s \\sigma_+ \\sigma_- t}$:"
   ]
  },
  {
   "cell_type": "code",
   "execution_count": null,
   "metadata": {
    "collapsed": false
   },
   "outputs": [],
   "source": [
    "U = exp(I * sp*sm* omega_s * t)\n",
    "\n",
    "U"
   ]
  },
  {
   "cell_type": "code",
   "execution_count": null,
   "metadata": {
    "collapsed": false
   },
   "outputs": [],
   "source": [
    "H4 = hamiltonian_transformation(U, H3, independent=True)\n",
    "\n",
    "H4 =H4.expand()\n",
    "H4"
   ]
  },
  {
   "cell_type": "markdown",
   "metadata": {},
   "source": [
    "Substitute $ \\sigma_+\\sigma_-=\\dfrac{\\sigma_z}{2}$"
   ]
  },
  {
   "cell_type": "code",
   "execution_count": null,
   "metadata": {
    "collapsed": false
   },
   "outputs": [],
   "source": [
    "H4 = H4.subs(omega_q*sp*sm,omega_q*sz/2)\n",
    "H4"
   ]
  },
  {
   "cell_type": "code",
   "execution_count": null,
   "metadata": {
    "collapsed": false
   },
   "outputs": [],
   "source": [
    "H4 = H4.subs(-omega_s*sp*sm,-omega_s*sz/2)\n",
    "H4"
   ]
  },
  {
   "cell_type": "markdown",
   "metadata": {},
   "source": []
  },
  {
   "cell_type": "code",
   "execution_count": null,
   "metadata": {
    "collapsed": false
   },
   "outputs": [],
   "source": [
    "H4 = H4.subs(sp*sm,sz/2).expand()\n",
    "\n",
    "H4= H4.collect([A,B,Dagger(a)*a,g,sz])\n",
    "H4"
   ]
  },
  {
   "cell_type": "markdown",
   "metadata": {},
   "source": [
    "Introduce the detuning $\\Delta_s = \\omega_q - \\omega_s$:"
   ]
  },
  {
   "cell_type": "code",
   "execution_count": null,
   "metadata": {
    "collapsed": false
   },
   "outputs": [],
   "source": [
    "H4 = H4.subs(omega_q/2-omega_s/2,Delta_s/2).expand()\n",
    "\n",
    "H5 = H4.collect([A,B,Dagger(a)*a,g,sz])\n",
    "H5"
   ]
  },
  {
   "cell_type": "code",
   "execution_count": null,
   "metadata": {
    "collapsed": false
   },
   "outputs": [],
   "source": [
    "H5 = H5.expand()\n",
    "H5"
   ]
  },
  {
   "cell_type": "code",
   "execution_count": null,
   "metadata": {
    "collapsed": false
   },
   "outputs": [],
   "source": [
    "H6 = simplify_exp(powsimp(H5))\n",
    "H6 = simplify_exp(H6).subs(omega_d - omega_s, Delta_t)\n",
    "\n",
    "H = H6.collect([A,B,Dagger(a)*a,g,sz])"
   ]
  },
  {
   "cell_type": "code",
   "execution_count": null,
   "metadata": {
    "collapsed": false
   },
   "outputs": [],
   "source": [
    "Eq(Hsym, H)"
   ]
  },
  {
   "cell_type": "markdown",
   "metadata": {},
   "source": [
    "This is the Jaynes-Cumming model give above, and we have now seen that it is obtained to the dipole interaction Hamiltonian through the rotating wave approximation."
   ]
  },
  {
   "cell_type": "markdown",
   "metadata": {},
   "source": [
    "## Dispersive regime"
   ]
  },
  {
   "cell_type": "markdown",
   "metadata": {},
   "source": [
    "In the dispersive regime, where the two-level system is detuned from the cavity by much more than the interaction strength, $\\Delta \\gg g$, an effective Hamiltonian can be dervied which describes the Stark shift of the two-level system (which depends on the number of photons in the cavity) and the frequency shift of the cavity (which depend on the state of the two-level system).\n",
    "\n",
    "This effective Hamiltonian, which is correct up to second order in the small paramter $g/\\Delta$, is obtained by performing the unitary transformation\n",
    "\n",
    "$$\n",
    "U = e^{\\frac{g}{\\Delta}(a \\sigma_- - a^\\dagger \\sigma_+)}\n",
    "$$"
   ]
  },
  {
   "cell_type": "code",
   "execution_count": null,
   "metadata": {
    "collapsed": false
   },
   "outputs": [],
   "source": [
    "U = exp(x * (a * sp).expand())\n",
    "\n",
    "U"
   ]
  },
  {
   "cell_type": "code",
   "execution_count": null,
   "metadata": {
    "collapsed": false
   },
   "outputs": [],
   "source": [
    "#H1 = unitary_transformation(U, H, allinone=True, expansion_search=False, N=3).expand()\n",
    "#H1 = qsimplify(H1)\n",
    "#H1"
   ]
  },
  {
   "cell_type": "code",
   "execution_count": null,
   "metadata": {
    "collapsed": false
   },
   "outputs": [],
   "source": [
    "H1 = hamiltonian_transformation(U, H, expansion_search=False, N=3).expand()\n",
    "\n",
    "H1 = qsimplify(H1)\n",
    "\n",
    "H1"
   ]
  },
  {
   "cell_type": "code",
   "execution_count": null,
   "metadata": {
    "collapsed": false
   },
   "outputs": [],
   "source": [
    "U = exp(-x * (Dagger(a) * sm).expand())\n",
    "\n",
    "U"
   ]
  },
  {
   "cell_type": "code",
   "execution_count": null,
   "metadata": {
    "collapsed": false
   },
   "outputs": [],
   "source": [
    "H2 = hamiltonian_transformation(U, H1, expansion_search=False, N=3).expand()\n",
    "\n",
    "H2 = qsimplify(H2)\n",
    "\n",
    "H2"
   ]
  },
  {
   "cell_type": "code",
   "execution_count": null,
   "metadata": {
    "collapsed": false
   },
   "outputs": [],
   "source": [
    "H3 = drop_terms_containing(H2.expand(), [x**3, x**4])\n",
    "\n",
    "H3"
   ]
  },
  {
   "cell_type": "code",
   "execution_count": null,
   "metadata": {
    "collapsed": false
   },
   "outputs": [],
   "source": [
    "H4 = H3.subs(x, g/Delta)\n",
    "\n",
    "H4"
   ]
  },
  {
   "cell_type": "code",
   "execution_count": null,
   "metadata": {
    "collapsed": false
   },
   "outputs": [],
   "source": [
    "H5 = drop_c_number_terms(H4)\n",
    "H6 = drop_terms_containing(H5.expand(), [exp(I*Delta_t*t), exp(-I*Delta_t*t)])\n",
    "H6"
   ]
  },
  {
   "cell_type": "code",
   "execution_count": null,
   "metadata": {
    "collapsed": false
   },
   "outputs": [],
   "source": [
    "H7 = collect(H6, [Dagger(a) * a, sz])\n",
    "\n",
    "H7"
   ]
  },
  {
   "cell_type": "markdown",
   "metadata": {},
   "source": [
    "Now move to a frame co-rotating with the qubit and oscillator frequencies: "
   ]
  },
  {
   "cell_type": "code",
   "execution_count": null,
   "metadata": {
    "collapsed": false
   },
   "outputs": [],
   "source": [
    "H7.expand()"
   ]
  },
  {
   "cell_type": "code",
   "execution_count": null,
   "metadata": {
    "collapsed": false
   },
   "outputs": [],
   "source": [
    "H8 = qsimplify(H7.expand())\n",
    "H9 = collect(H8, [Dagger(a) * a, sz])\n",
    "H9"
   ]
  },
  {
   "cell_type": "code",
   "execution_count": null,
   "metadata": {
    "collapsed": false
   },
   "outputs": [],
   "source": [
    "H10 = qsimplify(H9)\n",
    "\n",
    "H10 = collect(H10, [Dagger(a) * a, sz, A, B, Delta_s, Delta_d])\n",
    "\n",
    "H10"
   ]
  },
  {
   "cell_type": "markdown",
   "metadata": {},
   "source": [
    "This is the Hamiltonian of the Jaynes-Cummings model in the the dispersive regime. It can be interpreted as the resonator having a qubit-state-dependent frequency shift, or alternatively that the qubit is feeling a resonator-photon-number dependent Stark-shift."
   ]
  }
 ],
 "metadata": {
  "kernelspec": {
   "display_name": "Python 3",
   "language": "python",
   "name": "python3"
  },
  "language_info": {
   "codemirror_mode": {
    "name": "ipython",
    "version": 3
   },
   "file_extension": ".py",
   "mimetype": "text/x-python",
   "name": "python",
   "nbconvert_exporter": "python",
   "pygments_lexer": "ipython3",
   "version": "3.4.0"
  }
 },
 "nbformat": 4,
 "nbformat_minor": 0
}
