{
 "cells": [
  {
   "cell_type": "markdown",
   "metadata": {},
   "source": [
    "#New simulation Cavity-Qubit-NR\n"
   ]
  },
  {
   "cell_type": "code",
   "execution_count": 1,
   "metadata": {
    "collapsed": false
   },
   "outputs": [
    {
     "name": "stdout",
     "output_type": "stream",
     "text": [
      "Populating the interactive namespace from numpy and matplotlib\n"
     ]
    }
   ],
   "source": [
    "#import functions\n",
    "%pylab inline\n",
    "\n",
    "# from MyUnits import *\n",
    "from MyFunctions import *\n",
    "from qutip import *\n",
    "\n",
    "# from MyQubit import *\n",
    "# import mpld3\n",
    "import multiprocessing as mp\n",
    "import itertools\n",
    "\n",
    "from qutip.ui.progressbar import BaseProgressBar, TextProgressBar\n",
    "\n",
    "\n"
   ]
  },
  {
   "cell_type": "code",
   "execution_count": 2,
   "metadata": {
    "collapsed": true
   },
   "outputs": [],
   "source": [
    "import scipy.constants as sc"
   ]
  },
  {
   "cell_type": "code",
   "execution_count": 3,
   "metadata": {
    "collapsed": true
   },
   "outputs": [],
   "source": [
    "import time"
   ]
  },
  {
   "cell_type": "code",
   "execution_count": 4,
   "metadata": {
    "collapsed": true
   },
   "outputs": [],
   "source": [
    "def calc_spectrum_5(N,M,P, Ej, Ec, w_nr, w_c, g0, n_ac, n_dc, A , w):\n",
    "    \n",
    "    w_q = sqrt(8 * Ec * Ej) - Ec\n",
    "    zeta = Ej/Ec\n",
    "    \n",
    "    # qubit operators\n",
    "    \n",
    "    a = tensor(destroy(N),qeye(M),qeye(P))\n",
    "    n_a = a.dag() * a\n",
    "    x_a = a.dag() + a\n",
    "    p_a = a - a.dag()\n",
    "    \n",
    "    \n",
    "    # mechanical resonator operators\n",
    "    \n",
    "    b = tensor(qeye(N),destroy(M),qeye(P))\n",
    "    n_b = b.dag() * b\n",
    "    x_b = b.dag() + b\n",
    "    p_b = b - b.dag()\n",
    "    \n",
    "    \n",
    "    # CPW operators\n",
    "    \n",
    "    c = tensor(qeye(N),qeye(M),destroy(P))\n",
    "    n_c = c.dag() * c\n",
    "    x_c = c.dag() + c\n",
    "    p_c = c - c.dag()\n",
    "    \n",
    "    # Identity\n",
    "    \n",
    "    I = tensor(qeye(N),qeye(M),qeye(P))\n",
    "    \n",
    "    \n",
    "    # Hamiltonian\n",
    "    \n",
    "    \n",
    "    H1 = sqrt(Ec*Ej/2) *(2 + 4 * a.dag()*a) - Ec/12 * (a + a.dag())**4\n",
    "    \n",
    "    # H1 = w_q * a.dag() * a - Ec/12 * (a.dag())**2 * a**2\n",
    "    \n",
    "    H2 = w_nr * (b.dag() * b - I/2)\n",
    "    \n",
    "    H3 = w_c * (c.dag() * c - I/2)\n",
    "    \n",
    "    H4 = 4 * Ec * n_dc**2 * x_b**2\n",
    "    \n",
    "    H5 = 4 * Ec * n_ac**2 * x_c**2\n",
    "    \n",
    "    H6 = 4 * 1j * Ec * n_ac * (zeta/2)**(1/4) * p_a * x_c\n",
    "    \n",
    "    H7 = 4 * g0 * n_dc**2 * x_b**3\n",
    "    \n",
    "    H8 = 8 * Ec * n_dc * n_ac * x_b * x_c\n",
    "    \n",
    "    H9 = 4 * 1j * Ec * n_dc * (zeta/2)**(1/4) * p_a * x_b\n",
    "    \n",
    "    H10 = 8 * g0 * n_dc * n_ac * x_b**2 * x_c \n",
    "    \n",
    "    H11 = 4 * 1j * g0 * n_dc * (zeta/2)**(1/4) * p_a * x_b**2\n",
    "    \n",
    "    H12 = 4 * g0 * n_ac**2 * x_c**2 * x_b \n",
    "    \n",
    "    H13 = 4 * 1j * g0 * n_ac * (zeta/2)**(1/4) * p_a * x_b * x_c\n",
    "    \n",
    "    H14 = - g0 * sqrt(zeta/2) * p_a**2 * x_b\n",
    "    \n",
    "    # Time domain\n",
    "    \n",
    "    \n",
    "    \n",
    "    \n",
    "    # Colapse Operators\n",
    "    \n",
    "    c_op_list = []\n",
    "    \n",
    "    kappa = 0.001\n",
    "    gamma = 0.001\n",
    "    Gamma = 0.001\n",
    "    Gamma_m = 0.001\n",
    "    n_th_a = 0.1\n",
    "    \n",
    "    rate = kappa * (1 + n_th_a)\n",
    "    if rate > 0.0:\n",
    "        c_op_list.append(sqrt(rate) * c)\n",
    "\n",
    "    rate = kappa * n_th_a\n",
    "    if rate > 0.0:\n",
    "        c_op_list.append(sqrt(rate) * c.dag())\n",
    "\n",
    "    rate = gamma\n",
    "    if rate > 0.0:\n",
    "        c_op_list.append(sqrt(rate) * a)\n",
    "\n",
    "    rate = Gamma\n",
    "    if rate > 0.0:\n",
    "        c_op_list.append(sqrt(rate) * a.dag())   \n",
    "    \n",
    "    rate = Gamma_m\n",
    "    if rate > 0.0:\n",
    "        c_op_list.append(sqrt(rate) * b.dag()) \n",
    "\n",
    "    \n",
    "    H0 = H1 + H2 + H3 + H4 + H5 + H6 + H8 + H9 + H7+ H10 + H11 + H12 + H13 + H14\n",
    "    \n",
    "    \n",
    "   \n",
    "    \n",
    "    \n",
    "    return H0"
   ]
  },
  {
   "cell_type": "code",
   "execution_count": 5,
   "metadata": {
    "collapsed": false
   },
   "outputs": [
    {
     "ename": "NameError",
     "evalue": "name 'Ej_max' is not defined",
     "output_type": "error",
     "traceback": [
      "\u001b[1;31m---------------------------------------------------------------------------\u001b[0m",
      "\u001b[1;31mNameError\u001b[0m                                 Traceback (most recent call last)",
      "\u001b[1;32m<ipython-input-5-818e2930d9f8>\u001b[0m in \u001b[0;36m<module>\u001b[1;34m()\u001b[0m\n\u001b[0;32m      1\u001b[0m \u001b[1;33m\u001b[0m\u001b[0m\n\u001b[0;32m      2\u001b[0m \u001b[0mphi\u001b[0m \u001b[1;33m=\u001b[0m \u001b[0mlinspace\u001b[0m\u001b[1;33m(\u001b[0m\u001b[1;36m0\u001b[0m\u001b[1;33m,\u001b[0m\u001b[0mpi\u001b[0m\u001b[1;33m,\u001b[0m\u001b[1;36m100\u001b[0m\u001b[1;33m)\u001b[0m\u001b[1;33m\u001b[0m\u001b[0m\n\u001b[1;32m----> 3\u001b[1;33m \u001b[0mEj_vec\u001b[0m \u001b[1;33m=\u001b[0m  \u001b[0mEj_max\u001b[0m \u001b[1;33m*\u001b[0m \u001b[0mabs\u001b[0m\u001b[1;33m(\u001b[0m\u001b[0mcos\u001b[0m\u001b[1;33m(\u001b[0m\u001b[0mphi\u001b[0m\u001b[1;33m)\u001b[0m\u001b[1;33m)\u001b[0m\u001b[1;33m*\u001b[0m\u001b[0msqrt\u001b[0m\u001b[1;33m(\u001b[0m\u001b[1;36m1\u001b[0m\u001b[1;33m+\u001b[0m\u001b[1;33m(\u001b[0m\u001b[0md\u001b[0m\u001b[1;33m*\u001b[0m\u001b[0mtan\u001b[0m\u001b[1;33m(\u001b[0m\u001b[0mphi\u001b[0m\u001b[1;33m)\u001b[0m\u001b[1;33m)\u001b[0m\u001b[1;33m**\u001b[0m\u001b[1;36m2\u001b[0m\u001b[1;33m)\u001b[0m\u001b[1;33m\u001b[0m\u001b[0m\n\u001b[0m\u001b[0;32m      4\u001b[0m energies = array([calc_spectrum_5\n\u001b[0;32m      5\u001b[0m                   \u001b[1;33m(\u001b[0m\u001b[0mN\u001b[0m\u001b[1;33m,\u001b[0m\u001b[0mM\u001b[0m\u001b[1;33m,\u001b[0m\u001b[0mP\u001b[0m\u001b[1;33m,\u001b[0m \u001b[0mEj\u001b[0m\u001b[1;33m,\u001b[0m \u001b[0mEc\u001b[0m\u001b[1;33m,\u001b[0m \u001b[0mw_nr\u001b[0m\u001b[1;33m,\u001b[0m \u001b[0mw_c\u001b[0m\u001b[1;33m,\u001b[0m \u001b[0mg0\u001b[0m\u001b[1;33m,\u001b[0m \u001b[0mn_ac\u001b[0m\u001b[1;33m,\u001b[0m \u001b[0mn_dc\u001b[0m\u001b[1;33m,\u001b[0m \u001b[0mA\u001b[0m \u001b[1;33m,\u001b[0m \u001b[0mw\u001b[0m\u001b[1;33m)\u001b[0m\u001b[1;33m.\u001b[0m\u001b[0meigenenergies\u001b[0m\u001b[1;33m(\u001b[0m\u001b[1;33m)\u001b[0m\u001b[1;33m\u001b[0m\u001b[0m\n",
      "\u001b[1;31mNameError\u001b[0m: name 'Ej_max' is not defined"
     ]
    }
   ],
   "source": [
    "\n",
    "phi = linspace(0,pi,100)\n",
    "Ej_vec =  Ej_max * abs(cos(phi))*sqrt(1+(d*tan(phi))**2)\n",
    "energies = array([calc_spectrum_5\n",
    "                  (N,M,P, Ej, Ec, w_nr, w_c, g0, n_ac, n_dc, A , w).eigenenergies()\n",
    "                  for Ej in Ej_vec])"
   ]
  },
  {
   "cell_type": "code",
   "execution_count": 6,
   "metadata": {
    "collapsed": false
   },
   "outputs": [
    {
     "ename": "NameError",
     "evalue": "name 'energies' is not defined",
     "output_type": "error",
     "traceback": [
      "\u001b[1;31m---------------------------------------------------------------------------\u001b[0m",
      "\u001b[1;31mNameError\u001b[0m                                 Traceback (most recent call last)",
      "\u001b[1;32m<ipython-input-6-87e27b2a7fc2>\u001b[0m in \u001b[0;36m<module>\u001b[1;34m()\u001b[0m\n\u001b[0;32m      3\u001b[0m \u001b[0mx_sup\u001b[0m \u001b[1;33m=\u001b[0m \u001b[1;36m10\u001b[0m\u001b[1;33m\u001b[0m\u001b[0m\n\u001b[0;32m      4\u001b[0m \u001b[1;33m\u001b[0m\u001b[0m\n\u001b[1;32m----> 5\u001b[1;33m \u001b[1;32mfor\u001b[0m \u001b[0mn\u001b[0m \u001b[1;32min\u001b[0m \u001b[0mrange\u001b[0m\u001b[1;33m(\u001b[0m\u001b[0mlen\u001b[0m\u001b[1;33m(\u001b[0m\u001b[0menergies\u001b[0m\u001b[1;33m[\u001b[0m\u001b[1;36m0\u001b[0m\u001b[1;33m,\u001b[0m\u001b[1;33m:\u001b[0m\u001b[1;33m]\u001b[0m\u001b[1;33m)\u001b[0m\u001b[1;33m)\u001b[0m\u001b[1;33m:\u001b[0m\u001b[1;33m\u001b[0m\u001b[0m\n\u001b[0m\u001b[0;32m      6\u001b[0m     \u001b[0maxes\u001b[0m\u001b[1;33m.\u001b[0m\u001b[0mplot\u001b[0m\u001b[1;33m(\u001b[0m\u001b[0mphi\u001b[0m\u001b[1;33m/\u001b[0m\u001b[0mpi\u001b[0m\u001b[1;33m,\u001b[0m \u001b[1;33m(\u001b[0m\u001b[0menergies\u001b[0m\u001b[1;33m[\u001b[0m\u001b[1;33m:\u001b[0m\u001b[1;33m,\u001b[0m\u001b[0mn\u001b[0m\u001b[1;33m]\u001b[0m\u001b[1;33m-\u001b[0m\u001b[0menergies\u001b[0m\u001b[1;33m[\u001b[0m\u001b[1;33m:\u001b[0m\u001b[1;33m,\u001b[0m\u001b[1;36m0\u001b[0m\u001b[1;33m]\u001b[0m\u001b[1;33m)\u001b[0m\u001b[1;33m,\u001b[0m\u001b[1;34m'-'\u001b[0m\u001b[1;33m)\u001b[0m\u001b[1;33m\u001b[0m\u001b[0m\n\u001b[0;32m      7\u001b[0m \u001b[1;31m#     axes.plot(phi/pi, (energies[:,n]-energies[:,0])/2,'--')\u001b[0m\u001b[1;33m\u001b[0m\u001b[1;33m\u001b[0m\u001b[0m\n",
      "\u001b[1;31mNameError\u001b[0m: name 'energies' is not defined"
     ]
    },
    {
     "data": {
      "image/png": "[encoded data removed]",
      "text/plain": [
       "<matplotlib.figure.Figure at 0x7f77ded48a90>"
      ]
     },
     "metadata": {},
     "output_type": "display_data"
    }
   ],
   "source": [
    "fig, axes = subplots(1,1, figsize=(16,6))\n",
    "x_inf = -1\n",
    "x_sup = 10\n",
    "\n",
    "for n in range(len(energies[0,:])):\n",
    "    axes.plot(phi/pi, (energies[:,n]-energies[:,0]),'-')\n",
    "#     axes.plot(phi/pi, (energies[:,n]-energies[:,0])/2,'--')\n",
    "    \n",
    "    if n < 4:\n",
    "        axes.text(.2,energies[0,n]-energies[0,0],r'|%s>'%(n),fontsize=20)\n",
    "    \n",
    "axes.set_title('Full')\n",
    "axes.set_ylim(x_inf, x_sup)\n",
    "axes.set_xlabel(r'$\\phi$', fontsize=18)\n",
    "axes.set_ylabel(r'$E_n-E_0$', fontsize=18)\n",
    "axes.hlines(w_nr,.2,.4,linestyles='dashed')\n",
    "axes.hlines(w_c,.2,.4,linestyles='dashed')\n",
    "axes.vlines(0.33,0,10,linestyles='dashed')\n"
   ]
  },
  {
   "cell_type": "code",
   "execution_count": 7,
   "metadata": {
    "collapsed": false
   },
   "outputs": [],
   "source": [
    "def Ht(t, args):\n",
    "    #\n",
    "    # evaluate the hamiltonian at time t. \n",
    "    #\n",
    "    \n",
    "    H0 = args['H0']\n",
    "    a = args['a']\n",
    "    aDag = args['aDag']\n",
    "    A = args['A']\n",
    "    \n",
    "    w  = args['w']\n",
    "\n",
    "    return H0 + A * (a*sin(w*t) + aDag*cos(w*t))  #(a * exp(1j*w*t) + aDag * exp(-1j*w*t))"
   ]
  },
  {
   "cell_type": "code",
   "execution_count": 8,
   "metadata": {
    "collapsed": false
   },
   "outputs": [],
   "source": [
    "def calc_spectrum_4(N,M,P, Ej, Ec, w_nr, w_c, g0, n_ac, n_dc, A , w):\n",
    "    \n",
    "    w_q = sqrt(8 * Ec * Ej) - Ec\n",
    "    zeta = Ej/Ec\n",
    "    \n",
    "    # qubit operators\n",
    "    \n",
    "    a = tensor(destroy(N),qeye(M),qeye(P))\n",
    "    n_a = a.dag() * a\n",
    "    x_a = a.dag() + a\n",
    "    p_a = a - a.dag()\n",
    "    \n",
    "    \n",
    "    # mechanical resonator operators\n",
    "    \n",
    "    b = tensor(qeye(N),destroy(M),qeye(P))\n",
    "    n_b = b.dag() * b\n",
    "    x_b = b.dag() + b\n",
    "    p_b = b - b.dag()\n",
    "    \n",
    "    \n",
    "    # CPW operators\n",
    "    \n",
    "    c = tensor(qeye(N),qeye(M),destroy(P))\n",
    "    n_c = c.dag() * c\n",
    "    x_c = c.dag() + c\n",
    "    p_c = c - c.dag()\n",
    "    \n",
    "    # Identity\n",
    "    \n",
    "    I = tensor(qeye(N),qeye(M),qeye(P))\n",
    "    \n",
    "    \n",
    "    # Hamiltonian\n",
    "    \n",
    "    \n",
    "    H1 = sqrt(Ec*Ej/2) *(2 + 4 * a.dag()*a) - Ec/12 * (a + a.dag())**4\n",
    "    \n",
    "    # H1 = w_q * a.dag() * a - Ec/12 * (a.dag())**2 * a**2\n",
    "    \n",
    "    H2 = w_nr * (b.dag() * b - I/2)\n",
    "    \n",
    "    H3 = w_c * (c.dag() * c - I/2)\n",
    "    \n",
    "    H4 = 4 * Ec * n_dc**2 * x_b**2\n",
    "    \n",
    "    H5 = 4 * Ec * n_ac**2 * x_c**2\n",
    "    \n",
    "    H6 = 4 * 1j * Ec * n_ac * (zeta/2)**(1/4) * p_a * x_c\n",
    "    \n",
    "    H7 = 4 * g0 * n_dc**2 * x_b**3\n",
    "    \n",
    "    H8 = 8 * Ec * n_dc * n_ac * x_b * x_c\n",
    "    \n",
    "    H9 = 4 * 1j * Ec * n_dc * (zeta/2)**(1/4) * p_a * x_b\n",
    "    \n",
    "    H10 = 8 * g0 * n_dc * n_ac * x_b**2 * x_c \n",
    "    \n",
    "    H11 = 4 * 1j * g0 * n_dc * (zeta/2)**(1/4) * p_a * x_b**2\n",
    "    \n",
    "    H12 = 4 * g0 * n_ac**2 * x_c**2 * x_b \n",
    "    \n",
    "    H13 = 4 * 1j * g0 * n_ac * (zeta/2)**(1/4) * p_a * x_b * x_c\n",
    "    \n",
    "    H14 = - g0 * sqrt(zeta/2) * p_a**2 * x_b\n",
    "    \n",
    "    # Time domain\n",
    "    \n",
    "    \n",
    "    \n",
    "    \n",
    "    # Colapse Operators\n",
    "    \n",
    "    c_op_list = []\n",
    "    \n",
    "    kappa = 0.001\n",
    "    gamma = 0.001\n",
    "    Gamma = 0.001\n",
    "    Gamma_m = 0.001\n",
    "    n_th_a = 0.1\n",
    "    \n",
    "    rate = kappa * (1 + n_th_a)\n",
    "    if rate > 0.0:\n",
    "        c_op_list.append(sqrt(rate) * c)\n",
    "\n",
    "    rate = kappa * n_th_a\n",
    "    if rate > 0.0:\n",
    "        c_op_list.append(sqrt(rate) * c.dag())\n",
    "\n",
    "    rate = gamma\n",
    "    if rate > 0.0:\n",
    "        c_op_list.append(sqrt(rate) * a)\n",
    "\n",
    "    rate = Gamma\n",
    "    if rate > 0.0:\n",
    "        c_op_list.append(sqrt(rate) * a.dag())   \n",
    "    \n",
    "    rate = Gamma_m\n",
    "    if rate > 0.0:\n",
    "        c_op_list.append(sqrt(rate) * b.dag()) \n",
    "\n",
    "    \n",
    "    H0 = H1 + H2 + H3 + H4 + H5 + H6 + H8 + H9 + H7+ H10 + H11 + H12 + H13 + H14\n",
    "    \n",
    "    \n",
    "    H_args = {'H0': H0, 'a': a, 'aDag': a.dag() , 'A' : A , 'w': w}\n",
    "    \n",
    "#     rho = steadystate(H,c_op_list)\n",
    "    \n",
    "    T = 2 * pi / w\n",
    "\n",
    "    U = propagator(Ht, T, c_op_list, H_args)\n",
    "\n",
    "    rho_ss = propagator_steadystate(U)\n",
    "\n",
    "#     rho_a = rho_ss*a\n",
    "#     rho_b = rho_ss*b\n",
    "    rho_c = rho_ss*c\n",
    "\n",
    "    \n",
    "    \n",
    "    return rho_c.tr()\n",
    "\n",
    "\n"
   ]
  },
  {
   "cell_type": "code",
   "execution_count": 9,
   "metadata": {
    "collapsed": false
   },
   "outputs": [
    {
     "name": "stdout",
     "output_type": "stream",
     "text": [
      "X_ZPM = 1.39704864016e-14\n",
      "g0 = 0.0310351802769\n",
      "N_ac = 0.100681009983\n",
      "n_dc =  0.00871969214058\n",
      "E_q = 4.85964425627\n"
     ]
    }
   ],
   "source": [
    "N,M,P = 3, 10 ,10\n",
    "\n",
    "# qubit Cavity parameters\n",
    "Ej_max = 16 \n",
    "Ej = 4 \n",
    "Ec = 0.2 \n",
    "w_nr = 3.5 \n",
    "w_c = 5  \n",
    "Cg = 10e-15 \n",
    "Cc = 1e-12\n",
    "Cb = 50e-15\n",
    "Cnr = 2e-17\n",
    "\n",
    "# mechanical resonator\n",
    "\n",
    "m = (700e-9)*(65e-9)*(100e-9)*2700 \n",
    "Xzpm = sqrt(sc.hbar/(2*m*w_nr*2*pi*1e9))\n",
    "print('X_ZPM =',Xzpm)\n",
    "d0 = 30e-9 \n",
    "g0 = Ec/d0 *Cnr/(Cg+Cb+Cnr)*Xzpm*1e9\n",
    "print('g0 =', g0)\n",
    "\n",
    "# Cavity effect\n",
    "n_ac = Cg /2/sc.e * sqrt(sc.h*w_c*2*pi*1e9/2/Cc)\n",
    "print('N_ac =',n_ac)\n",
    "\n",
    "V_dc = 10\n",
    "\n",
    "n_dc = Cnr*V_dc/2/sc.e*Xzpm*1e9\n",
    "\n",
    "print('n_dc = ',n_dc)\n",
    "\n",
    "d = 0.1 # asymetry \n",
    "\n",
    "A = 0.0003# field aplitude\n",
    "\n",
    "w = 5.001\n",
    "print('E_q =', sqrt(8 * Ec * Ej_max) - Ec)\n",
    "\n"
   ]
  },
  {
   "cell_type": "code",
   "execution_count": null,
   "metadata": {
    "collapsed": false,
    "scrolled": false
   },
   "outputs": [],
   "source": [
    "to = datetime.datetime.now()\n",
    "calc_spectrum_4(N,M,P, Ej, Ec, w_nr, w_c, g0, n_ac, n_dc, A , w)\n",
    "t1 = datetime.datetime.now()\n",
    "t1-to"
   ]
  },
  {
   "cell_type": "code",
   "execution_count": 10,
   "metadata": {
    "collapsed": false
   },
   "outputs": [],
   "source": [
    "w = linspace(4.9,5.2,12) \n",
    "    \n",
    "phi = linspace(0,pi,5)\n",
    "\n",
    "Ej_vec =  Ej_max * abs(cos(phi))*sqrt(1+(d*tan(phi))**2)\n",
    "\n",
    "\n",
    "# a , b = zip(*itertools.product(Ej_vec,w))\n",
    "\n",
    "# energies_CPB = array([CPB(Ec,Ej,N,ng).eigenenergies() for Ej in Ej_vec])\n",
    "# energies = array([hamiltonian(Ec, Ej, N, ng).eigenenergies() for Ej in Ej_vec])\n",
    "# energies = array([calc_spectrum_4(N,M,P, Ej,Ec, w_nr, w_c, g0, n_ac, n_dc).eigenenergies() for Ej in Ej_vec])"
   ]
  },
  {
   "cell_type": "code",
   "execution_count": 11,
   "metadata": {
    "collapsed": false
   },
   "outputs": [
    {
     "ename": "KeyboardInterrupt",
     "evalue": "",
     "output_type": "error",
     "traceback": [
      "\u001b[1;31m---------------------------------------------------------------------------\u001b[0m",
      "\u001b[1;31mKeyboardInterrupt\u001b[0m                         Traceback (most recent call last)",
      "\u001b[1;32m<ipython-input-11-444dfa18e9ff>\u001b[0m in \u001b[0;36m<module>\u001b[1;34m()\u001b[0m\n\u001b[0;32m     41\u001b[0m         \u001b[0mpool\u001b[0m\u001b[1;33m.\u001b[0m\u001b[0mterminate\u001b[0m\u001b[1;33m(\u001b[0m\u001b[1;33m)\u001b[0m\u001b[1;33m\u001b[0m\u001b[0m\n\u001b[0;32m     42\u001b[0m         \u001b[0mpool\u001b[0m\u001b[1;33m.\u001b[0m\u001b[0mjoin\u001b[0m\u001b[1;33m(\u001b[0m\u001b[1;33m)\u001b[0m\u001b[1;33m\u001b[0m\u001b[0m\n\u001b[1;32m---> 43\u001b[1;33m         \u001b[1;32mraise\u001b[0m \u001b[0me\u001b[0m\u001b[1;33m\u001b[0m\u001b[0m\n\u001b[0m\u001b[0;32m     44\u001b[0m     \u001b[0m_update_progress_bar\u001b[0m\u001b[1;33m(\u001b[0m\u001b[1;36m1\u001b[0m\u001b[1;33m)\u001b[0m\u001b[1;33m\u001b[0m\u001b[0m\n\u001b[0;32m     45\u001b[0m \u001b[1;33m\u001b[0m\u001b[0m\n",
      "\u001b[1;32m<ipython-input-11-444dfa18e9ff>\u001b[0m in \u001b[0;36m<module>\u001b[1;34m()\u001b[0m\n\u001b[0;32m     33\u001b[0m         \u001b[1;32mwhile\u001b[0m \u001b[1;32mnot\u001b[0m \u001b[0mall\u001b[0m\u001b[1;33m(\u001b[0m\u001b[1;33m[\u001b[0m\u001b[0mar\u001b[0m\u001b[1;33m.\u001b[0m\u001b[0mready\u001b[0m\u001b[1;33m(\u001b[0m\u001b[1;33m)\u001b[0m \u001b[1;32mfor\u001b[0m \u001b[0mar\u001b[0m \u001b[1;32min\u001b[0m \u001b[0masync_res\u001b[0m\u001b[1;33m]\u001b[0m\u001b[1;33m)\u001b[0m\u001b[1;33m:\u001b[0m\u001b[1;33m\u001b[0m\u001b[0m\n\u001b[0;32m     34\u001b[0m             \u001b[1;32mfor\u001b[0m \u001b[0mar\u001b[0m \u001b[1;32min\u001b[0m \u001b[0masync_res\u001b[0m\u001b[1;33m:\u001b[0m\u001b[1;33m\u001b[0m\u001b[0m\n\u001b[1;32m---> 35\u001b[1;33m                 \u001b[0mar\u001b[0m\u001b[1;33m.\u001b[0m\u001b[0mwait\u001b[0m\u001b[1;33m(\u001b[0m\u001b[0mtimeout\u001b[0m\u001b[1;33m=\u001b[0m\u001b[1;36m0.1\u001b[0m\u001b[1;33m)\u001b[0m\u001b[1;33m\u001b[0m\u001b[0m\n\u001b[0m\u001b[0;32m     36\u001b[0m \u001b[1;33m\u001b[0m\u001b[0m\n\u001b[0;32m     37\u001b[0m         \u001b[0mpool\u001b[0m\u001b[1;33m.\u001b[0m\u001b[0mterminate\u001b[0m\u001b[1;33m(\u001b[0m\u001b[1;33m)\u001b[0m\u001b[1;33m\u001b[0m\u001b[0m\n",
      "\u001b[1;32m/usr/lib/python3.4/multiprocessing/pool.py\u001b[0m in \u001b[0;36mwait\u001b[1;34m(self, timeout)\u001b[0m\n\u001b[0;32m    588\u001b[0m \u001b[1;33m\u001b[0m\u001b[0m\n\u001b[0;32m    589\u001b[0m     \u001b[1;32mdef\u001b[0m \u001b[0mwait\u001b[0m\u001b[1;33m(\u001b[0m\u001b[0mself\u001b[0m\u001b[1;33m,\u001b[0m \u001b[0mtimeout\u001b[0m\u001b[1;33m=\u001b[0m\u001b[1;32mNone\u001b[0m\u001b[1;33m)\u001b[0m\u001b[1;33m:\u001b[0m\u001b[1;33m\u001b[0m\u001b[0m\n\u001b[1;32m--> 590\u001b[1;33m         \u001b[0mself\u001b[0m\u001b[1;33m.\u001b[0m\u001b[0m_event\u001b[0m\u001b[1;33m.\u001b[0m\u001b[0mwait\u001b[0m\u001b[1;33m(\u001b[0m\u001b[0mtimeout\u001b[0m\u001b[1;33m)\u001b[0m\u001b[1;33m\u001b[0m\u001b[0m\n\u001b[0m\u001b[0;32m    591\u001b[0m \u001b[1;33m\u001b[0m\u001b[0m\n\u001b[0;32m    592\u001b[0m     \u001b[1;32mdef\u001b[0m \u001b[0mget\u001b[0m\u001b[1;33m(\u001b[0m\u001b[0mself\u001b[0m\u001b[1;33m,\u001b[0m \u001b[0mtimeout\u001b[0m\u001b[1;33m=\u001b[0m\u001b[1;32mNone\u001b[0m\u001b[1;33m)\u001b[0m\u001b[1;33m:\u001b[0m\u001b[1;33m\u001b[0m\u001b[0m\n",
      "\u001b[1;32m/usr/lib/python3.4/threading.py\u001b[0m in \u001b[0;36mwait\u001b[1;34m(self, timeout)\u001b[0m\n\u001b[0;32m    550\u001b[0m             \u001b[0msignaled\u001b[0m \u001b[1;33m=\u001b[0m \u001b[0mself\u001b[0m\u001b[1;33m.\u001b[0m\u001b[0m_flag\u001b[0m\u001b[1;33m\u001b[0m\u001b[0m\n\u001b[0;32m    551\u001b[0m             \u001b[1;32mif\u001b[0m \u001b[1;32mnot\u001b[0m \u001b[0msignaled\u001b[0m\u001b[1;33m:\u001b[0m\u001b[1;33m\u001b[0m\u001b[0m\n\u001b[1;32m--> 552\u001b[1;33m                 \u001b[0msignaled\u001b[0m \u001b[1;33m=\u001b[0m \u001b[0mself\u001b[0m\u001b[1;33m.\u001b[0m\u001b[0m_cond\u001b[0m\u001b[1;33m.\u001b[0m\u001b[0mwait\u001b[0m\u001b[1;33m(\u001b[0m\u001b[0mtimeout\u001b[0m\u001b[1;33m)\u001b[0m\u001b[1;33m\u001b[0m\u001b[0m\n\u001b[0m\u001b[0;32m    553\u001b[0m             \u001b[1;32mreturn\u001b[0m \u001b[0msignaled\u001b[0m\u001b[1;33m\u001b[0m\u001b[0m\n\u001b[0;32m    554\u001b[0m         \u001b[1;32mfinally\u001b[0m\u001b[1;33m:\u001b[0m\u001b[1;33m\u001b[0m\u001b[0m\n",
      "\u001b[1;32m/usr/lib/python3.4/threading.py\u001b[0m in \u001b[0;36mwait\u001b[1;34m(self, timeout)\u001b[0m\n\u001b[0;32m    291\u001b[0m             \u001b[1;32melse\u001b[0m\u001b[1;33m:\u001b[0m\u001b[1;33m\u001b[0m\u001b[0m\n\u001b[0;32m    292\u001b[0m                 \u001b[1;32mif\u001b[0m \u001b[0mtimeout\u001b[0m \u001b[1;33m>\u001b[0m \u001b[1;36m0\u001b[0m\u001b[1;33m:\u001b[0m\u001b[1;33m\u001b[0m\u001b[0m\n\u001b[1;32m--> 293\u001b[1;33m                     \u001b[0mgotit\u001b[0m \u001b[1;33m=\u001b[0m \u001b[0mwaiter\u001b[0m\u001b[1;33m.\u001b[0m\u001b[0macquire\u001b[0m\u001b[1;33m(\u001b[0m\u001b[1;32mTrue\u001b[0m\u001b[1;33m,\u001b[0m \u001b[0mtimeout\u001b[0m\u001b[1;33m)\u001b[0m\u001b[1;33m\u001b[0m\u001b[0m\n\u001b[0m\u001b[0;32m    294\u001b[0m                 \u001b[1;32melse\u001b[0m\u001b[1;33m:\u001b[0m\u001b[1;33m\u001b[0m\u001b[0m\n\u001b[0;32m    295\u001b[0m                     \u001b[0mgotit\u001b[0m \u001b[1;33m=\u001b[0m \u001b[0mwaiter\u001b[0m\u001b[1;33m.\u001b[0m\u001b[0macquire\u001b[0m\u001b[1;33m(\u001b[0m\u001b[1;32mFalse\u001b[0m\u001b[1;33m)\u001b[0m\u001b[1;33m\u001b[0m\u001b[0m\n",
      "\u001b[1;31mKeyboardInterrupt\u001b[0m: "
     ]
    }
   ],
   "source": [
    "progress_bar = TextProgressBar()\n",
    "    \n",
    "progress_bar.start(len(Ej_vec))\n",
    "nfinished = [0]\n",
    "\n",
    "def _update_progress_bar(x):\n",
    "    nfinished[0] += 1\n",
    "    progress_bar.update(nfinished[0])\n",
    "        \n",
    "results = []        \n",
    "for a in Ej_vec:\n",
    "\n",
    "\n",
    "    try:\n",
    "        pool = mp.Pool(processes=12)\n",
    "        \n",
    "#         task_args = a,z\n",
    "        async_res = [pool.apply_async(calc_spectrum_4,\n",
    "                             (N,\n",
    "                              M,\n",
    "                              P,\n",
    "                              a,\n",
    "                              Ec,\n",
    "                              w_nr,\n",
    "                              w_c,\n",
    "                              g0,\n",
    "                              n_ac,\n",
    "                              n_dc,\n",
    "                              A,\n",
    "                              b)) for b in w]\n",
    "\n",
    "\n",
    "        while not all([ar.ready() for ar in async_res]):\n",
    "            for ar in async_res:\n",
    "                ar.wait(timeout=0.1)\n",
    "\n",
    "        pool.terminate()\n",
    "        pool.join()\n",
    "        results.append([ar.get() for ar in async_res])\n",
    "    except KeyboardInterrupt as e:\n",
    "        pool.terminate()\n",
    "        pool.join()\n",
    "        raise e\n",
    "    _update_progress_bar(1)\n",
    "    \n",
    "progress_bar.finished()\n",
    "\n",
    "\n",
    "\n",
    "# pool = mp.Pool(processes=12)\n",
    "# t0 = time.time()\n",
    "# results1 = [pool.apply_async(calc_spectrum_4,\n",
    "#                              (N,\n",
    "#                               M,\n",
    "#                               P,\n",
    "#                               a1,\n",
    "#                               Ec,\n",
    "#                               w_nr,\n",
    "#                               w_c,\n",
    "#                               g0,\n",
    "#                               n_ac,\n",
    "#                               n_dc,\n",
    "#                               A,\n",
    "#                               b1)) for a1 , b1 in zip(a,b)]\n",
    "\n",
    "\n",
    "# results1 = [pool.apply_async(calc_spectrum_4,\n",
    "#                              (N,\n",
    "#                               M,\n",
    "#                               P,\n",
    "#                               Ej,\n",
    "#                               Ec,\n",
    "#                               w_nr,\n",
    "#                               w_c,\n",
    "#                               g0,\n",
    "#                               n_ac,\n",
    "#                               n_dc,\n",
    "#                               A,\n",
    "#                               w)) for a1 , b1 in zip(a,b)]\n",
    "\n",
    "\n",
    "# t1 = time.time()\n",
    "# print(\"elapsed =\", (t1-t0))\n",
    "\n",
    "\n",
    "# results = [p.get() for p in async_res]\n",
    "\n",
    "\n",
    "\n"
   ]
  },
  {
   "cell_type": "code",
   "execution_count": null,
   "metadata": {
    "collapsed": false
   },
   "outputs": [],
   "source": [
    "# results\n",
    "# qsave(results, 'steadystate')"
   ]
  },
  {
   "cell_type": "code",
   "execution_count": 43,
   "metadata": {
    "collapsed": false
   },
   "outputs": [
    {
     "data": {
      "text/plain": [
       "(5, 12)"
      ]
     },
     "execution_count": 43,
     "metadata": {},
     "output_type": "execute_result"
    }
   ],
   "source": [
    "shape(results)\n",
    "# results"
   ]
  },
  {
   "cell_type": "code",
   "execution_count": 45,
   "metadata": {
    "collapsed": false
   },
   "outputs": [
    {
     "data": {
      "text/plain": [
       "(5, 12)"
      ]
     },
     "execution_count": 45,
     "metadata": {},
     "output_type": "execute_result"
    }
   ],
   "source": [
    "tr = reshape(results,(-1,len(w+1)))\n",
    "shape(tr)\n",
    "# tr"
   ]
  },
  {
   "cell_type": "code",
   "execution_count": 48,
   "metadata": {
    "collapsed": false
   },
   "outputs": [
    {
     "data": {
      "text/plain": [
       "<matplotlib.text.Text at 0x7f4f5bd986a0>"
      ]
     },
     "execution_count": 48,
     "metadata": {},
     "output_type": "execute_result"
    },
    {
     "data": {
      "image/png": "[encoded data removed]",
      "text/plain": [
       "<matplotlib.figure.Figure at 0x7f4f5bbcd860>"
      ]
     },
     "metadata": {},
     "output_type": "display_data"
    }
   ],
   "source": [
    "fig, ax = subplots(1,1, figsize=(16,10))\n",
    "\n",
    "im = ax.pcolor(phi/pi,w,transpose(abs(tr)))#,vmin=0, vmax=1)\n",
    "fig.colorbar(im, ax=ax)\n",
    "# ax[0,0].set_xlim(4.27,4.39)\n",
    "# ax[0,0].set_ylim(P_i,P_f)\n",
    "ax.set_ylabel(r'Tone Frequency (GHz)',fontsize=10)\n",
    "ax.set_xlabel(r'flux $\\phi_0$',fontsize=10)\n",
    "ax.set_title(r'$Tr[\\rho\\sigma_z]$',fontsize=20)"
   ]
  },
  {
   "cell_type": "code",
   "execution_count": 49,
   "metadata": {
    "collapsed": false
   },
   "outputs": [
    {
     "ename": "ValueError",
     "evalue": "x and y must have same first dimension",
     "output_type": "error",
     "traceback": [
      "\u001b[1;31m---------------------------------------------------------------------------\u001b[0m",
      "\u001b[1;31mValueError\u001b[0m                                Traceback (most recent call last)",
      "\u001b[1;32m<ipython-input-49-7f7a8d82aae5>\u001b[0m in \u001b[0;36m<module>\u001b[1;34m()\u001b[0m\n\u001b[0;32m      4\u001b[0m \u001b[1;33m\u001b[0m\u001b[0m\n\u001b[0;32m      5\u001b[0m \u001b[1;32mfor\u001b[0m \u001b[0mn\u001b[0m \u001b[1;32min\u001b[0m \u001b[0mrange\u001b[0m\u001b[1;33m(\u001b[0m\u001b[0mlen\u001b[0m\u001b[1;33m(\u001b[0m\u001b[0menergies\u001b[0m\u001b[1;33m[\u001b[0m\u001b[1;36m0\u001b[0m\u001b[1;33m,\u001b[0m\u001b[1;33m:\u001b[0m\u001b[1;33m]\u001b[0m\u001b[1;33m)\u001b[0m\u001b[1;33m)\u001b[0m\u001b[1;33m:\u001b[0m\u001b[1;33m\u001b[0m\u001b[0m\n\u001b[1;32m----> 6\u001b[1;33m     \u001b[0maxes\u001b[0m\u001b[1;33m.\u001b[0m\u001b[0mplot\u001b[0m\u001b[1;33m(\u001b[0m\u001b[0mphi\u001b[0m\u001b[1;33m/\u001b[0m\u001b[0mpi\u001b[0m\u001b[1;33m,\u001b[0m \u001b[1;33m(\u001b[0m\u001b[0menergies\u001b[0m\u001b[1;33m[\u001b[0m\u001b[1;33m:\u001b[0m\u001b[1;33m,\u001b[0m\u001b[0mn\u001b[0m\u001b[1;33m]\u001b[0m\u001b[1;33m-\u001b[0m\u001b[0menergies\u001b[0m\u001b[1;33m[\u001b[0m\u001b[1;33m:\u001b[0m\u001b[1;33m,\u001b[0m\u001b[1;36m0\u001b[0m\u001b[1;33m]\u001b[0m\u001b[1;33m)\u001b[0m\u001b[1;33m,\u001b[0m\u001b[1;34m'-'\u001b[0m\u001b[1;33m)\u001b[0m\u001b[1;33m\u001b[0m\u001b[0m\n\u001b[0m\u001b[0;32m      7\u001b[0m \u001b[1;31m#     axes.plot(phi/pi, (energies[:,n]-energies[:,0])/2,'--')\u001b[0m\u001b[1;33m\u001b[0m\u001b[1;33m\u001b[0m\u001b[0m\n\u001b[0;32m      8\u001b[0m \u001b[1;33m\u001b[0m\u001b[0m\n",
      "\u001b[1;32m/usr/lib/python3/dist-packages/matplotlib/axes.py\u001b[0m in \u001b[0;36mplot\u001b[1;34m(self, *args, **kwargs)\u001b[0m\n\u001b[0;32m   4137\u001b[0m         \u001b[0mlines\u001b[0m \u001b[1;33m=\u001b[0m \u001b[1;33m[\u001b[0m\u001b[1;33m]\u001b[0m\u001b[1;33m\u001b[0m\u001b[0m\n\u001b[0;32m   4138\u001b[0m \u001b[1;33m\u001b[0m\u001b[0m\n\u001b[1;32m-> 4139\u001b[1;33m         \u001b[1;32mfor\u001b[0m \u001b[0mline\u001b[0m \u001b[1;32min\u001b[0m \u001b[0mself\u001b[0m\u001b[1;33m.\u001b[0m\u001b[0m_get_lines\u001b[0m\u001b[1;33m(\u001b[0m\u001b[1;33m*\u001b[0m\u001b[0margs\u001b[0m\u001b[1;33m,\u001b[0m \u001b[1;33m**\u001b[0m\u001b[0mkwargs\u001b[0m\u001b[1;33m)\u001b[0m\u001b[1;33m:\u001b[0m\u001b[1;33m\u001b[0m\u001b[0m\n\u001b[0m\u001b[0;32m   4140\u001b[0m             \u001b[0mself\u001b[0m\u001b[1;33m.\u001b[0m\u001b[0madd_line\u001b[0m\u001b[1;33m(\u001b[0m\u001b[0mline\u001b[0m\u001b[1;33m)\u001b[0m\u001b[1;33m\u001b[0m\u001b[0m\n\u001b[0;32m   4141\u001b[0m             \u001b[0mlines\u001b[0m\u001b[1;33m.\u001b[0m\u001b[0mappend\u001b[0m\u001b[1;33m(\u001b[0m\u001b[0mline\u001b[0m\u001b[1;33m)\u001b[0m\u001b[1;33m\u001b[0m\u001b[0m\n",
      "\u001b[1;32m/usr/lib/python3/dist-packages/matplotlib/axes.py\u001b[0m in \u001b[0;36m_grab_next_args\u001b[1;34m(self, *args, **kwargs)\u001b[0m\n\u001b[0;32m    317\u001b[0m                 \u001b[1;32mreturn\u001b[0m\u001b[1;33m\u001b[0m\u001b[0m\n\u001b[0;32m    318\u001b[0m             \u001b[1;32mif\u001b[0m \u001b[0mlen\u001b[0m\u001b[1;33m(\u001b[0m\u001b[0mremaining\u001b[0m\u001b[1;33m)\u001b[0m \u001b[1;33m<=\u001b[0m \u001b[1;36m3\u001b[0m\u001b[1;33m:\u001b[0m\u001b[1;33m\u001b[0m\u001b[0m\n\u001b[1;32m--> 319\u001b[1;33m                 \u001b[1;32mfor\u001b[0m \u001b[0mseg\u001b[0m \u001b[1;32min\u001b[0m \u001b[0mself\u001b[0m\u001b[1;33m.\u001b[0m\u001b[0m_plot_args\u001b[0m\u001b[1;33m(\u001b[0m\u001b[0mremaining\u001b[0m\u001b[1;33m,\u001b[0m \u001b[0mkwargs\u001b[0m\u001b[1;33m)\u001b[0m\u001b[1;33m:\u001b[0m\u001b[1;33m\u001b[0m\u001b[0m\n\u001b[0m\u001b[0;32m    320\u001b[0m                     \u001b[1;32myield\u001b[0m \u001b[0mseg\u001b[0m\u001b[1;33m\u001b[0m\u001b[0m\n\u001b[0;32m    321\u001b[0m                 \u001b[1;32mreturn\u001b[0m\u001b[1;33m\u001b[0m\u001b[0m\n",
      "\u001b[1;32m/usr/lib/python3/dist-packages/matplotlib/axes.py\u001b[0m in \u001b[0;36m_plot_args\u001b[1;34m(self, tup, kwargs)\u001b[0m\n\u001b[0;32m    295\u001b[0m             \u001b[0mx\u001b[0m \u001b[1;33m=\u001b[0m \u001b[0mnp\u001b[0m\u001b[1;33m.\u001b[0m\u001b[0marange\u001b[0m\u001b[1;33m(\u001b[0m\u001b[0my\u001b[0m\u001b[1;33m.\u001b[0m\u001b[0mshape\u001b[0m\u001b[1;33m[\u001b[0m\u001b[1;36m0\u001b[0m\u001b[1;33m]\u001b[0m\u001b[1;33m,\u001b[0m \u001b[0mdtype\u001b[0m\u001b[1;33m=\u001b[0m\u001b[0mfloat\u001b[0m\u001b[1;33m)\u001b[0m\u001b[1;33m\u001b[0m\u001b[0m\n\u001b[0;32m    296\u001b[0m \u001b[1;33m\u001b[0m\u001b[0m\n\u001b[1;32m--> 297\u001b[1;33m         \u001b[0mx\u001b[0m\u001b[1;33m,\u001b[0m \u001b[0my\u001b[0m \u001b[1;33m=\u001b[0m \u001b[0mself\u001b[0m\u001b[1;33m.\u001b[0m\u001b[0m_xy_from_xy\u001b[0m\u001b[1;33m(\u001b[0m\u001b[0mx\u001b[0m\u001b[1;33m,\u001b[0m \u001b[0my\u001b[0m\u001b[1;33m)\u001b[0m\u001b[1;33m\u001b[0m\u001b[0m\n\u001b[0m\u001b[0;32m    298\u001b[0m \u001b[1;33m\u001b[0m\u001b[0m\n\u001b[0;32m    299\u001b[0m         \u001b[1;32mif\u001b[0m \u001b[0mself\u001b[0m\u001b[1;33m.\u001b[0m\u001b[0mcommand\u001b[0m \u001b[1;33m==\u001b[0m \u001b[1;34m'plot'\u001b[0m\u001b[1;33m:\u001b[0m\u001b[1;33m\u001b[0m\u001b[0m\n",
      "\u001b[1;32m/usr/lib/python3/dist-packages/matplotlib/axes.py\u001b[0m in \u001b[0;36m_xy_from_xy\u001b[1;34m(self, x, y)\u001b[0m\n\u001b[0;32m    237\u001b[0m         \u001b[0my\u001b[0m \u001b[1;33m=\u001b[0m \u001b[0mnp\u001b[0m\u001b[1;33m.\u001b[0m\u001b[0matleast_1d\u001b[0m\u001b[1;33m(\u001b[0m\u001b[0my\u001b[0m\u001b[1;33m)\u001b[0m\u001b[1;33m\u001b[0m\u001b[0m\n\u001b[0;32m    238\u001b[0m         \u001b[1;32mif\u001b[0m \u001b[0mx\u001b[0m\u001b[1;33m.\u001b[0m\u001b[0mshape\u001b[0m\u001b[1;33m[\u001b[0m\u001b[1;36m0\u001b[0m\u001b[1;33m]\u001b[0m \u001b[1;33m!=\u001b[0m \u001b[0my\u001b[0m\u001b[1;33m.\u001b[0m\u001b[0mshape\u001b[0m\u001b[1;33m[\u001b[0m\u001b[1;36m0\u001b[0m\u001b[1;33m]\u001b[0m\u001b[1;33m:\u001b[0m\u001b[1;33m\u001b[0m\u001b[0m\n\u001b[1;32m--> 239\u001b[1;33m             \u001b[1;32mraise\u001b[0m \u001b[0mValueError\u001b[0m\u001b[1;33m(\u001b[0m\u001b[1;34m\"x and y must have same first dimension\"\u001b[0m\u001b[1;33m)\u001b[0m\u001b[1;33m\u001b[0m\u001b[0m\n\u001b[0m\u001b[0;32m    240\u001b[0m         \u001b[1;32mif\u001b[0m \u001b[0mx\u001b[0m\u001b[1;33m.\u001b[0m\u001b[0mndim\u001b[0m \u001b[1;33m>\u001b[0m \u001b[1;36m2\u001b[0m \u001b[1;32mor\u001b[0m \u001b[0my\u001b[0m\u001b[1;33m.\u001b[0m\u001b[0mndim\u001b[0m \u001b[1;33m>\u001b[0m \u001b[1;36m2\u001b[0m\u001b[1;33m:\u001b[0m\u001b[1;33m\u001b[0m\u001b[0m\n\u001b[0;32m    241\u001b[0m             \u001b[1;32mraise\u001b[0m \u001b[0mValueError\u001b[0m\u001b[1;33m(\u001b[0m\u001b[1;34m\"x and y can be no greater than 2-D\"\u001b[0m\u001b[1;33m)\u001b[0m\u001b[1;33m\u001b[0m\u001b[0m\n",
      "\u001b[1;31mValueError\u001b[0m: x and y must have same first dimension"
     ]
    },
    {
     "data": {
      "image/png": "[encoded data removed]",
      "text/plain": [
       "<matplotlib.figure.Figure at 0x7f4f5c04fa58>"
      ]
     },
     "metadata": {},
     "output_type": "display_data"
    }
   ],
   "source": [
    "fig, axes = subplots(1,1, figsize=(16,10))\n",
    "x_inf = 4.9\n",
    "x_sup = 5.2\n",
    "\n",
    "for n in range(len(energies[0,:])):\n",
    "    axes.plot(phi/pi, (energies[:,n]-energies[:,0]),'-')\n",
    "#     axes.plot(phi/pi, (energies[:,n]-energies[:,0])/2,'--')\n",
    "    \n",
    "#     if n < 4:\n",
    "#         axes.text(.2,energies[0,n]-energies[0,0],r'|%s>'%(n),fontsize=20)\n",
    "    \n",
    "axes.set_title('Full')\n",
    "axes.set_ylim(x_inf, x_sup)\n",
    "axes.set_xlabel(r'$\\phi$', fontsize=18)\n",
    "axes.set_ylabel(r'Cavity Tone Frequency GHz', fontsize=18)\n",
    "axes.hlines(w_nr,.2,.4,linestyles='dashed')\n",
    "axes.hlines(w_c,.2,.4,linestyles='dashed')\n",
    "axes.vlines(0.33,0,10,linestyles='dashed')\n",
    "\n",
    "im = axes.pcolor(phi/pi,w,transpose(log(abs(tr))))#,vmin=0, vmax=1)\n",
    "fig.colorbar(im, ax=axes)\n",
    "# ax[0,0].set_xlim(4.27,4.39)\n",
    "# ax[0,0].set_ylim(P_i,P_f)\n",
    "# axes.set_ylabel(r'Qubit Tone Power(dBm)',fontsize=10)\n",
    "# axes.set_xlabel(r'Qubit Tone Frequency (GHz)',fontsize=10)\n",
    "# axes.set_title(r'$Tr[\\rho\\sigma_z]$',fontsize=20)\n"
   ]
  },
  {
   "cell_type": "code",
   "execution_count": null,
   "metadata": {
    "collapsed": true
   },
   "outputs": [],
   "source": [
    "pool = mp.Pool(processes=12)\n",
    "t0 = time.time()\n",
    "results1 = [pool.apply_async(calc_spectrum_4,\n",
    "                             (N,\n",
    "                              M,\n",
    "                              P,\n",
    "                              a1,\n",
    "                              Ec,\n",
    "                              w_nr,\n",
    "                              w_c,\n",
    "                              g0,\n",
    "                              n_ac,\n",
    "                              n_dc,\n",
    "                              A,\n",
    "                              b1)) for a1 , b1 in zip(a,b)]\n",
    "\n",
    "\n",
    "# results1 = [pool.apply_async(calc_spectrum_4,\n",
    "#                              (N,\n",
    "#                               M,\n",
    "#                               P,\n",
    "#                               Ej,\n",
    "#                               Ec,\n",
    "#                               w_nr,\n",
    "#                               w_c,\n",
    "#                               g0,\n",
    "#                               n_ac,\n",
    "#                               n_dc,\n",
    "#                               A,\n",
    "#                               w)) for a1 , b1 in zip(a,b)]\n",
    "\n",
    "\n",
    "t1 = time.time()\n",
    "print(\"elapsed =\", (t1-t0))\n",
    "\n",
    "\n",
    "results = [p.get() for p in results1]\n",
    "\n"
   ]
  },
  {
   "cell_type": "markdown",
   "metadata": {
    "collapsed": true
   },
   "source": [
    "# Device Data \n"
   ]
  },
  {
   "cell_type": "code",
   "execution_count": 8,
   "metadata": {
    "collapsed": false
   },
   "outputs": [
    {
     "name": "stdout",
     "output_type": "stream",
     "text": [
      "Qubit max frequency:  4.28865833702 GHz\n",
      "<n> thermal:  0.0443136288802\n"
     ]
    }
   ],
   "source": [
    "Ej = 11.55 # Maximum Josephson Energy\n",
    "\n",
    "Ec = 0.22 # Capacitive Energy\n",
    "\n",
    "w_ge_max = sqrt(8*Ec*Ej)-Ec\n",
    "print('Qubit max frequency: ',w_ge_max, 'GHz')\n",
    "\n",
    "\n",
    "f = w_ge_max *1e9 # GHz\n",
    "T = 50e-3 # K\n",
    "\n",
    "n_th_a = 1/(exp(sc.h*f/(sc.k*T)-1))\n",
    "\n",
    "print('<n> thermal: ',n_th_a)\n",
    "\n"
   ]
  },
  {
   "cell_type": "code",
   "execution_count": 96,
   "metadata": {
    "collapsed": false
   },
   "outputs": [],
   "source": [
    "a1, b1 = zip(*itertools.product(A_Q, Delta_Q))"
   ]
  },
  {
   "cell_type": "markdown",
   "metadata": {},
   "source": [
    "## Simulation "
   ]
  },
  {
   "cell_type": "code",
   "execution_count": 97,
   "metadata": {
    "collapsed": false
   },
   "outputs": [
    {
     "name": "stdout",
     "output_type": "stream",
     "text": [
      "elapsed = 82.38939642906189\n"
     ]
    }
   ],
   "source": [
    "pool = mp.Pool(processes=12)\n",
    "t0 = time.time()\n",
    "results1 = [pool.apply_async(calc_spectrum_3,\n",
    "                            (N,\n",
    "                             M,\n",
    "                             Delta_C,\n",
    "                             Delta_NR,\n",
    "                             y,\n",
    "                             g,\n",
    "                             lamb,\n",
    "                             A_C,\n",
    "                             x,   \n",
    "                             A_NR,\n",
    "                             kappa_n,\n",
    "                             gamma_rel,\n",
    "                             gamma_dep,\n",
    "                             n_th_a)) for x , y in zip(a1,b1)]\n",
    "\n",
    "t1 = time.time()\n",
    "print(\"elapsed =\", (t1-t0))\n",
    "# results2 = [pool.apply_async(calc_spectrum_3,\n",
    "#                             (N,\n",
    "#                              M,\n",
    "#                              Delta_C,\n",
    "#                              Delta_NR,\n",
    "#                              Delta_Q,\n",
    "#                              g,\n",
    "#                              lamb,\n",
    "#                              A_C,\n",
    "#                              A_Q   \n",
    "#                              A_NR,\n",
    "#                              kappa_n,\n",
    "#                              gamma_rel,\n",
    "#                              gamma_dep,\n",
    "#                              n_th_a)) for x , y in zip(a1,b1)]\n",
    "\n",
    "results = [p.get() for p in results1]\n",
    "\n",
    "\n"
   ]
  },
  {
   "cell_type": "code",
   "execution_count": null,
   "metadata": {
    "collapsed": false
   },
   "outputs": [],
   "source": [
    "p"
   ]
  },
  {
   "cell_type": "code",
   "execution_count": 98,
   "metadata": {
    "collapsed": false
   },
   "outputs": [
    {
     "data": {
      "text/plain": [
       "(10000, 3)"
      ]
     },
     "execution_count": 98,
     "metadata": {},
     "output_type": "execute_result"
    }
   ],
   "source": [
    "shape(results)"
   ]
  },
  {
   "cell_type": "code",
   "execution_count": 99,
   "metadata": {
    "collapsed": false
   },
   "outputs": [],
   "source": [
    "Tr_sz = reshape(array(results)[:,0],(-1,len(Delta_Q+1)))\n",
    "Tr_a = reshape(array(results)[:,1],(-1,len(Delta_Q+1)))\n",
    "Tr_b = reshape(array(results)[:,2],(-1,len(Delta_Q+1)))"
   ]
  },
  {
   "cell_type": "code",
   "execution_count": 100,
   "metadata": {
    "collapsed": false
   },
   "outputs": [
    {
     "data": {
      "text/plain": [
       "<matplotlib.text.Text at 0x7fc1d7ee8080>"
      ]
     },
     "execution_count": 100,
     "metadata": {},
     "output_type": "execute_result"
    },
    {
     "data": {
      "image/png": "[encoded data removed]",
      "text/plain": [
       "<matplotlib.figure.Figure at 0x7fc2156e14a8>"
      ]
     },
     "metadata": {},
     "output_type": "display_data"
    }
   ],
   "source": [
    "fig, ax = subplots(2,2, figsize=(16,10))\n",
    "\n",
    "im = ax[0,0].pcolor(  w_s/2/pi,P_Q,abs(Tr_sz))#,vmin=0, vmax=1)\n",
    "fig.colorbar(im, ax=ax[0,0])\n",
    "# ax[0,0].set_xlim(4.27,4.39)\n",
    "# ax[0,0].set_ylim(P_i,P_f)\n",
    "ax[0,0].set_ylabel(r'Qubit Tone Power(dBm)',fontsize=10)\n",
    "ax[0,0].set_xlabel(r'Qubit Tone Frequency (GHz)',fontsize=10)\n",
    "ax[0,0].set_title(r'$Tr[\\rho\\sigma_z]$',fontsize=20)\n",
    "\n",
    "\n",
    "im2 = ax[0,1].pcolor(w_s/2/pi,P_Q,abs(Tr_a))#,vmin=0, vmax=1)\n",
    "fig.colorbar(im2, ax=ax[0,1])\n",
    "# ax[0,1].set_ylim(P_i,P_f)\n",
    "# ax[0,1].set_xlim(4.27,4.39)\n",
    "ax[0,1].set_ylabel(r'Qubit Tone Power(dBm)',fontsize=10)\n",
    "ax[0,1].set_xlabel(r'Qubit Tone Frequency (GHz)', fontsize=10)\n",
    "ax[0,1].set_title(r'$Tr[\\rho {a}]$',fontsize=20)\n",
    "\n",
    "im3 = ax[1,0].pcolor(w_s/2/pi,P_Q,abs(Tr_b))#,vmin=0, vmax=1)\n",
    "fig.colorbar(im2, ax=ax[1,0])\n",
    "# ax[1,0].set_ylim(P_i,P_f)\n",
    "# ax[1,0].set_xlim(4.27,4.39)\n",
    "ax[1,0].set_ylabel(r'Qubit Tone Power(dBm)',fontsize=10)\n",
    "ax[1,0].set_xlabel(r'Qubit Tone Frequency (GHz)', fontsize=10)\n",
    "ax[1,0].set_title(r'$Tr[\\rho (b)]$',fontsize=20)"
   ]
  },
  {
   "cell_type": "markdown",
   "metadata": {},
   "source": [
    "##Simulation 2"
   ]
  },
  {
   "cell_type": "code",
   "execution_count": 72,
   "metadata": {
    "collapsed": false
   },
   "outputs": [],
   "source": [
    "Q_c = 20000\n",
    "Q_l = Q_c\n",
    "\n",
    "\n",
    "N = 5\n",
    "M = 5\n",
    "\n",
    "\n",
    "g = 0.1\n",
    "lamb = 0.1\n",
    "\n",
    "\n",
    "\n",
    "kappa_n = 0.0002\n",
    "gamma_rel = 0.0002\n",
    "gamma_dep = 0.001\n",
    "\n",
    "\n",
    "# Cavity\n",
    "w_c = 5 * (2 * pi)\n",
    "w_d = (2 * pi) * linspace(4.9,5.1,30)# 4.995 # 0.006283185307175643\n",
    "P_C = -120# linspace(-60,-150,20)\n",
    "\n",
    "# Nanoresonator\n",
    "w_NR = 3 * (2 * pi)\n",
    "w_p = 2.9996 # (2 * pi) * linspace(2.95,3.05,50)\n",
    "P_NR = -100\n",
    "\n",
    "\n",
    "# Qubit\n",
    "w_q =  3.1 * (2 * pi)\n",
    "w_s = (2 * pi) *linspace(2.8,3.3,300)\n",
    "P_Q = -100 # linspace(-50,-150,50)\n",
    "\n"
   ]
  },
  {
   "cell_type": "code",
   "execution_count": 73,
   "metadata": {
    "collapsed": true
   },
   "outputs": [],
   "source": [
    "Delta_C = Delta(w_c, w_d) \n",
    "\n",
    "Delta_NR = Delta(w_NR, w_p)\n",
    "\n",
    "Delta_Q = Delta(w_q, w_s)\n",
    "# print(Delta_C,Delta_NR,Delta_Q) "
   ]
  },
  {
   "cell_type": "code",
   "execution_count": 74,
   "metadata": {
    "collapsed": true
   },
   "outputs": [],
   "source": [
    "A_C = Gamma(P_C,Q_c,Q_l,kappa_n,w_c)\n",
    "\n",
    "A_Q = Gamma(P_Q,Q_c,Q_l,kappa_n,w_q)\n",
    "\n",
    "A_NR = Gamma(P_NR,Q_c,Q_l,kappa_n,w_NR)\n",
    "# print(r'A_C = ', A_C, '\\n\\nA_Q = ', A_Q, '\\n\\nA_NR = ' , A_NR) "
   ]
  },
  {
   "cell_type": "code",
   "execution_count": 77,
   "metadata": {
    "collapsed": false
   },
   "outputs": [],
   "source": [
    "a1, b1 = zip(*itertools.product(Delta_Q, Delta_C))"
   ]
  },
  {
   "cell_type": "code",
   "execution_count": 78,
   "metadata": {
    "collapsed": false
   },
   "outputs": [
    {
     "name": "stdout",
     "output_type": "stream",
     "text": [
      "elapsed = 6.746828556060791\n"
     ]
    }
   ],
   "source": [
    "pool = mp.Pool(processes=12)\n",
    "t0 = time.time()\n",
    "results1 = [pool.apply_async(calc_spectrum_3,\n",
    "                            (N,\n",
    "                             M,\n",
    "                             y,\n",
    "                             Delta_NR,\n",
    "                             x,\n",
    "                             g,\n",
    "                             lamb,\n",
    "                             A_C,\n",
    "                             A_Q,   \n",
    "                             A_NR,\n",
    "                             kappa_n,\n",
    "                             gamma_rel,\n",
    "                             gamma_dep,\n",
    "                             n_th_a)) for x , y in zip(a1,b1)]\n",
    "\n",
    "t1 = time.time()\n",
    "print(\"elapsed =\", (t1-t0))\n",
    "# results2 = [pool.apply_async(calc_spectrum_3,\n",
    "#                             (N,\n",
    "#                              M,\n",
    "#                              Delta_C,\n",
    "#                              Delta_NR,\n",
    "#                              Delta_Q,\n",
    "#                              g,\n",
    "#                              lamb,\n",
    "#                              A_C,\n",
    "#                              A_Q   \n",
    "#                              A_NR,\n",
    "#                              kappa_n,\n",
    "#                              gamma_rel,\n",
    "#                              gamma_dep,\n",
    "#                              n_th_a)) for x , y in zip(a1,b1)]\n",
    "\n",
    "results = [p.get() for p in results1]\n",
    "\n",
    "\n",
    "\n"
   ]
  },
  {
   "cell_type": "code",
   "execution_count": 79,
   "metadata": {
    "collapsed": false
   },
   "outputs": [
    {
     "data": {
      "text/plain": [
       "(9000, 3)"
      ]
     },
     "execution_count": 79,
     "metadata": {},
     "output_type": "execute_result"
    }
   ],
   "source": [
    "shape(results)"
   ]
  },
  {
   "cell_type": "code",
   "execution_count": 80,
   "metadata": {
    "collapsed": false
   },
   "outputs": [],
   "source": [
    "Tr_sz = reshape(array(results)[:,0],(-1,len(Delta_C+1)))\n",
    "Tr_a = reshape(array(results)[:,1],(-1,len(Delta_C+1)))\n",
    "Tr_b = reshape(array(results)[:,2],(-1,len(Delta_C+1)))"
   ]
  },
  {
   "cell_type": "code",
   "execution_count": 83,
   "metadata": {
    "collapsed": false
   },
   "outputs": [
    {
     "data": {
      "text/plain": [
       "<matplotlib.text.Text at 0x7fc2153fff98>"
      ]
     },
     "execution_count": 83,
     "metadata": {},
     "output_type": "execute_result"
    },
    {
     "data": {
      "image/png": "[encoded data removed]",
      "text/plain": [
       "<matplotlib.figure.Figure at 0x7fc2156f7ba8>"
      ]
     },
     "metadata": {},
     "output_type": "display_data"
    }
   ],
   "source": [
    "fig, ax = subplots(2,2, figsize=(16,10))\n",
    "\n",
    "im = ax[0,0].pcolor(  w_d/2/pi,w_s/2/pi,abs(Tr_sz))#,vmin=0, vmax=1)\n",
    "fig.colorbar(im, ax=ax[0,0])\n",
    "# ax[0,0].set_xlim(4.27,4.39)\n",
    "# ax[0,0].set_ylim(P_i,P_f)\n",
    "ax[0,0].set_ylabel(r'Qubit Tone Power(dBm)',fontsize=10)\n",
    "ax[0,0].set_xlabel(r'Qubit Tone Frequency (GHz)',fontsize=10)\n",
    "ax[0,0].set_title(r'$Tr[\\rho\\sigma_z]$',fontsize=20)\n",
    "\n",
    "\n",
    "im2 = ax[0,1].pcolor(w_d/2/pi,w_s/2/pi,abs(Tr_a))#,vmin=0, vmax=1)\n",
    "fig.colorbar(im2, ax=ax[0,1])\n",
    "# ax[0,1].set_ylim(P_i,P_f)\n",
    "# ax[0,1].set_xlim(4.27,4.39)\n",
    "ax[0,1].set_ylabel(r'Qubit Tone Power(dBm)',fontsize=10)\n",
    "ax[0,1].set_xlabel(r'Qubit Tone Frequency (GHz)', fontsize=10)\n",
    "ax[0,1].set_title(r'$Tr[\\rho {a}]$',fontsize=20)\n",
    "\n",
    "im3 = ax[1,0].pcolor(w_d/2/pi,w_s/2/pi,abs(Tr_b))#,vmin=0, vmax=1)\n",
    "fig.colorbar(im2, ax=ax[1,0])\n",
    "# ax[1,0].set_ylim(P_i,P_f)\n",
    "# ax[1,0].set_xlim(4.27,4.39)\n",
    "ax[1,0].set_ylabel(r'Qubit Tone Power(dBm)',fontsize=10)\n",
    "ax[1,0].set_xlabel(r'Qubit Tone Frequency (GHz)', fontsize=10)\n",
    "ax[1,0].set_title(r'$Tr[\\rho (b)]$',fontsize=20)"
   ]
  },
  {
   "cell_type": "code",
   "execution_count": null,
   "metadata": {
    "collapsed": true
   },
   "outputs": [],
   "source": []
  }
 ],
 "metadata": {
  "kernelspec": {
   "display_name": "Python 3",
   "language": "python",
   "name": "python3"
  },
  "language_info": {
   "codemirror_mode": {
    "name": "ipython",
    "version": 3
   },
   "file_extension": ".py",
   "mimetype": "text/x-python",
   "name": "python",
   "nbconvert_exporter": "python",
   "pygments_lexer": "ipython3",
   "version": "3.4.0"
  }
 },
 "nbformat": 4,
 "nbformat_minor": 0
}
