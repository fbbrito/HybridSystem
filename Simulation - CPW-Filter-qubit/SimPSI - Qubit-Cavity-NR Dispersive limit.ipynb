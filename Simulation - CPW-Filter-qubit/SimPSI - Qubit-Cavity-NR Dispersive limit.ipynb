{
 "cells": [
  {
   "cell_type": "markdown",
   "metadata": {},
   "source": [
    "# Symbolic derivation qubit-cavity Hamiltonian"
   ]
  },
  {
   "cell_type": "markdown",
   "metadata": {},
   "source": [
    "<style>\n",
    "p {\n",
    "    font-family: \"Liberation Serif\", serif;\n",
    "    font-size: 12pt;\n",
    "}\n",
    "</style>"
   ]
  },
  {
   "cell_type": "markdown",
   "metadata": {},
   "source": [
    "\n",
    "Based on: J. R. Johansson (robert@riken.jp), [http://jrjohansson.github.io](http://jrjohansson.github.io), and Eunjong Kim."
   ]
  },
  {
   "cell_type": "markdown",
   "metadata": {},
   "source": [
    "## Setup modules"
   ]
  },
  {
   "cell_type": "code",
   "execution_count": 1,
   "metadata": {
    "collapsed": false
   },
   "outputs": [],
   "source": [
    "from sympy import *\n",
    "init_printing()"
   ]
  },
  {
   "cell_type": "code",
   "execution_count": 2,
   "metadata": {
    "collapsed": false
   },
   "outputs": [],
   "source": [
    "from sympsi import *\n",
    "from sympsi.boson import *\n",
    "from sympsi.pauli import *"
   ]
  },
  {
   "cell_type": "markdown",
   "metadata": {},
   "source": [
    "## The Jaynes-Cummings model"
   ]
  },
  {
   "cell_type": "markdown",
   "metadata": {},
   "source": [
    "The [Jaynes-Cummings model](http://en.wikipedia.org/wiki/Jaynes%E2%80%93Cummings_model) is one of the most elementary quantum mechanical models light-matter interaction. It describes a single two-level atom that interacts with a single harmonic-oscillator mode of a electromagnetic cavity.\n",
    "\n",
    "The Hamiltonian for a two-level system in its eigenbasis can be written as\n",
    "\n",
    "$$\n",
    "H = \\frac{1}{2}\\omega_q \\sigma_z\n",
    "$$\n",
    "\n",
    "and the Hamiltonian of a quantum harmonic oscillator (cavity or nanomechanical resonator, NR) is\n",
    "\n",
    "$$\n",
    "H = \\hbar\\omega_r (a^\\dagger a + 1/2)\n",
    "$$\n",
    "\n",
    "$$\n",
    "H = \\hbar\\omega_{NR} (b^\\dagger b + 1/2)\n",
    "$$\n",
    "\n",
    "The atom interacts with the electromagnetic field produced by the cavity (NR) mode $a + a^\\dagger$ ($b + b^\\dagger$) through its dipole moment. The dipole-transition operators is $\\sigma_x$ (which cause a transition from the two dipole states of the atom). The combined atom-cavity Hamiltonian can therefore be written in the form\n",
    "\n",
    "$$\n",
    "H = \n",
    "\\hbar \\omega_r (a^\\dagger a + 1/2)\n",
    "+\n",
    "\\hbar \\omega_{NR} (b^\\dagger b + 1/2)\n",
    "+ \\frac{1}{2}\\hbar\\Omega\\sigma_z \n",
    "+\n",
    "\\hbar\n",
    "\\sigma_x \\left( g(a + a^\\dagger)\n",
    "+\n",
    "\\lambda(b + b^\\dagger)\\right)\n",
    "$$\n",
    "\n",
    "\n"
   ]
  },
  {
   "cell_type": "markdown",
   "metadata": {},
   "source": [
    "Although the Jaynes-Cumming Hamiltonian allow us to evolve the given initial state according to the Schrödinger Equation, in an experiment we would like to predicte the response of the coupled cavity-NR-qubit system under the influence of driving fields for the cavity and qubit, and also account for the effects of dissipation and dephasing (not treated here)\n",
    "\n",
    "The external coherent-state input may be incorporated in the Jaynes-Cummings Hamiltonian by addition of terms involving the amplitude of the driving field $\\vec{E_d} \\left(\\vec{E_s}\\right)$ and it's frequency $\\omega_d\\left(\\omega_s\\right)$\n",
    "\n",
    "$$\n",
    "H_{cavity} = \n",
    "E_d \\left(e^{i\\omega_dt}a +e^{-i\\omega_dt}a^\\dagger\\right)\n",
    "$$\n",
    "\n",
    "$$\n",
    "H_{qubit} = \n",
    "E_s \\left(e^{i\\omega_st}\\sigma_- +e^{-i\\omega_st}\\sigma_+\\right)\n",
    "$$\n",
    "\n",
    "$$\n",
    "H_{NR} = \n",
    "E_p \\left(e^{i\\omega_st}b +e^{-i\\omega_st}b^\\dagger\\right)\n",
    "$$"
   ]
  },
  {
   "cell_type": "markdown",
   "metadata": {},
   "source": [
    "To obtain the Jaynes-Cumming Hamiltonian \n",
    "\n",
    "$$\n",
    "?\n",
    "H = \n",
    "\\hbar\\omega_r (a^\\dagger a + 1/2)\n",
    "%-\\frac{1}{2}\\Delta\\sigma_x \n",
    "+ \\frac{1}{2}\\hbar\\Omega\\sigma_z \n",
    "+\n",
    "\\hbar\n",
    "\\sigma_x \\left( g(a + a^\\dagger)\n",
    "+\n",
    "\\lambda(b + b^\\dagger)\\right)\n",
    "$$\n",
    "\n",
    "we also need to perform a rotating-wave approximation which simplifies the interaction part of the Hamiltonian. In the following we will begin with looking at how these two Hamiltonians are related.\n",
    "\n",
    "To represent the atom-cavity Hamiltonian in SymPy we creates an instances of the operator classes `BosonOp` and `SigmaX`, `SigmaY`, and `SigmaZ`, and use these to construct the Hamiltonian (we work in units where $\\hbar = 1$)."
   ]
  },
  {
   "cell_type": "code",
   "execution_count": 3,
   "metadata": {
    "collapsed": false
   },
   "outputs": [],
   "source": [
    "# CPW, qubit and NR energies\n",
    "omega_r, omega_q, omega_nr = symbols(\"omega_r, omega_q, omega_{NR}\") \n",
    "# Coupling CPW-qubit, NR_qubit\n",
    "g, L, chi, eps = symbols(\"g, lambda, chi, epsilon\")\n",
    "# Detuning \n",
    "\n",
    "# Drives and detunnings\n",
    "\n",
    "Delta_d, Delta_s, Delta_p  = symbols(\" Delta_d, Delta_s, Delta_p \")\n",
    "\n",
    "A, B, C = symbols(\"A,B,C\") # Electric field amplitude\n",
    "\n",
    "omega_d, omega_s, omega_p = symbols(\"omega_d, omega_s, omega_p\") # drive frequencies\n",
    "\n",
    "# Detunning CPW-qubit, NR-qubit\n",
    "\n",
    "Delta_CPW, Delta_NR = symbols(\"Delta_{CPW},Delta_{NR}\")\n",
    "\n",
    "# auxilary variables\n",
    "\n",
    "y, x, t, Hsym = symbols(\"x, y, t, H \") \n",
    "\n",
    "Delta_SP, Delta_SD = symbols(\"Delta_{SP},Delta_{SD}\")"
   ]
  },
  {
   "cell_type": "code",
   "execution_count": 4,
   "metadata": {
    "collapsed": false
   },
   "outputs": [],
   "source": [
    "# omega_r, omega_q, g, Delta_d, Delta_s, t, x, chi, Hsym = symbols(\"omega_r, omega_q, g, Delta_d, Delta_s, t, x, chi, H\")\n",
    "\n",
    "# A, B, C = symbols(\"A,B,C\") # Electric field amplitude\n",
    "\n",
    "# omega_d, omega_s = symbols(\"omega_d, omega_s\") # \n",
    "\n",
    "# omega_nr, L = symbols(\"omega_{NR},lambda\")\n",
    "\n",
    "# Delta,Delta_t = symbols(\"Delta,Delta_t\")\n",
    "\n",
    "# y, omega_t = symbols(\"y, omega_t\")"
   ]
  },
  {
   "cell_type": "code",
   "execution_count": 5,
   "metadata": {
    "collapsed": false
   },
   "outputs": [],
   "source": [
    "\n",
    "sx, sy, sz, sm, sp = SigmaX(), SigmaY(), SigmaZ(), SigmaMinus(), SigmaPlus()\n",
    "a = BosonOp(\"a\")\n",
    "b = BosonOp(\"b\")"
   ]
  },
  {
   "cell_type": "code",
   "execution_count": 7,
   "metadata": {
    "collapsed": false
   },
   "outputs": [
    {
     "data": {
      "image/png": "[encoded data removed]",
      "text/latex": [
       "$$H = A \\left(e^{i \\omega_{d} t} {a} + e^{- i \\omega_{d} t} {{a}^\\dagger}\\right) + B \\left(e^{i \\omega_{s} t} {\\sigma_-} + e^{- i \\omega_{s} t} {\\sigma_+}\\right) + C \\left(e^{i \\omega_{p} t} {b} + e^{- i \\omega_{p} t} {{b}^\\dagger}\\right) + \\frac{\\omega_{q} {\\sigma_z}}{2} + \\omega_{r} {{a}^\\dagger} {a} + \\omega_{{NR}} {{b}^\\dagger} {b} + {\\sigma_x} \\left(g \\left({{a}^\\dagger} + {a}\\right) + \\lambda \\left({{b}^\\dagger} + {b}\\right)\\right)$$"
      ],
      "text/plain": [
       "      ⎛ ⅈ⋅ω_d⋅t      -ⅈ⋅ω_d⋅t  †⎞     ⎛ ⅈ⋅ω_s⋅t          -ⅈ⋅ω_s⋅t      ⎞     ⎛\n",
       "H = A⋅⎝ℯ       ⋅a + ℯ        ⋅a ⎠ + B⋅⎝ℯ       ⋅False + ℯ        ⋅False⎠ + C⋅⎝\n",
       "                                                                              \n",
       "\n",
       " ⅈ⋅ω_p⋅t      -ⅈ⋅ω_p⋅t  †⎞   ω_q⋅False       †             †           ⎛  ⎛ † \n",
       "ℯ       ⋅b + ℯ        ⋅b ⎠ + ───────── + ωᵣ⋅a ⋅a + ω_{NR}⋅b ⋅b + False⋅⎝g⋅⎝a  \n",
       "                                 2                                            \n",
       "\n",
       "   ⎞     ⎛ †    ⎞⎞\n",
       "+ a⎠ + λ⋅⎝b  + b⎠⎠\n",
       "                  "
      ]
     },
     "execution_count": 7,
     "metadata": {},
     "output_type": "execute_result"
    }
   ],
   "source": [
    "H = omega_r * Dagger(a) * a + omega_q/2 * sz + omega_nr * Dagger(b) * b \n",
    "\n",
    "H_int = sx * (g  * (a + Dagger(a)) + L * (b + Dagger(b)))\n",
    "\n",
    "H_drive_r = A * (exp(I*omega_d*t)*a + exp(-I*omega_d*t)*Dagger(a))\n",
    "H_drive_q = B * (exp(I*omega_s*t)*sm + exp(-I*omega_s*t)*sp)\n",
    "H_drive_NR = C * (exp(I*omega_p*t)*b + exp(-I*omega_p*t)*Dagger(b))\n",
    "H_total =  H+  H_int + H_drive_r + H_drive_q + H_drive_NR\n",
    "Eq(Hsym,H_total)\n"
   ]
  },
  {
   "cell_type": "markdown",
   "metadata": {},
   "source": [
    "##Unitary transformation to interaction picture"
   ]
  },
  {
   "cell_type": "markdown",
   "metadata": {},
   "source": [
    "### CPW (a)"
   ]
  },
  {
   "cell_type": "code",
   "execution_count": 7,
   "metadata": {
    "collapsed": false
   },
   "outputs": [],
   "source": [
    "U = exp(I  * omega_r * t * Dagger(a)*a)\n",
    "# U"
   ]
  },
  {
   "cell_type": "code",
   "execution_count": 8,
   "metadata": {
    "collapsed": false
   },
   "outputs": [],
   "source": [
    "H1 = hamiltonian_transformation(U, H_total.expand(), independent=True)\n",
    "\n",
    "# H1"
   ]
  },
  {
   "cell_type": "markdown",
   "metadata": {},
   "source": [
    "### Nanoresonator - b\n"
   ]
  },
  {
   "cell_type": "code",
   "execution_count": 9,
   "metadata": {
    "collapsed": false
   },
   "outputs": [],
   "source": [
    "U = exp(I  * omega_nr * t * Dagger(b)*b)\n",
    "# U"
   ]
  },
  {
   "cell_type": "code",
   "execution_count": 10,
   "metadata": {
    "collapsed": false
   },
   "outputs": [],
   "source": [
    "H1a = hamiltonian_transformation(U, H1.expand(), independent=True)\n",
    "\n",
    "# H1a"
   ]
  },
  {
   "cell_type": "markdown",
   "metadata": {},
   "source": [
    "###Qubit - Sigma_z\n"
   ]
  },
  {
   "cell_type": "code",
   "execution_count": 11,
   "metadata": {
    "collapsed": false
   },
   "outputs": [],
   "source": [
    "U = exp(I * omega_q * t * sp * sm)\n",
    "\n",
    "# U"
   ]
  },
  {
   "cell_type": "code",
   "execution_count": 12,
   "metadata": {
    "collapsed": false
   },
   "outputs": [],
   "source": [
    "H2 = hamiltonian_transformation(U, H1a.expand())\n",
    "\n",
    "H2 = H2.subs(sx, sm + sp).expand()\n",
    "\n",
    "H2 = powsimp(H2)\n",
    "\n",
    "# H2"
   ]
  },
  {
   "cell_type": "code",
   "execution_count": 13,
   "metadata": {
    "collapsed": false
   },
   "outputs": [],
   "source": [
    "# H2"
   ]
  },
  {
   "cell_type": "code",
   "execution_count": 14,
   "metadata": {
    "collapsed": false
   },
   "outputs": [],
   "source": [
    "# trick to simplify exponents\n",
    "def simplify_exp(e):\n",
    "    if isinstance(e, exp):\n",
    "        return exp(simplify(e.exp.expand()))\n",
    "\n",
    "    if isinstance(e, (Add, Mul)):\n",
    "        return type(e)(*(simplify_exp(arg) for arg in e.args)) \n",
    "\n",
    "    return e"
   ]
  },
  {
   "cell_type": "code",
   "execution_count": 15,
   "metadata": {
    "collapsed": false
   },
   "outputs": [],
   "source": [
    " \n",
    "    H3 = simplify_exp(H3a).subs(-omega_nr + omega_q, Delta_NR)\n",
    "\n",
    "\n",
    "\n",
    "# H3"
   ]
  },
  {
   "cell_type": "markdown",
   "metadata": {},
   "source": [
    "Now, in the rotating-wave approximation we can drop the fast oscillating terms containing the factors\n",
    "$e^{\\pm i(\\omega_q + \\omega_r)t} $ and $e^{\\pm i(\\omega_q + \\omega_{NR})t}  $"
   ]
  },
  {
   "cell_type": "code",
   "execution_count": 16,
   "metadata": {
    "collapsed": false
   },
   "outputs": [
    {
     "data": {
      "image/png": "[encoded data removed]",
      "text/latex": [
       "$$H = g e^{i \\Delta_{{CPW}} t} {\\sigma_+} {a} + g e^{- i \\Delta_{{CPW}} t} {\\sigma_-} {{a}^\\dagger} + \\lambda e^{i \\Delta_{{NR}} t} {\\sigma_+} {b} + \\lambda e^{- i \\Delta_{{NR}} t} {\\sigma_-} {{b}^\\dagger}$$"
      ],
      "text/plain": [
       "       ⅈ⋅Δ_{CPW}⋅t              -ⅈ⋅Δ_{CPW}⋅t        †      ⅈ⋅Δ_{NR}⋅t         \n",
       "H = g⋅ℯ           ⋅False⋅a + g⋅ℯ            ⋅False⋅a  + λ⋅ℯ          ⋅False⋅b \n",
       "\n",
       "     -ⅈ⋅Δ_{NR}⋅t        †\n",
       "+ λ⋅ℯ           ⋅False⋅b "
      ]
     },
     "execution_count": 16,
     "metadata": {},
     "output_type": "execute_result"
    }
   ],
   "source": [
    "H4 = drop_terms_containing(H3, [exp( I * (omega_q + omega_r) * t),\n",
    "                                exp(-I * (omega_q + omega_r) * t),\n",
    "                                exp(I * (omega_q + omega_nr) * t),\n",
    "                                exp(-I * (omega_q + omega_nr) * t)],\n",
    "                          )\n",
    "\n",
    "H4 = drop_c_number_terms(H4.expand())\n",
    "\n",
    "Eq(Hsym, H4)"
   ]
  },
  {
   "cell_type": "markdown",
   "metadata": {},
   "source": [
    "This is the interaction term of in the Jaynes-Cumming model in the interaction picture. If we transform back to the Schrödinger picture we have:"
   ]
  },
  {
   "cell_type": "code",
   "execution_count": 17,
   "metadata": {
    "collapsed": false
   },
   "outputs": [],
   "source": [
    "U = exp(-I * omega_r * t * Dagger(a) * a)\n",
    "H5 = hamiltonian_transformation(U, H4.expand(), independent=True)\n",
    "# H5"
   ]
  },
  {
   "cell_type": "code",
   "execution_count": 18,
   "metadata": {
    "collapsed": false
   },
   "outputs": [],
   "source": [
    "U = exp(-I * omega_nr * t * Dagger(b) * b)\n",
    "H5a = hamiltonian_transformation(U, H5.expand(), independent=True)\n",
    "# H5a"
   ]
  },
  {
   "cell_type": "code",
   "execution_count": null,
   "metadata": {
    "collapsed": true
   },
   "outputs": [],
   "source": []
  },
  {
   "cell_type": "code",
   "execution_count": 19,
   "metadata": {
    "collapsed": false
   },
   "outputs": [],
   "source": [
    "U = exp(-I * omega_q * t * sp * sm)\n",
    "H6 = hamiltonian_transformation(U, H5a.expand())\n",
    "# H6"
   ]
  },
  {
   "cell_type": "code",
   "execution_count": 20,
   "metadata": {
    "collapsed": false
   },
   "outputs": [
    {
     "data": {
      "image/png": "[encoded data removed]",
      "text/latex": [
       "$$H = g \\left({\\sigma_-} {{a}^\\dagger} + {\\sigma_+} {a}\\right) + \\lambda \\left({\\sigma_-} {{b}^\\dagger} + {\\sigma_+} {b}\\right) + \\frac{\\omega_{q} {\\sigma_z}}{2} + \\omega_{r} {{a}^\\dagger} {a} + \\omega_{{NR}} {{b}^\\dagger} {b}$$"
      ],
      "text/plain": [
       "      ⎛       †          ⎞     ⎛       †          ⎞   ω_q⋅False       †       \n",
       "H = g⋅⎝False⋅a  + False⋅a⎠ + λ⋅⎝False⋅b  + False⋅b⎠ + ───────── + ωᵣ⋅a ⋅a + ω_\n",
       "                                                          2                   \n",
       "\n",
       "      †  \n",
       "{NR}⋅b ⋅b\n",
       "         "
      ]
     },
     "execution_count": 20,
     "metadata": {},
     "output_type": "execute_result"
    }
   ],
   "source": [
    "H7a = simplify_exp(H6).subs(Delta_CPW, omega_q - omega_r)\n",
    "H7 = simplify_exp(H7a).subs(Delta_NR, omega_q - omega_nr)\n",
    "\n",
    "\n",
    "H7 = simplify_exp(powsimp(H7)).expand()\n",
    "\n",
    "H7 = drop_c_number_terms(H7)\n",
    "\n",
    "H = collect(H7, [A,B, C,g,L])\n",
    "\n",
    "Eq(Hsym, H)"
   ]
  },
  {
   "cell_type": "markdown",
   "metadata": {},
   "source": [
    "## Linearized interaction"
   ]
  },
  {
   "cell_type": "markdown",
   "metadata": {},
   "source": [
    "First we apply the unitary transformation $U = e^{i \\omega_d a^\\dagger a t}$:"
   ]
  },
  {
   "cell_type": "code",
   "execution_count": 21,
   "metadata": {
    "collapsed": false
   },
   "outputs": [],
   "source": [
    "U = exp(I * Dagger(a) * a * omega_d * t)\n",
    "\n",
    "# U"
   ]
  },
  {
   "cell_type": "code",
   "execution_count": 22,
   "metadata": {
    "collapsed": false
   },
   "outputs": [],
   "source": [
    "H1 = hamiltonian_transformation(U, H, independent=True)\n",
    "\n",
    "# H1"
   ]
  },
  {
   "cell_type": "markdown",
   "metadata": {},
   "source": [
    "We can now perform a rotating-wave approximation (RWA) by eliminating all terms that rotate with frequencies $2\\omega_d$:"
   ]
  },
  {
   "cell_type": "code",
   "execution_count": 23,
   "metadata": {
    "collapsed": false
   },
   "outputs": [],
   "source": [
    "H2 = drop_terms_containing(H1.expand(), [exp(-2*I*omega_d*t), exp(2*I*omega_d*t)])\n",
    "H2 = H2.collect([A,B,Dagger(a)*a,g])\n",
    "# H2\n",
    "# Eq(Symbol(\"H_{rwa}\"), H2)"
   ]
  },
  {
   "cell_type": "markdown",
   "metadata": {},
   "source": [
    "Introduce the detuning $\\Delta_d = \\omega_r - \\omega_d$:"
   ]
  },
  {
   "cell_type": "code",
   "execution_count": 24,
   "metadata": {
    "collapsed": false
   },
   "outputs": [],
   "source": [
    "H3 = H2.subs(-omega_d+omega_r, Delta_d).expand()\n",
    "\n",
    "H3 = H3.collect([A,B,C,Dagger(a)*a,Dagger(b)*b,g,L])\n",
    "# H3"
   ]
  },
  {
   "cell_type": "code",
   "execution_count": 25,
   "metadata": {
    "collapsed": false
   },
   "outputs": [
    {
     "data": {
      "image/png": "[encoded data removed]",
      "text/latex": [
       "$$\\Delta_{d} {{a}^\\dagger} {a} + g \\left(e^{i \\omega_{d} t} {\\sigma_-} {{a}^\\dagger} + e^{- i \\omega_{d} t} {\\sigma_+} {a}\\right) + \\lambda \\left({\\sigma_-} {{b}^\\dagger} + {\\sigma_+} {b}\\right) + \\frac{\\omega_{q} {\\sigma_z}}{2} + \\omega_{{NR}} {{b}^\\dagger} {b}$$"
      ],
      "text/plain": [
       "     †       ⎛ ⅈ⋅ω_d⋅t        †    -ⅈ⋅ω_d⋅t        ⎞     ⎛       †          ⎞ \n",
       "Δ_d⋅a ⋅a + g⋅⎝ℯ       ⋅False⋅a  + ℯ        ⋅False⋅a⎠ + λ⋅⎝False⋅b  + False⋅b⎠ \n",
       "                                                                              \n",
       "\n",
       "  ω_q⋅False           †  \n",
       "+ ───────── + ω_{NR}⋅b ⋅b\n",
       "      2                  "
      ]
     },
     "execution_count": 25,
     "metadata": {},
     "output_type": "execute_result"
    }
   ],
   "source": [
    "H3"
   ]
  },
  {
   "cell_type": "markdown",
   "metadata": {},
   "source": [
    "Second we apply the unitary transformation $U = e^{i \\omega_p b^\\dagger b t}$:"
   ]
  },
  {
   "cell_type": "code",
   "execution_count": 26,
   "metadata": {
    "collapsed": false
   },
   "outputs": [],
   "source": [
    "U = exp(I * Dagger(b) * b * omega_p * t)"
   ]
  },
  {
   "cell_type": "code",
   "execution_count": 27,
   "metadata": {
    "collapsed": true
   },
   "outputs": [],
   "source": [
    "H3a = hamiltonian_transformation(U, H3, independent=True)"
   ]
  },
  {
   "cell_type": "code",
   "execution_count": 28,
   "metadata": {
    "collapsed": true
   },
   "outputs": [],
   "source": [
    "H3b = drop_terms_containing(H3a.expand(), [exp(-2*I*omega_p*t), exp(2*I*omega_p*t)])\n",
    "H3b = H3b.collect([A,B,C,L,Dagger(a)*a,Dagger(b)*b,g])"
   ]
  },
  {
   "cell_type": "code",
   "execution_count": 29,
   "metadata": {
    "collapsed": true
   },
   "outputs": [],
   "source": [
    "H3c = H3b.subs(-omega_p+omega_nr, Delta_p).expand()\n",
    "\n",
    "H3c = H3c.collect([A,B,C,L,Dagger(a)*a,Dagger(b)*b,g])"
   ]
  },
  {
   "cell_type": "code",
   "execution_count": 30,
   "metadata": {
    "collapsed": false
   },
   "outputs": [
    {
     "data": {
      "image/png": "[encoded data removed]",
      "text/latex": [
       "$$\\Delta_{d} {{a}^\\dagger} {a} + \\Delta_{p} {{b}^\\dagger} {b} + g \\left(e^{i \\omega_{d} t} {\\sigma_-} {{a}^\\dagger} + e^{- i \\omega_{d} t} {\\sigma_+} {a}\\right) + \\lambda \\left(e^{i \\omega_{p} t} {\\sigma_-} {{b}^\\dagger} + e^{- i \\omega_{p} t} {\\sigma_+} {b}\\right) + \\frac{\\omega_{q} {\\sigma_z}}{2}$$"
      ],
      "text/plain": [
       "     †          †       ⎛ ⅈ⋅ω_d⋅t        †    -ⅈ⋅ω_d⋅t        ⎞     ⎛ ⅈ⋅ω_p⋅t \n",
       "Δ_d⋅a ⋅a + Δ_p⋅b ⋅b + g⋅⎝ℯ       ⋅False⋅a  + ℯ        ⋅False⋅a⎠ + λ⋅⎝ℯ       ⋅\n",
       "                                                                              \n",
       "\n",
       "       †    -ⅈ⋅ω_p⋅t        ⎞   ω_q⋅False\n",
       "False⋅b  + ℯ        ⋅False⋅b⎠ + ─────────\n",
       "                                    2    "
      ]
     },
     "execution_count": 30,
     "metadata": {},
     "output_type": "execute_result"
    }
   ],
   "source": [
    "H3c"
   ]
  },
  {
   "cell_type": "markdown",
   "metadata": {},
   "source": [
    "Substiture $\\sigma_z = 2\\sigma_+\\sigma_-$"
   ]
  },
  {
   "cell_type": "code",
   "execution_count": 31,
   "metadata": {
    "collapsed": false
   },
   "outputs": [],
   "source": [
    "H3 = H3c.subs(sz,2*sp*sm).expand()\n",
    "# H3"
   ]
  },
  {
   "cell_type": "code",
   "execution_count": 32,
   "metadata": {
    "collapsed": false
   },
   "outputs": [],
   "source": [
    "H3 = H3.collect([A,B,C,L,Dagger(a)*a,Dagger(b)*b,g])\n",
    "# H3"
   ]
  },
  {
   "cell_type": "code",
   "execution_count": 33,
   "metadata": {
    "collapsed": false
   },
   "outputs": [],
   "source": [
    "# H3"
   ]
  },
  {
   "cell_type": "markdown",
   "metadata": {},
   "source": [
    "Second we apply the unitary transformation $U = e^{i \\omega_s \\sigma_+ \\sigma_- t}$:"
   ]
  },
  {
   "cell_type": "code",
   "execution_count": 34,
   "metadata": {
    "collapsed": false
   },
   "outputs": [],
   "source": [
    "U = exp(I * sp*sm* omega_s * t)\n",
    "\n",
    "# U"
   ]
  },
  {
   "cell_type": "code",
   "execution_count": 35,
   "metadata": {
    "collapsed": false
   },
   "outputs": [
    {
     "data": {
      "image/png": "[encoded data removed]",
      "text/latex": [
       "$$\\Delta_{d} {{a}^\\dagger} {a} + \\Delta_{p} {{b}^\\dagger} {b} + g e^{i \\omega_{d} t} e^{- i \\omega_{s} t} {\\sigma_-} {{a}^\\dagger} + g e^{- i \\omega_{d} t} e^{i \\omega_{s} t} {\\sigma_+} {a} + \\lambda e^{i \\omega_{p} t} e^{- i \\omega_{s} t} {\\sigma_-} {{b}^\\dagger} + \\lambda e^{- i \\omega_{p} t} e^{i \\omega_{s} t} {\\sigma_+} {b} + \\omega_{q} {\\sigma_+} {\\sigma_-} - \\omega_{s} {\\sigma_+} {\\sigma_-}$$"
      ],
      "text/plain": [
       "     †          †        ⅈ⋅ω_d⋅t  -ⅈ⋅ω_s⋅t        †      -ⅈ⋅ω_d⋅t  ⅈ⋅ω_s⋅t    \n",
       "Δ_d⋅a ⋅a + Δ_p⋅b ⋅b + g⋅ℯ       ⋅ℯ        ⋅False⋅a  + g⋅ℯ        ⋅ℯ       ⋅Fal\n",
       "\n",
       "          ⅈ⋅ω_p⋅t  -ⅈ⋅ω_s⋅t        †      -ⅈ⋅ω_p⋅t  ⅈ⋅ω_s⋅t                   \n",
       "se⋅a + λ⋅ℯ       ⋅ℯ        ⋅False⋅b  + λ⋅ℯ        ⋅ℯ       ⋅False⋅b + ω_q⋅Fals\n",
       "\n",
       "                         \n",
       "e⋅False - ω_s⋅False⋅False"
      ]
     },
     "execution_count": 35,
     "metadata": {},
     "output_type": "execute_result"
    }
   ],
   "source": [
    "H4 = hamiltonian_transformation(U, H3, independent=True)\n",
    "\n",
    "H4 =H4.expand()\n",
    "H4"
   ]
  },
  {
   "cell_type": "markdown",
   "metadata": {},
   "source": [
    "Substitute $ \\sigma_+\\sigma_-=\\dfrac{\\sigma_z}{2}$"
   ]
  },
  {
   "cell_type": "code",
   "execution_count": 36,
   "metadata": {
    "collapsed": false
   },
   "outputs": [],
   "source": [
    "H4 = H4.subs(omega_q*sp*sm,omega_q*sz/2)\n",
    "# H4"
   ]
  },
  {
   "cell_type": "code",
   "execution_count": 37,
   "metadata": {
    "collapsed": false
   },
   "outputs": [
    {
     "data": {
      "image/png": "[encoded data removed]",
      "text/latex": [
       "$$\\Delta_{d} {{a}^\\dagger} {a} + \\Delta_{p} {{b}^\\dagger} {b} + g \\left(e^{i \\omega_{d} t} e^{- i \\omega_{s} t} {\\sigma_-} {{a}^\\dagger} + e^{- i \\omega_{d} t} e^{i \\omega_{s} t} {\\sigma_+} {a}\\right) + \\lambda \\left(e^{i \\omega_{p} t} e^{- i \\omega_{s} t} {\\sigma_-} {{b}^\\dagger} + e^{- i \\omega_{p} t} e^{i \\omega_{s} t} {\\sigma_+} {b}\\right) + \\left(\\frac{\\omega_{q}}{2} - \\frac{\\omega_{s}}{2}\\right) {\\sigma_z}$$"
      ],
      "text/plain": [
       "     †          †       ⎛ ⅈ⋅ω_d⋅t  -ⅈ⋅ω_s⋅t        †    -ⅈ⋅ω_d⋅t  ⅈ⋅ω_s⋅t     \n",
       "Δ_d⋅a ⋅a + Δ_p⋅b ⋅b + g⋅⎝ℯ       ⋅ℯ        ⋅False⋅a  + ℯ        ⋅ℯ       ⋅Fals\n",
       "                                                                              \n",
       "\n",
       "   ⎞     ⎛ ⅈ⋅ω_p⋅t  -ⅈ⋅ω_s⋅t        †    -ⅈ⋅ω_p⋅t  ⅈ⋅ω_s⋅t        ⎞   ⎛ω_q   ω\n",
       "e⋅a⎠ + λ⋅⎝ℯ       ⋅ℯ        ⋅False⋅b  + ℯ        ⋅ℯ       ⋅False⋅b⎠ + ⎜─── - ─\n",
       "                                                                      ⎝ 2     \n",
       "\n",
       "_s⎞      \n",
       "──⎟⋅False\n",
       "2 ⎠      "
      ]
     },
     "execution_count": 37,
     "metadata": {},
     "output_type": "execute_result"
    }
   ],
   "source": [
    "H4 = H4.subs(-omega_s*sp*sm,-omega_s*sz/2)\n",
    "\n",
    "# H4 = H4.subs(-omega_s*sp*sm,-omega_s*sz/2)\n",
    "\n",
    "\n",
    "H4= H4.collect([A,B,C,L,Dagger(a)*a,Dagger(b)*b,g,sz])\n",
    "H4"
   ]
  },
  {
   "cell_type": "code",
   "execution_count": 38,
   "metadata": {
    "collapsed": false
   },
   "outputs": [
    {
     "data": {
      "image/png": "[encoded data removed]",
      "text/latex": [
       "$$\\Delta_{d} {{a}^\\dagger} {a} + \\Delta_{p} {{b}^\\dagger} {b} + \\frac{\\Delta_{s} {\\sigma_z}}{2} + g \\left(e^{i \\omega_{d} t} e^{- i \\omega_{s} t} {\\sigma_-} {{a}^\\dagger} + e^{- i \\omega_{d} t} e^{i \\omega_{s} t} {\\sigma_+} {a}\\right) + \\lambda \\left(e^{i \\omega_{p} t} e^{- i \\omega_{s} t} {\\sigma_-} {{b}^\\dagger} + e^{- i \\omega_{p} t} e^{i \\omega_{s} t} {\\sigma_+} {b}\\right)$$"
      ],
      "text/plain": [
       "     †          †     Δ_s⋅False     ⎛ ⅈ⋅ω_d⋅t  -ⅈ⋅ω_s⋅t        †    -ⅈ⋅ω_d⋅t  \n",
       "Δ_d⋅a ⋅a + Δ_p⋅b ⋅b + ───────── + g⋅⎝ℯ       ⋅ℯ        ⋅False⋅a  + ℯ        ⋅ℯ\n",
       "                          2                                                   \n",
       "\n",
       "ⅈ⋅ω_s⋅t        ⎞     ⎛ ⅈ⋅ω_p⋅t  -ⅈ⋅ω_s⋅t        †    -ⅈ⋅ω_p⋅t  ⅈ⋅ω_s⋅t        \n",
       "       ⋅False⋅a⎠ + λ⋅⎝ℯ       ⋅ℯ        ⋅False⋅b  + ℯ        ⋅ℯ       ⋅False⋅b\n",
       "                                                                              \n",
       "\n",
       "⎞\n",
       "⎠\n",
       " "
      ]
     },
     "execution_count": 38,
     "metadata": {},
     "output_type": "execute_result"
    }
   ],
   "source": [
    "H4 = H4.subs(omega_q/2 - omega_s/2,Delta_s/2).expand()\n",
    "\n",
    "H4= H4.collect([A,B,C,L,Dagger(a)*a,Dagger(b)*b,g])\n",
    "H4"
   ]
  },
  {
   "cell_type": "markdown",
   "metadata": {},
   "source": [
    "Introduce the detuning $\\Delta_{SP} = \\omega_S - \\omega_D$ and $\\Delta_{SD} = \\omega_S - \\omega_D$:"
   ]
  },
  {
   "cell_type": "code",
   "execution_count": 39,
   "metadata": {
    "collapsed": false
   },
   "outputs": [],
   "source": [
    "H4 = simplify_exp(powsimp(H4))\n",
    "H4 = H4.subs(omega_p - omega_s,-Delta_SP).expand()\n",
    "H4 = simplify_exp(powsimp(H4))\n",
    "H4 = H4.subs(omega_d - omega_s,-Delta_SD).expand()\n",
    "\n",
    "\n",
    "\n",
    "H5 = H4.collect([A,B,C,L,Dagger(a)*a,Dagger(b)*b,g])\n",
    "# H5"
   ]
  },
  {
   "cell_type": "code",
   "execution_count": 40,
   "metadata": {
    "collapsed": false
   },
   "outputs": [],
   "source": [
    "H5 = H5.expand()\n",
    "# H5"
   ]
  },
  {
   "cell_type": "code",
   "execution_count": 41,
   "metadata": {
    "collapsed": false
   },
   "outputs": [],
   "source": [
    "H6 = simplify_exp(powsimp(H5))\n",
    "# H6 = simplify_exp(H6).subs(omega_t - omega_s, Delta_t)\n",
    "\n",
    "H = H6.collect([A,B,C,Dagger(a)*a,g,sz,L])"
   ]
  },
  {
   "cell_type": "code",
   "execution_count": 42,
   "metadata": {
    "collapsed": false
   },
   "outputs": [
    {
     "data": {
      "image/png": "[encoded data removed]",
      "text/latex": [
       "$$H = A \\left({{a}^\\dagger} + {a}\\right) + B \\left({\\sigma_-} + {\\sigma_+}\\right) + C \\left({{b}^\\dagger} + {b}\\right) + \\Delta_{d} {{a}^\\dagger} {a} + \\Delta_{p} {{b}^\\dagger} {b} + \\frac{\\Delta_{s} {\\sigma_z}}{2} + g \\left(e^{i \\Delta_{{SD}} t} {\\sigma_+} {a} + e^{- i \\Delta_{{SD}} t} {\\sigma_-} {{a}^\\dagger}\\right) + \\lambda \\left(e^{i \\Delta_{{SP}} t} {\\sigma_+} {b} + e^{- i \\Delta_{{SP}} t} {\\sigma_-} {{b}^\\dagger}\\right)$$"
      ],
      "text/plain": [
       "      ⎛ †    ⎞                         ⎛ †    ⎞        †          †     Δ_s⋅Fa\n",
       "H = A⋅⎝a  + a⎠ + B⋅(False + False) + C⋅⎝b  + b⎠ + Δ_d⋅a ⋅a + Δ_p⋅b ⋅b + ──────\n",
       "                                                                            2 \n",
       "\n",
       "lse     ⎛ ⅈ⋅Δ_{SD}⋅t            -ⅈ⋅Δ_{SD}⋅t        †⎞     ⎛ ⅈ⋅Δ_{SP}⋅t        \n",
       "─── + g⋅⎝ℯ          ⋅False⋅a + ℯ           ⋅False⋅a ⎠ + λ⋅⎝ℯ          ⋅False⋅b\n",
       "                                                                              \n",
       "\n",
       "    -ⅈ⋅Δ_{SP}⋅t        †⎞\n",
       " + ℯ           ⋅False⋅b ⎠\n",
       "                         "
      ]
     },
     "execution_count": 42,
     "metadata": {},
     "output_type": "execute_result"
    }
   ],
   "source": [
    "Eq(Hsym, H)"
   ]
  },
  {
   "cell_type": "markdown",
   "metadata": {},
   "source": [
    "This is the Jaynes-Cumming model give above, and we have now seen that it is obtained to the dipole interaction Hamiltonian through the rotating wave approximation."
   ]
  },
  {
   "cell_type": "markdown",
   "metadata": {},
   "source": [
    "## Dispersive regime"
   ]
  },
  {
   "cell_type": "markdown",
   "metadata": {},
   "source": [
    "In the dispersive regime, where the two-level system is detuned from the cavity by much more than the interaction strength, $\\Delta \\gg g, \\lambda$, an effective Hamiltonian can be dervied which describes the Stark shift of the two-level system (which depends on the number of photons in the cavity) and the frequency shift of the cavity (which depend on the state of the two-level system).\n",
    "\n",
    "This effective Hamiltonian, which is correct up to second order in the small paramter $g/\\Delta$, is obtained by performing the unitary transformation\n",
    "\n",
    "$$\n",
    "U = e^{\\frac{g}{\\Delta}(a \\sigma_- - a^\\dagger \\sigma_+)}\n",
    "$$\n",
    "\n",
    "$$\n",
    "U = e^{\\frac{\\lambda}{\\Delta}(b \\sigma_- - b^\\dagger \\sigma_+)}\n",
    "$$"
   ]
  },
  {
   "cell_type": "code",
   "execution_count": 21,
   "metadata": {
    "collapsed": false
   },
   "outputs": [],
   "source": [
    "U = exp(x * (a * sp).expand())\n",
    "\n",
    "# U"
   ]
  },
  {
   "cell_type": "code",
   "execution_count": 22,
   "metadata": {
    "collapsed": false
   },
   "outputs": [],
   "source": [
    "#H1 = unitary_transformation(U, H, allinone=True, expansion_search=False, N=3).expand()\n",
    "#H1 = qsimplify(H1)\n",
    "#H1"
   ]
  },
  {
   "cell_type": "code",
   "execution_count": 23,
   "metadata": {
    "collapsed": false
   },
   "outputs": [],
   "source": [
    "H1 = hamiltonian_transformation(U, H, expansion_search=False, N=3).expand()\n",
    "\n",
    "H1a = qsimplify(H1)\n",
    "\n",
    "# H1a"
   ]
  },
  {
   "cell_type": "code",
   "execution_count": 24,
   "metadata": {
    "collapsed": false
   },
   "outputs": [],
   "source": [
    "U = exp(y * (b * sp).expand())\n",
    "\n",
    "# U"
   ]
  },
  {
   "cell_type": "code",
   "execution_count": 25,
   "metadata": {
    "collapsed": false
   },
   "outputs": [],
   "source": [
    "H1a = hamiltonian_transformation(U, H1a, expansion_search=False, N=3).expand()\n",
    "\n",
    "H1 = qsimplify(H1a)\n",
    "\n",
    "# H1"
   ]
  },
  {
   "cell_type": "code",
   "execution_count": 26,
   "metadata": {
    "collapsed": false
   },
   "outputs": [],
   "source": [
    "U = exp(-x * (Dagger(a) * sm).expand())\n",
    "\n",
    "# U"
   ]
  },
  {
   "cell_type": "code",
   "execution_count": null,
   "metadata": {
    "collapsed": true
   },
   "outputs": [],
   "source": []
  },
  {
   "cell_type": "code",
   "execution_count": 27,
   "metadata": {
    "collapsed": false
   },
   "outputs": [],
   "source": [
    "H2a = hamiltonian_transformation(U, H1, expansion_search=False, N=3).expand()\n",
    "\n",
    "H2a = qsimplify(H2a)\n",
    "\n",
    "# H2a"
   ]
  },
  {
   "cell_type": "code",
   "execution_count": 28,
   "metadata": {
    "collapsed": false
   },
   "outputs": [],
   "source": [
    "U = exp(-y * (Dagger(b) * sm).expand())\n",
    "\n",
    "# U"
   ]
  },
  {
   "cell_type": "code",
   "execution_count": 29,
   "metadata": {
    "collapsed": true
   },
   "outputs": [],
   "source": [
    "H2 = hamiltonian_transformation(U, H2a, expansion_search=False, N=3).expand()\n",
    "\n",
    "H2 = qsimplify(H2)"
   ]
  },
  {
   "cell_type": "code",
   "execution_count": 30,
   "metadata": {
    "collapsed": false
   },
   "outputs": [],
   "source": [
    "# H2"
   ]
  },
  {
   "cell_type": "code",
   "execution_count": 31,
   "metadata": {
    "collapsed": false
   },
   "outputs": [],
   "source": [
    "# H3 = drop_terms_containing(H2.expand(), [x**2,x**3, x**4,x**5,x**6,x**7, y**2,y**3, y**4,y**5,y**6,y**7])\n",
    "H3 = drop_terms_containing(H2.expand(), [x**3, x**4,x**5,x**6,x**7, y**3, y**4,y**5,y**6,y**7])\n",
    "\n",
    "\n",
    "# H3"
   ]
  },
  {
   "cell_type": "code",
   "execution_count": 32,
   "metadata": {
    "collapsed": false
   },
   "outputs": [],
   "source": [
    "H4 = H3.subs(x, g/Delta_CPW)\n",
    "H4a = H4.subs(y, L/Delta_NR)\n",
    "# H4"
   ]
  },
  {
   "cell_type": "code",
   "execution_count": 33,
   "metadata": {
    "collapsed": false
   },
   "outputs": [],
   "source": [
    "H4b = qsimplify(H4a)"
   ]
  },
  {
   "cell_type": "code",
   "execution_count": 34,
   "metadata": {
    "collapsed": false
   },
   "outputs": [],
   "source": [
    "H5 = drop_c_number_terms(H4b)\n",
    "# H6a = drop_terms_containing(H5.expand(), [exp(I*Delta_SP*t), exp(-I*Delta_SP*t)])\n",
    "# H6 = drop_terms_containing(H6a.expand(), [exp(I*Delta_SD*t), exp(-I*Delta_SD*t)])\n",
    "\n",
    "\n",
    "# H6"
   ]
  },
  {
   "cell_type": "code",
   "execution_count": 35,
   "metadata": {
    "collapsed": false
   },
   "outputs": [],
   "source": [
    "H6 = collect(H5, [A,B,C,Dagger(a)*a,Dagger(b)*b,sz,g,L])\n",
    "# H6 "
   ]
  },
  {
   "cell_type": "code",
   "execution_count": null,
   "metadata": {
    "collapsed": false
   },
   "outputs": [],
   "source": [
    "\n",
    "U = exp(I * omega_r * t * Dagger(a) * a)\n",
    "H7 = hamiltonian_transformation(U, H6.expand()).expand()\n",
    "\n",
    "H7a = qsimplify(H7)\n",
    "\n",
    "\n"
   ]
  },
  {
   "cell_type": "code",
   "execution_count": null,
   "metadata": {
    "collapsed": false
   },
   "outputs": [],
   "source": [
    "U = exp(I * omega_nr * t * Dagger(b) * b)\n",
    "H7b = hamiltonian_transformation(U, H7a).expand()\n",
    "\n",
    "H7b = qsimplify(H7b)"
   ]
  },
  {
   "cell_type": "code",
   "execution_count": null,
   "metadata": {
    "collapsed": true
   },
   "outputs": [],
   "source": [
    "U = exp(I * omega_q * t * sp * sm)\n",
    "H7c = hamiltonian_transformation(U, H7b, expansion_search=False, N=3).expand()\n",
    "\n",
    "H7c = qsimplify(H7c)"
   ]
  },
  {
   "cell_type": "code",
   "execution_count": null,
   "metadata": {
    "collapsed": true
   },
   "outputs": [],
   "source": [
    "H8 = drop_terms_containing(H7, [exp(I * omega_r * t), exp(-I * omega_r * t),\n",
    "                                exp(I * omega_nr * t), exp(-I * omega_nr * t),\n",
    "                                exp(I * omega_q * t), exp(-I * omega_q * t)])\n"
   ]
  },
  {
   "cell_type": "code",
   "execution_count": null,
   "metadata": {
    "collapsed": true
   },
   "outputs": [],
   "source": [
    "U = exp(- I * omega_r * t * Dagger(a) * a)\n",
    "H9 = hamiltonian_transformation(U, H8.expand(), expansion_search=False, N=3).expand()\n",
    "\n",
    "H9 = qsimplify(H9)"
   ]
  },
  {
   "cell_type": "code",
   "execution_count": null,
   "metadata": {
    "collapsed": true
   },
   "outputs": [],
   "source": [
    "U = exp(-I * omega_nr * t * Dagger(b) * b)\n",
    "H10 = hamiltonian_transformation(U, H9, expansion_search=False, N=3).expand()\n",
    "\n",
    "H10 = qsimplify(H10)"
   ]
  },
  {
   "cell_type": "code",
   "execution_count": null,
   "metadata": {
    "collapsed": true
   },
   "outputs": [],
   "source": [
    "U = exp(-I * omega_q * t * sp * sm)\n",
    "H11 = hamiltonian_transformation(U, H10, expansion_search=False, N=3).expand()\n",
    "\n",
    "H11 = qsimplify(H11)"
   ]
  },
  {
   "cell_type": "code",
   "execution_count": 65,
   "metadata": {
    "collapsed": false
   },
   "outputs": [],
   "source": [
    "# H8 = qsimplify(H7.expand())\n",
    "# H9 = collect(H8, [A,B,C,Dagger(a)*a,g,sz,L])\n",
    "# # H9"
   ]
  },
  {
   "cell_type": "code",
   "execution_count": null,
   "metadata": {
    "collapsed": false
   },
   "outputs": [],
   "source": [
    "# H10 = qsimplify(H9)\n",
    "\n",
    "H12 = collect(H11, [A,B,C,Dagger(a)*a,g,sz,L])\n",
    "\n",
    "# H10"
   ]
  },
  {
   "cell_type": "markdown",
   "metadata": {},
   "source": [
    "This is the Hamiltonian of the Jaynes-Cummings model in the the dispersive regime. It can be interpreted as the resonator having a qubit-state-dependent frequency shift, or alternatively that the qubit is feeling a resonator-photon-number dependent Stark-shift."
   ]
  },
  {
   "cell_type": "code",
   "execution_count": 67,
   "metadata": {
    "collapsed": false
   },
   "outputs": [
    {
     "data": {
      "image/png": "[encoded data removed]",
      "text/latex": [
       "$$A \\left({{a}^\\dagger} + {a} + \\frac{\\lambda {\\sigma_-}}{\\Delta_{{NR}}} \\left[{a},{{b}^\\dagger}\\right] - \\frac{\\lambda {\\sigma_+}}{\\Delta_{{NR}}} \\left[{{a}^\\dagger},{b}\\right] + \\frac{g {\\sigma_-}}{\\Delta_{{CPW}}} + \\frac{g {\\sigma_+}}{\\Delta_{{CPW}}} - \\frac{g \\lambda {{a}^\\dagger} {\\sigma_z}}{\\Delta_{{CPW}} \\Delta_{{NR}}} \\left[{{a}^\\dagger},{b}\\right] + \\frac{g \\lambda {{b}^\\dagger} {\\sigma_z}}{\\Delta_{{CPW}} \\Delta_{{NR}}}\\right) + B \\left({\\sigma_-} + {\\sigma_+} + \\frac{\\lambda {{b}^\\dagger}}{\\Delta_{{NR}}} {\\sigma_z} + \\frac{\\lambda {b}}{\\Delta_{{NR}}} {\\sigma_z} + \\frac{g {{a}^\\dagger}}{\\Delta_{{CPW}}} {\\sigma_z} + \\frac{g {a}}{\\Delta_{{CPW}}} {\\sigma_z} - \\frac{2 g \\lambda {{a}^\\dagger}}{\\Delta_{{CPW}} \\Delta_{{NR}}} {{b}^\\dagger} {\\sigma_-} - \\frac{2 g \\lambda {{a}^\\dagger}}{\\Delta_{{CPW}} \\Delta_{{NR}}} {b} {\\sigma_-} - \\frac{2 g \\lambda {a}}{\\Delta_{{CPW}} \\Delta_{{NR}}} {b} {\\sigma_+} - \\frac{2 g \\lambda {{b}^\\dagger}}{\\Delta_{{CPW}} \\Delta_{{NR}}} {a} {\\sigma_-} + \\frac{2 g \\lambda \\left[{{a}^\\dagger},{b}\\right]}{\\Delta_{{CPW}} \\Delta_{{NR}}} {\\sigma_-} - \\frac{2 g \\lambda \\left[{a},{{b}^\\dagger}\\right]}{\\Delta_{{CPW}} \\Delta_{{NR}}} {\\sigma_-} - \\frac{g \\lambda {\\sigma_-} \\left[{{a}^\\dagger},{b}\\right]}{\\Delta_{{CPW}} \\Delta_{{NR}}} {\\sigma_z} + \\frac{g \\lambda {\\sigma_-} \\left[{a},{{b}^\\dagger}\\right]}{\\Delta_{{CPW}} \\Delta_{{NR}}} {\\sigma_z}\\right) + C \\left({{b}^\\dagger} + {b} + \\frac{\\lambda {\\sigma_-}}{\\Delta_{{NR}}} + \\frac{\\lambda {\\sigma_+}}{\\Delta_{{NR}}} - \\frac{g {\\sigma_-}}{\\Delta_{{CPW}}} \\left[{{a}^\\dagger},{b}\\right] + \\frac{g {\\sigma_+}}{\\Delta_{{CPW}}} \\left[{a},{{b}^\\dagger}\\right] + \\frac{g \\lambda {{a}^\\dagger} {\\sigma_z}}{\\Delta_{{CPW}} \\Delta_{{NR}}} + \\frac{g \\lambda {{b}^\\dagger} {\\sigma_z}}{\\Delta_{{CPW}} \\Delta_{{NR}}} \\left[{a},{{b}^\\dagger}\\right]\\right) + \\Delta_{p} {{b}^\\dagger} {b} + \\frac{\\Delta_{s} {\\sigma_z}}{2} + g \\left(\\frac{\\Delta_{d} {{a}^\\dagger}}{\\Delta_{{CPW}}} {\\sigma_-} + \\frac{\\Delta_{d} {a}}{\\Delta_{{CPW}}} {\\sigma_+} + \\frac{\\Delta_{d} \\lambda {{b}^\\dagger} {a}}{\\Delta_{{CPW}} \\Delta_{{NR}}} {\\sigma_z} + \\frac{\\Delta_{d} \\lambda \\left[{a},{{b}^\\dagger}\\right] {\\sigma_z}}{\\Delta_{{CPW}} \\Delta_{{NR}}} + \\frac{\\Delta_{d} \\lambda {\\sigma_-} \\left[{a},{{b}^\\dagger}\\right]}{\\Delta_{{CPW}} \\Delta_{{NR}}} {\\sigma_+} - \\frac{\\Delta_{d} \\lambda {\\sigma_+} \\left[{{a}^\\dagger},{b}\\right]}{\\Delta_{{CPW}} \\Delta_{{NR}}} {\\sigma_-} - \\frac{\\Delta_{p} {{b}^\\dagger}}{\\Delta_{{CPW}}} {\\sigma_-} \\left[{{a}^\\dagger},{b}\\right] + \\frac{\\Delta_{p} {\\sigma_+}}{\\Delta_{{CPW}}} \\left[{a},{{b}^\\dagger}\\right] {b} + \\frac{\\Delta_{p} \\lambda {{a}^\\dagger} {b}}{\\Delta_{{CPW}} \\Delta_{{NR}}} {\\sigma_z} + \\frac{\\Delta_{p} \\lambda {{b}^\\dagger} {\\sigma_z}}{\\Delta_{{CPW}} \\Delta_{{NR}}} \\left[{a},{{b}^\\dagger}\\right] {b} - \\frac{\\Delta_{p} \\lambda \\left[{{a}^\\dagger},{b}\\right] {\\sigma_z}}{\\Delta_{{CPW}} \\Delta_{{NR}}} - \\frac{\\Delta_{p} \\lambda {\\sigma_-} \\left[{{a}^\\dagger},{b}\\right]}{\\Delta_{{CPW}} \\Delta_{{NR}}} {\\sigma_+} + \\frac{\\Delta_{p} \\lambda {\\sigma_+} \\left[{a},{{b}^\\dagger}\\right]}{\\Delta_{{CPW}} \\Delta_{{NR}}} {\\sigma_-} - \\frac{\\Delta_{s} {{a}^\\dagger}}{\\Delta_{{CPW}}} {\\sigma_-} - \\frac{\\Delta_{s} {a}}{\\Delta_{{CPW}}} {\\sigma_+} - \\frac{\\Delta_{s} \\lambda {{a}^\\dagger} {b}}{\\Delta_{{CPW}} \\Delta_{{NR}}} {\\sigma_z} - \\frac{\\Delta_{s} \\lambda {{b}^\\dagger} {a}}{\\Delta_{{CPW}} \\Delta_{{NR}}} {\\sigma_z} + \\frac{\\Delta_{s} \\lambda \\left[{{a}^\\dagger},{b}\\right] {\\sigma_z}}{\\Delta_{{CPW}} \\Delta_{{NR}}} - \\frac{\\Delta_{s} \\lambda \\left[{a},{{b}^\\dagger}\\right] {\\sigma_z}}{\\Delta_{{CPW}} \\Delta_{{NR}}} + \\frac{\\Delta_{s} \\lambda {\\sigma_-} \\left[{{a}^\\dagger},{b}\\right]}{\\Delta_{{CPW}} \\Delta_{{NR}}} {\\sigma_+} - \\frac{\\Delta_{s} \\lambda {\\sigma_-} \\left[{a},{{b}^\\dagger}\\right]}{\\Delta_{{CPW}} \\Delta_{{NR}}} {\\sigma_+}\\right) + \\lambda \\left(\\frac{\\Delta_{d} {{a}^\\dagger}}{\\Delta_{{NR}}} {\\sigma_-} \\left[{a},{{b}^\\dagger}\\right] - \\frac{\\Delta_{d} {\\sigma_+}}{\\Delta_{{NR}}} \\left[{{a}^\\dagger},{b}\\right] {a} + \\frac{\\Delta_{p} {{b}^\\dagger}}{\\Delta_{{NR}}} {\\sigma_-} + \\frac{\\Delta_{p} {b}}{\\Delta_{{NR}}} {\\sigma_+} - \\frac{\\Delta_{s} {{b}^\\dagger}}{\\Delta_{{NR}}} {\\sigma_-} - \\frac{\\Delta_{s} {b}}{\\Delta_{{NR}}} {\\sigma_+}\\right) + {{a}^\\dagger} {a} \\left(\\Delta_{d} - \\frac{\\Delta_{d} g \\lambda {\\sigma_z}}{\\Delta_{{CPW}} \\Delta_{{NR}}} \\left[{{a}^\\dagger},{b}\\right]\\right)$$"
      ],
      "text/plain": [
       "  ⎛                 ⎡   †⎤           ⎡ †  ⎤                            †      \n",
       "  ⎜ †       λ⋅False⋅⎣a,b ⎦   λ⋅False⋅⎣a ,b⎦   g⋅False   g⋅False   g⋅λ⋅a ⋅False\n",
       "A⋅⎜a  + a + ────────────── - ────────────── + ─────── + ─────── - ────────────\n",
       "  ⎝             Δ_{NR}           Δ_{NR}       Δ_{CPW}   Δ_{CPW}      Δ_{CPW}⋅Δ\n",
       "\n",
       " ⎡ †  ⎤         †       ⎞     ⎛                   †                        †  \n",
       "⋅⎣a ,b⎦    g⋅λ⋅b ⋅False ⎟     ⎜                λ⋅b ⋅False   λ⋅b⋅False   g⋅a ⋅F\n",
       "─────── + ──────────────⎟ + B⋅⎜False + False + ────────── + ───────── + ──────\n",
       "_{NR}     Δ_{CPW}⋅Δ_{NR}⎠     ⎝                  Δ_{NR}       Δ_{NR}     Δ_{CP\n",
       "\n",
       "                          †  †                †                               \n",
       "alse   g⋅a⋅False   2⋅g⋅λ⋅a ⋅b ⋅False   2⋅g⋅λ⋅a ⋅b⋅False   2⋅g⋅λ⋅a⋅b⋅False   2⋅\n",
       "──── + ───────── - ───────────────── - ──────────────── - ─────────────── - ──\n",
       "W}      Δ_{CPW}      Δ_{CPW}⋅Δ_{NR}     Δ_{CPW}⋅Δ_{NR}     Δ_{CPW}⋅Δ_{NR}    Δ\n",
       "\n",
       "     †                 ⎡ †  ⎤               ⎡   †⎤                   ⎡ †  ⎤   \n",
       "g⋅λ⋅b ⋅a⋅False   2⋅g⋅λ⋅⎣a ,b⎦⋅False   2⋅g⋅λ⋅⎣a,b ⎦⋅False   g⋅λ⋅False⋅⎣a ,b⎦⋅Fa\n",
       "────────────── + ────────────────── - ────────────────── - ───────────────────\n",
       "_{CPW}⋅Δ_{NR}      Δ_{CPW}⋅Δ_{NR}       Δ_{CPW}⋅Δ_{NR}         Δ_{CPW}⋅Δ_{NR} \n",
       "\n",
       "                ⎡   †⎤      ⎞     ⎛                                     ⎡ †  ⎤\n",
       "lse   g⋅λ⋅False⋅⎣a,b ⎦⋅False⎟     ⎜ †       λ⋅False   λ⋅False   g⋅False⋅⎣a ,b⎦\n",
       "─── + ──────────────────────⎟ + C⋅⎜b  + b + ─────── + ─────── - ──────────────\n",
       "          Δ_{CPW}⋅Δ_{NR}    ⎠     ⎝          Δ_{NR}    Δ_{NR}      Δ_{CPW}    \n",
       "\n",
       "           ⎡   †⎤         †               †       ⎡   †⎤⎞                     \n",
       "   g⋅False⋅⎣a,b ⎦    g⋅λ⋅a ⋅False    g⋅λ⋅b ⋅False⋅⎣a,b ⎦⎟        †     Δ_s⋅Fal\n",
       " + ────────────── + ────────────── + ───────────────────⎟ + Δ_p⋅b ⋅b + ───────\n",
       "      Δ_{CPW}       Δ_{CPW}⋅Δ_{NR}      Δ_{CPW}⋅Δ_{NR}  ⎠                  2  \n",
       "\n",
       "       ⎛     †                              †                 ⎡   †⎤          \n",
       "se     ⎜Δ_d⋅a ⋅False   Δ_d⋅a⋅False   Δ_d⋅λ⋅b ⋅a⋅False   Δ_d⋅λ⋅⎣a,b ⎦⋅False   Δ\n",
       "── + g⋅⎜──────────── + ─────────── + ──────────────── + ────────────────── + ─\n",
       "       ⎝  Δ_{CPW}        Δ_{CPW}      Δ_{CPW}⋅Δ_{NR}      Δ_{CPW}⋅Δ_{NR}      \n",
       "\n",
       "           ⎡   †⎤                     ⎡ †  ⎤              †       ⎡ †  ⎤      \n",
       "_d⋅λ⋅False⋅⎣a,b ⎦⋅False   Δ_d⋅λ⋅False⋅⎣a ,b⎦⋅False   Δ_p⋅b ⋅False⋅⎣a ,b⎦   Δ_p\n",
       "─────────────────────── - ──────────────────────── - ─────────────────── + ───\n",
       "    Δ_{CPW}⋅Δ_{NR}             Δ_{CPW}⋅Δ_{NR}              Δ_{CPW}            \n",
       "\n",
       "       ⎡   †⎤            †                  †       ⎡   †⎤           ⎡ †  ⎤   \n",
       "⋅False⋅⎣a,b ⎦⋅b   Δ_p⋅λ⋅a ⋅b⋅False   Δ_p⋅λ⋅b ⋅False⋅⎣a,b ⎦⋅b   Δ_p⋅λ⋅⎣a ,b⎦⋅Fa\n",
       "─────────────── + ──────────────── + ─────────────────────── - ───────────────\n",
       "  Δ_{CPW}          Δ_{CPW}⋅Δ_{NR}         Δ_{CPW}⋅Δ_{NR}         Δ_{CPW}⋅Δ_{NR\n",
       "\n",
       "                  ⎡ †  ⎤                     ⎡   †⎤              †            \n",
       "lse   Δ_p⋅λ⋅False⋅⎣a ,b⎦⋅False   Δ_p⋅λ⋅False⋅⎣a,b ⎦⋅False   Δ_s⋅a ⋅False   Δ_s\n",
       "─── - ──────────────────────── + ──────────────────────── - ──────────── - ───\n",
       "}          Δ_{CPW}⋅Δ_{NR}             Δ_{CPW}⋅Δ_{NR}          Δ_{CPW}        Δ\n",
       "\n",
       "                  †                  †                 ⎡ †  ⎤               ⎡ \n",
       "⋅a⋅False   Δ_s⋅λ⋅a ⋅b⋅False   Δ_s⋅λ⋅b ⋅a⋅False   Δ_s⋅λ⋅⎣a ,b⎦⋅False   Δ_s⋅λ⋅⎣a\n",
       "──────── - ──────────────── - ──────────────── + ────────────────── - ────────\n",
       "_{CPW}      Δ_{CPW}⋅Δ_{NR}     Δ_{CPW}⋅Δ_{NR}      Δ_{CPW}⋅Δ_{NR}       Δ_{CPW\n",
       "\n",
       "  †⎤                     ⎡ †  ⎤                     ⎡   †⎤      ⎞     ⎛     † \n",
       ",b ⎦⋅False   Δ_s⋅λ⋅False⋅⎣a ,b⎦⋅False   Δ_s⋅λ⋅False⋅⎣a,b ⎦⋅False⎟     ⎜Δ_d⋅a ⋅\n",
       "────────── + ──────────────────────── - ────────────────────────⎟ + λ⋅⎜───────\n",
       "}⋅Δ_{NR}          Δ_{CPW}⋅Δ_{NR}             Δ_{CPW}⋅Δ_{NR}     ⎠     ⎝       \n",
       "\n",
       "      ⎡   †⎤             ⎡ †  ⎤          †                            †       \n",
       "False⋅⎣a,b ⎦   Δ_d⋅False⋅⎣a ,b⎦⋅a   Δ_p⋅b ⋅False   Δ_p⋅b⋅False   Δ_s⋅b ⋅False \n",
       "──────────── - ────────────────── + ──────────── + ─────────── - ──────────── \n",
       "Δ_{NR}               Δ_{NR}            Δ_{NR}         Δ_{NR}        Δ_{NR}    \n",
       "\n",
       "             ⎞        ⎛                    ⎡ †  ⎤⎞\n",
       "  Δ_s⋅b⋅False⎟    †   ⎜      Δ_d⋅g⋅λ⋅False⋅⎣a ,b⎦⎟\n",
       "- ───────────⎟ + a ⋅a⋅⎜Δ_d - ────────────────────⎟\n",
       "     Δ_{NR}  ⎠        ⎝         Δ_{CPW}⋅Δ_{NR}   ⎠"
      ]
     },
     "execution_count": 67,
     "metadata": {},
     "output_type": "execute_result"
    }
   ],
   "source": [
    "H12"
   ]
  }
 ],
 "metadata": {
  "kernelspec": {
   "display_name": "Python 3",
   "language": "python",
   "name": "python3"
  },
  "language_info": {
   "codemirror_mode": {
    "name": "ipython",
    "version": 3
   },
   "file_extension": ".py",
   "mimetype": "text/x-python",
   "name": "python",
   "nbconvert_exporter": "python",
   "pygments_lexer": "ipython3",
   "version": "3.4.3"
  }
 },
 "nbformat": 4,
 "nbformat_minor": 0
}
