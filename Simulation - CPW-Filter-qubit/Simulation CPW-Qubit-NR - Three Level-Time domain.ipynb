{
 "cells": [
  {
   "cell_type": "markdown",
   "metadata": {},
   "source": []
  },
  {
   "cell_type": "code",
   "execution_count": 1,
   "metadata": {
    "code_folding": [],
    "collapsed": false
   },
   "outputs": [
    {
     "name": "stdout",
     "output_type": "stream",
     "text": [
      "Populating the interactive namespace from numpy and matplotlib\n"
     ]
    }
   ],
   "source": [
    "#import functions\n",
    "%pylab inline\n",
    "\n",
    "# from MyUnits import *\n",
    "from MyFunctions import *\n",
    "from qutip import *\n",
    "\n",
    "# from MyQubit import *\n",
    "# import mpld3\n",
    "import multiprocessing as mp\n",
    "import itertools\n",
    "import datetime\n",
    "\n",
    "\n",
    "\n"
   ]
  },
  {
   "cell_type": "code",
   "execution_count": 2,
   "metadata": {
    "code_folding": [
     1
    ],
    "collapsed": true
   },
   "outputs": [],
   "source": [
    "import scipy.constants as sc"
   ]
  },
  {
   "cell_type": "code",
   "execution_count": 3,
   "metadata": {
    "collapsed": true
   },
   "outputs": [],
   "source": [
    "import time\n",
    "import datetime"
   ]
  },
  {
   "cell_type": "code",
   "execution_count": 4,
   "metadata": {
    "collapsed": false
   },
   "outputs": [
    {
     "data": {
      "application/javascript": [
       "IPython.load_extensions('usability/codefolding/main');\n",
       "IPython.load_extensions('toggle_all_line_number.js');"
      ],
      "text/plain": [
       "<IPython.core.display.Javascript object>"
      ]
     },
     "metadata": {},
     "output_type": "display_data"
    }
   ],
   "source": [
    "\n",
    "\n",
    "%%javascript\n",
    "IPython.load_extensions('usability/codefolding/main');\n",
    "IPython.load_extensions('toggle_all_line_number.js');"
   ]
  },
  {
   "cell_type": "markdown",
   "metadata": {
    "code_folding": [
     0
    ]
   },
   "source": [
    "## Hamiltonian"
   ]
  },
  {
   "cell_type": "code",
   "execution_count": 5,
   "metadata": {
    "collapsed": false
   },
   "outputs": [
    {
     "data": {
      "text/latex": [
       "Quantum object: dims = [[3], [3]], shape = [3, 3], type = oper, isherm = True\\begin{equation*}\\left(\\begin{array}{*{11}c}1.0 & 0.0 & 0.0\\\\0.0 & 0.0 & 0.0\\\\0.0 & 0.0 & 0.0\\\\\\end{array}\\right)\\end{equation*}"
      ],
      "text/plain": [
       "Quantum object: dims = [[3], [3]], shape = [3, 3], type = oper, isherm = True\n",
       "Qobj data =\n",
       "[[ 1.  0.  0.]\n",
       " [ 0.  0.  0.]\n",
       " [ 0.  0.  0.]]"
      ]
     },
     "execution_count": 5,
     "metadata": {},
     "output_type": "execute_result"
    }
   ],
   "source": [
    "s11,s22,s33,s12,s32 = three_level_ops()\n",
    "s11"
   ]
  },
  {
   "cell_type": "code",
   "execution_count": 6,
   "metadata": {
    "collapsed": false
   },
   "outputs": [],
   "source": [
    "v1,v2,v3 = three_level_basis()"
   ]
  },
  {
   "cell_type": "code",
   "execution_count": 14,
   "metadata": {
    "code_folding": [],
    "collapsed": false
   },
   "outputs": [],
   "source": [
    "# Hamiltonians Functions\n",
    "# Calc Spectrum\n",
    "def calc_spectrum_6(N,M,P, w_c, w_nr, w_q, L, g, A, w=0, **kwargs):\n",
    "    \n",
    "    Ec = kwargs['Ec']\n",
    "    # dispersive Qubit CPW NR \n",
    "    Delta = w_q - w_c\n",
    "    delta = w_q - w_nr\n",
    "    # qubit operators\n",
    "    s11,s22,s33,s12,s32 = three_level_ops()\n",
    "    v1,v2,v3 = three_level_basis()\n",
    "    \n",
    "    Ts11 = tensor(s11,qeye(M),qeye(P))\n",
    "    Ts22 = tensor(s22,qeye(M),qeye(P))\n",
    "    Ts33 = tensor(s33,qeye(M),qeye(P))\n",
    "    Ts12 = tensor(s12,qeye(M),qeye(P))\n",
    "    Ts32 = tensor(s32,qeye(M),qeye(P))\n",
    "    \n",
    "    Tv1 = tensor(v1,qeye(M),qeye(P))\n",
    "    Tv2 = tensor(v2,qeye(M),qeye(P))\n",
    "    Tv3 = tensor(v3,qeye(M),qeye(P))\n",
    "    \n",
    "    I = tensor(qeye(3),qeye(M),qeye(P))\n",
    "    \n",
    "    \n",
    "    \n",
    "    \n",
    "    \n",
    "#     sm = tensor(create(2),qeye(M),qeye(P))\n",
    "#     sz = tensor(sigmaz(),qeye(M),qeye(P))\n",
    "#     sx = tensor(sigmax(),qeye(M),qeye(P))\n",
    "#     nq = sm.dag() * sm\n",
    "#     xq = sm + sm.dag()\n",
    "#     I = tensor(qeye(2), qeye(M),qeye(P))\n",
    "    \n",
    "    \n",
    "    # mechanical resonator operators\n",
    "    \n",
    "    b = tensor(qeye(3),destroy(M),qeye(P))\n",
    "    n_b = b.dag() * b\n",
    "    x_b = b.dag() + b\n",
    "    p_b = b - b.dag()\n",
    "    \n",
    "    \n",
    "    # CPW operators\n",
    "    \n",
    "    c = tensor(qeye(3),qeye(M),destroy(P))\n",
    "    n_c = c.dag() * c\n",
    "    x_c = c.dag() + c\n",
    "    p_c = c - c.dag()\n",
    "    \n",
    "    # Identity\n",
    "    \n",
    "    \n",
    "    \n",
    "#      Hamiltonian\n",
    "\n",
    "    H3 = (w_q - w ) * Ts22 + (2 * w_q - Ec - w) * Ts33\n",
    "        \n",
    "\n",
    "    H1 = (w_nr - w )* (b.dag() * b ) + L * (b.dag() * ( Ts12 + sqrt(2) * Ts32.dag() ) \n",
    "                                            + b * ( Ts12.dag() + sqrt(2) * Ts32 )\n",
    "                                           )\n",
    "\n",
    "\n",
    "    H2 = (w_c - w) * (c.dag() * c )  + g * ( c.dag()*(Ts12 + sqrt(2) * Ts32.dag()) \n",
    "                                            + c*(Ts12.dag() + sqrt(2) * Ts32)\n",
    "                                           )\n",
    "\n",
    "\n",
    "    H4 = A * (c.dag() + c)\n",
    "\n",
    "    \n",
    "#     Colapse Operators\n",
    "    \n",
    "    c_op_list = []\n",
    "    \n",
    "    kappa_n =0.00025 # cavity\n",
    "    #kappa_n =0.0004 # cavity\n",
    "    #kappa_n =0.0012 # cavity\n",
    "    #kappa_n =0.002 # cavity\n",
    "    \n",
    "    gamma_rel = 0.0002 # qubit\n",
    "    gamma_dep = 0.001 # qubit\n",
    "    \n",
    "    Gamma_m = 0.01 # MR\n",
    "   \n",
    "    \n",
    "    Ta = 60e-3 #k\n",
    "    Tq = 30e-3 #K\n",
    "    \n",
    "    Tb = 50*30e-3 #k\n",
    "    #Tb = 60e-3 #k\n",
    "    #Tb = 100e-3 #k\n",
    "    #Tb = 300e-3 #k\n",
    "    \n",
    "    \n",
    "    \n",
    "    n_th_a = 1/(exp(sc.h*w_q*1e9/(sc.k*Ta)-1))\n",
    "    \n",
    "    n_th_q = 1/(exp(sc.h*w_q*1e9/(sc.k*Tq)-1))\n",
    "    \n",
    "    if Tb == 0:\n",
    "         n_th_b = 0\n",
    "    else:\n",
    "        \n",
    "        n_th_b = 1/(exp(sc.h*w_nr*1e9/(sc.k*Tb)-1))\n",
    "    \n",
    "    # cavity\n",
    "    c_op_list = []\n",
    "\n",
    "    rate = kappa_n * (1 + n_th_a)\n",
    "    if rate > 0.0:\n",
    "        c_op_list.append(sqrt(rate) * c)\n",
    "\n",
    "    rate = kappa_n * n_th_a\n",
    "    if rate > 0.0:\n",
    "        c_op_list.append(sqrt(rate) * c.dag())\n",
    "\n",
    "    rate = gamma_rel * (1 + n_th_q)\n",
    "    if rate > 0.0:\n",
    "        c_op_list.append(sqrt(rate) * (Ts12 + sqrt(2) * Ts32.dag())\n",
    "                        )\n",
    "\n",
    "    rate = gamma_rel * (n_th_q)\n",
    "    if rate > 0.0:\n",
    "        c_op_list.append(sqrt(rate) * (Ts12.dag() + sqrt(2) * Ts32)\n",
    "                        )\n",
    "\n",
    "    rate = gamma_dep / 2 * (1 + n_th_q)\n",
    "    if rate > 0.0:\n",
    "        c_op_list.append(sqrt(rate) * (Ts22 + sqrt(2) * Ts33))\n",
    "        \n",
    "    rate = Gamma_m * (1 + n_th_b)\n",
    "    if rate > 0.0:\n",
    "        c_op_list.append(sqrt(rate) * b)\n",
    "\n",
    "    rate = Gamma_m * n_th_b\n",
    "    if rate > 0.0:\n",
    "        c_op_list.append(sqrt(rate) * b.dag())    \n",
    "        \n",
    "    \n",
    "# Solution Type    \n",
    "    if 'dispersive' in kwargs:\n",
    "        psi0 = tensor(s11,thermal_dm(M,n_th_b),thermal_dm(P,n_th_a))\n",
    "        \n",
    "        tlist = linspace(0,40000,100)       \n",
    "        e_ops = [c]\n",
    "        \n",
    "        H0 = H1 + H2 + H3 + H4 #+ H5\n",
    "        rho = mesolve( H0, psi0, tlist, c_op_list, e_ops,options=Odeoptions(nsteps=50000)) \n",
    "        \n",
    "        \n",
    "        return rho,tlist\n",
    "    \n",
    "    elif 'energies'in kwargs:\n",
    "        H = H1 + H2 + H3 + H4\n",
    "        \n",
    "        return H.eigenenergies() #+ H4\n",
    "    else:\n",
    "        raise ValueError(\"unknown solver\")"
   ]
  },
  {
   "cell_type": "code",
   "execution_count": 15,
   "metadata": {
    "collapsed": false
   },
   "outputs": [],
   "source": [
    "# mesolve()"
   ]
  },
  {
   "cell_type": "code",
   "execution_count": 21,
   "metadata": {
    "code_folding": [
     0
    ],
    "collapsed": false
   },
   "outputs": [
    {
     "name": "stdout",
     "output_type": "stream",
     "text": [
      "4.95000686255\n"
     ]
    }
   ],
   "source": [
    "N = 2\n",
    "M = 2\n",
    "P = 2\n",
    "w_c = 5\n",
    "w_nr = 3.5\n",
    "g = 0.08\n",
    "L = 0.1*0.0012*4.5\n",
    "#L = 0.0012*5.5\n",
    "#L = 0.0012*6.5\n",
    "#L = 0.0012*7.5\n",
    "Ej = 15\n",
    "Ec = 0.223\n",
    "w = 0\n",
    "w_q_max = sqrt(8 * Ec * Ej) - Ec\n",
    "print(w_q_max)\n",
    "d = 0.10\n",
    "A = 0.0002# field aplitude\n",
    "\n",
    "# phi = linspace(0,pi/2,200)\n",
    "x_i,x_f = 0.314,0.342\n",
    "phi = pi*linspace(x_i,x_f,40)\n",
    "x_vec =  sqrt( 8 * Ec * Ej* abs(cos(phi))*sqrt(1+(d*tan(phi))**2) )-Ec\n",
    "\n",
    "\n",
    "\n",
    "\n",
    "kwargs = {'num_cpus':27,'energies':1, 'Ec':Ec}"
   ]
  },
  {
   "cell_type": "code",
   "execution_count": 22,
   "metadata": {
    "code_folding": [
     0
    ],
    "collapsed": false
   },
   "outputs": [
    {
     "name": "stdout",
     "output_type": "stream",
     "text": [
      "Parallel Simulation with 27 CPUs \n",
      "[100.0%] of the simulations calculated, Estimated Remaining time: 0.0s\n",
      "All done! \n",
      "Total time:0:00:00\n"
     ]
    }
   ],
   "source": [
    "# Energies\n",
    "\n",
    "\n",
    "# variable to count the total number of tasks we need to do; used to create progress bar\n",
    "task_count =len(x_vec)\n",
    "\n",
    "\n",
    "\n",
    "# Check number of cpus to be used\n",
    "if 'num_cpus' in kwargs:\n",
    "    num_cpu = kwargs['num_cpus']\n",
    "    if num_cpu == 1:\n",
    "        print(\"1 CPU; Serial Simulation\")\n",
    "    else:\n",
    "        print(\"Parallel Simulation with %d CPUs \" % num_cpu)    \n",
    "else:\n",
    "    num_cpu = 1\n",
    "    print(\"Serial Simulation\")\n",
    "\n",
    "\n",
    "\n",
    "## Program to run function in parallel: \n",
    "\n",
    "try:\n",
    "    t_start = time.time() # start time simulation\n",
    "    time_1 = []\n",
    "    pool = mp.Pool(processes=num_cpu) #  create the initial pool to run the simulation   \n",
    "#         manager = mp.Manager()\n",
    "#         queue = manager.Queue()\n",
    "\n",
    "\n",
    "#         _update_progress_bar(1)\n",
    "#     task_args = a,z\n",
    "    results = [pool.apply_async(calc_spectrum_6,(N,\n",
    "                                                 M,\n",
    "                                                 P,\n",
    "                                                 w_c,\n",
    "                                                 w_nr,\n",
    "                                                 a1,\n",
    "                                                 L,\n",
    "                                                 g,\n",
    "                                                 A,\n",
    "                                                 w),kwargs\n",
    "                                ,callback=None,error_callback=None) for a1 in x_vec]\n",
    "\n",
    "\n",
    "\n",
    "    #####N,M,P, w_c,w_nr, w_q,L,g,A,w=0\n",
    "    while True:\n",
    "        incomplete_count = sum(1 for x in results if not x.ready())\n",
    "\n",
    "        if incomplete_count == 0:\n",
    "            print(\"[100.0%] of the simulations calculated, Estimated Remaining time: 0.0s\", end=\"\\r\")\n",
    "            print( \"\\nAll done! \\nTotal time:%s\"%datetime.timedelta(seconds=int(dif_time)))\n",
    "            break\n",
    "\n",
    "        else:\n",
    "\n",
    "            p = float(task_count - incomplete_count) / task_count * 100 \n",
    "\n",
    "            dif_time = (time.time() - t_start)    \n",
    "\n",
    "#                 \n",
    "            if p > 0:\n",
    "                rem_time = (datetime.timedelta(seconds=int(dif_time*(100-p)/p)))\n",
    "\n",
    "#                     rem_time_1 = (datetime.timedelta(seconds=int(dif_time/(task_count-incomplete_count))))\n",
    "                time_1.append(float(dif_time/(task_count-  incomplete_count)))\n",
    "#                     rem_time_1 = mean(time_1) *task_count\n",
    "#                     rem_time_1 = (datetime.timedelta( seconds=int(mean(time_1) *task_count)))\n",
    "                rem_time_1 = time.strftime(\"%Z - %Y/%m/%d, %H:%M:%S\", time.localtime(t_start+mean(time_1) *task_count))\n",
    "            else:\n",
    "                rem_time = '?'\n",
    "                rem_time_1 = 0\n",
    "\n",
    "\n",
    "            print(\"[%4.1f%%] of the simulations calculated, Estimated Remaining time: %s, (%s)\"\n",
    "                  %(p,rem_time,rem_time_1) , end=\"\\r\")\n",
    "\n",
    "            time.sleep(.25)\n",
    "\n",
    "\n",
    "    while not all([ar.ready() for ar in results]):\n",
    "\n",
    "        for ar in results:    \n",
    "            ar.wait(timeout=0.1)\n",
    "\n",
    "    pool.terminate()\n",
    "    pool.join()\n",
    "\n",
    "except KeyboardInterrupt as e:\n",
    "    pool.terminate()\n",
    "    pool.join()\n",
    "    raise e\n",
    "\n",
    "\n",
    "\n",
    "\n",
    "energies_temp = [ar.get() for ar in results]\n",
    "energies = asarray(energies_temp)\n",
    "\n",
    "\n",
    "\n"
   ]
  },
  {
   "cell_type": "code",
   "execution_count": 23,
   "metadata": {
    "code_folding": [],
    "collapsed": false,
    "scrolled": false
   },
   "outputs": [
    {
     "data": {
      "text/plain": [
       "<matplotlib.collections.LineCollection at 0x7fe02ca058d0>"
      ]
     },
     "execution_count": 23,
     "metadata": {},
     "output_type": "execute_result"
    },
    {
     "data": {
      "image/png": "[encoded data removed]",
      "text/plain": [
       "<matplotlib.figure.Figure at 0x7fe02cb69240>"
      ]
     },
     "metadata": {},
     "output_type": "display_data"
    }
   ],
   "source": [
    "# Plot \n",
    "fig, axes = subplots(1,1, figsize=(16,6))\n",
    "x_inf = -1\n",
    "x_sup = 10\n",
    "\n",
    "for n in range(len(energies[0,:])):\n",
    "    axes.plot(phi/pi, (energies[:,n]-energies[:,0]),'-',linewidth=2)\n",
    "#     axes.plot(phi/pi, (energies[:,n]-energies[:,0])/2,'--')\n",
    "    \n",
    "    if n < 4:\n",
    "        axes.text(x_i,energies[0,n]-energies[0,0],r'|%s>'%(n),fontsize=20)\n",
    "    \n",
    "axes.set_title('Full')\n",
    "axes.set_ylim(x_inf, x_sup)\n",
    "axes.set_xlabel(r'$\\phi$', fontsize=18)\n",
    "axes.set_ylabel(r'$E_n-E_0$', fontsize=18)\n",
    "axes.hlines(w_nr,x_i,x_f,linestyles='dashed',linewidth=3,color='green')\n",
    "axes.hlines(w_c,x_i,x_f,linestyles='dashed',linewidth=3)\n",
    "axes.vlines(0.33,0,10,linestyles='dashed',linewidth=3)\n",
    "\n",
    "\n",
    "\n",
    "\n"
   ]
  },
  {
   "cell_type": "code",
   "execution_count": 25,
   "metadata": {
    "code_folding": [
     0
    ],
    "collapsed": false
   },
   "outputs": [],
   "source": [
    "y_i,y_f = 4.994,5.008\n",
    "y_vec = linspace(y_i,y_f,40) \n",
    "a , b = zip(*itertools.product(x_vec,y_vec))\n",
    "kwargs = {'num_cpus':13,'dispersive':1, 'Ec':Ec}"
   ]
  },
  {
   "cell_type": "code",
   "execution_count": 26,
   "metadata": {
    "code_folding": [
     0
    ],
    "collapsed": false
   },
   "outputs": [
    {
     "name": "stdout",
     "output_type": "stream",
     "text": [
      "Parallel Simulation with 13 CPUs \n",
      "[100.0%] of the simulations calculated, Estimated Remaining time: 0.0s\n",
      "All done! \n",
      "Mean time:1.696398\n",
      "\n",
      "Total time:0:45:14\n"
     ]
    }
   ],
   "source": [
    "# Run Spectrum\n",
    "# Create from the original vectors the new vector with the correct number copies\n",
    "a , b = zip(*itertools.product(x_vec,y_vec))\n",
    "# variable to count the total number of tasks we need to do; used to create progress bar\n",
    "task_count =len(x_vec)*len(y_vec)\n",
    "\n",
    "# Check number of cpus to be used\n",
    "if 'num_cpus' in kwargs:\n",
    "    num_cpu = kwargs['num_cpus']\n",
    "    if num_cpu == 1:\n",
    "        print(\"1 CPU; Serial Simulation\")\n",
    "    else:\n",
    "        print(\"Parallel Simulation with %d CPUs \" % num_cpu)    \n",
    "else:\n",
    "    num_cpu = 1\n",
    "    print(\"Serial Simulation\")\n",
    "\n",
    "\n",
    "\n",
    "## Program to run function in parallel: \n",
    "t_start = time.time() # start time simulation\n",
    "time_1 = []\n",
    "try:\n",
    "    pool = mp.Pool(processes=num_cpu) #  create the initial pool to run the simulation   \n",
    "#         manager = mp.Manager()\n",
    "#         queue = manager.Queue()\n",
    "\n",
    "\n",
    "#         _update_progress_bar(1)\n",
    "#     task_args = a,z\n",
    "    results = [pool.apply_async(calc_spectrum_6,(N,\n",
    "                                                 M,\n",
    "                                                 P,\n",
    "                                                 w_c,\n",
    "                                                 w_nr,\n",
    "                                                 a1,\n",
    "                                                 L,\n",
    "                                                 g,\n",
    "                                                 A,\n",
    "                                                 b1),kwargs\n",
    "                                ,callback=None,error_callback=None) for a1,b1 in zip(a,b)]\n",
    "\n",
    "\n",
    "\n",
    "        #####\n",
    "    while True:\n",
    "        incomplete_count = sum(1 for x in results if not x.ready())\n",
    "\n",
    "        if incomplete_count == 0:\n",
    "            print(\"[100.0%] of the simulations calculated, Estimated Remaining time: 0.0s\", end=\"\\r\")\n",
    "            print( \"\\nAll done! \\nMean time:%f\"%(dif_time/task_count))\n",
    "            print( \"\\nTotal time:%s\"%datetime.timedelta(seconds=int(dif_time)))\n",
    "            break\n",
    "\n",
    "        else:\n",
    "\n",
    "            p = float(task_count - incomplete_count) / task_count * 100 \n",
    "\n",
    "            dif_time = (time.time() - t_start)    \n",
    "\n",
    "#                 \n",
    "            if p > 0:\n",
    "                rem_time = (datetime.timedelta(seconds=int(dif_time*(100-p)/p)))\n",
    "\n",
    "#                     rem_time_1 = (datetime.timedelta(seconds=int(dif_time/(task_count-incomplete_count))))\n",
    "                time_1.append(float(dif_time/(task_count -  incomplete_count)))\n",
    "#                     rem_time_1 = mean(time_1) *task_count\n",
    "#                     rem_time_1 = (datetime.timedelta( seconds=int(mean(time_1) *task_count)))\n",
    "                rem_time_1 = time.strftime(\"%Z - %Y/%m/%d, %H:%M:%S\", time.localtime(t_start+mean(time_1) *task_count))\n",
    "            else:\n",
    "                rem_time = '?'\n",
    "                rem_time_1 = 0\n",
    "\n",
    "\n",
    "            print(\"[%4.1f%%] of the simulations calculated, Estimated Remaining time: %s, (%s)\"\n",
    "                  %(p,rem_time,rem_time_1) , end=\"\\r\")\n",
    "\n",
    "            time.sleep(.25)\n",
    "\n",
    "\n",
    "    while not all([ar.ready() for ar in results]):\n",
    "\n",
    "        for ar in results:    \n",
    "            ar.wait(timeout=0.1)\n",
    "\n",
    "    pool.terminate()\n",
    "    pool.join()\n",
    "\n",
    "except KeyboardInterrupt as e:\n",
    "    pool.terminate()\n",
    "    pool.join()\n",
    "    raise e\n",
    "\n",
    "\n",
    "\n",
    "\n",
    "results = [ar.get() for ar in results]\n",
    "\n"
   ]
  },
  {
   "cell_type": "code",
   "execution_count": 27,
   "metadata": {
    "collapsed": false
   },
   "outputs": [
    {
     "data": {
      "text/plain": [
       "(1600, 2)"
      ]
     },
     "execution_count": 27,
     "metadata": {},
     "output_type": "execute_result"
    }
   ],
   "source": [
    "shape(results)"
   ]
  },
  {
   "cell_type": "code",
   "execution_count": 28,
   "metadata": {
    "code_folding": [
     0
    ],
    "collapsed": false
   },
   "outputs": [],
   "source": [
    "# Reshape Results\n",
    "#results = qload('Two_Dispersive_Simulation')\n",
    "results_1 = asarray(results)\n",
    "#qsave(results,name='k1200L3T100')\n",
    "#qsave(results,name='Two_Dispersive_Simulation')\n",
    "# qsave(results,name='ThirtytyVolts')\n",
    "\n",
    "tr_c = reshape(results_1,(-1,len(y_vec+1)))"
   ]
  },
  {
   "cell_type": "code",
   "execution_count": 102,
   "metadata": {
    "collapsed": false
   },
   "outputs": [
    {
     "data": {
      "text/plain": [
       "(40, 40)"
      ]
     },
     "execution_count": 102,
     "metadata": {},
     "output_type": "execute_result"
    }
   ],
   "source": [
    "shape(tr_c)"
   ]
  },
  {
   "cell_type": "code",
   "execution_count": 103,
   "metadata": {
    "collapsed": false
   },
   "outputs": [
    {
     "ename": "AttributeError",
     "evalue": "'ApplyResult' object has no attribute 'expect'",
     "output_type": "error",
     "traceback": [
      "\u001b[1;31m---------------------------------------------------------------------------\u001b[0m",
      "\u001b[1;31mAttributeError\u001b[0m                            Traceback (most recent call last)",
      "\u001b[1;32m<ipython-input-103-0c786de604b1>\u001b[0m in \u001b[0;36m<module>\u001b[1;34m()\u001b[0m\n\u001b[0;32m      1\u001b[0m \u001b[0mtlist\u001b[0m \u001b[1;33m=\u001b[0m \u001b[0mlinspace\u001b[0m\u001b[1;33m(\u001b[0m\u001b[1;36m0\u001b[0m\u001b[1;33m,\u001b[0m\u001b[1;36m10\u001b[0m\u001b[1;33m,\u001b[0m\u001b[1;36m1000\u001b[0m\u001b[1;33m)\u001b[0m\u001b[1;33m\u001b[0m\u001b[0m\n\u001b[1;32m----> 2\u001b[1;33m \u001b[0mplot\u001b[0m\u001b[1;33m(\u001b[0m\u001b[0mtlist\u001b[0m\u001b[1;33m,\u001b[0m\u001b[0mreal\u001b[0m\u001b[1;33m(\u001b[0m\u001b[0mtr_c\u001b[0m\u001b[1;33m[\u001b[0m\u001b[1;36m0\u001b[0m\u001b[1;33m,\u001b[0m\u001b[1;36m0\u001b[0m\u001b[1;33m]\u001b[0m\u001b[1;33m.\u001b[0m\u001b[0mexpect\u001b[0m\u001b[1;33m[\u001b[0m\u001b[1;36m0\u001b[0m\u001b[1;33m]\u001b[0m\u001b[1;33m)\u001b[0m\u001b[1;33m)\u001b[0m\u001b[1;33m\u001b[0m\u001b[0m\n\u001b[0m",
      "\u001b[1;31mAttributeError\u001b[0m: 'ApplyResult' object has no attribute 'expect'"
     ]
    }
   ],
   "source": [
    "tlist = linspace(0,10,1000) \n",
    "plot(tlist,real(tr_c[0,0].expect[0]))"
   ]
  },
  {
   "cell_type": "code",
   "execution_count": 226,
   "metadata": {
    "collapsed": false
   },
   "outputs": [
    {
     "data": {
      "text/plain": [
       "<matplotlib.colorbar.Colorbar at 0x7f5fd1343cc0>"
      ]
     },
     "execution_count": 226,
     "metadata": {},
     "output_type": "execute_result"
    },
    {
     "data": {
      "image/png": "[encoded data removed]",
      "text/plain": [
       "<matplotlib.figure.Figure at 0x7f5fd0e7a6d8>"
      ]
     },
     "metadata": {},
     "output_type": "display_data"
    }
   ],
   "source": [
    "# Plot Graphic II\n",
    "fig, axes = subplots(1,1, figsize=(16,10))\n",
    "y_inf = y_i\n",
    "y_sup = y_f\n",
    "x_inf = x_i\n",
    "x_sup = x_f\n",
    "\n",
    "for n in range(len(energies[0,:])):\n",
    "    axes.plot(phi/pi, (energies[:,n]-energies[:,0]),'-',linewidth=1)\n",
    "    axes.plot(phi/pi, (energies[:,n]-energies[:,0])/2,'--')\n",
    "    \n",
    "#     if n < 4:\n",
    "#         axes.text(.2,energies[0,n]-energies[0,0],r'|%s>'%(n),fontsize=20)\n",
    "    \n",
    "axes.set_title('Fullk1200L3T100')\n",
    "axes.set_ylim(y_inf, y_sup)\n",
    "axes.set_xlim(x_inf,x_sup)\n",
    "\n",
    "\n",
    "axes.set_xlabel(r'$\\phi$', fontsize=18)\n",
    "axes.set_ylabel(r'Cavity Tone Frequency GHz', fontsize=18)\n",
    "axes.hlines(w_nr,x_i,x_f,linestyles='dashed')\n",
    "axes.hlines(w_c,x_i,x_f,linestyles='dashed')\n",
    "# axes.vlines(0.245,0,10,linestyles='dashed',linewidth=3)\n",
    "axes.vlines(0.328,0,10,linestyles='dashed')\n",
    "\n",
    "im = axes.pcolor(phi/pi,y_vec,transpose(log10(abs(tr_c))),vmin=-1.5,vmax=-0.1)#axes.pcolor(phi/pi,y_vec,transpose((abs(tr))))#,vmin=0, vmax=1)\n",
    "fig.colorbar(im, ax=axes)\n",
    "# ax[0,0].set_xlim(4.27,4.39)\n",
    "# ax[0,0].set_ylim(P_i,P_f)\n",
    "# axes.set_ylabel(r'Qubit Tone Power(dBm)',fontsize=10)\n",
    "# axes.set_xlabel(r'Qubit Tone Frequency (GHz)',fontsize=10)\n",
    "# axes.set_title(r'$Tr[\\rho\\sigma_z]$',fontsize=20)"
   ]
  },
  {
   "cell_type": "code",
   "execution_count": 185,
   "metadata": {
    "collapsed": false
   },
   "outputs": [
    {
     "data": {
      "text/plain": [
       "<matplotlib.colorbar.Colorbar at 0x7f5fd257f908>"
      ]
     },
     "execution_count": 185,
     "metadata": {},
     "output_type": "execute_result"
    },
    {
     "data": {
      "image/png": "[encoded data removed]",
      "text/plain": [
       "<matplotlib.figure.Figure at 0x7f5fd2447240>"
      ]
     },
     "metadata": {},
     "output_type": "display_data"
    }
   ],
   "source": [
    "# Plot Graphic II\n",
    "fig, axes = subplots(1,1, figsize=(16,10))\n",
    "y_inf = y_i\n",
    "y_sup = y_f\n",
    "x_inf = x_i\n",
    "x_sup = x_f\n",
    "\n",
    "for n in range(len(energies[0,:])):\n",
    "    axes.plot(phi/pi, (energies[:,n]-energies[:,0]),'-',linewidth=1)\n",
    "    axes.plot(phi/pi, (energies[:,n]-energies[:,0])/2,'--')\n",
    "    \n",
    "#     if n < 4:\n",
    "#         axes.text(.2,energies[0,n]-energies[0,0],r'|%s>'%(n),fontsize=20)\n",
    "    \n",
    "axes.set_title('Fullk1200L3T100')\n",
    "axes.set_ylim(y_inf, y_sup)\n",
    "axes.set_xlim(x_inf,x_sup)\n",
    "\n",
    "\n",
    "axes.set_xlabel(r'$\\phi$', fontsize=18)\n",
    "axes.set_ylabel(r'Cavity Tone Frequency GHz', fontsize=18)\n",
    "axes.hlines(w_nr,x_i,x_f,linestyles='dashed')\n",
    "axes.hlines(w_c,x_i,x_f,linestyles='dashed')\n",
    "# axes.vlines(0.245,0,10,linestyles='dashed',linewidth=3)\n",
    "axes.vlines(0.328,0,10,linestyles='dashed')\n",
    "\n",
    "im = axes.pcolor(phi/pi,y_vec,transpose(log10(abs(tr_c))))#axes.pcolor(phi/pi,y_vec,transpose((abs(tr))))#,vmin=0, vmax=1)\n",
    "fig.colorbar(im, ax=axes)\n",
    "# ax[0,0].set_xlim(4.27,4.39)\n",
    "# ax[0,0].set_ylim(P_i,P_f)\n",
    "# axes.set_ylabel(r'Qubit Tone Power(dBm)',fontsize=10)\n",
    "# axes.set_xlabel(r'Qubit Tone Frequency (GHz)',fontsize=10)\n",
    "# axes.set_title(r'$Tr[\\rho\\sigma_z]$',fontsize=20)"
   ]
  },
  {
   "cell_type": "code",
   "execution_count": 44,
   "metadata": {
    "collapsed": false
   },
   "outputs": [
    {
     "data": {
      "text/plain": [
       "<matplotlib.colorbar.Colorbar at 0x7f5fd7714908>"
      ]
     },
     "execution_count": 44,
     "metadata": {},
     "output_type": "execute_result"
    },
    {
     "data": {
      "image/png": "[encoded data removed]",
      "text/plain": [
       "<matplotlib.figure.Figure at 0x7f5fd7c729e8>"
      ]
     },
     "metadata": {},
     "output_type": "display_data"
    }
   ],
   "source": [
    "# Plot Graphic II\n",
    "fig, axes = subplots(1,1, figsize=(16,10))\n",
    "y_inf = y_i\n",
    "y_sup = y_f\n",
    "x_inf = x_i\n",
    "x_sup = x_f\n",
    "\n",
    "for n in range(len(energies[0,:])):\n",
    "    axes.plot(phi/pi, (energies[:,n]-energies[:,0]),'-',linewidth=1)\n",
    "    axes.plot(phi/pi, (energies[:,n]-energies[:,0])/2,'--')\n",
    "    \n",
    "#     if n < 4:\n",
    "#         axes.text(.2,energies[0,n]-energies[0,0],r'|%s>'%(n),fontsize=20)\n",
    "    \n",
    "axes.set_title('Fullk1200L3T120')\n",
    "axes.set_ylim(y_inf, y_sup)\n",
    "axes.set_xlim(x_inf,x_sup)\n",
    "\n",
    "\n",
    "axes.set_xlabel(r'$\\phi$', fontsize=18)\n",
    "axes.set_ylabel(r'Cavity Tone Frequency GHz', fontsize=18)\n",
    "axes.hlines(w_nr,x_i,x_f,linestyles='dashed')\n",
    "axes.hlines(w_c,x_i,x_f,linestyles='dashed')\n",
    "# axes.vlines(0.245,0,10,linestyles='dashed',linewidth=3)\n",
    "axes.vlines(0.328,0,10,linestyles='dashed')\n",
    "\n",
    "im = axes.pcolor(phi/pi,y_vec,transpose(log10(abs(tr_c))),vmin=-1.5,vmax=-0.1)#axes.pcolor(phi/pi,y_vec,transpose((abs(tr))))#,vmin=0, vmax=1)\n",
    "fig.colorbar(im, ax=axes)\n",
    "# ax[0,0].set_xlim(4.27,4.39)\n",
    "# ax[0,0].set_ylim(P_i,P_f)\n",
    "# axes.set_ylabel(r'Qubit Tone Power(dBm)',fontsize=10)\n",
    "# axes.set_xlabel(r'Qubit Tone Frequency (GHz)',fontsize=10)\n",
    "# axes.set_title(r'$Tr[\\rho\\sigma_z]$',fontsize=20)"
   ]
  },
  {
   "cell_type": "code",
   "execution_count": 45,
   "metadata": {
    "collapsed": false
   },
   "outputs": [
    {
     "data": {
      "text/plain": [
       "<matplotlib.colorbar.Colorbar at 0x7f5fd748bfd0>"
      ]
     },
     "execution_count": 45,
     "metadata": {},
     "output_type": "execute_result"
    },
    {
     "data": {
      "image/png": "[encoded data removed]",
      "text/plain": [
       "<matplotlib.figure.Figure at 0x7f5fd74d3860>"
      ]
     },
     "metadata": {},
     "output_type": "display_data"
    }
   ],
   "source": [
    "# Plot Graphic II\n",
    "fig, axes = subplots(1,1, figsize=(16,10))\n",
    "y_inf = y_i\n",
    "y_sup = y_f\n",
    "x_inf = x_i\n",
    "x_sup = x_f\n",
    "\n",
    "for n in range(len(energies[0,:])):\n",
    "    axes.plot(phi/pi, (energies[:,n]-energies[:,0]),'-',linewidth=1)\n",
    "    axes.plot(phi/pi, (energies[:,n]-energies[:,0])/2,'--')\n",
    "    \n",
    "#     if n < 4:\n",
    "#         axes.text(.2,energies[0,n]-energies[0,0],r'|%s>'%(n),fontsize=20)\n",
    "    \n",
    "axes.set_title('Fullk400L2T60')\n",
    "axes.set_ylim(y_inf, y_sup)\n",
    "axes.set_xlim(x_inf,x_sup)\n",
    "\n",
    "\n",
    "axes.set_xlabel(r'$\\phi$', fontsize=18)\n",
    "axes.set_ylabel(r'Cavity Tone Frequency GHz', fontsize=18)\n",
    "axes.hlines(w_nr,x_i,x_f,linestyles='dashed')\n",
    "axes.hlines(w_c,x_i,x_f,linestyles='dashed')\n",
    "# axes.vlines(0.245,0,10,linestyles='dashed',linewidth=3)\n",
    "axes.vlines(0.328,0,10,linestyles='dashed')\n",
    "\n",
    "im = axes.pcolor(phi/pi,y_vec,transpose(log10(abs(tr_c))),vmin=-1.5,vmax=-0.1)#axes.pcolor(phi/pi,y_vec,transpose((abs(tr))))#,vmin=0, vmax=1)\n",
    "fig.colorbar(im, ax=axes)\n",
    "# ax[0,0].set_xlim(4.27,4.39)\n",
    "# ax[0,0].set_ylim(P_i,P_f)\n",
    "# axes.set_ylabel(r'Qubit Tone Power(dBm)',fontsize=10)\n",
    "# axes.set_xlabel(r'Qubit Tone Frequency (GHz)',fontsize=10)\n",
    "# axes.set_title(r'$Tr[\\rho\\sigma_z]$',fontsize=20)"
   ]
  },
  {
   "cell_type": "code",
   "execution_count": 37,
   "metadata": {
    "collapsed": false
   },
   "outputs": [
    {
     "data": {
      "text/plain": [
       "<matplotlib.colorbar.Colorbar at 0x7f81b36fb780>"
      ]
     },
     "execution_count": 37,
     "metadata": {},
     "output_type": "execute_result"
    },
    {
     "data": {
      "image/png": "[encoded data removed]",
      "text/plain": [
       "<matplotlib.figure.Figure at 0x7f81b33274e0>"
      ]
     },
     "metadata": {},
     "output_type": "display_data"
    }
   ],
   "source": [
    "# Plot Graphic II\n",
    "fig, axes = subplots(1,1, figsize=(16,10))\n",
    "y_inf = y_i\n",
    "y_sup = y_f\n",
    "x_inf = x_i\n",
    "x_sup = x_f\n",
    "\n",
    "for n in range(len(energies[0,:])):\n",
    "    axes.plot(phi/pi, (energies[:,n]-energies[:,0]),'-',linewidth=1)\n",
    "    axes.plot(phi/pi, (energies[:,n]-energies[:,0])/2,'--')\n",
    "    \n",
    "#     if n < 4:\n",
    "#         axes.text(.2,energies[0,n]-energies[0,0],r'|%s>'%(n),fontsize=20)\n",
    "    \n",
    "axes.set_title('Fullk250L1T30')\n",
    "axes.set_ylim(y_inf, y_sup)\n",
    "axes.set_xlim(x_inf,x_sup)\n",
    "\n",
    "\n",
    "axes.set_xlabel(r'$\\phi$', fontsize=18)\n",
    "axes.set_ylabel(r'Cavity Tone Frequency GHz', fontsize=18)\n",
    "axes.hlines(w_nr,x_i,x_f,linestyles='dashed')\n",
    "axes.hlines(w_c,x_i,x_f,linestyles='dashed')\n",
    "# axes.vlines(0.245,0,10,linestyles='dashed',linewidth=3)\n",
    "axes.vlines(0.328,0,10,linestyles='dashed')\n",
    "\n",
    "im = axes.pcolor(phi/pi,y_vec,transpose(log10(abs(tr_c))),vmin=-1.5,vmax=-0.1)#axes.pcolor(phi/pi,y_vec,transpose((abs(tr))))#,vmin=0, vmax=1)\n",
    "fig.colorbar(im, ax=axes)\n",
    "# ax[0,0].set_xlim(4.27,4.39)\n",
    "# ax[0,0].set_ylim(P_i,P_f)\n",
    "# axes.set_ylabel(r'Qubit Tone Power(dBm)',fontsize=10)\n",
    "# axes.set_xlabel(r'Qubit Tone Frequency (GHz)',fontsize=10)\n",
    "# axes.set_title(r'$Tr[\\rho\\sigma_z]$',fontsize=20)"
   ]
  },
  {
   "cell_type": "code",
   "execution_count": null,
   "metadata": {
    "collapsed": true
   },
   "outputs": [],
   "source": []
  }
 ],
 "metadata": {
  "kernelspec": {
   "display_name": "Python 3",
   "language": "python",
   "name": "python3"
  },
  "language_info": {
   "codemirror_mode": {
    "name": "ipython",
    "version": 3
   },
   "file_extension": ".py",
   "mimetype": "text/x-python",
   "name": "python",
   "nbconvert_exporter": "python",
   "pygments_lexer": "ipython3",
   "version": "3.4.0"
  }
 },
 "nbformat": 4,
 "nbformat_minor": 0
}
