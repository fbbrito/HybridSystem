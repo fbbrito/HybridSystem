{
 "metadata": {
  "name": "",
  "signature": "sha256:1374986a2854d5d7de864da0608321c4023ffb52714debb74a945ec538b0f793"
 },
 "nbformat": 3,
 "nbformat_minor": 0,
 "worksheets": [
  {
   "cells": [
    {
     "cell_type": "code",
     "collapsed": false,
     "input": [
      "from __future__ import division\n",
      "import numpy as np\n",
      "import matplotlib.pyplot as plt\n",
      "import scipy as sy\n",
      "import scipy.optimize as op\n",
      "import scipy.signal as signal\n",
      "import scipy.fftpack as fftpack\n",
      "from scipy.signal import lombscargle as lb\n",
      "%matplotlib inline"
     ],
     "language": "python",
     "metadata": {},
     "outputs": [],
     "prompt_number": 1
    },
    {
     "cell_type": "code",
     "collapsed": false,
     "input": [
      "ls"
     ],
     "language": "python",
     "metadata": {},
     "outputs": [
      {
       "output_type": "stream",
       "stream": "stdout",
       "text": [
        "Experimental data.ipynb\r\n",
        "Program Recover IQ from pulsed data.ipynb\r\n",
        "Simulation cavity qubit filter.ipynb\r\n",
        "\u001b[1m\u001b[36mdata\u001b[m\u001b[m/\r\n"
       ]
      }
     ],
     "prompt_number": 2
    },
    {
     "cell_type": "code",
     "collapsed": false,
     "input": [
      "cd data"
     ],
     "language": "python",
     "metadata": {},
     "outputs": [
      {
       "output_type": "stream",
       "stream": "stdout",
       "text": [
        "/Users/rouxinol/Python/Manuscripts/CPW-Filter-qubit/data\n"
       ]
      }
     ],
     "prompt_number": 3
    },
    {
     "cell_type": "code",
     "collapsed": false,
     "input": [
      "data = np.loadtxt('manytraces.csv',dtype=np.int32 ,delimiter=',') # get data"
     ],
     "language": "python",
     "metadata": {},
     "outputs": [],
     "prompt_number": 4
    },
    {
     "cell_type": "code",
     "collapsed": false,
     "input": [
      "# Initial parameters \n",
      "size = 1024 # size pulse\n",
      "initial = 0 # plot head\n",
      "final = 2*size # plot tail\n",
      "head = size*0.2 # head fit \n",
      "tail = size*0.8 # tail fit"
     ],
     "language": "python",
     "metadata": {},
     "outputs": [],
     "prompt_number": 5
    },
    {
     "cell_type": "code",
     "collapsed": false,
     "input": [
      "data2 = data[0,:]-128\n"
     ],
     "language": "python",
     "metadata": {},
     "outputs": [],
     "prompt_number": 6
    },
    {
     "cell_type": "code",
     "collapsed": false,
     "input": [],
     "language": "python",
     "metadata": {},
     "outputs": [],
     "prompt_number": 6
    },
    {
     "cell_type": "code",
     "collapsed": false,
     "input": [
      "Fs = 250e6                        # sampling rate\n",
      "Ts = 1.0/Fs                      # sampling interval\n",
      "# print(Ts)\n",
      "A,B = np.hsplit(data2,2) # divide chA chB\n",
      "# plt.plot(A)\n",
      "# plt.plot(B)\n",
      "\n",
      "# A.shape,B.shape,A[0],B[0]\n",
      "signal = A[head:tail]\n",
      "signalB = B[head:tail]\n",
      "n = signal.size\n",
      "time = Ts*np.arange(0,n)/1e-9\n",
      "# plt.plot(time,signal)\n",
      "# plt.plot(time,signalB)\n",
      "\n",
      "\n",
      "# plt.xlabel('Time (ns)')\n",
      "# plt.xlim(0,200)\n",
      "FTT = np.fft.rfft(signal)\n",
      "idx = np.argmax(np.abs(FTT))\n",
      "\n",
      "freq = np.fft.rfftfreq(n,Ts)\n",
      "freqmax = freq[idx]\n",
      "\n",
      "Period = 1/freqmax\n",
      "# print(freqmax/1e6,Period)\n",
      "# plt.plot(freq,np.abs(FTT))\n",
      "# plt.xlim(0,10e6)\n",
      "DataPeriod = np.around(Period/Ts)\n",
      "DataPeriod\n",
      "# plt.plot(signal)\n",
      "# plt.xlim(0,31)\n",
      "C = np.roll(A,int(-DataPeriod/4))\n",
      "\n",
      "# plt.plot(A,'k-')\n",
      "# plt.plot(B,'r-')\n",
      "# plt.plot(C,'g-')\n",
      "# plt.xlim(0,200)\n",
      "\n",
      "Sin = np.multiply(A,B)\n",
      "\n",
      "Cos = np.multiply(C,B)\n",
      "# i = 1\n",
      "# C[i],B[i],C[i]*B[i],Cos[i]\n",
      "# plt.plot(Sin[0:size],'ko')\n",
      "# plt.plot(Cos[0:size],'ro')\n",
      "# plt.xlim(0,500)\n",
      "\n",
      "# Sin.shape\n",
      "# Cos.shape\n",
      "# plt.plot(Sin[0:size],'ko')\n",
      "# plt.plot(Cos[0:size],'ro')\n",
      "# Sin.shape[0]/size\n",
      "SinA = np.asarray(np.hsplit(Sin,Sin.shape[0]/size),dtype=np.int32)\n",
      "CosA = np.asarray(np.hsplit(Cos,Cos.shape[0]/size),dtype=np.int32)\n",
      "\n",
      "I = np.mean([SinA[i][head:tail].mean() for i in range(int(Sin.shape[0]/size))])\n",
      "Q = np.mean([CosA[i][head:tail].mean() for i in range(int(Sin.shape[0]/size))])\n",
      "I,Q"
     ],
     "language": "python",
     "metadata": {},
     "outputs": [
      {
       "metadata": {},
       "output_type": "pyout",
       "prompt_number": 7,
       "text": [
        "(81.527691315008369, 2542.761020876143)"
       ]
      }
     ],
     "prompt_number": 7
    },
    {
     "cell_type": "code",
     "collapsed": false,
     "input": [],
     "language": "python",
     "metadata": {},
     "outputs": [],
     "prompt_number": 7
    },
    {
     "cell_type": "code",
     "collapsed": false,
     "input": [],
     "language": "python",
     "metadata": {},
     "outputs": [],
     "prompt_number": 7
    },
    {
     "cell_type": "code",
     "collapsed": false,
     "input": [],
     "language": "python",
     "metadata": {},
     "outputs": [],
     "prompt_number": 7
    },
    {
     "cell_type": "code",
     "collapsed": false,
     "input": [],
     "language": "python",
     "metadata": {},
     "outputs": [],
     "prompt_number": 7
    },
    {
     "cell_type": "code",
     "collapsed": false,
     "input": [],
     "language": "python",
     "metadata": {},
     "outputs": [],
     "prompt_number": 7
    },
    {
     "cell_type": "code",
     "collapsed": false,
     "input": [],
     "language": "python",
     "metadata": {},
     "outputs": [],
     "prompt_number": 7
    },
    {
     "cell_type": "code",
     "collapsed": false,
     "input": [],
     "language": "python",
     "metadata": {},
     "outputs": [],
     "prompt_number": 7
    },
    {
     "cell_type": "code",
     "collapsed": false,
     "input": [],
     "language": "python",
     "metadata": {},
     "outputs": [],
     "prompt_number": 7
    },
    {
     "cell_type": "code",
     "collapsed": false,
     "input": [
      "def IQ(data2,Fs = 250e6,LC=0.2,HC=0.8):\n",
      "    '''\n",
      "    data: data\n",
      "    Fs : sampling rate\n",
      "    '''\n",
      "    head = size*LC # head fit \n",
      "    tail = size*HC # tail fit                        \n",
      "    Ts = 1.0/Fs                      # sampling interval\n",
      "    # print(Ts)\n",
      "    A,B = np.hsplit(data2,2) # divide chA chB\n",
      "    # plt.plot(A)\n",
      "    # plt.plot(B)\n",
      "\n",
      "    # A.shape,B.shape,A[0],B[0]\n",
      "    signal = A[head:tail]\n",
      "    signalB = B[head:tail]\n",
      "    n = signal.size\n",
      "    time = Ts*np.arange(0,n)/1e-9\n",
      "    # plt.plot(time,signal)\n",
      "    # plt.plot(time,signalB)\n",
      "\n",
      "\n",
      "    # plt.xlabel('Time (ns)')\n",
      "    # plt.xlim(0,200)\n",
      "    FTT = np.fft.rfft(signal)\n",
      "    idx = np.argmax(np.abs(FTT))\n",
      "\n",
      "    freq = np.fft.rfftfreq(n,Ts)\n",
      "    freqmax = freq[idx]\n",
      "\n",
      "    Period = 1/freqmax\n",
      "    # print(freqmax/1e6,Period)\n",
      "    # plt.plot(freq,np.abs(FTT))\n",
      "    # plt.xlim(0,10e6)\n",
      "    DataPeriod = np.around(Period/Ts)\n",
      "#     DataPeriod\n",
      "    # plt.plot(signal)\n",
      "    # plt.xlim(0,31)\n",
      "    C = np.roll(A,int(-DataPeriod/4))\n",
      "\n",
      "    # plt.plot(A,'k-')\n",
      "    # plt.plot(B,'r-')\n",
      "    # plt.plot(C,'g-')\n",
      "    # plt.xlim(0,200)\n",
      "\n",
      "    Sin = np.multiply(A,B)\n",
      "\n",
      "    Cos = np.multiply(C,B)\n",
      "    # i = 1\n",
      "    # C[i],B[i],C[i]*B[i],Cos[i]\n",
      "    # plt.plot(Sin[0:size],'ko')\n",
      "    # plt.plot(Cos[0:size],'ro')\n",
      "    # plt.xlim(0,500)\n",
      "\n",
      "    # Sin.shape\n",
      "    # Cos.shape\n",
      "    # plt.plot(Sin[0:size],'ko')\n",
      "    # plt.plot(Cos[0:size],'ro')\n",
      "    # Sin.shape[0]/size\n",
      "    SinA = np.hsplit(Sin,Sin.shape[0]/size)\n",
      "    CosA = np.hsplit(Cos,Cos.shape[0]/size)\n",
      "\n",
      "    I = np.mean([SinA[i][head:tail].mean() for i in range(int(Sin.shape[0]/size))])\n",
      "    Q = np.mean([CosA[i][head:tail].mean() for i in range(int(Sin.shape[0]/size))])\n",
      "    return I,Q"
     ],
     "language": "python",
     "metadata": {},
     "outputs": [],
     "prompt_number": 8
    },
    {
     "cell_type": "code",
     "collapsed": false,
     "input": [
      "%timeit IQ(data2)"
     ],
     "language": "python",
     "metadata": {},
     "outputs": [
      {
       "output_type": "stream",
       "stream": "stdout",
       "text": [
        "10 loops, best of 3: 155 ms per loop\n"
       ]
      }
     ],
     "prompt_number": 9
    },
    {
     "cell_type": "code",
     "collapsed": false,
     "input": [
      "%load_ext cythonmagic"
     ],
     "language": "python",
     "metadata": {},
     "outputs": [],
     "prompt_number": 10
    },
    {
     "cell_type": "code",
     "collapsed": false,
     "input": [
      "%reload_ext cythonmagic"
     ],
     "language": "python",
     "metadata": {},
     "outputs": [],
     "prompt_number": 11
    },
    {
     "cell_type": "code",
     "collapsed": false,
     "input": [
      "%%cython_pyximport foo\n",
      "def primes(int kmax):\n",
      "    cdef int n, k, i\n",
      "    cdef int p[1000]\n",
      "    result = []\n",
      "    if kmax > 1000:\n",
      "        kmax = 1000\n",
      "    k = 0\n",
      "    n = 2\n",
      "    while k < kmax:\n",
      "        i = 0\n",
      "        while i < k and n % p[i] != 0:\n",
      "            i = i + 1\n",
      "        if i == k:\n",
      "            p[k] = n\n",
      "            k = k + 1\n",
      "            result.append(n)\n",
      "        n = n + 1\n",
      "    return result"
     ],
     "language": "python",
     "metadata": {},
     "outputs": [],
     "prompt_number": 12
    },
    {
     "cell_type": "code",
     "collapsed": false,
     "input": [
      "%%cython\n",
      "#--annotate\n",
      "from __future__ import division\n",
      "import numpy as np\n",
      "cimport cython\n",
      "cimport numpy as np\n",
      "# DTYPE = np.int32\n",
      "# ctypedef np.int32_t DTYPE_t\n",
      "def Test(np.ndarray data2, double Fs ,double  LC, double HC, double size ):\n",
      "    '''\n",
      "    data: data\n",
      "    Fs : sampling rate\n",
      "    '''\n",
      "#     assert data2.dtype == DTYPE_t \n",
      "    cdef double Ts\n",
      "    cdef double head\n",
      "    cdef double tail\n",
      "    cdef np.ndarray signal \n",
      "#     cdef np.ndarray signalB\n",
      "    cdef int n\n",
      "    cdef np.ndarray time\n",
      "    cdef np.ndarray FTT\n",
      "    cdef int idx \n",
      "    cdef np.ndarray freq\n",
      "    cdef double freqmax\n",
      "    cdef double Period\n",
      "    cdef int DataPeriod\n",
      "    cdef np.ndarray C\n",
      "    cdef np.ndarray Sin \n",
      "    cdef np.ndarray Cos \n",
      "    cdef np.ndarray SinA \n",
      "    cdef np.ndarray CosA    \n",
      "    cdef double I\n",
      "    cdef double Q\n",
      "    cdef np.ndarray A\n",
      "    cdef np.ndarray B\n",
      "    \n",
      "    \n",
      "    A,B = np.hsplit(data2,2)\n",
      "    \n",
      "    \n",
      "    head = size*LC # head fit \n",
      "    tail = size*HC # tail fit                        \n",
      "    Ts = 1/Fs  \n",
      "  \n",
      "    \n",
      "    signal = A[head:tail]\n",
      "#     signalB = B[head:tail]\n",
      "    n = signal.size\n",
      "    time = Ts*np.arange(0,n)/1e-9\n",
      "    \n",
      "    \n",
      "    FTT = np.fft.rfft(signal)\n",
      "    idx = np.argmax(np.abs(FTT))\n",
      "\n",
      "    freq = np.fft.rfftfreq(n,Ts)\n",
      "    freqmax = freq[idx]\n",
      "\n",
      "    Period = 1/freqmax\n",
      "    \n",
      "    \n",
      "    \n",
      "    DataPeriod = np.around(Period/Ts)\n",
      "    \n",
      "    C = np.roll(A,int(-DataPeriod/4))\n",
      "    \n",
      "    \n",
      "    Sin = np.multiply(A,B)\n",
      "\n",
      "    Cos = np.multiply(C,B)\n",
      "    \n",
      "    SinA = np.asarray(np.hsplit(Sin,Sin.shape[0]/size),dtype=np.int32)\n",
      "    CosA = np.asarray(np.hsplit(Cos,Cos.shape[0]/size),dtype=np.int32)\n",
      "    \n",
      "    \n",
      "    I = np.mean([SinA[i][head:tail].mean() for i in range(int(Sin.shape[0]/size))])\n",
      "    Q = np.mean([CosA[i][head:tail].mean() for i in range(int(Sin.shape[0]/size))])\n",
      "    \n",
      "    return I,Q"
     ],
     "language": "python",
     "metadata": {},
     "outputs": [],
     "prompt_number": 13
    },
    {
     "cell_type": "code",
     "collapsed": false,
     "input": [
      "%timeit Test(data2,250e6,.2,.8,1024)"
     ],
     "language": "python",
     "metadata": {},
     "outputs": [
      {
       "output_type": "stream",
       "stream": "stdout",
       "text": [
        "10 loops, best of 3: 135 ms per loop\n"
       ]
      }
     ],
     "prompt_number": 14
    },
    {
     "cell_type": "code",
     "collapsed": false,
     "input": [
      "%%cython\n",
      "#--annotate\n",
      "from __future__ import division\n",
      "import numpy as np\n",
      "cimport cython\n",
      "cimport numpy as np\n",
      "DTYPE = np.int32\n",
      "ctypedef np.int32_t DTYPE_t\n",
      "np.import_array()\n",
      "def Test2(np.ndarray[DTYPE_t, ndim=1] data2, double Fs ,double  LC, double HC, double size ):\n",
      "    '''\n",
      "    data: data\n",
      "    '''\n",
      "    cdef np.ndarray[DTYPE_t, ndim=1] A\n",
      "    cdef np.ndarray[DTYPE_t, ndim=1] B\n",
      "    cdef double Ts\n",
      "    cdef double head\n",
      "    cdef double tail\n",
      "    cdef np.ndarray[DTYPE_t, ndim=1] signal \n",
      "# #     cdef np.ndarray signalB\n",
      "    cdef int n\n",
      "    cdef np.ndarray time\n",
      "    cdef np.ndarray FTT\n",
      "    cdef int idx \n",
      "    cdef np.ndarray freq\n",
      "    cdef double freqmax\n",
      "    cdef double Period\n",
      "    cdef int DataPeriod\n",
      "    cdef np.ndarray[DTYPE_t, ndim=1] C\n",
      "    cdef np.ndarray[DTYPE_t, ndim=1] Sin \n",
      "    cdef np.ndarray[DTYPE_t, ndim=1] Cos \n",
      "    cdef np.ndarray[DTYPE_t, ndim=1] SinA \n",
      "    cdef np.ndarray[DTYPE_t, ndim=1] CosA    \n",
      "    cdef double I\n",
      "    cdef double Q\n",
      "    \n",
      "    \n",
      "    A,B = np.hsplit(data2,2)\n",
      "    head = size*LC # head fit \n",
      "    tail = size*HC # tail fit                        \n",
      "    Ts = 1/Fs  \n",
      "\n",
      "    signal = A[head:tail]  \n",
      "    \n",
      "    n = signal.size\n",
      "    time = Ts*np.arange(0,n)/1e-9\n",
      "    FTT = np.fft.rfft(signal)\n",
      "    idx = np.argmax(np.abs(FTT))\n",
      "    \n",
      "    freq = np.fft.rfftfreq(n,Ts)\n",
      "    freqmax = freq[idx]\n",
      "    \n",
      "    Period = 1/freqmax\n",
      "    DataPeriod = np.around(Period/Ts)\n",
      "    \n",
      "    C = np.roll(A,int(-DataPeriod/4))\n",
      "    \n",
      "\n",
      "    \n",
      "    Sin = np.multiply(A,B)\n",
      "    Cos = np.multiply(C,B)\n",
      "    \n",
      "    SinA = np.asarray(np.hsplit(Sin,Sin.shape[0]/size)[0],dtype=np.int32)\n",
      "    CosA = np.asarray(np.hsplit(Cos,Cos.shape[0]/size)[0],dtype=np.int32)\n",
      "    \n",
      "    I = SinA.mean()\n",
      "    Q = CosA.mean()\n",
      "    \n",
      "    return I,Q"
     ],
     "language": "python",
     "metadata": {},
     "outputs": [],
     "prompt_number": 15
    },
    {
     "cell_type": "code",
     "collapsed": false,
     "input": [
      "%timeit\n",
      "Test2(data2,250e6,.2,.8,1024)"
     ],
     "language": "python",
     "metadata": {},
     "outputs": [
      {
       "metadata": {},
       "output_type": "pyout",
       "prompt_number": 18,
       "text": [
        "(67.0693359375, 2197.0234375)"
       ]
      }
     ],
     "prompt_number": 18
    },
    {
     "cell_type": "code",
     "collapsed": false,
     "input": [
      "\n",
      "    "
     ],
     "language": "python",
     "metadata": {},
     "outputs": []
    }
   ],
   "metadata": {}
  }
 ]
}