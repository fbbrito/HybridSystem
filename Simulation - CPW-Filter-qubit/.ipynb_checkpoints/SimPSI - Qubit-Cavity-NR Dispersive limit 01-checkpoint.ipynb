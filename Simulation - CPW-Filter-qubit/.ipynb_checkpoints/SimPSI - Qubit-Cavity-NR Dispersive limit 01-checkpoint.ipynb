{
 "cells": [
  {
   "cell_type": "markdown",
   "metadata": {},
   "source": [
    "# Symbolic derivation qubit-cavity Hamiltonian"
   ]
  },
  {
   "cell_type": "markdown",
   "metadata": {},
   "source": [
    "<style>\n",
    "p {\n",
    "    font-family: \"Liberation Serif\", serif;\n",
    "    font-size: 12pt;\n",
    "}\n",
    "</style>"
   ]
  },
  {
   "cell_type": "markdown",
   "metadata": {},
   "source": [
    "\n",
    "Based on: J. R. Johansson (robert@riken.jp), [http://jrjohansson.github.io](http://jrjohansson.github.io), and Eunjong Kim."
   ]
  },
  {
   "cell_type": "markdown",
   "metadata": {},
   "source": [
    "## Setup modules"
   ]
  },
  {
   "cell_type": "code",
   "execution_count": 1,
   "metadata": {
    "collapsed": false
   },
   "outputs": [],
   "source": [
    "from sympy import *\n",
    "init_printing()"
   ]
  },
  {
   "cell_type": "code",
   "execution_count": 2,
   "metadata": {
    "collapsed": false
   },
   "outputs": [],
   "source": [
    "from sympsi import *\n",
    "from sympsi.boson import *\n",
    "from sympsi.pauli import *"
   ]
  },
  {
   "cell_type": "markdown",
   "metadata": {},
   "source": [
    "## The Jaynes-Cummings model"
   ]
  },
  {
   "cell_type": "markdown",
   "metadata": {},
   "source": [
    "The [Jaynes-Cummings model](http://en.wikipedia.org/wiki/Jaynes%E2%80%93Cummings_model) is one of the most elementary quantum mechanical models light-matter interaction. It describes a single two-level atom that interacts with a single harmonic-oscillator mode of a electromagnetic cavity.\n",
    "\n",
    "The Hamiltonian for a two-level system in its eigenbasis can be written as\n",
    "\n",
    "$$\n",
    "H = \\frac{1}{2}\\omega_q \\sigma_z\n",
    "$$\n",
    "\n",
    "and the Hamiltonian of a quantum harmonic oscillator (cavity) is\n",
    "\n",
    "$$\n",
    "H = \\hbar\\omega_r (a^\\dagger a + 1/2)\n",
    "$$\n",
    "\n",
    "The atom interacts with the electromagnetic field produced by the cavity mode $a + a^\\dagger$ through its dipole moment. The dipole-transition operators is $\\sigma_x$ (which cause a transition from the two dipole states of the atom). The combined atom-cavity Hamiltonian can therefore be written in the form\n",
    "\n",
    "$$\n",
    "H = \n",
    "\\hbar\\omega_r (a^\\dagger a + 1/2)\n",
    "+ \\frac{1}{2}\\hbar\\Omega\\sigma_z \n",
    "+\n",
    "\\hbar\n",
    "g\\sigma_x(a + a^\\dagger)\n",
    "$$\n",
    "\n",
    "\n"
   ]
  },
  {
   "cell_type": "markdown",
   "metadata": {},
   "source": [
    "Although the Jaynes-Cumming Hamiltonian allow us to evolve the given initial state according to the Schrödinger Equation, in an experiment we would like to predicte the response of the coupled cavity-qubit system under the influence of driving fields for the cavity and qubit, and also account for the effects of dissipation and dephasing (not treated here)\n",
    "\n",
    "The external coherent-state input may be incorporated in the Jaynes-Cummings Hamiltonian by addition of terms involving the amplitude of the driving field $\\vec{E_d} \\left(\\vec{E_s}\\right)$ and it's frequency $\\omega_d\\left(\\omega_s\\right)$\n",
    "\n",
    "$$\n",
    "H_{cavity} = \n",
    "E_d \\left(e^{i\\omega_dt}a +e^{-i\\omega_dt}\\right)\n",
    "$$\n",
    "\n",
    "$$\n",
    "H_{qubit} = \n",
    "E_s \\left(e^{i\\omega_st}a +e^{-i\\omega_st}\\right)\n",
    "$$"
   ]
  },
  {
   "cell_type": "markdown",
   "metadata": {},
   "source": [
    "To obtain the Jaynes-Cumming Hamiltonian \n",
    "\n",
    "$$\n",
    "H = \n",
    "\\hbar\\omega_r (a^\\dagger a + 1/2)\n",
    "%-\\frac{1}{2}\\Delta\\sigma_x \n",
    "+ \\frac{1}{2}\\hbar\\Omega\\sigma_z \n",
    "+\n",
    "\\hbar\n",
    "g(\\sigma_+ a + \\sigma_- a^\\dagger)\n",
    "$$\n",
    "\n",
    "we also need to perform a rotating-wave approximation which simplifies the interaction part of the Hamiltonian. In the following we will begin with looking at how these two Hamiltonians are related.\n",
    "\n",
    "To represent the atom-cavity Hamiltonian in SymPy we creates an instances of the operator classes `BosonOp` and `SigmaX`, `SigmaY`, and `SigmaZ`, and use these to construct the Hamiltonian (we work in units where $\\hbar = 1$)."
   ]
  },
  {
   "cell_type": "code",
   "execution_count": 3,
   "metadata": {
    "collapsed": false
   },
   "outputs": [],
   "source": [
    "omega_r, omega_q, g, Delta_d, Delta_s, t, x, chi, Hsym = symbols(\"omega_r, omega_q, g, Delta_d, Delta_s, t, x, chi, H\")\n",
    "A, B = symbols(\"A,B\") # Electric field amplitude\n",
    "omega_d, omega_s = symbols(\"omega_d, omega_s\")\n",
    "Delta,Delta_t = symbols(\"Delta,Delta_t\")"
   ]
  },
  {
   "cell_type": "code",
   "execution_count": 4,
   "metadata": {
    "collapsed": false
   },
   "outputs": [],
   "source": [
    "sx, sy, sz, sm, sp = SigmaX(), SigmaY(), SigmaZ(), SigmaMinus(), SigmaPlus()\n",
    "a = BosonOp(\"a\")"
   ]
  },
  {
   "cell_type": "code",
   "execution_count": 5,
   "metadata": {
    "collapsed": false
   },
   "outputs": [
    {
     "data": {
      "image/png": "[encoded data removed]",
      "text/latex": [
       "$$H = A \\left(e^{i \\omega_{d} t} {a} + e^{- i \\omega_{d} t} {{a}^\\dagger}\\right) + B \\left(e^{i \\omega_{s} t} {\\sigma_-} + e^{- i \\omega_{s} t} {\\sigma_+}\\right) + g {\\sigma_x} \\left({{a}^\\dagger} + {a}\\right) + \\frac{\\omega_{q} {\\sigma_z}}{2} + \\omega_{r} {{a}^\\dagger} {a}$$"
      ],
      "text/plain": [
       "      ⎛ ⅈ⋅ω_d⋅t      -ⅈ⋅ω_d⋅t  †⎞     ⎛ ⅈ⋅ω_s⋅t          -ⅈ⋅ω_s⋅t      ⎞      \n",
       "H = A⋅⎝ℯ       ⋅a + ℯ        ⋅a ⎠ + B⋅⎝ℯ       ⋅False + ℯ        ⋅False⎠ + g⋅F\n",
       "                                                                              \n",
       "\n",
       "     ⎛ †    ⎞   ω_q⋅False       †  \n",
       "alse⋅⎝a  + a⎠ + ───────── + ωᵣ⋅a ⋅a\n",
       "                    2              "
      ]
     },
     "execution_count": 5,
     "metadata": {},
     "output_type": "execute_result"
    }
   ],
   "source": [
    "H = omega_r * Dagger(a) * a + omega_q/2 * sz \n",
    "H_int = g * sx * (a + Dagger(a))\n",
    "H_drive_r = A * (exp(I*omega_d*t)*a + exp(-I*omega_d*t)*Dagger(a))\n",
    "H_drive_q = B * (exp(I*omega_s*t)*sm + exp(-I*omega_s*t)*sp)\n",
    "H_total =  H+ H_drive_r + H_drive_q+ H_int\n",
    "Eq(Hsym, H+ H_drive_r + H_drive_q+ H_int)\n"
   ]
  },
  {
   "cell_type": "markdown",
   "metadata": {},
   "source": [
    "Unitary transformation to interaction picture"
   ]
  },
  {
   "cell_type": "code",
   "execution_count": 6,
   "metadata": {
    "collapsed": false
   },
   "outputs": [
    {
     "data": {
      "image/png": "[encoded data removed]",
      "text/latex": [
       "$$e^{i \\omega_{r} t {{a}^\\dagger} {a}}$$"
      ],
      "text/plain": [
       "         †  \n",
       " ⅈ⋅ωᵣ⋅t⋅a ⋅a\n",
       "ℯ           "
      ]
     },
     "execution_count": 6,
     "metadata": {},
     "output_type": "execute_result"
    }
   ],
   "source": [
    "U = exp(I  * omega_r * t * Dagger(a)*a)\n",
    "U"
   ]
  },
  {
   "cell_type": "code",
   "execution_count": 7,
   "metadata": {
    "collapsed": false
   },
   "outputs": [
    {
     "data": {
      "image/png": "[encoded data removed]",
      "text/latex": [
       "$$A e^{i \\omega_{d} t} e^{- i \\omega_{r} t} {a} + A e^{- i \\omega_{d} t} e^{i \\omega_{r} t} {{a}^\\dagger} + B e^{i \\omega_{s} t} {\\sigma_-} + B e^{- i \\omega_{s} t} {\\sigma_+} + g e^{i \\omega_{r} t} {\\sigma_x} {{a}^\\dagger} + g e^{- i \\omega_{r} t} {\\sigma_x} {a} + \\frac{\\omega_{q} {\\sigma_z}}{2}$$"
      ],
      "text/plain": [
       "   ⅈ⋅ω_d⋅t  -ⅈ⋅ωᵣ⋅t        -ⅈ⋅ω_d⋅t  ⅈ⋅ωᵣ⋅t  †      ⅈ⋅ω_s⋅t            -ⅈ⋅ω_s⋅\n",
       "A⋅ℯ       ⋅ℯ       ⋅a + A⋅ℯ        ⋅ℯ      ⋅a  + B⋅ℯ       ⋅False + B⋅ℯ       \n",
       "                                                                              \n",
       "\n",
       "t            ⅈ⋅ωᵣ⋅t        †      -ⅈ⋅ωᵣ⋅t           ω_q⋅False\n",
       " ⋅False + g⋅ℯ      ⋅False⋅a  + g⋅ℯ       ⋅False⋅a + ─────────\n",
       "                                                        2    "
      ]
     },
     "execution_count": 7,
     "metadata": {},
     "output_type": "execute_result"
    }
   ],
   "source": [
    "H1 = hamiltonian_transformation(U, H_total.expand())\n",
    "\n",
    "H1"
   ]
  },
  {
   "cell_type": "code",
   "execution_count": 8,
   "metadata": {
    "collapsed": false
   },
   "outputs": [
    {
     "data": {
      "image/png": "[encoded data removed]",
      "text/latex": [
       "$$e^{i \\omega_{q} t {\\sigma_+} {\\sigma_-}}$$"
      ],
      "text/plain": [
       " ⅈ⋅ω_q⋅t⋅False⋅False\n",
       "ℯ                   "
      ]
     },
     "execution_count": 8,
     "metadata": {},
     "output_type": "execute_result"
    }
   ],
   "source": [
    "U = exp(I * omega_q * t * sp * sm)\n",
    "\n",
    "U"
   ]
  },
  {
   "cell_type": "code",
   "execution_count": 9,
   "metadata": {
    "collapsed": false
   },
   "outputs": [
    {
     "data": {
      "image/png": "[encoded data removed]",
      "text/latex": [
       "$$A e^{- i \\omega_{d} t + i \\omega_{r} t} {{a}^\\dagger} + A e^{i \\omega_{d} t - i \\omega_{r} t} {a} + B e^{- i \\omega_{q} t + i \\omega_{s} t} {\\sigma_-} + B e^{i \\omega_{q} t - i \\omega_{s} t} {\\sigma_+} + g e^{- i \\omega_{q} t - i \\omega_{r} t} {\\sigma_-} {a} + g e^{- i \\omega_{q} t + i \\omega_{r} t} {\\sigma_-} {{a}^\\dagger} + g e^{i \\omega_{q} t - i \\omega_{r} t} {\\sigma_+} {a} + g e^{i \\omega_{q} t + i \\omega_{r} t} {\\sigma_+} {{a}^\\dagger} - \\frac{\\omega_{q}}{2} \\left(1 + {\\sigma_z}\\right) + \\frac{\\omega_{q} {\\sigma_z}}{2}$$"
      ],
      "text/plain": [
       "   -ⅈ⋅ω_d⋅t + ⅈ⋅ωᵣ⋅t  †      ⅈ⋅ω_d⋅t - ⅈ⋅ωᵣ⋅t        -ⅈ⋅ω_q⋅t + ⅈ⋅ω_s⋅t       \n",
       "A⋅ℯ                 ⋅a  + A⋅ℯ                ⋅a + B⋅ℯ                  ⋅False \n",
       "                                                                              \n",
       "\n",
       "     ⅈ⋅ω_q⋅t - ⅈ⋅ω_s⋅t            -ⅈ⋅ω_q⋅t - ⅈ⋅ωᵣ⋅t              -ⅈ⋅ω_q⋅t + ⅈ⋅\n",
       "+ B⋅ℯ                 ⋅False + g⋅ℯ                 ⋅False⋅a + g⋅ℯ             \n",
       "                                                                              \n",
       "\n",
       "ωᵣ⋅t        †      ⅈ⋅ω_q⋅t - ⅈ⋅ωᵣ⋅t              ⅈ⋅ω_q⋅t + ⅈ⋅ωᵣ⋅t        †   ω\n",
       "    ⋅False⋅a  + g⋅ℯ                ⋅False⋅a + g⋅ℯ                ⋅False⋅a  - ─\n",
       "                                                                              \n",
       "\n",
       "_q⋅(1 + False)   ω_q⋅False\n",
       "────────────── + ─────────\n",
       "      2              2    "
      ]
     },
     "execution_count": 9,
     "metadata": {},
     "output_type": "execute_result"
    }
   ],
   "source": [
    "H2 = hamiltonian_transformation(U, H1.expand())\n",
    "\n",
    "H2 = H2.subs(sx, sm + sp).expand()\n",
    "\n",
    "H2 = powsimp(H2)\n",
    "\n",
    "H2"
   ]
  },
  {
   "cell_type": "code",
   "execution_count": 10,
   "metadata": {
    "collapsed": false
   },
   "outputs": [],
   "source": [
    "# trick to simplify exponents\n",
    "def simplify_exp(e):\n",
    "    if isinstance(e, exp):\n",
    "        return exp(simplify(e.exp.expand()))\n",
    "\n",
    "    if isinstance(e, (Add, Mul)):\n",
    "        return type(e)(*(simplify_exp(arg) for arg in e.args)) \n",
    "\n",
    "    return e"
   ]
  },
  {
   "cell_type": "code",
   "execution_count": 11,
   "metadata": {
    "collapsed": false
   },
   "outputs": [
    {
     "data": {
      "image/png": "[encoded data removed]",
      "text/latex": [
       "$$A e^{i t \\left(- \\omega_{d} + \\omega_{r}\\right)} {{a}^\\dagger} + A e^{i t \\left(\\omega_{d} - \\omega_{r}\\right)} {a} + B e^{i t \\left(- \\omega_{q} + \\omega_{s}\\right)} {\\sigma_-} + B e^{i t \\left(\\omega_{q} - \\omega_{s}\\right)} {\\sigma_+} + g e^{i \\Delta t} {\\sigma_+} {a} + g e^{i t \\left(\\omega_{q} + \\omega_{r}\\right)} {\\sigma_+} {{a}^\\dagger} + g e^{- i t \\left(\\omega_{q} + \\omega_{r}\\right)} {\\sigma_-} {a} + g e^{- i \\Delta t} {\\sigma_-} {{a}^\\dagger} - \\frac{\\omega_{q}}{2} \\left(1 + {\\sigma_z}\\right) + \\frac{\\omega_{q} {\\sigma_z}}{2}$$"
      ],
      "text/plain": [
       "   ⅈ⋅t⋅(-ω_d + ωᵣ)  †      ⅈ⋅t⋅(ω_d - ωᵣ)        ⅈ⋅t⋅(-ω_q + ω_s)            ⅈ\n",
       "A⋅ℯ               ⋅a  + A⋅ℯ              ⋅a + B⋅ℯ                ⋅False + B⋅ℯ \n",
       "                                                                              \n",
       "\n",
       "⋅t⋅(ω_q - ω_s)            ⅈ⋅Δ⋅t              ⅈ⋅t⋅(ω_q + ωᵣ)        †      -ⅈ⋅t\n",
       "              ⋅False + g⋅ℯ     ⋅False⋅a + g⋅ℯ              ⋅False⋅a  + g⋅ℯ    \n",
       "                                                                              \n",
       "\n",
       "⋅(ω_q + ωᵣ)              -ⅈ⋅Δ⋅t        †   ω_q⋅(1 + False)   ω_q⋅False\n",
       "           ⋅False⋅a + g⋅ℯ      ⋅False⋅a  - ─────────────── + ─────────\n",
       "                                                  2              2    "
      ]
     },
     "execution_count": 11,
     "metadata": {},
     "output_type": "execute_result"
    }
   ],
   "source": [
    "H3 = simplify_exp(H2).subs(-omega_r + omega_q, Delta)\n",
    "\n",
    "H3"
   ]
  },
  {
   "cell_type": "markdown",
   "metadata": {},
   "source": [
    "Now, in the rotating-wave approximation we can drop the fast oscillating terms containing the factors\n",
    "$e^{\\pm i(\\omega_q + \\omega_r)t}$"
   ]
  },
  {
   "cell_type": "code",
   "execution_count": 12,
   "metadata": {
    "collapsed": false
   },
   "outputs": [
    {
     "data": {
      "image/png": "[encoded data removed]",
      "text/latex": [
       "$$H = A e^{i \\omega_{d} t} e^{- i \\omega_{r} t} {a} + A e^{- i \\omega_{d} t} e^{i \\omega_{r} t} {{a}^\\dagger} + B e^{i \\omega_{q} t} e^{- i \\omega_{s} t} {\\sigma_+} + B e^{- i \\omega_{q} t} e^{i \\omega_{s} t} {\\sigma_-} + g e^{i \\Delta t} {\\sigma_+} {a} + g e^{- i \\Delta t} {\\sigma_-} {{a}^\\dagger}$$"
      ],
      "text/plain": [
       "       ⅈ⋅ω_d⋅t  -ⅈ⋅ωᵣ⋅t        -ⅈ⋅ω_d⋅t  ⅈ⋅ωᵣ⋅t  †      ⅈ⋅ω_q⋅t  -ⅈ⋅ω_s⋅t     \n",
       "H = A⋅ℯ       ⋅ℯ       ⋅a + A⋅ℯ        ⋅ℯ      ⋅a  + B⋅ℯ       ⋅ℯ        ⋅Fals\n",
       "\n",
       "       -ⅈ⋅ω_q⋅t  ⅈ⋅ω_s⋅t            ⅈ⋅Δ⋅t              -ⅈ⋅Δ⋅t        †\n",
       "e + B⋅ℯ        ⋅ℯ       ⋅False + g⋅ℯ     ⋅False⋅a + g⋅ℯ      ⋅False⋅a "
      ]
     },
     "execution_count": 12,
     "metadata": {},
     "output_type": "execute_result"
    }
   ],
   "source": [
    "H4 = drop_terms_containing(H3, [exp( I * (omega_q + omega_r) * t),\n",
    "                                exp(-I * (omega_q + omega_r) * t)])\n",
    "\n",
    "H4 = drop_c_number_terms(H4.expand())\n",
    "\n",
    "Eq(Hsym, H4)"
   ]
  },
  {
   "cell_type": "markdown",
   "metadata": {},
   "source": [
    "This is the interaction term of in the Jaynes-Cumming model in the interaction picture. If we transform back to the Schrödinger picture we have:"
   ]
  },
  {
   "cell_type": "code",
   "execution_count": 13,
   "metadata": {
    "collapsed": false
   },
   "outputs": [
    {
     "data": {
      "image/png": "[encoded data removed]",
      "text/latex": [
       "$$A e^{i \\omega_{d} t} {a} + A e^{- i \\omega_{d} t} {{a}^\\dagger} + B e^{i \\omega_{q} t} e^{- i \\omega_{s} t} {\\sigma_+} + B e^{- i \\omega_{q} t} e^{i \\omega_{s} t} {\\sigma_-} + g e^{i \\Delta t} e^{i \\omega_{r} t} {\\sigma_+} {a} + g e^{- i \\Delta t} e^{- i \\omega_{r} t} {\\sigma_-} {{a}^\\dagger} + \\omega_{r} {{a}^\\dagger} {a}$$"
      ],
      "text/plain": [
       "   ⅈ⋅ω_d⋅t        -ⅈ⋅ω_d⋅t  †      ⅈ⋅ω_q⋅t  -ⅈ⋅ω_s⋅t            -ⅈ⋅ω_q⋅t  ⅈ⋅ω_\n",
       "A⋅ℯ       ⋅a + A⋅ℯ        ⋅a  + B⋅ℯ       ⋅ℯ        ⋅False + B⋅ℯ        ⋅ℯ    \n",
       "\n",
       "s⋅t            ⅈ⋅Δ⋅t  ⅈ⋅ωᵣ⋅t              -ⅈ⋅Δ⋅t  -ⅈ⋅ωᵣ⋅t        †       †  \n",
       "   ⋅False + g⋅ℯ     ⋅ℯ      ⋅False⋅a + g⋅ℯ      ⋅ℯ       ⋅False⋅a  + ωᵣ⋅a ⋅a"
      ]
     },
     "execution_count": 13,
     "metadata": {},
     "output_type": "execute_result"
    }
   ],
   "source": [
    "U = exp(-I * omega_r * t * Dagger(a) * a)\n",
    "H5 = hamiltonian_transformation(U, H4.expand())\n",
    "H5"
   ]
  },
  {
   "cell_type": "code",
   "execution_count": 14,
   "metadata": {
    "collapsed": false
   },
   "outputs": [
    {
     "data": {
      "image/png": "[encoded data removed]",
      "text/latex": [
       "$$A e^{i \\omega_{d} t} {a} + A e^{- i \\omega_{d} t} {{a}^\\dagger} + B e^{i \\omega_{s} t} {\\sigma_-} + B e^{- i \\omega_{s} t} {\\sigma_+} + g e^{i \\Delta t} e^{- i \\omega_{q} t} e^{i \\omega_{r} t} {\\sigma_+} {a} + g e^{- i \\Delta t} e^{i \\omega_{q} t} e^{- i \\omega_{r} t} {\\sigma_-} {{a}^\\dagger} + \\omega_{q} {\\sigma_+} {\\sigma_-} + \\omega_{r} {{a}^\\dagger} {a}$$"
      ],
      "text/plain": [
       "   ⅈ⋅ω_d⋅t        -ⅈ⋅ω_d⋅t  †      ⅈ⋅ω_s⋅t            -ⅈ⋅ω_s⋅t            ⅈ⋅Δ⋅\n",
       "A⋅ℯ       ⋅a + A⋅ℯ        ⋅a  + B⋅ℯ       ⋅False + B⋅ℯ        ⋅False + g⋅ℯ    \n",
       "\n",
       "t  -ⅈ⋅ω_q⋅t  ⅈ⋅ωᵣ⋅t              -ⅈ⋅Δ⋅t  ⅈ⋅ω_q⋅t  -ⅈ⋅ωᵣ⋅t        †            \n",
       " ⋅ℯ        ⋅ℯ      ⋅False⋅a + g⋅ℯ      ⋅ℯ       ⋅ℯ       ⋅False⋅a  + ω_q⋅False\n",
       "\n",
       "             †  \n",
       "⋅False + ωᵣ⋅a ⋅a"
      ]
     },
     "execution_count": 14,
     "metadata": {},
     "output_type": "execute_result"
    }
   ],
   "source": [
    "U = exp(-I * omega_q * t * sp * sm)\n",
    "H6 = hamiltonian_transformation(U, H5.expand())\n",
    "H6"
   ]
  },
  {
   "cell_type": "code",
   "execution_count": 15,
   "metadata": {
    "collapsed": false
   },
   "outputs": [
    {
     "data": {
      "image/png": "[encoded data removed]",
      "text/latex": [
       "$$H = A \\left(e^{i \\omega_{d} t} {a} + e^{- i \\omega_{d} t} {{a}^\\dagger}\\right) + B \\left(e^{i \\omega_{s} t} {\\sigma_-} + e^{- i \\omega_{s} t} {\\sigma_+}\\right) + g \\left({\\sigma_-} {{a}^\\dagger} + {\\sigma_+} {a}\\right) + \\frac{\\omega_{q} {\\sigma_z}}{2} + \\omega_{r} {{a}^\\dagger} {a}$$"
      ],
      "text/plain": [
       "      ⎛ ⅈ⋅ω_d⋅t      -ⅈ⋅ω_d⋅t  †⎞     ⎛ ⅈ⋅ω_s⋅t          -ⅈ⋅ω_s⋅t      ⎞     ⎛\n",
       "H = A⋅⎝ℯ       ⋅a + ℯ        ⋅a ⎠ + B⋅⎝ℯ       ⋅False + ℯ        ⋅False⎠ + g⋅⎝\n",
       "                                                                              \n",
       "\n",
       "       †          ⎞   ω_q⋅False       †  \n",
       "False⋅a  + False⋅a⎠ + ───────── + ωᵣ⋅a ⋅a\n",
       "                          2              "
      ]
     },
     "execution_count": 15,
     "metadata": {},
     "output_type": "execute_result"
    }
   ],
   "source": [
    "H7 = simplify_exp(H6).subs(Delta, omega_q - omega_r)\n",
    "H7 = simplify_exp(powsimp(H7)).expand()\n",
    "\n",
    "H7 = drop_c_number_terms(H7)\n",
    "\n",
    "H = collect(H7, [A,B,g])\n",
    "\n",
    "Eq(Hsym, H)"
   ]
  },
  {
   "cell_type": "markdown",
   "metadata": {},
   "source": [
    "## Linearized interaction"
   ]
  },
  {
   "cell_type": "markdown",
   "metadata": {},
   "source": [
    "First we apply the unitary transformation $U = e^{i \\omega_d a^\\dagger a t}$:"
   ]
  },
  {
   "cell_type": "code",
   "execution_count": 16,
   "metadata": {
    "collapsed": false
   },
   "outputs": [
    {
     "data": {
      "image/png": "[encoded data removed]",
      "text/latex": [
       "$$e^{i \\omega_{d} t {{a}^\\dagger} {a}}$$"
      ],
      "text/plain": [
       "          †  \n",
       " ⅈ⋅ω_d⋅t⋅a ⋅a\n",
       "ℯ            "
      ]
     },
     "execution_count": 16,
     "metadata": {},
     "output_type": "execute_result"
    }
   ],
   "source": [
    "U = exp(I * Dagger(a) * a * omega_d * t)\n",
    "\n",
    "U"
   ]
  },
  {
   "cell_type": "code",
   "execution_count": 17,
   "metadata": {
    "collapsed": false
   },
   "outputs": [
    {
     "data": {
      "image/png": "[encoded data removed]",
      "text/latex": [
       "$$A \\left({{a}^\\dagger} + {a}\\right) + B \\left(e^{i \\omega_{s} t} {\\sigma_-} + e^{- i \\omega_{s} t} {\\sigma_+}\\right) + g \\left(e^{i \\omega_{d} t} {\\sigma_-} {{a}^\\dagger} + e^{- i \\omega_{d} t} {\\sigma_+} {a}\\right) - \\omega_{d} {{a}^\\dagger} {a} + \\frac{\\omega_{q} {\\sigma_z}}{2} + \\omega_{r} {{a}^\\dagger} {a}$$"
      ],
      "text/plain": [
       "  ⎛ †    ⎞     ⎛ ⅈ⋅ω_s⋅t          -ⅈ⋅ω_s⋅t      ⎞     ⎛ ⅈ⋅ω_d⋅t        †    -ⅈ\n",
       "A⋅⎝a  + a⎠ + B⋅⎝ℯ       ⋅False + ℯ        ⋅False⎠ + g⋅⎝ℯ       ⋅False⋅a  + ℯ  \n",
       "                                                                              \n",
       "\n",
       "⋅ω_d⋅t        ⎞        †     ω_q⋅False       †  \n",
       "      ⋅False⋅a⎠ - ω_d⋅a ⋅a + ───────── + ωᵣ⋅a ⋅a\n",
       "                                 2              "
      ]
     },
     "execution_count": 17,
     "metadata": {},
     "output_type": "execute_result"
    }
   ],
   "source": [
    "H1 = hamiltonian_transformation(U, H, independent=True)\n",
    "\n",
    "H1"
   ]
  },
  {
   "cell_type": "markdown",
   "metadata": {},
   "source": [
    "We can now perform a rotating-wave approximation (RWA) by eliminating all terms that rotate with frequencies $2\\omega_d$:"
   ]
  },
  {
   "cell_type": "code",
   "execution_count": 18,
   "metadata": {
    "collapsed": false
   },
   "outputs": [
    {
     "data": {
      "image/png": "[encoded data removed]",
      "text/latex": [
       "$$A \\left({{a}^\\dagger} + {a}\\right) + B \\left(e^{i \\omega_{s} t} {\\sigma_-} + e^{- i \\omega_{s} t} {\\sigma_+}\\right) + g \\left(e^{i \\omega_{d} t} {\\sigma_-} {{a}^\\dagger} + e^{- i \\omega_{d} t} {\\sigma_+} {a}\\right) + \\frac{\\omega_{q} {\\sigma_z}}{2} + \\left(- \\omega_{d} + \\omega_{r}\\right) {{a}^\\dagger} {a}$$"
      ],
      "text/plain": [
       "  ⎛ †    ⎞     ⎛ ⅈ⋅ω_s⋅t          -ⅈ⋅ω_s⋅t      ⎞     ⎛ ⅈ⋅ω_d⋅t        †    -ⅈ\n",
       "A⋅⎝a  + a⎠ + B⋅⎝ℯ       ⋅False + ℯ        ⋅False⎠ + g⋅⎝ℯ       ⋅False⋅a  + ℯ  \n",
       "                                                                              \n",
       "\n",
       "⋅ω_d⋅t        ⎞   ω_q⋅False                †  \n",
       "      ⋅False⋅a⎠ + ───────── + (-ω_d + ωᵣ)⋅a ⋅a\n",
       "                      2                       "
      ]
     },
     "execution_count": 18,
     "metadata": {},
     "output_type": "execute_result"
    }
   ],
   "source": [
    "H2 = drop_terms_containing(H1.expand(), [exp(-2*I*omega_d*t), exp(2*I*omega_d*t)])\n",
    "H2 = H2.collect([A,B,Dagger(a)*a,g])\n",
    "H2\n",
    "# Eq(Symbol(\"H_{rwa}\"), H2)"
   ]
  },
  {
   "cell_type": "markdown",
   "metadata": {},
   "source": [
    "Introduce the detuning $\\Delta_d = \\omega_r - \\omega_d$:"
   ]
  },
  {
   "cell_type": "code",
   "execution_count": 19,
   "metadata": {
    "collapsed": false
   },
   "outputs": [
    {
     "data": {
      "image/png": "[encoded data removed]",
      "text/latex": [
       "$$A \\left({{a}^\\dagger} + {a}\\right) + B \\left(e^{i \\omega_{s} t} {\\sigma_-} + e^{- i \\omega_{s} t} {\\sigma_+}\\right) + \\Delta_{d} {{a}^\\dagger} {a} + g \\left(e^{i \\omega_{d} t} {\\sigma_-} {{a}^\\dagger} + e^{- i \\omega_{d} t} {\\sigma_+} {a}\\right) + \\frac{\\omega_{q} {\\sigma_z}}{2}$$"
      ],
      "text/plain": [
       "  ⎛ †    ⎞     ⎛ ⅈ⋅ω_s⋅t          -ⅈ⋅ω_s⋅t      ⎞        †       ⎛ ⅈ⋅ω_d⋅t    \n",
       "A⋅⎝a  + a⎠ + B⋅⎝ℯ       ⋅False + ℯ        ⋅False⎠ + Δ_d⋅a ⋅a + g⋅⎝ℯ       ⋅Fal\n",
       "                                                                              \n",
       "\n",
       "    †    -ⅈ⋅ω_d⋅t        ⎞   ω_q⋅False\n",
       "se⋅a  + ℯ        ⋅False⋅a⎠ + ─────────\n",
       "                                 2    "
      ]
     },
     "execution_count": 19,
     "metadata": {},
     "output_type": "execute_result"
    }
   ],
   "source": [
    "H3 = H2.subs(-omega_d+omega_r, Delta_d).expand()\n",
    "\n",
    "H3 = H3.collect([A,B,Dagger(a)*a,g])\n",
    "H3"
   ]
  },
  {
   "cell_type": "code",
   "execution_count": 20,
   "metadata": {
    "collapsed": false
   },
   "outputs": [
    {
     "data": {
      "image/png": "[encoded data removed]",
      "text/latex": [
       "$$A {{a}^\\dagger} + A {a} + B e^{i \\omega_{s} t} {\\sigma_-} + B e^{- i \\omega_{s} t} {\\sigma_+} + \\Delta_{d} {{a}^\\dagger} {a} + g e^{i \\omega_{d} t} {\\sigma_-} {{a}^\\dagger} + g e^{- i \\omega_{d} t} {\\sigma_+} {a} + \\omega_{q} {\\sigma_+} {\\sigma_-}$$"
      ],
      "text/plain": [
       "   †            ⅈ⋅ω_s⋅t            -ⅈ⋅ω_s⋅t              †        ⅈ⋅ω_d⋅t     \n",
       "A⋅a  + A⋅a + B⋅ℯ       ⋅False + B⋅ℯ        ⋅False + Δ_d⋅a ⋅a + g⋅ℯ       ⋅Fals\n",
       "\n",
       "   †      -ⅈ⋅ω_d⋅t                          \n",
       "e⋅a  + g⋅ℯ        ⋅False⋅a + ω_q⋅False⋅False"
      ]
     },
     "execution_count": 20,
     "metadata": {},
     "output_type": "execute_result"
    }
   ],
   "source": [
    "H3 = H3.subs(sz,2*sp*sm).expand()\n",
    "H3"
   ]
  },
  {
   "cell_type": "code",
   "execution_count": 21,
   "metadata": {
    "collapsed": false
   },
   "outputs": [
    {
     "data": {
      "image/png": "[encoded data removed]",
      "text/latex": [
       "$$A \\left({{a}^\\dagger} + {a}\\right) + B \\left(e^{i \\omega_{s} t} {\\sigma_-} + e^{- i \\omega_{s} t} {\\sigma_+}\\right) + \\Delta_{d} {{a}^\\dagger} {a} + g \\left(e^{i \\omega_{d} t} {\\sigma_-} {{a}^\\dagger} + e^{- i \\omega_{d} t} {\\sigma_+} {a}\\right) + \\omega_{q} {\\sigma_+} {\\sigma_-}$$"
      ],
      "text/plain": [
       "  ⎛ †    ⎞     ⎛ ⅈ⋅ω_s⋅t          -ⅈ⋅ω_s⋅t      ⎞        †       ⎛ ⅈ⋅ω_d⋅t    \n",
       "A⋅⎝a  + a⎠ + B⋅⎝ℯ       ⋅False + ℯ        ⋅False⎠ + Δ_d⋅a ⋅a + g⋅⎝ℯ       ⋅Fal\n",
       "\n",
       "    †    -ⅈ⋅ω_d⋅t        ⎞                  \n",
       "se⋅a  + ℯ        ⋅False⋅a⎠ + ω_q⋅False⋅False"
      ]
     },
     "execution_count": 21,
     "metadata": {},
     "output_type": "execute_result"
    }
   ],
   "source": [
    "H3 = H3.collect([A,B,Dagger(a)*a,g])\n",
    "H3"
   ]
  },
  {
   "cell_type": "markdown",
   "metadata": {},
   "source": [
    "Second we apply the unitary transformation $U = e^{i \\omega_s \\sigma_+ \\sigma_- t}$:"
   ]
  },
  {
   "cell_type": "code",
   "execution_count": 22,
   "metadata": {
    "collapsed": false
   },
   "outputs": [
    {
     "data": {
      "image/png": "[encoded data removed]",
      "text/latex": [
       "$$e^{i \\omega_{s} t {\\sigma_+} {\\sigma_-}}$$"
      ],
      "text/plain": [
       " ⅈ⋅ω_s⋅t⋅False⋅False\n",
       "ℯ                   "
      ]
     },
     "execution_count": 22,
     "metadata": {},
     "output_type": "execute_result"
    }
   ],
   "source": [
    "U = exp(I * sp*sm* omega_s * t)\n",
    "\n",
    "U"
   ]
  },
  {
   "cell_type": "code",
   "execution_count": 23,
   "metadata": {
    "collapsed": false
   },
   "outputs": [
    {
     "data": {
      "image/png": "[encoded data removed]",
      "text/latex": [
       "$$A {{a}^\\dagger} + A {a} + B {\\sigma_-} + B {\\sigma_+} + \\Delta_{d} {{a}^\\dagger} {a} + g e^{i \\omega_{d} t} e^{- i \\omega_{s} t} {\\sigma_-} {{a}^\\dagger} + g e^{- i \\omega_{d} t} e^{i \\omega_{s} t} {\\sigma_+} {a} + \\omega_{q} {\\sigma_+} {\\sigma_-} - \\omega_{s} {\\sigma_+} {\\sigma_-}$$"
      ],
      "text/plain": [
       "   †                                  †        ⅈ⋅ω_d⋅t  -ⅈ⋅ω_s⋅t        †     \n",
       "A⋅a  + A⋅a + B⋅False + B⋅False + Δ_d⋅a ⋅a + g⋅ℯ       ⋅ℯ        ⋅False⋅a  + g⋅\n",
       "\n",
       " -ⅈ⋅ω_d⋅t  ⅈ⋅ω_s⋅t                                            \n",
       "ℯ        ⋅ℯ       ⋅False⋅a + ω_q⋅False⋅False - ω_s⋅False⋅False"
      ]
     },
     "execution_count": 23,
     "metadata": {},
     "output_type": "execute_result"
    }
   ],
   "source": [
    "H4 = hamiltonian_transformation(U, H3, independent=True)\n",
    "\n",
    "H4 =H4.expand()\n",
    "H4"
   ]
  },
  {
   "cell_type": "markdown",
   "metadata": {},
   "source": [
    "Substitute $ \\sigma_+\\sigma_-=\\dfrac{\\sigma_z}{2}$"
   ]
  },
  {
   "cell_type": "code",
   "execution_count": 24,
   "metadata": {
    "collapsed": false
   },
   "outputs": [
    {
     "data": {
      "image/png": "[encoded data removed]",
      "text/latex": [
       "$$A {{a}^\\dagger} + A {a} + B {\\sigma_-} + B {\\sigma_+} + \\Delta_{d} {{a}^\\dagger} {a} + g e^{i \\omega_{d} t} e^{- i \\omega_{s} t} {\\sigma_-} {{a}^\\dagger} + g e^{- i \\omega_{d} t} e^{i \\omega_{s} t} {\\sigma_+} {a} + \\frac{\\omega_{q} {\\sigma_z}}{2} - \\omega_{s} {\\sigma_+} {\\sigma_-}$$"
      ],
      "text/plain": [
       "   †                                  †        ⅈ⋅ω_d⋅t  -ⅈ⋅ω_s⋅t        †     \n",
       "A⋅a  + A⋅a + B⋅False + B⋅False + Δ_d⋅a ⋅a + g⋅ℯ       ⋅ℯ        ⋅False⋅a  + g⋅\n",
       "                                                                              \n",
       "\n",
       " -ⅈ⋅ω_d⋅t  ⅈ⋅ω_s⋅t           ω_q⋅False                  \n",
       "ℯ        ⋅ℯ       ⋅False⋅a + ───────── - ω_s⋅False⋅False\n",
       "                                 2                      "
      ]
     },
     "execution_count": 24,
     "metadata": {},
     "output_type": "execute_result"
    }
   ],
   "source": [
    "H4 = H4.subs(omega_q*sp*sm,omega_q*sz/2)\n",
    "H4"
   ]
  },
  {
   "cell_type": "code",
   "execution_count": 25,
   "metadata": {
    "collapsed": false
   },
   "outputs": [
    {
     "data": {
      "image/png": "[encoded data removed]",
      "text/latex": [
       "$$A {{a}^\\dagger} + A {a} + B {\\sigma_-} + B {\\sigma_+} + \\Delta_{d} {{a}^\\dagger} {a} + g e^{i \\omega_{d} t} e^{- i \\omega_{s} t} {\\sigma_-} {{a}^\\dagger} + g e^{- i \\omega_{d} t} e^{i \\omega_{s} t} {\\sigma_+} {a} + \\frac{\\omega_{q} {\\sigma_z}}{2} - \\frac{\\omega_{s} {\\sigma_z}}{2}$$"
      ],
      "text/plain": [
       "   †                                  †        ⅈ⋅ω_d⋅t  -ⅈ⋅ω_s⋅t        †     \n",
       "A⋅a  + A⋅a + B⋅False + B⋅False + Δ_d⋅a ⋅a + g⋅ℯ       ⋅ℯ        ⋅False⋅a  + g⋅\n",
       "                                                                              \n",
       "\n",
       " -ⅈ⋅ω_d⋅t  ⅈ⋅ω_s⋅t           ω_q⋅False   ω_s⋅False\n",
       "ℯ        ⋅ℯ       ⋅False⋅a + ───────── - ─────────\n",
       "                                 2           2    "
      ]
     },
     "execution_count": 25,
     "metadata": {},
     "output_type": "execute_result"
    }
   ],
   "source": [
    "H4 = H4.subs(-omega_s*sp*sm,-omega_s*sz/2)\n",
    "H4"
   ]
  },
  {
   "cell_type": "markdown",
   "metadata": {},
   "source": []
  },
  {
   "cell_type": "code",
   "execution_count": 26,
   "metadata": {
    "collapsed": false
   },
   "outputs": [
    {
     "data": {
      "image/png": "[encoded data removed]",
      "text/latex": [
       "$$A \\left({{a}^\\dagger} + {a}\\right) + B \\left({\\sigma_-} + {\\sigma_+}\\right) + \\Delta_{d} {{a}^\\dagger} {a} + g \\left(e^{i \\omega_{d} t} e^{- i \\omega_{s} t} {\\sigma_-} {{a}^\\dagger} + e^{- i \\omega_{d} t} e^{i \\omega_{s} t} {\\sigma_+} {a}\\right) + \\left(\\frac{\\omega_{q}}{2} - \\frac{\\omega_{s}}{2}\\right) {\\sigma_z}$$"
      ],
      "text/plain": [
       "  ⎛ †    ⎞                            †       ⎛ ⅈ⋅ω_d⋅t  -ⅈ⋅ω_s⋅t        †    \n",
       "A⋅⎝a  + a⎠ + B⋅(False + False) + Δ_d⋅a ⋅a + g⋅⎝ℯ       ⋅ℯ        ⋅False⋅a  + ℯ\n",
       "                                                                              \n",
       "\n",
       "-ⅈ⋅ω_d⋅t  ⅈ⋅ω_s⋅t        ⎞   ⎛ω_q   ω_s⎞      \n",
       "        ⋅ℯ       ⋅False⋅a⎠ + ⎜─── - ───⎟⋅False\n",
       "                             ⎝ 2     2 ⎠      "
      ]
     },
     "execution_count": 26,
     "metadata": {},
     "output_type": "execute_result"
    }
   ],
   "source": [
    "H4 = H4.subs(sp*sm,sz/2).expand()\n",
    "\n",
    "H4= H4.collect([A,B,Dagger(a)*a,g,sz])\n",
    "H4"
   ]
  },
  {
   "cell_type": "markdown",
   "metadata": {},
   "source": [
    "Introduce the detuning $\\Delta_s = \\omega_q - \\omega_s$:"
   ]
  },
  {
   "cell_type": "code",
   "execution_count": 27,
   "metadata": {
    "collapsed": false
   },
   "outputs": [
    {
     "data": {
      "image/png": "[encoded data removed]",
      "text/latex": [
       "$$A \\left({{a}^\\dagger} + {a}\\right) + B \\left({\\sigma_-} + {\\sigma_+}\\right) + \\Delta_{d} {{a}^\\dagger} {a} + \\frac{\\Delta_{s} {\\sigma_z}}{2} + g \\left(e^{i \\omega_{d} t} e^{- i \\omega_{s} t} {\\sigma_-} {{a}^\\dagger} + e^{- i \\omega_{d} t} e^{i \\omega_{s} t} {\\sigma_+} {a}\\right)$$"
      ],
      "text/plain": [
       "  ⎛ †    ⎞                            †     Δ_s⋅False     ⎛ ⅈ⋅ω_d⋅t  -ⅈ⋅ω_s⋅t \n",
       "A⋅⎝a  + a⎠ + B⋅(False + False) + Δ_d⋅a ⋅a + ───────── + g⋅⎝ℯ       ⋅ℯ        ⋅\n",
       "                                                2                             \n",
       "\n",
       "       †    -ⅈ⋅ω_d⋅t  ⅈ⋅ω_s⋅t        ⎞\n",
       "False⋅a  + ℯ        ⋅ℯ       ⋅False⋅a⎠\n",
       "                                      "
      ]
     },
     "execution_count": 27,
     "metadata": {},
     "output_type": "execute_result"
    }
   ],
   "source": [
    "H4 = H4.subs(omega_q/2-omega_s/2,Delta_s/2).expand()\n",
    "\n",
    "H5 = H4.collect([A,B,Dagger(a)*a,g,sz])\n",
    "H5"
   ]
  },
  {
   "cell_type": "code",
   "execution_count": 28,
   "metadata": {
    "collapsed": false
   },
   "outputs": [
    {
     "data": {
      "image/png": "[encoded data removed]",
      "text/latex": [
       "$$A {{a}^\\dagger} + A {a} + B {\\sigma_-} + B {\\sigma_+} + \\Delta_{d} {{a}^\\dagger} {a} + \\frac{\\Delta_{s} {\\sigma_z}}{2} + g e^{i \\omega_{d} t} e^{- i \\omega_{s} t} {\\sigma_-} {{a}^\\dagger} + g e^{- i \\omega_{d} t} e^{i \\omega_{s} t} {\\sigma_+} {a}$$"
      ],
      "text/plain": [
       "   †                                  †     Δ_s⋅False      ⅈ⋅ω_d⋅t  -ⅈ⋅ω_s⋅t  \n",
       "A⋅a  + A⋅a + B⋅False + B⋅False + Δ_d⋅a ⋅a + ───────── + g⋅ℯ       ⋅ℯ        ⋅F\n",
       "                                                2                             \n",
       "\n",
       "      †      -ⅈ⋅ω_d⋅t  ⅈ⋅ω_s⋅t        \n",
       "alse⋅a  + g⋅ℯ        ⋅ℯ       ⋅False⋅a\n",
       "                                      "
      ]
     },
     "execution_count": 28,
     "metadata": {},
     "output_type": "execute_result"
    }
   ],
   "source": [
    "H5 = H5.expand()\n",
    "H5"
   ]
  },
  {
   "cell_type": "code",
   "execution_count": 29,
   "metadata": {
    "collapsed": false
   },
   "outputs": [],
   "source": [
    "H6 = simplify_exp(powsimp(H5))\n",
    "H6 = simplify_exp(H6).subs(omega_d - omega_s, Delta_t)\n",
    "\n",
    "H = H6.collect([A,B,Dagger(a)*a,g,sz])"
   ]
  },
  {
   "cell_type": "code",
   "execution_count": 30,
   "metadata": {
    "collapsed": false
   },
   "outputs": [
    {
     "data": {
      "image/png": "[encoded data removed]",
      "text/latex": [
       "$$H = A \\left({{a}^\\dagger} + {a}\\right) + B \\left({\\sigma_-} + {\\sigma_+}\\right) + \\Delta_{d} {{a}^\\dagger} {a} + \\frac{\\Delta_{s} {\\sigma_z}}{2} + g \\left(e^{i \\Delta_{t} t} {\\sigma_-} {{a}^\\dagger} + e^{- i \\Delta_{t} t} {\\sigma_+} {a}\\right)$$"
      ],
      "text/plain": [
       "      ⎛ †    ⎞                            †     Δ_s⋅False     ⎛ ⅈ⋅Δ_t⋅t       \n",
       "H = A⋅⎝a  + a⎠ + B⋅(False + False) + Δ_d⋅a ⋅a + ───────── + g⋅⎝ℯ       ⋅False⋅\n",
       "                                                    2                         \n",
       "\n",
       " †    -ⅈ⋅Δ_t⋅t        ⎞\n",
       "a  + ℯ        ⋅False⋅a⎠\n",
       "                       "
      ]
     },
     "execution_count": 30,
     "metadata": {},
     "output_type": "execute_result"
    }
   ],
   "source": [
    "Eq(Hsym, H)"
   ]
  },
  {
   "cell_type": "markdown",
   "metadata": {},
   "source": [
    "This is the Jaynes-Cumming model give above, and we have now seen that it is obtained to the dipole interaction Hamiltonian through the rotating wave approximation."
   ]
  },
  {
   "cell_type": "markdown",
   "metadata": {},
   "source": [
    "## Dispersive regime"
   ]
  },
  {
   "cell_type": "markdown",
   "metadata": {},
   "source": [
    "In the dispersive regime, where the two-level system is detuned from the cavity by much more than the interaction strength, $\\Delta \\gg g$, an effective Hamiltonian can be dervied which describes the Stark shift of the two-level system (which depends on the number of photons in the cavity) and the frequency shift of the cavity (which depend on the state of the two-level system).\n",
    "\n",
    "This effective Hamiltonian, which is correct up to second order in the small paramter $g/\\Delta$, is obtained by performing the unitary transformation\n",
    "\n",
    "$$\n",
    "U = e^{\\frac{g}{\\Delta}(a \\sigma_- - a^\\dagger \\sigma_+)}\n",
    "$$"
   ]
  },
  {
   "cell_type": "code",
   "execution_count": 31,
   "metadata": {
    "collapsed": false
   },
   "outputs": [
    {
     "data": {
      "image/png": "[encoded data removed]",
      "text/latex": [
       "$$e^{x {a} {\\sigma_+}}$$"
      ],
      "text/plain": [
       " x⋅a⋅False\n",
       "ℯ         "
      ]
     },
     "execution_count": 31,
     "metadata": {},
     "output_type": "execute_result"
    }
   ],
   "source": [
    "U = exp(x * (a * sp).expand())\n",
    "\n",
    "U"
   ]
  },
  {
   "cell_type": "code",
   "execution_count": 32,
   "metadata": {
    "collapsed": false
   },
   "outputs": [],
   "source": [
    "#H1 = unitary_transformation(U, H, allinone=True, expansion_search=False, N=3).expand()\n",
    "#H1 = qsimplify(H1)\n",
    "#H1"
   ]
  },
  {
   "cell_type": "code",
   "execution_count": 33,
   "metadata": {
    "collapsed": false
   },
   "outputs": [
    {
     "data": {
      "image/png": "[encoded data removed]",
      "text/latex": [
       "$$A x {\\sigma_+} + A {{a}^\\dagger} + A {a} - B x^{2} \\left({a}\\right)^{2} {\\sigma_+} + B x {a} {\\sigma_z} + B {\\sigma_-} + B {\\sigma_+} + \\Delta_{d} x {a} {\\sigma_+} + \\Delta_{d} {{a}^\\dagger} {a} - \\Delta_{s} x {a} {\\sigma_+} + \\frac{\\Delta_{s} {\\sigma_z}}{2} - g x^{2} e^{i \\Delta_{t} t} {{a}^\\dagger} \\left({a}\\right)^{2} {\\sigma_+} - g x^{2} e^{i \\Delta_{t} t} {a} {\\sigma_+} + \\frac{g x}{2} e^{i \\Delta_{t} t} + g x e^{i \\Delta_{t} t} {{a}^\\dagger} {a} {\\sigma_z} + \\frac{g x}{2} e^{i \\Delta_{t} t} {\\sigma_z} + g e^{i \\Delta_{t} t} {{a}^\\dagger} {\\sigma_-} + g e^{- i \\Delta_{t} t} {a} {\\sigma_+}$$"
      ],
      "text/plain": [
       "                                                                              \n",
       "               †            2  2                                              \n",
       "A⋅x⋅False + A⋅a  + A⋅a - B⋅x ⋅a ⋅False + B⋅x⋅a⋅False + B⋅False + B⋅False + Δ_d\n",
       "                                                                              \n",
       "\n",
       "                                                                              \n",
       "                  †                     Δ_s⋅False      2  ⅈ⋅Δ_t⋅t  †  2       \n",
       "⋅x⋅a⋅False + Δ_d⋅a ⋅a - Δ_s⋅x⋅a⋅False + ───────── - g⋅x ⋅ℯ       ⋅a ⋅a ⋅False \n",
       "                                            2                                 \n",
       "\n",
       "                               ⅈ⋅Δ_t⋅t                                  ⅈ⋅Δ_t⋅\n",
       "     2  ⅈ⋅Δ_t⋅t           g⋅x⋅ℯ               ⅈ⋅Δ_t⋅t  †           g⋅x⋅ℯ      \n",
       "- g⋅x ⋅ℯ       ⋅a⋅False + ──────────── + g⋅x⋅ℯ       ⋅a ⋅a⋅False + ───────────\n",
       "                               2                                           2  \n",
       "\n",
       "t                                                  \n",
       " ⋅False      ⅈ⋅Δ_t⋅t  †            -ⅈ⋅Δ_t⋅t        \n",
       "─────── + g⋅ℯ       ⋅a ⋅False + g⋅ℯ        ⋅a⋅False\n",
       "                                                   "
      ]
     },
     "execution_count": 33,
     "metadata": {},
     "output_type": "execute_result"
    }
   ],
   "source": [
    "H1 = hamiltonian_transformation(U, H, expansion_search=False, N=3).expand()\n",
    "\n",
    "H1 = qsimplify(H1)\n",
    "\n",
    "H1"
   ]
  },
  {
   "cell_type": "code",
   "execution_count": 34,
   "metadata": {
    "collapsed": false
   },
   "outputs": [
    {
     "data": {
      "image/png": "[encoded data removed]",
      "text/latex": [
       "$$e^{- x {{a}^\\dagger} {\\sigma_-}}$$"
      ],
      "text/plain": [
       "     †      \n",
       " -x⋅a ⋅False\n",
       "ℯ           "
      ]
     },
     "execution_count": 34,
     "metadata": {},
     "output_type": "execute_result"
    }
   ],
   "source": [
    "U = exp(-x * (Dagger(a) * sm).expand())\n",
    "\n",
    "U"
   ]
  },
  {
   "cell_type": "code",
   "execution_count": 35,
   "metadata": {
    "collapsed": false
   },
   "outputs": [
    {
     "data": {
      "image/png": "[encoded data removed]",
      "text/latex": [
       "$$- A x^{3} \\left({{a}^\\dagger}\\right)^{2} {\\sigma_-} + A x^{2} {{a}^\\dagger} {\\sigma_z} + A x {\\sigma_-} + A x {\\sigma_+} + A {{a}^\\dagger} + A {a} + 2 B x^{4} {{a}^\\dagger} {a} {\\sigma_-} + B x^{4} \\left({{a}^\\dagger}\\right)^{2} \\left({a}\\right)^{2} {\\sigma_-} - B x^{3} {{a}^\\dagger} \\left({a}\\right)^{2} {\\sigma_z} - B x^{3} {a} - B x^{3} {a} {\\sigma_z} - 2 B x^{2} {{a}^\\dagger} {a} {\\sigma_-} - B x^{2} \\left({{a}^\\dagger}\\right)^{2} {\\sigma_-} - B x^{2} \\left({a}\\right)^{2} {\\sigma_+} - B x^{2} {\\sigma_-} + B x {{a}^\\dagger} {\\sigma_z} + B x {a} {\\sigma_z} + B {\\sigma_-} + B {\\sigma_+} - \\Delta_{d} x^{3} {{a}^\\dagger} {\\sigma_-} - \\Delta_{d} x^{3} \\left({{a}^\\dagger}\\right)^{2} {a} {\\sigma_-} + \\frac{\\Delta_{d} x^{2}}{2} + \\Delta_{d} x^{2} {{a}^\\dagger} {a} {\\sigma_z} + \\frac{\\Delta_{d} x^{2}}{2} {\\sigma_z} + \\Delta_{d} x {{a}^\\dagger} {\\sigma_-} + \\Delta_{d} x {a} {\\sigma_+} + \\Delta_{d} {{a}^\\dagger} {a} + \\Delta_{s} x^{3} {{a}^\\dagger} {\\sigma_-} + \\Delta_{s} x^{3} \\left({{a}^\\dagger}\\right)^{2} {a} {\\sigma_-} - \\frac{\\Delta_{s} x^{2}}{2} - \\Delta_{s} x^{2} {{a}^\\dagger} {a} {\\sigma_z} - \\frac{\\Delta_{s} x^{2}}{2} {\\sigma_z} - \\Delta_{s} x {{a}^\\dagger} {\\sigma_-} - \\Delta_{s} x {a} {\\sigma_+} + \\frac{\\Delta_{s} {\\sigma_z}}{2} + g x^{4} e^{i \\Delta_{t} t} {{a}^\\dagger} {\\sigma_-} + 3 g x^{4} e^{i \\Delta_{t} t} \\left({{a}^\\dagger}\\right)^{2} {a} {\\sigma_-} + g x^{4} e^{i \\Delta_{t} t} \\left({{a}^\\dagger}\\right)^{3} \\left({a}\\right)^{2} {\\sigma_-} - \\frac{g x^{3}}{2} e^{i \\Delta_{t} t} - g x^{3} e^{i \\Delta_{t} t} {{a}^\\dagger} {a} - 2 g x^{3} e^{i \\Delta_{t} t} {{a}^\\dagger} {a} {\\sigma_z} - g x^{3} e^{i \\Delta_{t} t} \\left({{a}^\\dagger}\\right)^{2} \\left({a}\\right)^{2} {\\sigma_z} - \\frac{g x^{3}}{2} e^{i \\Delta_{t} t} {\\sigma_z} - g x^{2} e^{i \\Delta_{t} t} {{a}^\\dagger} \\left({a}\\right)^{2} {\\sigma_+} - 2 g x^{2} e^{i \\Delta_{t} t} {{a}^\\dagger} {\\sigma_-} - 2 g x^{2} e^{i \\Delta_{t} t} \\left({{a}^\\dagger}\\right)^{2} {a} {\\sigma_-} - g x^{2} e^{i \\Delta_{t} t} {a} {\\sigma_+} - g x^{2} e^{- i \\Delta_{t} t} {{a}^\\dagger} {\\sigma_-} - g x^{2} e^{- i \\Delta_{t} t} \\left({{a}^\\dagger}\\right)^{2} {a} {\\sigma_-} + \\frac{g x}{2} e^{i \\Delta_{t} t} + g x e^{i \\Delta_{t} t} {{a}^\\dagger} {a} {\\sigma_z} + \\frac{g x}{2} e^{i \\Delta_{t} t} {\\sigma_z} + \\frac{g x}{2} e^{- i \\Delta_{t} t} + g x e^{- i \\Delta_{t} t} {{a}^\\dagger} {a} {\\sigma_z} + \\frac{g x}{2} e^{- i \\Delta_{t} t} {\\sigma_z} + g e^{i \\Delta_{t} t} {{a}^\\dagger} {\\sigma_-} + g e^{- i \\Delta_{t} t} {a} {\\sigma_+}$$"
      ],
      "text/plain": [
       "           2                                                                  \n",
       "     3 ⎛ †⎞             2  †                                    †             \n",
       "- A⋅x ⋅⎝a ⎠ ⋅False + A⋅x ⋅a ⋅False + A⋅x⋅False + A⋅x⋅False + A⋅a  + A⋅a + 2⋅B⋅\n",
       "                                                                              \n",
       "\n",
       "                         2                                                    \n",
       " 4  †              4 ⎛ †⎞   2            3  †  2            3        3        \n",
       "x ⋅a ⋅a⋅False + B⋅x ⋅⎝a ⎠ ⋅a ⋅False - B⋅x ⋅a ⋅a ⋅False - B⋅x ⋅a - B⋅x ⋅a⋅False\n",
       "                                                                              \n",
       "\n",
       "                                2                                             \n",
       "        2  †              2 ⎛ †⎞             2  2            2              † \n",
       " - 2⋅B⋅x ⋅a ⋅a⋅False - B⋅x ⋅⎝a ⎠ ⋅False - B⋅x ⋅a ⋅False - B⋅x ⋅False + B⋅x⋅a ⋅\n",
       "                                                                              \n",
       "\n",
       "                                                                       2      \n",
       "                                               3  †              3 ⎛ †⎞       \n",
       "False + B⋅x⋅a⋅False + B⋅False + B⋅False - Δ_d⋅x ⋅a ⋅False - Δ_d⋅x ⋅⎝a ⎠ ⋅a⋅Fal\n",
       "                                                                              \n",
       "\n",
       "          2                            2                                      \n",
       "     Δ_d⋅x         2  †           Δ_d⋅x ⋅False          †                     \n",
       "se + ────── + Δ_d⋅x ⋅a ⋅a⋅False + ──────────── + Δ_d⋅x⋅a ⋅False + Δ_d⋅x⋅a⋅Fals\n",
       "       2                               2                                      \n",
       "\n",
       "                                            2                2                \n",
       "         †          3  †              3 ⎛ †⎞            Δ_s⋅x         2  †    \n",
       "e + Δ_d⋅a ⋅a + Δ_s⋅x ⋅a ⋅False + Δ_s⋅x ⋅⎝a ⎠ ⋅a⋅False - ────── - Δ_s⋅x ⋅a ⋅a⋅F\n",
       "                                                          2                   \n",
       "\n",
       "            2                                                                 \n",
       "       Δ_s⋅x ⋅False          †                         Δ_s⋅False      4  ⅈ⋅Δ_t\n",
       "alse - ──────────── - Δ_s⋅x⋅a ⋅False - Δ_s⋅x⋅a⋅False + ───────── + g⋅x ⋅ℯ     \n",
       "            2                                              2                  \n",
       "\n",
       "                                  2                             3             \n",
       "⋅t  †              4  ⅈ⋅Δ_t⋅t ⎛ †⎞               4  ⅈ⋅Δ_t⋅t ⎛ †⎞   2         g\n",
       "  ⋅a ⋅False + 3⋅g⋅x ⋅ℯ       ⋅⎝a ⎠ ⋅a⋅False + g⋅x ⋅ℯ       ⋅⎝a ⎠ ⋅a ⋅False - ─\n",
       "                                                                              \n",
       "\n",
       "  3  ⅈ⋅Δ_t⋅t                                                                  \n",
       "⋅x ⋅ℯ             3  ⅈ⋅Δ_t⋅t  †          3  ⅈ⋅Δ_t⋅t  †              3  ⅈ⋅Δ_t⋅t\n",
       "──────────── - g⋅x ⋅ℯ       ⋅a ⋅a - 2⋅g⋅x ⋅ℯ       ⋅a ⋅a⋅False - g⋅x ⋅ℯ       \n",
       "     2                                                                        \n",
       "\n",
       "     2               3  ⅈ⋅Δ_t⋅t                                               \n",
       " ⎛ †⎞   2         g⋅x ⋅ℯ       ⋅False      2  ⅈ⋅Δ_t⋅t  †  2              2  ⅈ⋅\n",
       "⋅⎝a ⎠ ⋅a ⋅False - ─────────────────── - g⋅x ⋅ℯ       ⋅a ⋅a ⋅False - 2⋅g⋅x ⋅ℯ  \n",
       "                           2                                                  \n",
       "\n",
       "                                     2                                        \n",
       "Δ_t⋅t  †              2  ⅈ⋅Δ_t⋅t ⎛ †⎞               2  ⅈ⋅Δ_t⋅t              2 \n",
       "     ⋅a ⋅False - 2⋅g⋅x ⋅ℯ       ⋅⎝a ⎠ ⋅a⋅False - g⋅x ⋅ℯ       ⋅a⋅False - g⋅x ⋅\n",
       "                                                                              \n",
       "\n",
       "                                        2                ⅈ⋅Δ_t⋅t              \n",
       " -ⅈ⋅Δ_t⋅t  †            2  -ⅈ⋅Δ_t⋅t ⎛ †⎞            g⋅x⋅ℯ               ⅈ⋅Δ_t⋅\n",
       "ℯ        ⋅a ⋅False - g⋅x ⋅ℯ        ⋅⎝a ⎠ ⋅a⋅False + ──────────── + g⋅x⋅ℯ      \n",
       "                                                         2                    \n",
       "\n",
       "                    ⅈ⋅Δ_t⋅t              -ⅈ⋅Δ_t⋅t                             \n",
       "t  †           g⋅x⋅ℯ       ⋅False   g⋅x⋅ℯ                -ⅈ⋅Δ_t⋅t  †          \n",
       " ⋅a ⋅a⋅False + ────────────────── + ───────────── + g⋅x⋅ℯ        ⋅a ⋅a⋅False +\n",
       "                       2                  2                                   \n",
       "\n",
       "      -ⅈ⋅Δ_t⋅t                                                  \n",
       " g⋅x⋅ℯ        ⋅False      ⅈ⋅Δ_t⋅t  †            -ⅈ⋅Δ_t⋅t        \n",
       " ─────────────────── + g⋅ℯ       ⋅a ⋅False + g⋅ℯ        ⋅a⋅False\n",
       "          2                                                     "
      ]
     },
     "execution_count": 35,
     "metadata": {},
     "output_type": "execute_result"
    }
   ],
   "source": [
    "H2 = hamiltonian_transformation(U, H1, expansion_search=False, N=3).expand()\n",
    "\n",
    "H2 = qsimplify(H2)\n",
    "\n",
    "H2"
   ]
  },
  {
   "cell_type": "code",
   "execution_count": 36,
   "metadata": {
    "collapsed": false
   },
   "outputs": [
    {
     "data": {
      "image/png": "[encoded data removed]",
      "text/latex": [
       "$$A x^{2} {{a}^\\dagger} {\\sigma_z} + A x {\\sigma_-} + A x {\\sigma_+} + A {{a}^\\dagger} + A {a} - 2 B x^{2} {{a}^\\dagger} {a} {\\sigma_-} - B x^{2} \\left({{a}^\\dagger}\\right)^{2} {\\sigma_-} - B x^{2} \\left({a}\\right)^{2} {\\sigma_+} - B x^{2} {\\sigma_-} + B x {{a}^\\dagger} {\\sigma_z} + B x {a} {\\sigma_z} + B {\\sigma_-} + B {\\sigma_+} + \\frac{\\Delta_{d} x^{2}}{2} + \\Delta_{d} x^{2} {{a}^\\dagger} {a} {\\sigma_z} + \\frac{\\Delta_{d} x^{2}}{2} {\\sigma_z} + \\Delta_{d} x {{a}^\\dagger} {\\sigma_-} + \\Delta_{d} x {a} {\\sigma_+} + \\Delta_{d} {{a}^\\dagger} {a} - \\frac{\\Delta_{s} x^{2}}{2} - \\Delta_{s} x^{2} {{a}^\\dagger} {a} {\\sigma_z} - \\frac{\\Delta_{s} x^{2}}{2} {\\sigma_z} - \\Delta_{s} x {{a}^\\dagger} {\\sigma_-} - \\Delta_{s} x {a} {\\sigma_+} + \\frac{\\Delta_{s} {\\sigma_z}}{2} - g x^{2} e^{i \\Delta_{t} t} {{a}^\\dagger} \\left({a}\\right)^{2} {\\sigma_+} - 2 g x^{2} e^{i \\Delta_{t} t} {{a}^\\dagger} {\\sigma_-} - 2 g x^{2} e^{i \\Delta_{t} t} \\left({{a}^\\dagger}\\right)^{2} {a} {\\sigma_-} - g x^{2} e^{i \\Delta_{t} t} {a} {\\sigma_+} - g x^{2} e^{- i \\Delta_{t} t} {{a}^\\dagger} {\\sigma_-} - g x^{2} e^{- i \\Delta_{t} t} \\left({{a}^\\dagger}\\right)^{2} {a} {\\sigma_-} + \\frac{g x}{2} e^{i \\Delta_{t} t} + g x e^{i \\Delta_{t} t} {{a}^\\dagger} {a} {\\sigma_z} + \\frac{g x}{2} e^{i \\Delta_{t} t} {\\sigma_z} + \\frac{g x}{2} e^{- i \\Delta_{t} t} + g x e^{- i \\Delta_{t} t} {{a}^\\dagger} {a} {\\sigma_z} + \\frac{g x}{2} e^{- i \\Delta_{t} t} {\\sigma_z} + g e^{i \\Delta_{t} t} {{a}^\\dagger} {\\sigma_-} + g e^{- i \\Delta_{t} t} {a} {\\sigma_+}$$"
      ],
      "text/plain": [
       "                                                                              \n",
       "   2  †                                    †              2  †              2 \n",
       "A⋅x ⋅a ⋅False + A⋅x⋅False + A⋅x⋅False + A⋅a  + A⋅a - 2⋅B⋅x ⋅a ⋅a⋅False - B⋅x ⋅\n",
       "                                                                              \n",
       "\n",
       "    2                                                                         \n",
       "⎛ †⎞             2  2            2              †                             \n",
       "⎝a ⎠ ⋅False - B⋅x ⋅a ⋅False - B⋅x ⋅False + B⋅x⋅a ⋅False + B⋅x⋅a⋅False + B⋅Fals\n",
       "                                                                              \n",
       "\n",
       "                   2                            2                             \n",
       "              Δ_d⋅x         2  †           Δ_d⋅x ⋅False          †            \n",
       "e + B⋅False + ────── + Δ_d⋅x ⋅a ⋅a⋅False + ──────────── + Δ_d⋅x⋅a ⋅False + Δ_d\n",
       "                2                               2                             \n",
       "\n",
       "                             2                            2                   \n",
       "                  †     Δ_s⋅x         2  †           Δ_s⋅x ⋅False          †  \n",
       "⋅x⋅a⋅False + Δ_d⋅a ⋅a - ────── - Δ_s⋅x ⋅a ⋅a⋅False - ──────────── - Δ_s⋅x⋅a ⋅F\n",
       "                          2                               2                   \n",
       "\n",
       "                                                                              \n",
       "                       Δ_s⋅False      2  ⅈ⋅Δ_t⋅t  †  2              2  ⅈ⋅Δ_t⋅t\n",
       "alse - Δ_s⋅x⋅a⋅False + ───────── - g⋅x ⋅ℯ       ⋅a ⋅a ⋅False - 2⋅g⋅x ⋅ℯ       \n",
       "                           2                                                  \n",
       "\n",
       "                                2                                             \n",
       "  †              2  ⅈ⋅Δ_t⋅t ⎛ †⎞               2  ⅈ⋅Δ_t⋅t              2  -ⅈ⋅Δ\n",
       "⋅a ⋅False - 2⋅g⋅x ⋅ℯ       ⋅⎝a ⎠ ⋅a⋅False - g⋅x ⋅ℯ       ⋅a⋅False - g⋅x ⋅ℯ    \n",
       "                                                                              \n",
       "\n",
       "                                   2                ⅈ⋅Δ_t⋅t                   \n",
       "_t⋅t  †            2  -ⅈ⋅Δ_t⋅t ⎛ †⎞            g⋅x⋅ℯ               ⅈ⋅Δ_t⋅t  † \n",
       "    ⋅a ⋅False - g⋅x ⋅ℯ        ⋅⎝a ⎠ ⋅a⋅False + ──────────── + g⋅x⋅ℯ       ⋅a ⋅\n",
       "                                                    2                         \n",
       "\n",
       "               ⅈ⋅Δ_t⋅t              -ⅈ⋅Δ_t⋅t                                  \n",
       "          g⋅x⋅ℯ       ⋅False   g⋅x⋅ℯ                -ⅈ⋅Δ_t⋅t  †           g⋅x⋅\n",
       "a⋅False + ────────────────── + ───────────── + g⋅x⋅ℯ        ⋅a ⋅a⋅False + ────\n",
       "                  2                  2                                        \n",
       "\n",
       " -ⅈ⋅Δ_t⋅t                                                  \n",
       "ℯ        ⋅False      ⅈ⋅Δ_t⋅t  †            -ⅈ⋅Δ_t⋅t        \n",
       "─────────────── + g⋅ℯ       ⋅a ⋅False + g⋅ℯ        ⋅a⋅False\n",
       "     2                                                     "
      ]
     },
     "execution_count": 36,
     "metadata": {},
     "output_type": "execute_result"
    }
   ],
   "source": [
    "H3 = drop_terms_containing(H2.expand(), [x**3, x**4])\n",
    "\n",
    "H3"
   ]
  },
  {
   "cell_type": "code",
   "execution_count": 37,
   "metadata": {
    "collapsed": false
   },
   "outputs": [
    {
     "data": {
      "image/png": "[encoded data removed]",
      "text/latex": [
       "$$A {{a}^\\dagger} + A {a} + \\frac{A g}{\\Delta} {\\sigma_-} + \\frac{A g}{\\Delta} {\\sigma_+} + \\frac{A g^{2}}{\\Delta^{2}} {{a}^\\dagger} {\\sigma_z} + B {\\sigma_-} + B {\\sigma_+} + \\frac{B g}{\\Delta} {{a}^\\dagger} {\\sigma_z} + \\frac{B g}{\\Delta} {a} {\\sigma_z} - \\frac{2 B}{\\Delta^{2}} g^{2} {{a}^\\dagger} {a} {\\sigma_-} - \\frac{B g^{2}}{\\Delta^{2}} \\left({{a}^\\dagger}\\right)^{2} {\\sigma_-} - \\frac{B g^{2}}{\\Delta^{2}} \\left({a}\\right)^{2} {\\sigma_+} - \\frac{B g^{2}}{\\Delta^{2}} {\\sigma_-} + \\Delta_{d} {{a}^\\dagger} {a} + \\frac{\\Delta_{s} {\\sigma_z}}{2} + g e^{i \\Delta_{t} t} {{a}^\\dagger} {\\sigma_-} + g e^{- i \\Delta_{t} t} {a} {\\sigma_+} + \\frac{\\Delta_{d} g}{\\Delta} {{a}^\\dagger} {\\sigma_-} + \\frac{\\Delta_{d} g}{\\Delta} {a} {\\sigma_+} - \\frac{\\Delta_{s} g}{\\Delta} {{a}^\\dagger} {\\sigma_-} - \\frac{\\Delta_{s} g}{\\Delta} {a} {\\sigma_+} + \\frac{g^{2} e^{i \\Delta_{t} t}}{2 \\Delta} + \\frac{g^{2} {{a}^\\dagger}}{\\Delta} e^{i \\Delta_{t} t} {a} {\\sigma_z} + \\frac{g^{2} e^{i \\Delta_{t} t}}{2 \\Delta} {\\sigma_z} + \\frac{g^{2}}{2 \\Delta} e^{- i \\Delta_{t} t} + \\frac{g^{2} {{a}^\\dagger}}{\\Delta} e^{- i \\Delta_{t} t} {a} {\\sigma_z} + \\frac{g^{2} {\\sigma_z}}{2 \\Delta} e^{- i \\Delta_{t} t} + \\frac{\\Delta_{d} g^{2}}{2 \\Delta^{2}} + \\frac{\\Delta_{d} g^{2}}{\\Delta^{2}} {{a}^\\dagger} {a} {\\sigma_z} + \\frac{\\Delta_{d} g^{2} {\\sigma_z}}{2 \\Delta^{2}} - \\frac{\\Delta_{s} g^{2}}{2 \\Delta^{2}} - \\frac{\\Delta_{s} g^{2}}{\\Delta^{2}} {{a}^\\dagger} {a} {\\sigma_z} - \\frac{\\Delta_{s} g^{2} {\\sigma_z}}{2 \\Delta^{2}} - \\frac{g^{3} {{a}^\\dagger}}{\\Delta^{2}} e^{i \\Delta_{t} t} \\left({a}\\right)^{2} {\\sigma_+} - \\frac{2 g^{3}}{\\Delta^{2}} e^{i \\Delta_{t} t} {{a}^\\dagger} {\\sigma_-} - \\frac{2 g^{3}}{\\Delta^{2}} e^{i \\Delta_{t} t} \\left({{a}^\\dagger}\\right)^{2} {a} {\\sigma_-} - \\frac{g^{3} {a}}{\\Delta^{2}} e^{i \\Delta_{t} t} {\\sigma_+} - \\frac{g^{3} {{a}^\\dagger}}{\\Delta^{2}} e^{- i \\Delta_{t} t} {\\sigma_-} - \\frac{g^{3} \\left({{a}^\\dagger}\\right)^{2}}{\\Delta^{2}} e^{- i \\Delta_{t} t} {a} {\\sigma_-}$$"
      ],
      "text/plain": [
       "                                                                              \n",
       "                                        2  †                                  \n",
       "   †         A⋅g⋅False   A⋅g⋅False   A⋅g ⋅a ⋅False                       B⋅g⋅a\n",
       "A⋅a  + A⋅a + ───────── + ───────── + ───────────── + B⋅False + B⋅False + ─────\n",
       "                 Δ           Δ              2                                 \n",
       "                                           Δ                                  \n",
       "\n",
       "                                                     2                        \n",
       "†                            2  †              2 ⎛ †⎞             2  2        \n",
       " ⋅False   B⋅g⋅a⋅False   2⋅B⋅g ⋅a ⋅a⋅False   B⋅g ⋅⎝a ⎠ ⋅False   B⋅g ⋅a ⋅False  \n",
       "─────── + ─────────── - ───────────────── - ──────────────── - ───────────── -\n",
       "Δ              Δ                 2                  2                 2       \n",
       "                                Δ                  Δ                 Δ        \n",
       "\n",
       "                                                                              \n",
       "    2                                                                         \n",
       " B⋅g ⋅False        †     Δ_s⋅False      ⅈ⋅Δ_t⋅t  †            -ⅈ⋅Δ_t⋅t        \n",
       " ────────── + Δ_d⋅a ⋅a + ───────── + g⋅ℯ       ⋅a ⋅False + g⋅ℯ        ⋅a⋅False\n",
       "      2                      2                                                \n",
       "     Δ                                                                        \n",
       "\n",
       "                                                                              \n",
       "          †                                †                          2  ⅈ⋅Δ_t\n",
       "   Δ_d⋅g⋅a ⋅False   Δ_d⋅g⋅a⋅False   Δ_s⋅g⋅a ⋅False   Δ_s⋅g⋅a⋅False   g ⋅ℯ     \n",
       " + ────────────── + ───────────── - ────────────── - ───────────── + ─────────\n",
       "         Δ                Δ               Δ                Δ             2⋅Δ  \n",
       "                                                                              \n",
       "\n",
       "                                                                              \n",
       "⋅t    2  ⅈ⋅Δ_t⋅t  †            2  ⅈ⋅Δ_t⋅t          2  -ⅈ⋅Δ_t⋅t    2  -ⅈ⋅Δ_t⋅t \n",
       "     g ⋅ℯ       ⋅a ⋅a⋅False   g ⋅ℯ       ⋅False   g ⋅ℯ           g ⋅ℯ        ⋅\n",
       "── + ────────────────────── + ───────────────── + ──────────── + ─────────────\n",
       "               Δ                     2⋅Δ              2⋅Δ                   Δ \n",
       "                                                                              \n",
       "\n",
       "                                                                              \n",
       " †            2  -ⅈ⋅Δ_t⋅t              2        2  †                2         \n",
       "a ⋅a⋅False   g ⋅ℯ        ⋅False   Δ_d⋅g    Δ_d⋅g ⋅a ⋅a⋅False   Δ_d⋅g ⋅False   \n",
       "────────── + ────────────────── + ────── + ───────────────── + ──────────── - \n",
       "                    2⋅Δ               2             2                 2       \n",
       "                                   2⋅Δ             Δ               2⋅Δ        \n",
       "\n",
       "                                                                              \n",
       "     2        2  †                2          3  ⅈ⋅Δ_t⋅t  †  2            3  ⅈ⋅\n",
       "Δ_s⋅g    Δ_s⋅g ⋅a ⋅a⋅False   Δ_s⋅g ⋅False   g ⋅ℯ       ⋅a ⋅a ⋅False   2⋅g ⋅ℯ  \n",
       "────── - ───────────────── - ──────────── - ─────────────────────── - ────────\n",
       "    2             2                 2                   2                     \n",
       " 2⋅Δ             Δ               2⋅Δ                   Δ                      \n",
       "\n",
       "                                   2                                          \n",
       "Δ_t⋅t  †            3  ⅈ⋅Δ_t⋅t ⎛ †⎞             3  ⅈ⋅Δ_t⋅t            3  -ⅈ⋅Δ_\n",
       "     ⋅a ⋅False   2⋅g ⋅ℯ       ⋅⎝a ⎠ ⋅a⋅False   g ⋅ℯ       ⋅a⋅False   g ⋅ℯ     \n",
       "────────────── - ─────────────────────────── - ─────────────────── - ─────────\n",
       "   2                           2                         2                    \n",
       "  Δ                           Δ                         Δ                     \n",
       "\n",
       "                                2        \n",
       "t⋅t  †          3  -ⅈ⋅Δ_t⋅t ⎛ †⎞         \n",
       "   ⋅a ⋅False   g ⋅ℯ        ⋅⎝a ⎠ ⋅a⋅False\n",
       "──────────── - ──────────────────────────\n",
       "  2                         2            \n",
       " Δ                         Δ             "
      ]
     },
     "execution_count": 37,
     "metadata": {},
     "output_type": "execute_result"
    }
   ],
   "source": [
    "H4 = H3.subs(x, g/Delta)\n",
    "\n",
    "H4"
   ]
  },
  {
   "cell_type": "code",
   "execution_count": 38,
   "metadata": {
    "collapsed": false
   },
   "outputs": [
    {
     "data": {
      "image/png": "[encoded data removed]",
      "text/latex": [
       "$$A {{a}^\\dagger} + A {a} + \\frac{A g}{\\Delta} {\\sigma_-} + \\frac{A g}{\\Delta} {\\sigma_+} + \\frac{A g^{2}}{\\Delta^{2}} {{a}^\\dagger} {\\sigma_z} + B {\\sigma_-} + B {\\sigma_+} + \\frac{B g}{\\Delta} {{a}^\\dagger} {\\sigma_z} + \\frac{B g}{\\Delta} {a} {\\sigma_z} - \\frac{2 B}{\\Delta^{2}} g^{2} {{a}^\\dagger} {a} {\\sigma_-} - \\frac{B g^{2}}{\\Delta^{2}} \\left({{a}^\\dagger}\\right)^{2} {\\sigma_-} - \\frac{B g^{2}}{\\Delta^{2}} \\left({a}\\right)^{2} {\\sigma_+} - \\frac{B g^{2}}{\\Delta^{2}} {\\sigma_-} + \\Delta_{d} {{a}^\\dagger} {a} + \\frac{\\Delta_{s} {\\sigma_z}}{2} + \\frac{\\Delta_{d} g}{\\Delta} {{a}^\\dagger} {\\sigma_-} + \\frac{\\Delta_{d} g}{\\Delta} {a} {\\sigma_+} - \\frac{\\Delta_{s} g}{\\Delta} {{a}^\\dagger} {\\sigma_-} - \\frac{\\Delta_{s} g}{\\Delta} {a} {\\sigma_+} + \\frac{\\Delta_{d} g^{2}}{\\Delta^{2}} {{a}^\\dagger} {a} {\\sigma_z} + \\frac{\\Delta_{d} g^{2} {\\sigma_z}}{2 \\Delta^{2}} - \\frac{\\Delta_{s} g^{2}}{\\Delta^{2}} {{a}^\\dagger} {a} {\\sigma_z} - \\frac{\\Delta_{s} g^{2} {\\sigma_z}}{2 \\Delta^{2}}$$"
      ],
      "text/plain": [
       "                                                                              \n",
       "                                        2  †                                  \n",
       "   †         A⋅g⋅False   A⋅g⋅False   A⋅g ⋅a ⋅False                       B⋅g⋅a\n",
       "A⋅a  + A⋅a + ───────── + ───────── + ───────────── + B⋅False + B⋅False + ─────\n",
       "                 Δ           Δ              2                                 \n",
       "                                           Δ                                  \n",
       "\n",
       "                                                     2                        \n",
       "†                            2  †              2 ⎛ †⎞             2  2        \n",
       " ⋅False   B⋅g⋅a⋅False   2⋅B⋅g ⋅a ⋅a⋅False   B⋅g ⋅⎝a ⎠ ⋅False   B⋅g ⋅a ⋅False  \n",
       "─────── + ─────────── - ───────────────── - ──────────────── - ───────────── -\n",
       "Δ              Δ                 2                  2                 2       \n",
       "                                Δ                  Δ                 Δ        \n",
       "\n",
       "                                                                              \n",
       "    2                                       †                                †\n",
       " B⋅g ⋅False        †     Δ_s⋅False   Δ_d⋅g⋅a ⋅False   Δ_d⋅g⋅a⋅False   Δ_s⋅g⋅a \n",
       " ────────── + Δ_d⋅a ⋅a + ───────── + ────────────── + ───────────── - ────────\n",
       "      2                      2             Δ                Δ               Δ \n",
       "     Δ                                                                        \n",
       "\n",
       "                                                                              \n",
       "                              2  †                2              2  †         \n",
       "⋅False   Δ_s⋅g⋅a⋅False   Δ_d⋅g ⋅a ⋅a⋅False   Δ_d⋅g ⋅False   Δ_s⋅g ⋅a ⋅a⋅False \n",
       "────── - ───────────── + ───────────────── + ──────────── - ───────────────── \n",
       "               Δ                  2                 2                2        \n",
       "                                 Δ               2⋅Δ                Δ         \n",
       "\n",
       "              \n",
       "       2      \n",
       "  Δ_s⋅g ⋅False\n",
       "- ────────────\n",
       "         2    \n",
       "      2⋅Δ     "
      ]
     },
     "execution_count": 38,
     "metadata": {},
     "output_type": "execute_result"
    }
   ],
   "source": [
    "H5 = drop_c_number_terms(H4)\n",
    "H6 = drop_terms_containing(H5.expand(), [exp(I*Delta_t*t), exp(-I*Delta_t*t)])\n",
    "H6"
   ]
  },
  {
   "cell_type": "code",
   "execution_count": 39,
   "metadata": {
    "collapsed": false
   },
   "outputs": [
    {
     "data": {
      "image/png": "[encoded data removed]",
      "text/latex": [
       "$$A {{a}^\\dagger} + A {a} + \\frac{A g}{\\Delta} {\\sigma_-} + \\frac{A g}{\\Delta} {\\sigma_+} + B {\\sigma_-} + B {\\sigma_+} - \\frac{B g^{2}}{\\Delta^{2}} \\left({{a}^\\dagger}\\right)^{2} {\\sigma_-} - \\frac{B g^{2}}{\\Delta^{2}} \\left({a}\\right)^{2} {\\sigma_+} - \\frac{B g^{2}}{\\Delta^{2}} {\\sigma_-} + {{a}^\\dagger} {a} \\left(- \\frac{2 B}{\\Delta^{2}} g^{2} {\\sigma_-} + \\Delta_{d} + \\frac{\\Delta_{d} g^{2}}{\\Delta^{2}} {\\sigma_z} - \\frac{\\Delta_{s} g^{2}}{\\Delta^{2}} {\\sigma_z}\\right) + {\\sigma_z} \\left(\\frac{A g^{2}}{\\Delta^{2}} {{a}^\\dagger} + \\frac{B g}{\\Delta} {{a}^\\dagger} + \\frac{B g}{\\Delta} {a} + \\frac{\\Delta_{s}}{2} + \\frac{\\Delta_{d} g^{2}}{2 \\Delta^{2}} - \\frac{\\Delta_{s} g^{2}}{2 \\Delta^{2}}\\right) + \\frac{\\Delta_{d} g}{\\Delta} {{a}^\\dagger} {\\sigma_-} + \\frac{\\Delta_{d} g}{\\Delta} {a} {\\sigma_+} - \\frac{\\Delta_{s} g}{\\Delta} {{a}^\\dagger} {\\sigma_-} - \\frac{\\Delta_{s} g}{\\Delta} {a} {\\sigma_+}$$"
      ],
      "text/plain": [
       "                                                                  2           \n",
       "                                                            2 ⎛ †⎞            \n",
       "   †         A⋅g⋅False   A⋅g⋅False                       B⋅g ⋅⎝a ⎠ ⋅False   B⋅\n",
       "A⋅a  + A⋅a + ───────── + ───────── + B⋅False + B⋅False - ──────────────── - ──\n",
       "                 Δ           Δ                                   2            \n",
       "                                                                Δ             \n",
       "\n",
       "                                                                              \n",
       " 2  2            2              ⎛       2                    2              2 \n",
       "g ⋅a ⋅False   B⋅g ⋅False    †   ⎜  2⋅B⋅g ⋅False         Δ_d⋅g ⋅False   Δ_s⋅g ⋅\n",
       "─────────── - ────────── + a ⋅a⋅⎜- ──────────── + Δ_d + ──────────── - ───────\n",
       "     2             2            ⎜        2                    2              2\n",
       "    Δ             Δ             ⎝       Δ                    Δ              Δ \n",
       "\n",
       "                                                                              \n",
       "     ⎞         ⎛   2  †        †                      2        2⎞          †  \n",
       "False⎟         ⎜A⋅g ⋅a    B⋅g⋅a    B⋅g⋅a   Δ_s   Δ_d⋅g    Δ_s⋅g ⎟   Δ_d⋅g⋅a ⋅F\n",
       "─────⎟ + False⋅⎜─────── + ────── + ───── + ─── + ────── - ──────⎟ + ──────────\n",
       "     ⎟         ⎜    2       Δ        Δ      2        2        2 ⎟         Δ   \n",
       "     ⎠         ⎝   Δ                              2⋅Δ      2⋅Δ  ⎠             \n",
       "\n",
       "                                                     \n",
       "                              †                      \n",
       "alse   Δ_d⋅g⋅a⋅False   Δ_s⋅g⋅a ⋅False   Δ_s⋅g⋅a⋅False\n",
       "──── + ───────────── - ────────────── - ─────────────\n",
       "             Δ               Δ                Δ      \n",
       "                                                     "
      ]
     },
     "execution_count": 39,
     "metadata": {},
     "output_type": "execute_result"
    }
   ],
   "source": [
    "H7 = collect(H6, [Dagger(a) * a, sz])\n",
    "\n",
    "H7"
   ]
  },
  {
   "cell_type": "markdown",
   "metadata": {},
   "source": [
    "Now move to a frame co-rotating with the qubit and oscillator frequencies: "
   ]
  },
  {
   "cell_type": "code",
   "execution_count": 40,
   "metadata": {
    "collapsed": false
   },
   "outputs": [
    {
     "data": {
      "image/png": "[encoded data removed]",
      "text/latex": [
       "$$A {{a}^\\dagger} + A {a} + \\frac{A g}{\\Delta} {\\sigma_-} + \\frac{A g}{\\Delta} {\\sigma_+} + \\frac{A g^{2}}{\\Delta^{2}} {\\sigma_z} {{a}^\\dagger} + B {\\sigma_-} + B {\\sigma_+} + \\frac{B g}{\\Delta} {\\sigma_z} {{a}^\\dagger} + \\frac{B g}{\\Delta} {\\sigma_z} {a} - \\frac{2 B}{\\Delta^{2}} g^{2} {{a}^\\dagger} {a} {\\sigma_-} - \\frac{B g^{2}}{\\Delta^{2}} \\left({{a}^\\dagger}\\right)^{2} {\\sigma_-} - \\frac{B g^{2}}{\\Delta^{2}} \\left({a}\\right)^{2} {\\sigma_+} - \\frac{B g^{2}}{\\Delta^{2}} {\\sigma_-} + \\Delta_{d} {{a}^\\dagger} {a} + \\frac{\\Delta_{s} {\\sigma_z}}{2} + \\frac{\\Delta_{d} g}{\\Delta} {{a}^\\dagger} {\\sigma_-} + \\frac{\\Delta_{d} g}{\\Delta} {a} {\\sigma_+} - \\frac{\\Delta_{s} g}{\\Delta} {{a}^\\dagger} {\\sigma_-} - \\frac{\\Delta_{s} g}{\\Delta} {a} {\\sigma_+} + \\frac{\\Delta_{d} g^{2}}{\\Delta^{2}} {{a}^\\dagger} {a} {\\sigma_z} + \\frac{\\Delta_{d} g^{2} {\\sigma_z}}{2 \\Delta^{2}} - \\frac{\\Delta_{s} g^{2}}{\\Delta^{2}} {{a}^\\dagger} {a} {\\sigma_z} - \\frac{\\Delta_{s} g^{2} {\\sigma_z}}{2 \\Delta^{2}}$$"
      ],
      "text/plain": [
       "                                                                              \n",
       "                                        2        †                            \n",
       "   †         A⋅g⋅False   A⋅g⋅False   A⋅g ⋅False⋅a                        B⋅g⋅F\n",
       "A⋅a  + A⋅a + ───────── + ───────── + ───────────── + B⋅False + B⋅False + ─────\n",
       "                 Δ           Δ              2                                 \n",
       "                                           Δ                                  \n",
       "\n",
       "                                                     2                        \n",
       "      †                      2  †              2 ⎛ †⎞             2  2        \n",
       "alse⋅a    B⋅g⋅False⋅a   2⋅B⋅g ⋅a ⋅a⋅False   B⋅g ⋅⎝a ⎠ ⋅False   B⋅g ⋅a ⋅False  \n",
       "─────── + ─────────── - ───────────────── - ──────────────── - ───────────── -\n",
       "Δ              Δ                 2                  2                 2       \n",
       "                                Δ                  Δ                 Δ        \n",
       "\n",
       "                                                                              \n",
       "    2                                       †                                †\n",
       " B⋅g ⋅False        †     Δ_s⋅False   Δ_d⋅g⋅a ⋅False   Δ_d⋅g⋅a⋅False   Δ_s⋅g⋅a \n",
       " ────────── + Δ_d⋅a ⋅a + ───────── + ────────────── + ───────────── - ────────\n",
       "      2                      2             Δ                Δ               Δ \n",
       "     Δ                                                                        \n",
       "\n",
       "                                                                              \n",
       "                              2  †                2              2  †         \n",
       "⋅False   Δ_s⋅g⋅a⋅False   Δ_d⋅g ⋅a ⋅a⋅False   Δ_d⋅g ⋅False   Δ_s⋅g ⋅a ⋅a⋅False \n",
       "────── - ───────────── + ───────────────── + ──────────── - ───────────────── \n",
       "               Δ                  2                 2                2        \n",
       "                                 Δ               2⋅Δ                Δ         \n",
       "\n",
       "              \n",
       "       2      \n",
       "  Δ_s⋅g ⋅False\n",
       "- ────────────\n",
       "         2    \n",
       "      2⋅Δ     "
      ]
     },
     "execution_count": 40,
     "metadata": {},
     "output_type": "execute_result"
    }
   ],
   "source": [
    "H7.expand()"
   ]
  },
  {
   "cell_type": "code",
   "execution_count": 41,
   "metadata": {
    "collapsed": false
   },
   "outputs": [
    {
     "data": {
      "image/png": "[encoded data removed]",
      "text/latex": [
       "$$A {{a}^\\dagger} + A {a} + \\frac{A g}{\\Delta} {\\sigma_-} + \\frac{A g}{\\Delta} {\\sigma_+} + B {\\sigma_-} + B {\\sigma_+} - \\frac{B g^{2}}{\\Delta^{2}} \\left({{a}^\\dagger}\\right)^{2} {\\sigma_-} - \\frac{B g^{2}}{\\Delta^{2}} \\left({a}\\right)^{2} {\\sigma_+} - \\frac{B g^{2}}{\\Delta^{2}} {\\sigma_-} + {{a}^\\dagger} {a} \\left(- \\frac{2 B}{\\Delta^{2}} g^{2} {\\sigma_-} + \\Delta_{d} + \\frac{\\Delta_{d} g^{2}}{\\Delta^{2}} {\\sigma_z} - \\frac{\\Delta_{s} g^{2}}{\\Delta^{2}} {\\sigma_z}\\right) + {\\sigma_z} \\left(\\frac{A g^{2}}{\\Delta^{2}} {{a}^\\dagger} + \\frac{B g}{\\Delta} {{a}^\\dagger} + \\frac{B g}{\\Delta} {a} + \\frac{\\Delta_{s}}{2} + \\frac{\\Delta_{d} g^{2}}{2 \\Delta^{2}} - \\frac{\\Delta_{s} g^{2}}{2 \\Delta^{2}}\\right) + \\frac{\\Delta_{d} g}{\\Delta} {{a}^\\dagger} {\\sigma_-} + \\frac{\\Delta_{d} g}{\\Delta} {a} {\\sigma_+} - \\frac{\\Delta_{s} g}{\\Delta} {{a}^\\dagger} {\\sigma_-} - \\frac{\\Delta_{s} g}{\\Delta} {a} {\\sigma_+}$$"
      ],
      "text/plain": [
       "                                                                  2           \n",
       "                                                            2 ⎛ †⎞            \n",
       "   †         A⋅g⋅False   A⋅g⋅False                       B⋅g ⋅⎝a ⎠ ⋅False   B⋅\n",
       "A⋅a  + A⋅a + ───────── + ───────── + B⋅False + B⋅False - ──────────────── - ──\n",
       "                 Δ           Δ                                   2            \n",
       "                                                                Δ             \n",
       "\n",
       "                                                                              \n",
       " 2  2            2              ⎛       2                    2              2 \n",
       "g ⋅a ⋅False   B⋅g ⋅False    †   ⎜  2⋅B⋅g ⋅False         Δ_d⋅g ⋅False   Δ_s⋅g ⋅\n",
       "─────────── - ────────── + a ⋅a⋅⎜- ──────────── + Δ_d + ──────────── - ───────\n",
       "     2             2            ⎜        2                    2              2\n",
       "    Δ             Δ             ⎝       Δ                    Δ              Δ \n",
       "\n",
       "                                                                              \n",
       "     ⎞         ⎛   2  †        †                      2        2⎞          †  \n",
       "False⎟         ⎜A⋅g ⋅a    B⋅g⋅a    B⋅g⋅a   Δ_s   Δ_d⋅g    Δ_s⋅g ⎟   Δ_d⋅g⋅a ⋅F\n",
       "─────⎟ + False⋅⎜─────── + ────── + ───── + ─── + ────── - ──────⎟ + ──────────\n",
       "     ⎟         ⎜    2       Δ        Δ      2        2        2 ⎟         Δ   \n",
       "     ⎠         ⎝   Δ                              2⋅Δ      2⋅Δ  ⎠             \n",
       "\n",
       "                                                     \n",
       "                              †                      \n",
       "alse   Δ_d⋅g⋅a⋅False   Δ_s⋅g⋅a ⋅False   Δ_s⋅g⋅a⋅False\n",
       "──── + ───────────── - ────────────── - ─────────────\n",
       "             Δ               Δ                Δ      \n",
       "                                                     "
      ]
     },
     "execution_count": 41,
     "metadata": {},
     "output_type": "execute_result"
    }
   ],
   "source": [
    "H8 = qsimplify(H7.expand())\n",
    "H9 = collect(H8, [Dagger(a) * a, sz])\n",
    "H9"
   ]
  },
  {
   "cell_type": "code",
   "execution_count": 46,
   "metadata": {
    "collapsed": false
   },
   "outputs": [
    {
     "data": {
      "image/png": "[encoded data removed]",
      "text/latex": [
       "$$A \\left({{a}^\\dagger} + {a} + \\frac{g {\\sigma_-}}{\\Delta} + \\frac{g {\\sigma_+}}{\\Delta}\\right) + B \\left({\\sigma_-} + {\\sigma_+} - \\frac{g^{2} \\left({{a}^\\dagger}\\right)^{2}}{\\Delta^{2}} {\\sigma_-} - \\frac{g^{2} \\left({a}\\right)^{2}}{\\Delta^{2}} {\\sigma_+} - \\frac{g^{2} {\\sigma_-}}{\\Delta^{2}}\\right) + \\Delta_{d} \\left(\\frac{g {{a}^\\dagger}}{\\Delta} {\\sigma_-} + \\frac{g {a}}{\\Delta} {\\sigma_+}\\right) + \\Delta_{s} \\left(- \\frac{g {{a}^\\dagger}}{\\Delta} {\\sigma_-} - \\frac{g {a}}{\\Delta} {\\sigma_+}\\right) + {{a}^\\dagger} {a} \\left(- \\frac{2 B}{\\Delta^{2}} g^{2} {\\sigma_-} + \\Delta_{d} + \\frac{\\Delta_{d} g^{2}}{\\Delta^{2}} {\\sigma_z} - \\frac{\\Delta_{s} g^{2}}{\\Delta^{2}} {\\sigma_z}\\right) + {\\sigma_z} \\left(\\frac{A g^{2}}{\\Delta^{2}} {{a}^\\dagger} + \\frac{B g}{\\Delta} {{a}^\\dagger} + \\frac{B g}{\\Delta} {a} + \\frac{\\Delta_{s}}{2} + \\frac{\\Delta_{d} g^{2}}{2 \\Delta^{2}} - \\frac{\\Delta_{s} g^{2}}{2 \\Delta^{2}}\\right)$$"
      ],
      "text/plain": [
       "                                   ⎛                       2                  \n",
       "                                   ⎜                 2 ⎛ †⎞           2  2    \n",
       "  ⎛ †       g⋅False   g⋅False⎞     ⎜                g ⋅⎝a ⎠ ⋅False   g ⋅a ⋅Fal\n",
       "A⋅⎜a  + a + ─────── + ───────⎟ + B⋅⎜False + False - ────────────── - ─────────\n",
       "  ⎝            Δ         Δ   ⎠     ⎜                       2               2  \n",
       "                                   ⎝                      Δ               Δ   \n",
       "\n",
       "             ⎞                                                                \n",
       "      2      ⎟       ⎛   †                  ⎞       ⎛     †                  ⎞\n",
       "se   g ⋅False⎟       ⎜g⋅a ⋅False   g⋅a⋅False⎟       ⎜  g⋅a ⋅False   g⋅a⋅False⎟\n",
       "── - ────────⎟ + Δ_d⋅⎜────────── + ─────────⎟ + Δ_s⋅⎜- ────────── - ─────────⎟\n",
       "         2   ⎟       ⎝    Δ            Δ    ⎠       ⎝      Δ            Δ    ⎠\n",
       "        Δ    ⎠                                                                \n",
       "\n",
       "                                                                              \n",
       "        ⎛       2                    2              2      ⎞         ⎛   2  † \n",
       "    †   ⎜  2⋅B⋅g ⋅False         Δ_d⋅g ⋅False   Δ_s⋅g ⋅False⎟         ⎜A⋅g ⋅a  \n",
       " + a ⋅a⋅⎜- ──────────── + Δ_d + ──────────── - ────────────⎟ + False⋅⎜─────── \n",
       "        ⎜        2                    2              2     ⎟         ⎜    2   \n",
       "        ⎝       Δ                    Δ              Δ      ⎠         ⎝   Δ    \n",
       "\n",
       "                                         \n",
       "       †                      2        2⎞\n",
       "  B⋅g⋅a    B⋅g⋅a   Δ_s   Δ_d⋅g    Δ_s⋅g ⎟\n",
       "+ ────── + ───── + ─── + ────── - ──────⎟\n",
       "    Δ        Δ      2        2        2 ⎟\n",
       "                          2⋅Δ      2⋅Δ  ⎠"
      ]
     },
     "execution_count": 46,
     "metadata": {},
     "output_type": "execute_result"
    }
   ],
   "source": [
    "H10 = qsimplify(H9)\n",
    "\n",
    "H10 = collect(H10, [Dagger(a) * a, sz, A, B, Delta_s, Delta_d])\n",
    "\n",
    "H10"
   ]
  },
  {
   "cell_type": "markdown",
   "metadata": {},
   "source": [
    "This is the Hamiltonian of the Jaynes-Cummings model in the the dispersive regime. It can be interpreted as the resonator having a qubit-state-dependent frequency shift, or alternatively that the qubit is feeling a resonator-photon-number dependent Stark-shift."
   ]
  }
 ],
 "metadata": {},
 "nbformat": 4,
 "nbformat_minor": 0
}
