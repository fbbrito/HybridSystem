{
 "cells": [
  {
   "cell_type": "markdown",
   "metadata": {},
   "source": [
    "$$\n",
    "A \\left({{a}^\\dagger} + {a}\\right) + B {\\sigma_x} + C \\left({{b}^\\dagger} + {b}\\right) - \\Delta_{d} {{a}^\\dagger} {a} - \\Delta_{p} {{b}^\\dagger} {b} + \\Delta_{s} {\\sigma_z} + g \\left({\\sigma_-} {{a}^\\dagger} + {\\sigma_+} {a}\\right) + \\lambda \\left({{b}^\\dagger} + {b}\\right) {\\sigma_x}\n",
    "$$"
   ]
  },
  {
   "cell_type": "code",
   "execution_count": 1,
   "metadata": {
    "collapsed": false
   },
   "outputs": [
    {
     "name": "stdout",
     "output_type": "stream",
     "text": [
      "Populating the interactive namespace from numpy and matplotlib\n"
     ]
    }
   ],
   "source": [
    "#import functions\n",
    "%pylab inline\n",
    "\n",
    "# from MyUnits import *\n",
    "from MyFunctions import *\n",
    "from qutip import *\n",
    "\n",
    "# from MyQubit import *\n",
    "# import mpld3\n",
    "import multiprocessing as mp\n",
    "import itertools\n",
    "\n",
    "\n",
    "\n",
    "\n"
   ]
  },
  {
   "cell_type": "code",
   "execution_count": 2,
   "metadata": {
    "collapsed": true
   },
   "outputs": [],
   "source": [
    "import scipy.constants as sc"
   ]
  },
  {
   "cell_type": "code",
   "execution_count": 3,
   "metadata": {
    "collapsed": true
   },
   "outputs": [],
   "source": [
    "import time"
   ]
  },
  {
   "cell_type": "code",
   "execution_count": 4,
   "metadata": {
    "collapsed": false
   },
   "outputs": [],
   "source": [
    "def calc_spectrum_3(N, M, Delta_C,Delta_NR,\n",
    "                    Delta_Q, g, lamb, \n",
    "                    A_C, A_Q, A_NR,\n",
    "                    kappa_n, gamma_rel,\n",
    "                    gamma_dep,n_th_a):\n",
    "    \"\"\"\n",
    "    Calculate Qubit density Matrix rho and trace of: rho_sz, rho_n, rho_x, rho_a : Based on work of : Suri, B. et al. Observation of Autler–Townes effect in a dispersively dressed Jaynes–Cummings system. New J. Phys. 15, 125007 (2013).\n",
    "    look also calc_spectrum function\n",
    "    N: number states cavity\n",
    "    t_list: time - not used\n",
    "    Delta_d_tilde: cavity tone frequency difference\n",
    "    Delta_s_tilde: qubit tone frequency difference\n",
    "    chi: dispersive coupling\n",
    "    Gamma_d: cavity tone power (GHz)\n",
    "    Gamma_s: qubit tone power (GHz)\n",
    "    \"\"\"\n",
    "\n",
    "\n",
    "    # cavity operators\n",
    "    a = tensor(destroy(N), qeye(M), qeye(2))\n",
    "    n_C = a.dag() * a\n",
    "    x_C = a + a.dag()\n",
    "\n",
    "    # NR operators\n",
    "    b = tensor(qeye(N), destroy(M), qeye(2))\n",
    "    n_NR = b.dag() * b\n",
    "    x_NR = b + b.dag()\n",
    "\n",
    "    # qubit operators\n",
    "    sm = tensor(qeye(N), qeye(M), destroy(2))\n",
    "    sz = tensor(qeye(N), qeye(M), sigmaz())\n",
    "    sx = tensor(qeye(N), qeye(M), sigmax())\n",
    "    nq = sm.dag() * sm\n",
    "    xq = sm + sm.dag()\n",
    "\n",
    "    # Unitary\n",
    "    I = tensor(qeye(N), qeye(M), qeye(2))\n",
    "\n",
    "\n",
    "    # Hamiltonian\n",
    "\n",
    "    H_C = Delta_C * (a.dag() * a + I / 2.0)  # Cavity\n",
    "\n",
    "    H_NR = Delta_NR * (b.dag() *b + I / 2.0 ) # Nanoresonator\n",
    "\n",
    "    H_Q = (Delta_Q / 2.0) * sz  # qubit\n",
    "\n",
    "    H_QtoC = g * (sm * a.dag() +  sm.dag()*a )  # interaction Cavity Qubit\n",
    "\n",
    "    H_QtoNR = lamb * (b.dag() + b)*sx # interaction NR Qubit\n",
    "\n",
    "    H_A = A_C * (a.dag() + a) # tone cavity\n",
    "\n",
    "    H_B = A_Q * (sm.dag() + sm) # tone qubit\n",
    "\n",
    "    H_C = A_NR * (b.dag() + b) # tone NR\n",
    "\n",
    "\n",
    "\n",
    "    # # extra term Unitary tranformation and RWA\n",
    "    # He = nc * chi ** 2 / (4 * Delta) * (w_q / Delta - I)\n",
    "    # Hd = (Gamma_d / 2.0) * (a + a.dag())  # Drive cavity\n",
    "    # Hs = (Gamma_s / 2.0) * (sm + sm.dag())  # Drive qubit\n",
    "    # HKerr = zeta_1 * ((a.dag() * a) ** 2) * sz + zeta_2 * (a.dag() * a) ** 2  # non linear Kerr terms\n",
    "\n",
    "    H = H_C + H_NR + H_Q + H_QtoC + H_QtoNR + H_A + H_B + H_C  # total Hamiltonian\n",
    "\n",
    "    # collapse operators\n",
    "\n",
    "    c_op_list = []\n",
    "\n",
    "    rate = kappa_n * (1 + n_th_a)\n",
    "    if rate > 0.0:\n",
    "        c_op_list.append(sqrt(rate) * a)\n",
    "\n",
    "    rate = kappa_n * n_th_a\n",
    "    if rate > 0.0:\n",
    "        c_op_list.append(sqrt(rate) * a.dag())\n",
    "\n",
    "    rate = gamma_rel * (1 + n_th_a)\n",
    "    if rate > 0.0:\n",
    "        c_op_list.append(sqrt(rate) * sm)\n",
    "\n",
    "    rate = gamma_rel * (n_th_a)\n",
    "    if rate > 0.0:\n",
    "        c_op_list.append(sqrt(rate) * sm.dag())\n",
    "\n",
    "    rate = (gamma_dep / 2) * (1 + n_th_a)\n",
    "    if rate > 0.0:\n",
    "        c_op_list.append(sqrt(rate) * sz)\n",
    "\n",
    "    # Calculation stedy state Master equation\n",
    "    rho = steadystate(H, c_op_list)\n",
    "\n",
    "    # variables to be returned\n",
    "\n",
    "    rho_sz = rho * sz\n",
    "#     rho_n = rho * (a.dag() * a + I / 2)\n",
    "#     rho_x = rho * (a.dag() + a)\n",
    "    rho_a = rho * a\n",
    "    rho_b = rho * b\n",
    "\n",
    "    return rho_sz.tr(), rho_a.tr(), rho_b.tr()\n"
   ]
  },
  {
   "cell_type": "code",
   "execution_count": 5,
   "metadata": {
    "collapsed": false
   },
   "outputs": [],
   "source": [
    "N = 5\n",
    "M = 5\n",
    "\n",
    "Delta_C = 1\n",
    "Delta_NR = 1\n",
    "Delta_Q =  1\n",
    "\n",
    "g = 0.119\n",
    "lamb = 0.1\n",
    "\n",
    "A_C = 0.000308\n",
    "A_Q = 0.00026\n",
    "A_NR = 0.000001\n",
    "\n",
    "kappa_n = 0.00025\n",
    "gamma_rel = 0.00023\n",
    "gamma_dep = 0.00114\n",
    "n_th_a = 0.3\n",
    "\n"
   ]
  },
  {
   "cell_type": "code",
   "execution_count": 6,
   "metadata": {
    "collapsed": false
   },
   "outputs": [],
   "source": [
    "def Delta(f_r,f_d):\n",
    "    \"\"\"\n",
    "    f_r resonance freq\n",
    "    f_d drive freq\n",
    "    \"\"\"\n",
    "    return f_r-f_d\n",
    "\n",
    "def Gamma(P,Q_c,Q_l,kappa,w):\n",
    "    return sqrt(Q_c*kappa*1e9*dBmtoW(P)/(2*Q_l*sc.hbar*w*1e9))/1e9\n",
    "\n",
    "\n"
   ]
  },
  {
   "cell_type": "code",
   "execution_count": null,
   "metadata": {
    "collapsed": false
   },
   "outputs": [],
   "source": []
  },
  {
   "cell_type": "code",
   "execution_count": 7,
   "metadata": {
    "collapsed": false
   },
   "outputs": [],
   "source": [
    "# a1, b1 = zip(*itertools.product(Delta_C, Delta_Q))\n",
    "# pool = mp.Pool(processes=12)\n",
    "# results2 = [pool.apply_async(calc_spectrum_3,\n",
    "#                             (N,\n",
    "#                              M,\n",
    "#                              C,\n",
    "#                              Delta_NR,\n",
    "#                              Q,\n",
    "#                              g,\n",
    "#                              lamb,\n",
    "#                              A_C,\n",
    "#                              A_Q,\n",
    "#                              A_NR,\n",
    "#                              kappa_n,\n",
    "#                              gamma_rel,\n",
    "#                              gamma_dep,\n",
    "#                              n_th_a)) for C,Q in zip(a1,b1)]\n",
    "\n",
    "# results = [p.get() for p in results2]\n",
    "# results.sort()"
   ]
  },
  {
   "cell_type": "markdown",
   "metadata": {
    "collapsed": true
   },
   "source": [
    "# Device Data \n"
   ]
  },
  {
   "cell_type": "code",
   "execution_count": 8,
   "metadata": {
    "collapsed": false
   },
   "outputs": [
    {
     "name": "stdout",
     "output_type": "stream",
     "text": [
      "Qubit max frequency:  4.28865833702 GHz\n",
      "<n> thermal:  0.0443136288802\n"
     ]
    }
   ],
   "source": [
    "Ej = 11.55 # Maximum Josephson Energy\n",
    "\n",
    "Ec = 0.22 # Capacitive Energy\n",
    "\n",
    "w_ge_max = sqrt(8*Ec*Ej)-Ec\n",
    "print('Qubit max frequency: ',w_ge_max, 'GHz')\n",
    "\n",
    "\n",
    "f = w_ge_max *1e9 # GHz\n",
    "T = 50e-3 # K\n",
    "\n",
    "n_th_a = 1/(exp(sc.h*f/(sc.k*T)-1))\n",
    "\n",
    "print('<n> thermal: ',n_th_a)\n",
    "\n"
   ]
  },
  {
   "cell_type": "code",
   "execution_count": 10,
   "metadata": {
    "collapsed": false
   },
   "outputs": [],
   "source": [
    "Q_c = 20000\n",
    "Q_l = Q_c\n",
    "\n",
    "\n",
    "N = 5\n",
    "M = 5\n",
    "\n",
    "\n",
    "g = 0.1\n",
    "lamb = 0.00011\n",
    "\n",
    "\n",
    "\n",
    "kappa_n = 0.0002\n",
    "gamma_rel = 0.0002\n",
    "gamma_dep = 0.001\n",
    "\n",
    "\n",
    "# Cavity\n",
    "w_c = 5 * (2 * pi)\n",
    "w_d = w_c + 0.006283185307175643 #(2 * pi) * 4.995\n",
    "P_C = -120# linspace(-60,-150,20)\n",
    "\n",
    "# Nanoresonator\n",
    "w_NR = 3 * (2 * pi)\n",
    "w_p = (2 * pi) * 2.9996\n",
    "P_NR = -1000\n",
    "\n",
    "\n",
    "# Qubit\n",
    "w_q =  4.5 * (2 * pi)\n",
    "w_s = (2 * pi) * linspace(4.2,4.8,300)#4.501\n",
    "P_Q = linspace(-50,-150,50)\n",
    "\n",
    "\n"
   ]
  },
  {
   "cell_type": "code",
   "execution_count": 11,
   "metadata": {
    "collapsed": false
   },
   "outputs": [],
   "source": [
    "Delta_C = Delta(w_c, w_d) \n",
    "\n",
    "Delta_NR = Delta(w_NR, w_p)\n",
    "\n",
    "Delta_Q = Delta(w_q, w_s)\n",
    "# print(Delta_C,Delta_NR,Delta_Q) \n"
   ]
  },
  {
   "cell_type": "code",
   "execution_count": 12,
   "metadata": {
    "collapsed": false
   },
   "outputs": [],
   "source": [
    "A_C = Gamma(P_C,Q_c,Q_l,kappa_n,w_c)\n",
    "\n",
    "A_Q = Gamma(P_Q,Q_c,Q_l,kappa_n,w_c)\n",
    "\n",
    "A_NR = Gamma(P_NR,Q_c,Q_l,kappa_n,w_c)\n",
    "# print(r'A_C = ', A_C, '\\n\\nA_Q = ', A_Q, '\\n\\nA_NR = ' , A_NR) "
   ]
  },
  {
   "cell_type": "code",
   "execution_count": 13,
   "metadata": {
    "collapsed": false
   },
   "outputs": [],
   "source": [
    "a1, b1 = zip(*itertools.product(A_Q, Delta_Q))"
   ]
  },
  {
   "cell_type": "markdown",
   "metadata": {},
   "source": [
    "## Simulation "
   ]
  },
  {
   "cell_type": "code",
   "execution_count": null,
   "metadata": {
    "collapsed": false
   },
   "outputs": [],
   "source": [
    "pool = mp.Pool(processes=12)\n",
    "t0 = time.time()\n",
    "results1 = [pool.apply_async(calc_spectrum_3,\n",
    "                            (N,\n",
    "                             M,\n",
    "                             Delta_C,\n",
    "                             Delta_NR,\n",
    "                             y,\n",
    "                             g,\n",
    "                             lamb,\n",
    "                             A_C,\n",
    "                             x,   \n",
    "                             A_NR,\n",
    "                             kappa_n,\n",
    "                             gamma_rel,\n",
    "                             gamma_dep,\n",
    "                             n_th_a)) for x , y in zip(a1,b1)]\n",
    "\n",
    "t1 = time.time()\n",
    "print(\"elapsed =\", (t1-t0))\n",
    "# results2 = [pool.apply_async(calc_spectrum_3,\n",
    "#                             (N,\n",
    "#                              M,\n",
    "#                              Delta_C,\n",
    "#                              Delta_NR,\n",
    "#                              Delta_Q,\n",
    "#                              g,\n",
    "#                              lamb,\n",
    "#                              A_C,\n",
    "#                              A_Q   \n",
    "#                              A_NR,\n",
    "#                              kappa_n,\n",
    "#                              gamma_rel,\n",
    "#                              gamma_dep,\n",
    "#                              n_th_a)) for x , y in zip(a1,b1)]\n",
    "\n",
    "results = [p.get() for p in results1]\n",
    "\n",
    "\n"
   ]
  },
  {
   "cell_type": "code",
   "execution_count": null,
   "metadata": {
    "collapsed": false
   },
   "outputs": [],
   "source": [
    "results = [p.get() for p in results1]"
   ]
  },
  {
   "cell_type": "code",
   "execution_count": null,
   "metadata": {
    "collapsed": false
   },
   "outputs": [],
   "source": [
    "shape(results)"
   ]
  },
  {
   "cell_type": "code",
   "execution_count": null,
   "metadata": {
    "collapsed": false
   },
   "outputs": [],
   "source": [
    "Tr_sz = reshape(array(results)[:,0],(-1,len(Delta_Q+1)))\n",
    "Tr_a = reshape(array(results)[:,1],(-1,len(Delta_Q+1)))\n",
    "Tr_b = reshape(array(results)[:,2],(-1,len(Delta_Q+1)))"
   ]
  },
  {
   "cell_type": "code",
   "execution_count": null,
   "metadata": {
    "collapsed": false
   },
   "outputs": [],
   "source": [
    "fig, ax = subplots(2,2, figsize=(16,10))\n",
    "\n",
    "im = ax[0,0].pcolor(  w_s/2/pi,P_Q,abs(Tr_sz))#,vmin=0, vmax=1)\n",
    "fig.colorbar(im, ax=ax[0,0])\n",
    "# ax[0,0].set_xlim(4.27,4.39)\n",
    "# ax[0,0].set_ylim(P_i,P_f)\n",
    "ax[0,0].set_ylabel(r'Qubit Tone Power(dBm)',fontsize=10)\n",
    "ax[0,0].set_xlabel(r'Qubit Tone Frequency (GHz)',fontsize=10)\n",
    "ax[0,0].set_title(r'$Tr[\\rho\\sigma_z]$',fontsize=20)\n",
    "\n",
    "\n",
    "im2 = ax[0,1].pcolor(w_s/2/pi,P_Q,abs(Tr_a))#,vmin=0, vmax=1)\n",
    "fig.colorbar(im2, ax=ax[0,1])\n",
    "# ax[0,1].set_ylim(P_i,P_f)\n",
    "# ax[0,1].set_xlim(4.27,4.39)\n",
    "ax[0,1].set_ylabel(r'Qubit Tone Power(dBm)',fontsize=10)\n",
    "ax[0,1].set_xlabel(r'Qubit Tone Frequency (GHz)', fontsize=10)\n",
    "ax[0,1].set_title(r'$Tr[\\rho {a}]$',fontsize=20)\n",
    "\n",
    "im3 = ax[1,0].pcolor(w_s/2/pi,P_Q,abs(Tr_b))#,vmin=0, vmax=1)\n",
    "fig.colorbar(im2, ax=ax[1,0])\n",
    "# ax[1,0].set_ylim(P_i,P_f)\n",
    "# ax[1,0].set_xlim(4.27,4.39)\n",
    "ax[1,0].set_ylabel(r'Qubit Tone Power(dBm)',fontsize=10)\n",
    "ax[1,0].set_xlabel(r'Qubit Tone Frequency (GHz)', fontsize=10)\n",
    "ax[1,0].set_title(r'$Tr[\\rho (b)]$',fontsize=20)"
   ]
  },
  {
   "cell_type": "code",
   "execution_count": null,
   "metadata": {
    "collapsed": true
   },
   "outputs": [],
   "source": []
  }
 ],
 "metadata": {
  "kernelspec": {
   "display_name": "Python 3",
   "language": "python",
   "name": "python3"
  },
  "language_info": {
   "codemirror_mode": {
    "name": "ipython",
    "version": 3
   },
   "file_extension": ".py",
   "mimetype": "text/x-python",
   "name": "python",
   "nbconvert_exporter": "python",
   "pygments_lexer": "ipython3",
   "version": "3.4.0"
  }
 },
 "nbformat": 4,
 "nbformat_minor": 0
}
