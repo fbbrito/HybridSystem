{
 "metadata": {
  "name": "",
  "signature": "sha256:9bc90bf47bd622bb253206cc04ef151b8ee25119ca91ec4aafeeea80eda72674"
 },
 "nbformat": 3,
 "nbformat_minor": 0,
 "worksheets": [
  {
   "cells": [
    {
     "cell_type": "heading",
     "level": 1,
     "metadata": {},
     "source": [
      "Symbolic derivation qubit-cavity Hamiltonian"
     ]
    },
    {
     "cell_type": "markdown",
     "metadata": {},
     "source": [
      "<style>\n",
      "p {\n",
      "    font-family: \"Liberation Serif\", serif;\n",
      "    font-size: 12pt;\n",
      "}\n",
      "</style>"
     ]
    },
    {
     "cell_type": "markdown",
     "metadata": {},
     "source": [
      "\n",
      "Based on: J. R. Johansson (robert@riken.jp), [http://jrjohansson.github.io](http://jrjohansson.github.io), and Eunjong Kim."
     ]
    },
    {
     "cell_type": "heading",
     "level": 2,
     "metadata": {},
     "source": [
      "Setup modules"
     ]
    },
    {
     "cell_type": "code",
     "collapsed": false,
     "input": [
      "from sympy import *\n",
      "init_printing()"
     ],
     "language": "python",
     "metadata": {},
     "outputs": [],
     "prompt_number": 1
    },
    {
     "cell_type": "code",
     "collapsed": false,
     "input": [
      "from sympsi import *\n",
      "from sympsi.boson import *\n",
      "from sympsi.pauli import *"
     ],
     "language": "python",
     "metadata": {},
     "outputs": [],
     "prompt_number": 2
    },
    {
     "cell_type": "heading",
     "level": 2,
     "metadata": {},
     "source": [
      "The Jaynes-Cummings model"
     ]
    },
    {
     "cell_type": "markdown",
     "metadata": {},
     "source": [
      "The [Jaynes-Cummings model](http://en.wikipedia.org/wiki/Jaynes%E2%80%93Cummings_model) is one of the most elementary quantum mechanical models light-matter interaction. It describes a single two-level atom that interacts with a single harmonic-oscillator mode of a electromagnetic cavity.\n",
      "\n",
      "The Hamiltonian for a two-level system in its eigenbasis can be written as\n",
      "\n",
      "$$\n",
      "H = \\frac{1}{2}\\omega_q \\sigma_z\n",
      "$$\n",
      "\n",
      "and the Hamiltonian of a quantum harmonic oscillator (cavity) is\n",
      "\n",
      "$$\n",
      "H = \\hbar\\omega_r (a^\\dagger a + 1/2)\n",
      "$$\n",
      "\n",
      "The atom interacts with the electromagnetic field produced by the cavity mode $a + a^\\dagger$ through its dipole moment. The dipole-transition operators is $\\sigma_x$ (which cause a transition from the two dipole states of the atom). The combined atom-cavity Hamiltonian can therefore be written in the form\n",
      "\n",
      "$$\n",
      "H = \n",
      "\\hbar\\omega_r (a^\\dagger a + 1/2)\n",
      "+ \\frac{1}{2}\\hbar\\Omega\\sigma_z \n",
      "+\n",
      "\\hbar\n",
      "g\\sigma_x(a + a^\\dagger)\n",
      "$$\n",
      "\n",
      "\n"
     ]
    },
    {
     "cell_type": "markdown",
     "metadata": {},
     "source": [
      "Although the Jaynes-Cumming Hamiltonian allow us to evolve the given initial state according to the Schr\u00f6dinger Equation, in an experiment we would like to predicte the response of the coupled cavity-qubit system under the influence of driving fields for the cavity and qubit, and also account for the effects of dissipation and dephasing (not treated here)\n",
      "\n",
      "The external coherent-state input may be incorporated in the Jaynes-Cummings Hamiltonian by addition of terms involving the amplitude of the driving field $\\vec{E_d} \\left(\\vec{E_s}\\right)$ and it's frequency $\\omega_d\\left(\\omega_s\\right)$\n",
      "\n",
      "$$\n",
      "H_{cavity} = \n",
      "E_d \\left(e^{i\\omega_dt}a +e^{-i\\omega_dt}\\right)\n",
      "$$\n",
      "\n",
      "$$\n",
      "H_{qubit} = \n",
      "E_s \\left(e^{i\\omega_st}a +e^{-i\\omega_st}\\right)\n",
      "$$"
     ]
    },
    {
     "cell_type": "markdown",
     "metadata": {},
     "source": [
      "To obtain the Jaynes-Cumming Hamiltonian \n",
      "\n",
      "$$\n",
      "H = \n",
      "\\hbar\\omega_r (a^\\dagger a + 1/2)\n",
      "%-\\frac{1}{2}\\Delta\\sigma_x \n",
      "+ \\frac{1}{2}\\hbar\\Omega\\sigma_z \n",
      "+\n",
      "\\hbar\n",
      "g(\\sigma_+ a + \\sigma_- a^\\dagger)\n",
      "$$\n",
      "\n",
      "we also need to perform a rotating-wave approximation which simplifies the interaction part of the Hamiltonian. In the following we will begin with looking at how these two Hamiltonians are related.\n",
      "\n",
      "To represent the atom-cavity Hamiltonian in SymPy we creates an instances of the operator classes `BosonOp` and `SigmaX`, `SigmaY`, and `SigmaZ`, and use these to construct the Hamiltonian (we work in units where $\\hbar = 1$)."
     ]
    },
    {
     "cell_type": "code",
     "collapsed": false,
     "input": [
      "omega_r, omega_q, g, Delta_d, Delta_s, t, x, chi, Hsym = symbols(\"omega_r, omega_q, g, Delta_d, Delta_s, t, x, chi, H\")\n",
      "A, B = symbols(\"A,B\") # Electric field amplitude\n",
      "omega_d, omega_s = symbols(\"omega_d, omega_s\")\n",
      "Delta = symbols(\"Delta\")"
     ],
     "language": "python",
     "metadata": {},
     "outputs": [],
     "prompt_number": 67
    },
    {
     "cell_type": "code",
     "collapsed": false,
     "input": [
      "sx, sy, sz, sm, sp = SigmaX(), SigmaY(), SigmaZ(), SigmaMinus(), SigmaPlus()\n",
      "a = BosonOp(\"a\")"
     ],
     "language": "python",
     "metadata": {},
     "outputs": [],
     "prompt_number": 4
    },
    {
     "cell_type": "code",
     "collapsed": false,
     "input": [
      "H = omega_r * Dagger(a) * a + omega_q/2 * sz \n",
      "H_int = g * sx * (a + Dagger(a))\n",
      "H_drive_r = A * (exp(I*omega_d*t)*a + exp(-I*omega_d*t)*Dagger(a))\n",
      "H_drive_q = B * (exp(I*omega_s*t)*sm + exp(-I*omega_d*t)*sp)\n",
      "H_total =  H+ H_drive_r + H_drive_q+ H_int\n",
      "Eq(Hsym, H+ H_drive_r + H_drive_q+ H_int)\n"
     ],
     "language": "python",
     "metadata": {},
     "outputs": [
      {
       "latex": [
        "$$H = A \\left(e^{i \\omega_{d} t} {a} + e^{- i \\omega_{d} t} {{a}^\\dagger}\\right) + B \\left(e^{i \\omega_{s} t} {\\sigma_-} + e^{- i \\omega_{d} t} {\\sigma_+}\\right) + g {\\sigma_x} \\left({{a}^\\dagger} + {a}\\right) + \\frac{\\omega_{q} {\\sigma_z}}{2} + \\omega_{r} {{a}^\\dagger} {a}$$"
       ],
       "metadata": {},
       "output_type": "pyout",
       "png": "[encoded data removed]",
       "prompt_number": 59,
       "text": [
        "      \u239b \u2148\u22c5\u03c9_d\u22c5t      -\u2148\u22c5\u03c9_d\u22c5t  \u2020\u239e     \u239b \u2148\u22c5\u03c9_s\u22c5t          -\u2148\u22c5\u03c9_d\u22c5t      \u239e      \n",
        "H = A\u22c5\u239d\u212f       \u22c5a + \u212f        \u22c5a \u23a0 + B\u22c5\u239d\u212f       \u22c5False + \u212f        \u22c5False\u23a0 + g\u22c5F\n",
        "                                                                              \n",
        "\n",
        "     \u239b \u2020    \u239e   \u03c9_q\u22c5False       \u2020  \n",
        "alse\u22c5\u239da  + a\u23a0 + \u2500\u2500\u2500\u2500\u2500\u2500\u2500\u2500\u2500 + \u03c9\u1d63\u22c5a \u22c5a\n",
        "                    2              "
       ]
      }
     ],
     "prompt_number": 59
    },
    {
     "cell_type": "markdown",
     "metadata": {},
     "source": [
      "Unitary transformation to interaction picture"
     ]
    },
    {
     "cell_type": "code",
     "collapsed": false,
     "input": [
      "U = exp(I  * omega_r * t * Dagger(a)*a)\n",
      "U"
     ],
     "language": "python",
     "metadata": {},
     "outputs": [
      {
       "latex": [
        "$$e^{i \\omega_{r} t {{a}^\\dagger} {a}}$$"
       ],
       "metadata": {},
       "output_type": "pyout",
       "png": "[encoded data removed]",
       "prompt_number": 60,
       "text": [
        "         \u2020  \n",
        " \u2148\u22c5\u03c9\u1d63\u22c5t\u22c5a \u22c5a\n",
        "\u212f           "
       ]
      }
     ],
     "prompt_number": 60
    },
    {
     "cell_type": "code",
     "collapsed": false,
     "input": [
      "H1 = hamiltonian_transformation(U, H_total.expand())\n",
      "\n",
      "H1"
     ],
     "language": "python",
     "metadata": {},
     "outputs": [
      {
       "latex": [
        "$$A e^{i \\omega_{d} t} e^{- i \\omega_{r} t} {a} + A e^{- i \\omega_{d} t} e^{i \\omega_{r} t} {{a}^\\dagger} + B e^{i \\omega_{s} t} {\\sigma_-} + B e^{- i \\omega_{d} t} {\\sigma_+} + g e^{i \\omega_{r} t} {\\sigma_x} {{a}^\\dagger} + g e^{- i \\omega_{r} t} {\\sigma_x} {a} + \\frac{\\omega_{q} {\\sigma_z}}{2}$$"
       ],
       "metadata": {},
       "output_type": "pyout",
       "png": "[encoded data removed]",
       "prompt_number": 61,
       "text": [
        "   \u2148\u22c5\u03c9_d\u22c5t  -\u2148\u22c5\u03c9\u1d63\u22c5t        -\u2148\u22c5\u03c9_d\u22c5t  \u2148\u22c5\u03c9\u1d63\u22c5t  \u2020      \u2148\u22c5\u03c9_s\u22c5t            -\u2148\u22c5\u03c9_d\u22c5\n",
        "A\u22c5\u212f       \u22c5\u212f       \u22c5a + A\u22c5\u212f        \u22c5\u212f      \u22c5a  + B\u22c5\u212f       \u22c5False + B\u22c5\u212f       \n",
        "                                                                              \n",
        "\n",
        "t            \u2148\u22c5\u03c9\u1d63\u22c5t        \u2020      -\u2148\u22c5\u03c9\u1d63\u22c5t           \u03c9_q\u22c5False\n",
        " \u22c5False + g\u22c5\u212f      \u22c5False\u22c5a  + g\u22c5\u212f       \u22c5False\u22c5a + \u2500\u2500\u2500\u2500\u2500\u2500\u2500\u2500\u2500\n",
        "                                                        2    "
       ]
      }
     ],
     "prompt_number": 61
    },
    {
     "cell_type": "code",
     "collapsed": false,
     "input": [
      "U = exp(I * omega_q * t * sp * sm)\n",
      "\n",
      "U"
     ],
     "language": "python",
     "metadata": {},
     "outputs": [
      {
       "latex": [
        "$$e^{i \\omega_{q} t {\\sigma_+} {\\sigma_-}}$$"
       ],
       "metadata": {},
       "output_type": "pyout",
       "png": "[encoded data removed]",
       "prompt_number": 63,
       "text": [
        " \u2148\u22c5\u03c9_q\u22c5t\u22c5False\u22c5False\n",
        "\u212f                   "
       ]
      }
     ],
     "prompt_number": 63
    },
    {
     "cell_type": "code",
     "collapsed": false,
     "input": [
      "H2 = hamiltonian_transformation(U, H1.expand())\n",
      "\n",
      "H2 = H2.subs(sx, sm + sp).expand()\n",
      "\n",
      "H2 = powsimp(H2)\n",
      "\n",
      "H2"
     ],
     "language": "python",
     "metadata": {},
     "outputs": [
      {
       "latex": [
        "$$A e^{- i \\omega_{d} t + i \\omega_{r} t} {{a}^\\dagger} + A e^{i \\omega_{d} t - i \\omega_{r} t} {a} + B e^{- i \\omega_{d} t + i \\omega_{q} t} {\\sigma_+} + B e^{- i \\omega_{q} t + i \\omega_{s} t} {\\sigma_-} + g e^{- i \\omega_{q} t - i \\omega_{r} t} {\\sigma_-} {a} + g e^{- i \\omega_{q} t + i \\omega_{r} t} {\\sigma_-} {{a}^\\dagger} + g e^{i \\omega_{q} t - i \\omega_{r} t} {\\sigma_+} {a} + g e^{i \\omega_{q} t + i \\omega_{r} t} {\\sigma_+} {{a}^\\dagger} - \\frac{\\omega_{q}}{2} \\left(1 + {\\sigma_z}\\right) + \\frac{\\omega_{q} {\\sigma_z}}{2}$$"
       ],
       "metadata": {},
       "output_type": "pyout",
       "png": "[encoded data removed]",
       "prompt_number": 64,
       "text": [
        "   -\u2148\u22c5\u03c9_d\u22c5t + \u2148\u22c5\u03c9\u1d63\u22c5t  \u2020      \u2148\u22c5\u03c9_d\u22c5t - \u2148\u22c5\u03c9\u1d63\u22c5t        -\u2148\u22c5\u03c9_d\u22c5t + \u2148\u22c5\u03c9_q\u22c5t       \n",
        "A\u22c5\u212f                 \u22c5a  + A\u22c5\u212f                \u22c5a + B\u22c5\u212f                  \u22c5False \n",
        "                                                                              \n",
        "\n",
        "     -\u2148\u22c5\u03c9_q\u22c5t + \u2148\u22c5\u03c9_s\u22c5t            -\u2148\u22c5\u03c9_q\u22c5t - \u2148\u22c5\u03c9\u1d63\u22c5t              -\u2148\u22c5\u03c9_q\u22c5t + \u2148\n",
        "+ B\u22c5\u212f                  \u22c5False + g\u22c5\u212f                 \u22c5False\u22c5a + g\u22c5\u212f            \n",
        "                                                                              \n",
        "\n",
        "\u22c5\u03c9\u1d63\u22c5t        \u2020      \u2148\u22c5\u03c9_q\u22c5t - \u2148\u22c5\u03c9\u1d63\u22c5t              \u2148\u22c5\u03c9_q\u22c5t + \u2148\u22c5\u03c9\u1d63\u22c5t        \u2020   \n",
        "     \u22c5False\u22c5a  + g\u22c5\u212f                \u22c5False\u22c5a + g\u22c5\u212f                \u22c5False\u22c5a  - \n",
        "                                                                              \n",
        "\n",
        "\u03c9_q\u22c5(1 + False)   \u03c9_q\u22c5False\n",
        "\u2500\u2500\u2500\u2500\u2500\u2500\u2500\u2500\u2500\u2500\u2500\u2500\u2500\u2500\u2500 + \u2500\u2500\u2500\u2500\u2500\u2500\u2500\u2500\u2500\n",
        "       2              2    "
       ]
      }
     ],
     "prompt_number": 64
    },
    {
     "cell_type": "code",
     "collapsed": false,
     "input": [
      "# trick to simplify exponents\n",
      "def simplify_exp(e):\n",
      "    if isinstance(e, exp):\n",
      "        return exp(simplify(e.exp.expand()))\n",
      "\n",
      "    if isinstance(e, (Add, Mul)):\n",
      "        return type(e)(*(simplify_exp(arg) for arg in e.args)) \n",
      "\n",
      "    return e"
     ],
     "language": "python",
     "metadata": {},
     "outputs": [],
     "prompt_number": 65
    },
    {
     "cell_type": "code",
     "collapsed": false,
     "input": [
      "H3 = simplify_exp(H2).subs(-omega_r + omega_q, Delta)\n",
      "\n",
      "H3"
     ],
     "language": "python",
     "metadata": {},
     "outputs": [
      {
       "latex": [
        "$$A e^{i t \\left(- \\omega_{d} + \\omega_{r}\\right)} {{a}^\\dagger} + A e^{i t \\left(\\omega_{d} - \\omega_{r}\\right)} {a} + B e^{i t \\left(- \\omega_{d} + \\omega_{q}\\right)} {\\sigma_+} + B e^{i t \\left(- \\omega_{q} + \\omega_{s}\\right)} {\\sigma_-} + g e^{i \\Delta t} {\\sigma_+} {a} + g e^{i t \\left(\\omega_{q} + \\omega_{r}\\right)} {\\sigma_+} {{a}^\\dagger} + g e^{- i t \\left(\\omega_{q} + \\omega_{r}\\right)} {\\sigma_-} {a} + g e^{- i \\Delta t} {\\sigma_-} {{a}^\\dagger} - \\frac{\\omega_{q}}{2} \\left(1 + {\\sigma_z}\\right) + \\frac{\\omega_{q} {\\sigma_z}}{2}$$"
       ],
       "metadata": {},
       "output_type": "pyout",
       "png": "[encoded data removed]",
       "prompt_number": 68,
       "text": [
        "   \u2148\u22c5t\u22c5(-\u03c9_d + \u03c9\u1d63)  \u2020      \u2148\u22c5t\u22c5(\u03c9_d - \u03c9\u1d63)        \u2148\u22c5t\u22c5(-\u03c9_d + \u03c9_q)            \u2148\n",
        "A\u22c5\u212f               \u22c5a  + A\u22c5\u212f              \u22c5a + B\u22c5\u212f                \u22c5False + B\u22c5\u212f \n",
        "                                                                              \n",
        "\n",
        "\u22c5t\u22c5(-\u03c9_q + \u03c9_s)            \u2148\u22c5\u0394\u22c5t              \u2148\u22c5t\u22c5(\u03c9_q + \u03c9\u1d63)        \u2020      -\u2148\u22c5\n",
        "               \u22c5False + g\u22c5\u212f     \u22c5False\u22c5a + g\u22c5\u212f              \u22c5False\u22c5a  + g\u22c5\u212f   \n",
        "                                                                              \n",
        "\n",
        "t\u22c5(\u03c9_q + \u03c9\u1d63)              -\u2148\u22c5\u0394\u22c5t        \u2020   \u03c9_q\u22c5(1 + False)   \u03c9_q\u22c5False\n",
        "            \u22c5False\u22c5a + g\u22c5\u212f      \u22c5False\u22c5a  - \u2500\u2500\u2500\u2500\u2500\u2500\u2500\u2500\u2500\u2500\u2500\u2500\u2500\u2500\u2500 + \u2500\u2500\u2500\u2500\u2500\u2500\u2500\u2500\u2500\n",
        "                                                   2              2    "
       ]
      }
     ],
     "prompt_number": 68
    },
    {
     "cell_type": "markdown",
     "metadata": {},
     "source": [
      "Now, in the rotating-wave approximation we can drop the fast oscillating terms containing the factors\n",
      "$e^{\\pm i(\\omega_q + \\omega_r)t}$"
     ]
    },
    {
     "cell_type": "code",
     "collapsed": false,
     "input": [
      "H4 = drop_terms_containing(H3, [exp( I * (omega_q + omega_r) * t),\n",
      "                                exp(-I * (omega_q + omega_r) * t)])\n",
      "\n",
      "H4 = drop_c_number_terms(H4.expand())\n",
      "\n",
      "Eq(Hsym, H4)"
     ],
     "language": "python",
     "metadata": {},
     "outputs": [
      {
       "latex": [
        "$$H = A e^{i \\omega_{d} t} e^{- i \\omega_{r} t} {a} + A e^{- i \\omega_{d} t} e^{i \\omega_{r} t} {{a}^\\dagger} + B e^{- i \\omega_{q} t} e^{i \\omega_{s} t} {\\sigma_-} + B e^{- i \\omega_{d} t} e^{i \\omega_{q} t} {\\sigma_+} + g e^{i \\Delta t} {\\sigma_+} {a} + g e^{- i \\Delta t} {\\sigma_-} {{a}^\\dagger}$$"
       ],
       "metadata": {},
       "output_type": "pyout",
       "png": "[encoded data removed]",
       "prompt_number": 71,
       "text": [
        "       \u2148\u22c5\u03c9_d\u22c5t  -\u2148\u22c5\u03c9\u1d63\u22c5t        -\u2148\u22c5\u03c9_d\u22c5t  \u2148\u22c5\u03c9\u1d63\u22c5t  \u2020      -\u2148\u22c5\u03c9_q\u22c5t  \u2148\u22c5\u03c9_s\u22c5t     \n",
        "H = A\u22c5\u212f       \u22c5\u212f       \u22c5a + A\u22c5\u212f        \u22c5\u212f      \u22c5a  + B\u22c5\u212f        \u22c5\u212f       \u22c5Fals\n",
        "\n",
        "       -\u2148\u22c5\u03c9_d\u22c5t  \u2148\u22c5\u03c9_q\u22c5t            \u2148\u22c5\u0394\u22c5t              -\u2148\u22c5\u0394\u22c5t        \u2020\n",
        "e + B\u22c5\u212f        \u22c5\u212f       \u22c5False + g\u22c5\u212f     \u22c5False\u22c5a + g\u22c5\u212f      \u22c5False\u22c5a "
       ]
      }
     ],
     "prompt_number": 71
    },
    {
     "cell_type": "markdown",
     "metadata": {},
     "source": [
      "This is the interaction term of in the Jaynes-Cumming model in the interaction picture. If we transform back to the Schr\u00f6dinger picture we have:"
     ]
    },
    {
     "cell_type": "code",
     "collapsed": false,
     "input": [
      "U = exp(-I * omega_r * t * Dagger(a) * a)\n",
      "H5 = hamiltonian_transformation(U, H4.expand())\n",
      "H5"
     ],
     "language": "python",
     "metadata": {},
     "outputs": [
      {
       "latex": [
        "$$A e^{i \\omega_{d} t} {a} + A e^{- i \\omega_{d} t} {{a}^\\dagger} + B e^{- i \\omega_{q} t} e^{i \\omega_{s} t} {\\sigma_-} + B e^{- i \\omega_{d} t} e^{i \\omega_{q} t} {\\sigma_+} + g e^{i \\Delta t} e^{i \\omega_{r} t} {\\sigma_+} {a} + g e^{- i \\Delta t} e^{- i \\omega_{r} t} {\\sigma_-} {{a}^\\dagger} + \\omega_{r} {{a}^\\dagger} {a}$$"
       ],
       "metadata": {},
       "output_type": "pyout",
       "png": "[encoded data removed]",
       "prompt_number": 72,
       "text": [
        "   \u2148\u22c5\u03c9_d\u22c5t        -\u2148\u22c5\u03c9_d\u22c5t  \u2020      -\u2148\u22c5\u03c9_q\u22c5t  \u2148\u22c5\u03c9_s\u22c5t            -\u2148\u22c5\u03c9_d\u22c5t  \u2148\u22c5\u03c9_\n",
        "A\u22c5\u212f       \u22c5a + A\u22c5\u212f        \u22c5a  + B\u22c5\u212f        \u22c5\u212f       \u22c5False + B\u22c5\u212f        \u22c5\u212f    \n",
        "\n",
        "q\u22c5t            \u2148\u22c5\u0394\u22c5t  \u2148\u22c5\u03c9\u1d63\u22c5t              -\u2148\u22c5\u0394\u22c5t  -\u2148\u22c5\u03c9\u1d63\u22c5t        \u2020       \u2020  \n",
        "   \u22c5False + g\u22c5\u212f     \u22c5\u212f      \u22c5False\u22c5a + g\u22c5\u212f      \u22c5\u212f       \u22c5False\u22c5a  + \u03c9\u1d63\u22c5a \u22c5a"
       ]
      }
     ],
     "prompt_number": 72
    },
    {
     "cell_type": "code",
     "collapsed": false,
     "input": [
      "U = exp(-I * omega_q * t * sp * sm)\n",
      "H6 = hamiltonian_transformation(U, H5.expand())\n",
      "H6"
     ],
     "language": "python",
     "metadata": {},
     "outputs": [
      {
       "latex": [
        "$$A e^{i \\omega_{d} t} {a} + A e^{- i \\omega_{d} t} {{a}^\\dagger} + B e^{i \\omega_{s} t} {\\sigma_-} + B e^{- i \\omega_{d} t} {\\sigma_+} + g e^{i \\Delta t} e^{- i \\omega_{q} t} e^{i \\omega_{r} t} {\\sigma_+} {a} + g e^{- i \\Delta t} e^{i \\omega_{q} t} e^{- i \\omega_{r} t} {\\sigma_-} {{a}^\\dagger} + \\omega_{q} {\\sigma_+} {\\sigma_-} + \\omega_{r} {{a}^\\dagger} {a}$$"
       ],
       "metadata": {},
       "output_type": "pyout",
       "png": "[encoded data removed]",
       "prompt_number": 73,
       "text": [
        "   \u2148\u22c5\u03c9_d\u22c5t        -\u2148\u22c5\u03c9_d\u22c5t  \u2020      \u2148\u22c5\u03c9_s\u22c5t            -\u2148\u22c5\u03c9_d\u22c5t            \u2148\u22c5\u0394\u22c5\n",
        "A\u22c5\u212f       \u22c5a + A\u22c5\u212f        \u22c5a  + B\u22c5\u212f       \u22c5False + B\u22c5\u212f        \u22c5False + g\u22c5\u212f    \n",
        "\n",
        "t  -\u2148\u22c5\u03c9_q\u22c5t  \u2148\u22c5\u03c9\u1d63\u22c5t              -\u2148\u22c5\u0394\u22c5t  \u2148\u22c5\u03c9_q\u22c5t  -\u2148\u22c5\u03c9\u1d63\u22c5t        \u2020            \n",
        " \u22c5\u212f        \u22c5\u212f      \u22c5False\u22c5a + g\u22c5\u212f      \u22c5\u212f       \u22c5\u212f       \u22c5False\u22c5a  + \u03c9_q\u22c5False\n",
        "\n",
        "             \u2020  \n",
        "\u22c5False + \u03c9\u1d63\u22c5a \u22c5a"
       ]
      }
     ],
     "prompt_number": 73
    },
    {
     "cell_type": "code",
     "collapsed": false,
     "input": [
      "H7 = simplify_exp(H6).subs(Delta, omega_q - omega_r)\n",
      "H7 = simplify_exp(powsimp(H7)).expand()\n",
      "\n",
      "H7 = drop_c_number_terms(H7)\n",
      "\n",
      "H = collect(H7, [A,B,g])\n",
      "\n",
      "Eq(Hsym, H)"
     ],
     "language": "python",
     "metadata": {},
     "outputs": [
      {
       "latex": [
        "$$H = A \\left(e^{i \\omega_{d} t} {a} + e^{- i \\omega_{d} t} {{a}^\\dagger}\\right) + B \\left(e^{i \\omega_{s} t} {\\sigma_-} + e^{- i \\omega_{d} t} {\\sigma_+}\\right) + g \\left({\\sigma_-} {{a}^\\dagger} + {\\sigma_+} {a}\\right) + \\frac{\\omega_{q} {\\sigma_z}}{2} + \\omega_{r} {{a}^\\dagger} {a}$$"
       ],
       "metadata": {},
       "output_type": "pyout",
       "png": "[encoded data removed]",
       "prompt_number": 76,
       "text": [
        "      \u239b \u2148\u22c5\u03c9_d\u22c5t      -\u2148\u22c5\u03c9_d\u22c5t  \u2020\u239e     \u239b \u2148\u22c5\u03c9_s\u22c5t          -\u2148\u22c5\u03c9_d\u22c5t      \u239e     \u239b\n",
        "H = A\u22c5\u239d\u212f       \u22c5a + \u212f        \u22c5a \u23a0 + B\u22c5\u239d\u212f       \u22c5False + \u212f        \u22c5False\u23a0 + g\u22c5\u239d\n",
        "                                                                              \n",
        "\n",
        "       \u2020          \u239e   \u03c9_q\u22c5False       \u2020  \n",
        "False\u22c5a  + False\u22c5a\u23a0 + \u2500\u2500\u2500\u2500\u2500\u2500\u2500\u2500\u2500 + \u03c9\u1d63\u22c5a \u22c5a\n",
        "                          2              "
       ]
      }
     ],
     "prompt_number": 76
    },
    {
     "cell_type": "heading",
     "level": 2,
     "metadata": {},
     "source": [
      "Linearized interaction"
     ]
    },
    {
     "cell_type": "markdown",
     "metadata": {},
     "source": [
      "First we apply the unitary transformation $U = e^{i \\omega_d a^\\dagger a t}$:"
     ]
    },
    {
     "cell_type": "code",
     "collapsed": false,
     "input": [
      "U = exp(I * Dagger(a) * a * omega_d * t)\n",
      "\n",
      "U"
     ],
     "language": "python",
     "metadata": {},
     "outputs": [
      {
       "latex": [
        "$$e^{i \\omega_{d} t {{a}^\\dagger} {a}}$$"
       ],
       "metadata": {},
       "output_type": "pyout",
       "png": "[encoded data removed]",
       "prompt_number": 77,
       "text": [
        "          \u2020  \n",
        " \u2148\u22c5\u03c9_d\u22c5t\u22c5a \u22c5a\n",
        "\u212f            "
       ]
      }
     ],
     "prompt_number": 77
    },
    {
     "cell_type": "code",
     "collapsed": false,
     "input": [
      "H1 = hamiltonian_transformation(U, H, independent=True)\n",
      "\n",
      "H1"
     ],
     "language": "python",
     "metadata": {},
     "outputs": [
      {
       "latex": [
        "$$A \\left({{a}^\\dagger} + {a}\\right) + B \\left(e^{i \\omega_{s} t} {\\sigma_-} + e^{- i \\omega_{d} t} {\\sigma_+}\\right) + g \\left(e^{i \\omega_{d} t} {\\sigma_-} {{a}^\\dagger} + e^{- i \\omega_{d} t} {\\sigma_+} {a}\\right) - \\omega_{d} {{a}^\\dagger} {a} + \\frac{\\omega_{q} {\\sigma_z}}{2} + \\omega_{r} {{a}^\\dagger} {a}$$"
       ],
       "metadata": {},
       "output_type": "pyout",
       "png": "[encoded data removed]",
       "prompt_number": 78,
       "text": [
        "  \u239b \u2020    \u239e     \u239b \u2148\u22c5\u03c9_s\u22c5t          -\u2148\u22c5\u03c9_d\u22c5t      \u239e     \u239b \u2148\u22c5\u03c9_d\u22c5t        \u2020    -\u2148\n",
        "A\u22c5\u239da  + a\u23a0 + B\u22c5\u239d\u212f       \u22c5False + \u212f        \u22c5False\u23a0 + g\u22c5\u239d\u212f       \u22c5False\u22c5a  + \u212f  \n",
        "                                                                              \n",
        "\n",
        "\u22c5\u03c9_d\u22c5t        \u239e        \u2020     \u03c9_q\u22c5False       \u2020  \n",
        "      \u22c5False\u22c5a\u23a0 - \u03c9_d\u22c5a \u22c5a + \u2500\u2500\u2500\u2500\u2500\u2500\u2500\u2500\u2500 + \u03c9\u1d63\u22c5a \u22c5a\n",
        "                                 2              "
       ]
      }
     ],
     "prompt_number": 78
    },
    {
     "cell_type": "markdown",
     "metadata": {},
     "source": [
      "We can now perform a rotating-wave approximation (RWA) by eliminating all terms that rotate with frequencies $2\\omega_d$:"
     ]
    },
    {
     "cell_type": "code",
     "collapsed": false,
     "input": [
      "H2 = drop_terms_containing(H1.expand(), [exp(-2*I*omega_d*t), exp(2*I*omega_d*t)])\n",
      "\n",
      "Eq(Symbol(\"H_{rwa}\"), H2)"
     ],
     "language": "python",
     "metadata": {},
     "outputs": [
      {
       "latex": [
        "$$H_{{rwa}} = A {{a}^\\dagger} + A {a} + B e^{i \\omega_{s} t} {\\sigma_-} + B e^{- i \\omega_{d} t} {\\sigma_+} + g e^{i \\omega_{d} t} {\\sigma_-} {{a}^\\dagger} + g e^{- i \\omega_{d} t} {\\sigma_+} {a} - \\omega_{d} {{a}^\\dagger} {a} + \\frac{\\omega_{q} {\\sigma_z}}{2} + \\omega_{r} {{a}^\\dagger} {a}$$"
       ],
       "metadata": {},
       "output_type": "pyout",
       "png": "[encoded data removed]",
       "prompt_number": 79,
       "text": [
        "             \u2020            \u2148\u22c5\u03c9_s\u22c5t            -\u2148\u22c5\u03c9_d\u22c5t            \u2148\u22c5\u03c9_d\u22c5t      \n",
        "H_{rwa} = A\u22c5a  + A\u22c5a + B\u22c5\u212f       \u22c5False + B\u22c5\u212f        \u22c5False + g\u22c5\u212f       \u22c5False\n",
        "                                                                              \n",
        "\n",
        "  \u2020      -\u2148\u22c5\u03c9_d\u22c5t                \u2020     \u03c9_q\u22c5False       \u2020  \n",
        "\u22c5a  + g\u22c5\u212f        \u22c5False\u22c5a - \u03c9_d\u22c5a \u22c5a + \u2500\u2500\u2500\u2500\u2500\u2500\u2500\u2500\u2500 + \u03c9\u1d63\u22c5a \u22c5a\n",
        "                                           2              "
       ]
      }
     ],
     "prompt_number": 79
    },
    {
     "cell_type": "markdown",
     "metadata": {},
     "source": [
      "Introduce the detuning $\\Delta_d = \\omega_r - \\omega_d$:"
     ]
    },
    {
     "cell_type": "code",
     "collapsed": false,
     "input": [
      "H3 = H2.subs(omega_r, Delta_d + omega_d).expand()\n",
      "\n",
      "H3"
     ],
     "language": "python",
     "metadata": {},
     "outputs": [
      {
       "latex": [
        "$$A {{a}^\\dagger} + A {a} + B e^{i \\omega_{s} t} {\\sigma_-} + B e^{- i \\omega_{d} t} {\\sigma_+} + \\Delta_{d} {{a}^\\dagger} {a} + g e^{i \\omega_{d} t} {\\sigma_-} {{a}^\\dagger} + g e^{- i \\omega_{d} t} {\\sigma_+} {a} + \\frac{\\omega_{q} {\\sigma_z}}{2}$$"
       ],
       "metadata": {},
       "output_type": "pyout",
       "png": "[encoded data removed]",
       "prompt_number": 81,
       "text": [
        "   \u2020            \u2148\u22c5\u03c9_s\u22c5t            -\u2148\u22c5\u03c9_d\u22c5t              \u2020        \u2148\u22c5\u03c9_d\u22c5t     \n",
        "A\u22c5a  + A\u22c5a + B\u22c5\u212f       \u22c5False + B\u22c5\u212f        \u22c5False + \u0394_d\u22c5a \u22c5a + g\u22c5\u212f       \u22c5Fals\n",
        "                                                                              \n",
        "\n",
        "   \u2020      -\u2148\u22c5\u03c9_d\u22c5t           \u03c9_q\u22c5False\n",
        "e\u22c5a  + g\u22c5\u212f        \u22c5False\u22c5a + \u2500\u2500\u2500\u2500\u2500\u2500\u2500\u2500\u2500\n",
        "                                 2    "
       ]
      }
     ],
     "prompt_number": 81
    },
    {
     "cell_type": "markdown",
     "metadata": {},
     "source": [
      "Second we apply the unitary transformation $U = e^{i \\omega_s \\sigma_+ \\sigma_- t}$:"
     ]
    },
    {
     "cell_type": "code",
     "collapsed": false,
     "input": [
      "U = exp(I * sp*sm* omega_d * t)\n",
      "\n",
      "U"
     ],
     "language": "python",
     "metadata": {},
     "outputs": [
      {
       "latex": [
        "$$e^{i \\omega_{d} t {\\sigma_+} {\\sigma_-}}$$"
       ],
       "metadata": {},
       "output_type": "pyout",
       "png": "[encoded data removed]",
       "prompt_number": 82,
       "text": [
        " \u2148\u22c5\u03c9_d\u22c5t\u22c5False\u22c5False\n",
        "\u212f                   "
       ]
      }
     ],
     "prompt_number": 82
    },
    {
     "cell_type": "code",
     "collapsed": false,
     "input": [
      "H4 = hamiltonian_transformation(U, H3, independent=True)\n",
      "\n",
      "H4"
     ],
     "language": "python",
     "metadata": {},
     "outputs": [
      {
       "latex": [
        "$$A {{a}^\\dagger} + A {a} + B {\\sigma_+} + B e^{- i \\omega_{d} t} e^{i \\omega_{s} t} {\\sigma_-} + \\Delta_{d} {{a}^\\dagger} {a} + g {\\sigma_-} {{a}^\\dagger} + g {\\sigma_+} {a} - \\omega_{d} {\\sigma_+} {\\sigma_-} + \\frac{\\omega_{q} {\\sigma_z}}{2}$$"
       ],
       "metadata": {},
       "output_type": "pyout",
       "png": "[encoded data removed]",
       "prompt_number": 83,
       "text": [
        "   \u2020                      -\u2148\u22c5\u03c9_d\u22c5t  \u2148\u22c5\u03c9_s\u22c5t              \u2020              \u2020     \n",
        "A\u22c5a  + A\u22c5a + B\u22c5False + B\u22c5\u212f        \u22c5\u212f       \u22c5False + \u0394_d\u22c5a \u22c5a + g\u22c5False\u22c5a  + g\u22c5\n",
        "                                                                              \n",
        "\n",
        "                            \u03c9_q\u22c5False\n",
        "False\u22c5a - \u03c9_d\u22c5False\u22c5False + \u2500\u2500\u2500\u2500\u2500\u2500\u2500\u2500\u2500\n",
        "                                2    "
       ]
      }
     ],
     "prompt_number": 83
    },
    {
     "cell_type": "markdown",
     "metadata": {},
     "source": []
    },
    {
     "cell_type": "code",
     "collapsed": false,
     "input": [],
     "language": "python",
     "metadata": {},
     "outputs": []
    },
    {
     "cell_type": "code",
     "collapsed": false,
     "input": [],
     "language": "python",
     "metadata": {},
     "outputs": []
    },
    {
     "cell_type": "code",
     "collapsed": false,
     "input": [],
     "language": "python",
     "metadata": {},
     "outputs": []
    },
    {
     "cell_type": "markdown",
     "metadata": {},
     "source": [
      "Introduce the detuning $\\Delta_s = \\omega_q - \\omega_s$:"
     ]
    },
    {
     "cell_type": "code",
     "collapsed": false,
     "input": [
      "H5 = H4.subs(omega_q, Delta_s + omega_s).expand()\n",
      "\n",
      "H5"
     ],
     "language": "python",
     "metadata": {},
     "outputs": [
      {
       "latex": [
        "$$A {{a}^\\dagger} + A {a} + B {\\sigma_+} + B e^{- i \\omega_{d} t} e^{i \\omega_{s} t} {\\sigma_-} + \\Delta_{d} {{a}^\\dagger} {a} + \\frac{\\Delta_{s} {\\sigma_z}}{2} + g {\\sigma_-} {{a}^\\dagger} + g {\\sigma_+} {a} - \\omega_{d} {\\sigma_+} {\\sigma_-} + \\frac{\\omega_{s} {\\sigma_z}}{2}$$"
       ],
       "metadata": {},
       "output_type": "pyout",
       "png": "[encoded data removed]",
       "prompt_number": 85,
       "text": [
        "   \u2020                      -\u2148\u22c5\u03c9_d\u22c5t  \u2148\u22c5\u03c9_s\u22c5t              \u2020     \u0394_s\u22c5False      \n",
        "A\u22c5a  + A\u22c5a + B\u22c5False + B\u22c5\u212f        \u22c5\u212f       \u22c5False + \u0394_d\u22c5a \u22c5a + \u2500\u2500\u2500\u2500\u2500\u2500\u2500\u2500\u2500 + g\u22c5F\n",
        "                                                                   2          \n",
        "\n",
        "      \u2020                                 \u03c9_s\u22c5False\n",
        "alse\u22c5a  + g\u22c5False\u22c5a - \u03c9_d\u22c5False\u22c5False + \u2500\u2500\u2500\u2500\u2500\u2500\u2500\u2500\u2500\n",
        "                                            2    "
       ]
      }
     ],
     "prompt_number": 85
    },
    {
     "cell_type": "code",
     "collapsed": false,
     "input": [],
     "language": "python",
     "metadata": {},
     "outputs": []
    },
    {
     "cell_type": "code",
     "collapsed": false,
     "input": [],
     "language": "python",
     "metadata": {},
     "outputs": []
    },
    {
     "cell_type": "code",
     "collapsed": false,
     "input": [],
     "language": "python",
     "metadata": {},
     "outputs": []
    },
    {
     "cell_type": "code",
     "collapsed": false,
     "input": [],
     "language": "python",
     "metadata": {},
     "outputs": []
    },
    {
     "cell_type": "code",
     "collapsed": false,
     "input": [],
     "language": "python",
     "metadata": {},
     "outputs": []
    },
    {
     "cell_type": "code",
     "collapsed": false,
     "input": [],
     "language": "python",
     "metadata": {},
     "outputs": []
    },
    {
     "cell_type": "code",
     "collapsed": false,
     "input": [],
     "language": "python",
     "metadata": {},
     "outputs": []
    },
    {
     "cell_type": "code",
     "collapsed": false,
     "input": [],
     "language": "python",
     "metadata": {},
     "outputs": []
    },
    {
     "cell_type": "code",
     "collapsed": false,
     "input": [],
     "language": "python",
     "metadata": {},
     "outputs": []
    },
    {
     "cell_type": "code",
     "collapsed": false,
     "input": [],
     "language": "python",
     "metadata": {},
     "outputs": []
    },
    {
     "cell_type": "code",
     "collapsed": false,
     "input": [],
     "language": "python",
     "metadata": {},
     "outputs": []
    },
    {
     "cell_type": "markdown",
     "metadata": {},
     "source": [
      "Substitute $ \\sigma_x = \\sigma_+ + \\sigma_-$"
     ]
    },
    {
     "cell_type": "code",
     "collapsed": false,
     "input": [
      "H1 = H_total.subs(sx, sm + sp).expand()\n",
      "H1"
     ],
     "language": "python",
     "metadata": {},
     "outputs": [
      {
       "latex": [
        "$$A e^{i \\omega_{d} t} {a} + A e^{- i \\omega_{d} t} {{a}^\\dagger} + B e^{i \\omega_{s} t} {\\sigma_-} + B e^{- i \\omega_{d} t} {\\sigma_+} + g {\\sigma_-} {{a}^\\dagger} + g {\\sigma_-} {a} + g {\\sigma_+} {{a}^\\dagger} + g {\\sigma_+} {a} + \\frac{\\omega_{q} {\\sigma_z}}{2} + \\omega_{r} {{a}^\\dagger} {a}$$"
       ],
       "metadata": {},
       "output_type": "pyout",
       "png": "[encoded data removed]",
       "prompt_number": 38,
       "text": [
        "   \u2148\u22c5\u03c9_d\u22c5t        -\u2148\u22c5\u03c9_d\u22c5t  \u2020      \u2148\u22c5\u03c9_s\u22c5t            -\u2148\u22c5\u03c9_d\u22c5t                \n",
        "A\u22c5\u212f       \u22c5a + A\u22c5\u212f        \u22c5a  + B\u22c5\u212f       \u22c5False + B\u22c5\u212f        \u22c5False + g\u22c5False\n",
        "                                                                              \n",
        "\n",
        "  \u2020                        \u2020               \u03c9_q\u22c5False       \u2020  \n",
        "\u22c5a  + g\u22c5False\u22c5a + g\u22c5False\u22c5a  + g\u22c5False\u22c5a + \u2500\u2500\u2500\u2500\u2500\u2500\u2500\u2500\u2500 + \u03c9\u1d63\u22c5a \u22c5a\n",
        "                                               2              "
       ]
      }
     ],
     "prompt_number": 38
    },
    {
     "cell_type": "code",
     "collapsed": false,
     "input": [
      "U = exp(I * omega_d * t * (Dagger(a) * a) + I * omega_s * t * (sp * sm))\n",
      "\n",
      "U.expand()"
     ],
     "language": "python",
     "metadata": {},
     "outputs": [
      {
       "latex": [
        "$$e^{i \\omega_{d} t {{a}^\\dagger} {a} + \\frac{i \\omega_{s}}{2} t + \\frac{i \\omega_{s}}{2} t {\\sigma_z}}$$"
       ],
       "metadata": {},
       "output_type": "pyout",
       "png": "[encoded data removed]",
       "prompt_number": 39,
       "text": [
        "          \u2020     \u2148\u22c5\u03c9_s\u22c5t   \u2148\u22c5\u03c9_s\u22c5t\u22c5False\n",
        " \u2148\u22c5\u03c9_d\u22c5t\u22c5a \u22c5a + \u2500\u2500\u2500\u2500\u2500\u2500\u2500 + \u2500\u2500\u2500\u2500\u2500\u2500\u2500\u2500\u2500\u2500\u2500\u2500\u2500\n",
        "                   2            2      \n",
        "\u212f                                      "
       ]
      }
     ],
     "prompt_number": 39
    },
    {
     "cell_type": "code",
     "collapsed": false,
     "input": [
      "H2 = hamiltonian_transformation(U, H1.expand())\n",
      "\n",
      "H2"
     ],
     "language": "python",
     "metadata": {},
     "outputs": [
      {
       "latex": [
        "$$A {{a}^\\dagger} + A {a} + B {\\sigma_-} + B e^{- i \\omega_{d} t} e^{i \\omega_{s} t} {\\sigma_+} + g e^{i \\omega_{d} t} e^{i \\omega_{s} t} {\\sigma_+} {{a}^\\dagger} + g e^{i \\omega_{d} t} e^{- i \\omega_{s} t} {\\sigma_-} {{a}^\\dagger} + g e^{- i \\omega_{d} t} e^{i \\omega_{s} t} {\\sigma_+} {a} + g e^{- i \\omega_{d} t} e^{- i \\omega_{s} t} {\\sigma_-} {a} + \\frac{\\omega_{q} {\\sigma_z}}{2} + \\omega_{r} {{a}^\\dagger} {a} - i \\left(- i \\omega_{d} {{a}^\\dagger} {a} - \\frac{i \\omega_{s}}{2} \\left(1 + {\\sigma_z}\\right)\\right)$$"
       ],
       "metadata": {},
       "output_type": "pyout",
       "png": "[encoded data removed]",
       "prompt_number": 40,
       "text": [
        "   \u2020                      -\u2148\u22c5\u03c9_d\u22c5t  \u2148\u22c5\u03c9_s\u22c5t            \u2148\u22c5\u03c9_d\u22c5t  \u2148\u22c5\u03c9_s\u22c5t       \n",
        "A\u22c5a  + A\u22c5a + B\u22c5False + B\u22c5\u212f        \u22c5\u212f       \u22c5False + g\u22c5\u212f       \u22c5\u212f       \u22c5False\u22c5\n",
        "                                                                              \n",
        "\n",
        " \u2020      \u2148\u22c5\u03c9_d\u22c5t  -\u2148\u22c5\u03c9_s\u22c5t        \u2020      -\u2148\u22c5\u03c9_d\u22c5t  \u2148\u22c5\u03c9_s\u22c5t              -\u2148\u22c5\u03c9_d\u22c5\n",
        "a  + g\u22c5\u212f       \u22c5\u212f        \u22c5False\u22c5a  + g\u22c5\u212f        \u22c5\u212f       \u22c5False\u22c5a + g\u22c5\u212f       \n",
        "                                                                              \n",
        "\n",
        "t  -\u2148\u22c5\u03c9_s\u22c5t           \u03c9_q\u22c5False       \u2020       \u239b         \u2020     \u2148\u22c5\u03c9_s\u22c5(1 + False\n",
        " \u22c5\u212f        \u22c5False\u22c5a + \u2500\u2500\u2500\u2500\u2500\u2500\u2500\u2500\u2500 + \u03c9\u1d63\u22c5a \u22c5a - \u2148\u22c5\u239c- \u2148\u22c5\u03c9_d\u22c5a \u22c5a - \u2500\u2500\u2500\u2500\u2500\u2500\u2500\u2500\u2500\u2500\u2500\u2500\u2500\u2500\u2500\u2500\n",
        "                          2                   \u239d                       2       \n",
        "\n",
        ")\u239e\n",
        "\u2500\u239f\n",
        " \u23a0"
       ]
      }
     ],
     "prompt_number": 40
    },
    {
     "cell_type": "code",
     "collapsed": false,
     "input": [
      "H2a = powsimp(H2)\n",
      "H2a"
     ],
     "language": "python",
     "metadata": {},
     "outputs": [
      {
       "latex": [
        "$$A {{a}^\\dagger} + A {a} + B e^{- i \\omega_{d} t + i \\omega_{s} t} {\\sigma_+} + B {\\sigma_-} + g e^{- i \\omega_{d} t - i \\omega_{s} t} {\\sigma_-} {a} + g e^{- i \\omega_{d} t + i \\omega_{s} t} {\\sigma_+} {a} + g e^{i \\omega_{d} t - i \\omega_{s} t} {\\sigma_-} {{a}^\\dagger} + g e^{i \\omega_{d} t + i \\omega_{s} t} {\\sigma_+} {{a}^\\dagger} + \\frac{\\omega_{q} {\\sigma_z}}{2} + \\omega_{r} {{a}^\\dagger} {a} - i \\left(- i \\omega_{d} {{a}^\\dagger} {a} - \\frac{i \\omega_{s}}{2} \\left(1 + {\\sigma_z}\\right)\\right)$$"
       ],
       "metadata": {},
       "output_type": "pyout",
       "png": "[encoded data removed]",
       "prompt_number": 41,
       "text": [
        "   \u2020            -\u2148\u22c5\u03c9_d\u22c5t + \u2148\u22c5\u03c9_s\u22c5t                      -\u2148\u22c5\u03c9_d\u22c5t - \u2148\u22c5\u03c9_s\u22c5t    \n",
        "A\u22c5a  + A\u22c5a + B\u22c5\u212f                  \u22c5False + B\u22c5False + g\u22c5\u212f                  \u22c5Fal\n",
        "                                                                              \n",
        "\n",
        "          -\u2148\u22c5\u03c9_d\u22c5t + \u2148\u22c5\u03c9_s\u22c5t              \u2148\u22c5\u03c9_d\u22c5t - \u2148\u22c5\u03c9_s\u22c5t        \u2020      \u2148\u22c5\u03c9_\n",
        "se\u22c5a + g\u22c5\u212f                  \u22c5False\u22c5a + g\u22c5\u212f                 \u22c5False\u22c5a  + g\u22c5\u212f    \n",
        "                                                                              \n",
        "\n",
        "d\u22c5t + \u2148\u22c5\u03c9_s\u22c5t        \u2020   \u03c9_q\u22c5False       \u2020       \u239b         \u2020     \u2148\u22c5\u03c9_s\u22c5(1 + Fa\n",
        "             \u22c5False\u22c5a  + \u2500\u2500\u2500\u2500\u2500\u2500\u2500\u2500\u2500 + \u03c9\u1d63\u22c5a \u22c5a - \u2148\u22c5\u239c- \u2148\u22c5\u03c9_d\u22c5a \u22c5a - \u2500\u2500\u2500\u2500\u2500\u2500\u2500\u2500\u2500\u2500\u2500\u2500\u2500\n",
        "                             2                   \u239d                       2    \n",
        "\n",
        "lse)\u239e\n",
        "\u2500\u2500\u2500\u2500\u239f\n",
        "    \u23a0"
       ]
      }
     ],
     "prompt_number": 41
    },
    {
     "cell_type": "code",
     "collapsed": false,
     "input": [
      "# trick to simplify exponents\n",
      "def simplify_exp(e):\n",
      "    if isinstance(e, exp):\n",
      "        return exp(simplify(e.exp.expand()))\n",
      "\n",
      "    if isinstance(e, (Add, Mul)):\n",
      "        return type(e)(*(simplify_exp(arg) for arg in e.args)) \n",
      "\n",
      "    return e"
     ],
     "language": "python",
     "metadata": {},
     "outputs": [],
     "prompt_number": 42
    },
    {
     "cell_type": "code",
     "collapsed": false,
     "input": [
      "F = symbols(\"F\")\n",
      "H2b = simplify_exp(H2a).subs(omega_d+omega_s,F)\n",
      "H2b"
     ],
     "language": "python",
     "metadata": {},
     "outputs": [
      {
       "latex": [
        "$$A {{a}^\\dagger} + A {a} + B e^{i t \\left(- \\omega_{d} + \\omega_{s}\\right)} {\\sigma_+} + B {\\sigma_-} + g e^{i F t} {\\sigma_+} {{a}^\\dagger} + g e^{i t \\left(- \\omega_{d} + \\omega_{s}\\right)} {\\sigma_+} {a} + g e^{i t \\left(\\omega_{d} - \\omega_{s}\\right)} {\\sigma_-} {{a}^\\dagger} + g e^{- i F t} {\\sigma_-} {a} + \\frac{\\omega_{q} {\\sigma_z}}{2} + \\omega_{r} {{a}^\\dagger} {a} - i \\left(- i \\omega_{d} {{a}^\\dagger} {a} - \\frac{i \\omega_{s}}{2} \\left(1 + {\\sigma_z}\\right)\\right)$$"
       ],
       "metadata": {},
       "output_type": "pyout",
       "png": "[encoded data removed]",
       "prompt_number": 43,
       "text": [
        "   \u2020            \u2148\u22c5t\u22c5(-\u03c9_d + \u03c9_s)                      \u2148\u22c5F\u22c5t        \u2020      \u2148\u22c5t\u22c5\n",
        "A\u22c5a  + A\u22c5a + B\u22c5\u212f                \u22c5False + B\u22c5False + g\u22c5\u212f     \u22c5False\u22c5a  + g\u22c5\u212f    \n",
        "                                                                              \n",
        "\n",
        "(-\u03c9_d + \u03c9_s)              \u2148\u22c5t\u22c5(\u03c9_d - \u03c9_s)        \u2020      -\u2148\u22c5F\u22c5t           \u03c9_q\u22c5F\n",
        "            \u22c5False\u22c5a + g\u22c5\u212f               \u22c5False\u22c5a  + g\u22c5\u212f      \u22c5False\u22c5a + \u2500\u2500\u2500\u2500\u2500\n",
        "                                                                             2\n",
        "\n",
        "alse       \u2020       \u239b         \u2020     \u2148\u22c5\u03c9_s\u22c5(1 + False)\u239e\n",
        "\u2500\u2500\u2500\u2500 + \u03c9\u1d63\u22c5a \u22c5a - \u2148\u22c5\u239c- \u2148\u22c5\u03c9_d\u22c5a \u22c5a - \u2500\u2500\u2500\u2500\u2500\u2500\u2500\u2500\u2500\u2500\u2500\u2500\u2500\u2500\u2500\u2500\u2500\u239f\n",
        "                   \u239d                       2        \u23a0"
       ]
      }
     ],
     "prompt_number": 43
    },
    {
     "cell_type": "markdown",
     "metadata": {},
     "source": [
      "Now, in the rotating-wave approximation we can drop the fast oscillating terms containing the factors $e^{\\pm i(\\omega_d + \\omega_s)t}$"
     ]
    },
    {
     "cell_type": "code",
     "collapsed": false,
     "input": [
      "H2c = H2b.expand()\n",
      "H2c\n",
      "H2d= H2c.collect([Dagger(a)*a,sz,g])\n",
      "H2d"
     ],
     "language": "python",
     "metadata": {},
     "outputs": [
      {
       "latex": [
        "$$A {{a}^\\dagger} + A {a} + B {\\sigma_-} + B e^{- i \\omega_{d} t} e^{i \\omega_{s} t} {\\sigma_+} + g \\left(e^{i F t} {\\sigma_+} {{a}^\\dagger} + e^{i \\omega_{d} t} e^{- i \\omega_{s} t} {\\sigma_-} {{a}^\\dagger} + e^{- i \\omega_{d} t} e^{i \\omega_{s} t} {\\sigma_+} {a} + e^{- i F t} {\\sigma_-} {a}\\right) - \\frac{\\omega_{s}}{2} + \\left(- \\omega_{d} + \\omega_{r}\\right) {{a}^\\dagger} {a} + \\left(\\frac{\\omega_{q}}{2} - \\frac{\\omega_{s}}{2}\\right) {\\sigma_z}$$"
       ],
       "metadata": {},
       "output_type": "pyout",
       "png": "[encoded data removed]",
       "prompt_number": 50,
       "text": [
        "   \u2020                      -\u2148\u22c5\u03c9_d\u22c5t  \u2148\u22c5\u03c9_s\u22c5t           \u239b \u2148\u22c5F\u22c5t        \u2020    \u2148\u22c5\u03c9_\n",
        "A\u22c5a  + A\u22c5a + B\u22c5False + B\u22c5\u212f        \u22c5\u212f       \u22c5False + g\u22c5\u239d\u212f     \u22c5False\u22c5a  + \u212f    \n",
        "                                                                              \n",
        "\n",
        "d\u22c5t  -\u2148\u22c5\u03c9_s\u22c5t        \u2020    -\u2148\u22c5\u03c9_d\u22c5t  \u2148\u22c5\u03c9_s\u22c5t            -\u2148\u22c5F\u22c5t        \u239e   \u03c9_s  \n",
        "   \u22c5\u212f        \u22c5False\u22c5a  + \u212f        \u22c5\u212f       \u22c5False\u22c5a + \u212f      \u22c5False\u22c5a\u23a0 - \u2500\u2500\u2500 +\n",
        "                                                                          2   \n",
        "\n",
        "              \u2020     \u239b\u03c9_q   \u03c9_s\u239e      \n",
        " (-\u03c9_d + \u03c9\u1d63)\u22c5a \u22c5a + \u239c\u2500\u2500\u2500 - \u2500\u2500\u2500\u239f\u22c5False\n",
        "                    \u239d 2     2 \u23a0      "
       ]
      }
     ],
     "prompt_number": 50
    },
    {
     "cell_type": "code",
     "collapsed": false,
     "input": [
      "H2e = H2d.subs(-omega_d+omega_r,Delta_d)\n",
      "H2e"
     ],
     "language": "python",
     "metadata": {},
     "outputs": [
      {
       "latex": [
        "$$A {{a}^\\dagger} + A {a} + B {\\sigma_-} + B e^{- i \\omega_{d} t} e^{i \\omega_{s} t} {\\sigma_+} + \\Delta_{d} {{a}^\\dagger} {a} + g \\left(e^{i F t} {\\sigma_+} {{a}^\\dagger} + e^{i \\omega_{d} t} e^{- i \\omega_{s} t} {\\sigma_-} {{a}^\\dagger} + e^{- i \\omega_{d} t} e^{i \\omega_{s} t} {\\sigma_+} {a} + e^{- i F t} {\\sigma_-} {a}\\right) - \\frac{\\omega_{s}}{2} + \\left(\\frac{\\omega_{q}}{2} - \\frac{\\omega_{s}}{2}\\right) {\\sigma_z}$$"
       ],
       "metadata": {},
       "output_type": "pyout",
       "png": "[encoded data removed]",
       "prompt_number": 51,
       "text": [
        "   \u2020                      -\u2148\u22c5\u03c9_d\u22c5t  \u2148\u22c5\u03c9_s\u22c5t              \u2020       \u239b \u2148\u22c5F\u22c5t      \n",
        "A\u22c5a  + A\u22c5a + B\u22c5False + B\u22c5\u212f        \u22c5\u212f       \u22c5False + \u0394_d\u22c5a \u22c5a + g\u22c5\u239d\u212f     \u22c5False\n",
        "                                                                              \n",
        "\n",
        "  \u2020    \u2148\u22c5\u03c9_d\u22c5t  -\u2148\u22c5\u03c9_s\u22c5t        \u2020    -\u2148\u22c5\u03c9_d\u22c5t  \u2148\u22c5\u03c9_s\u22c5t            -\u2148\u22c5F\u22c5t      \n",
        "\u22c5a  + \u212f       \u22c5\u212f        \u22c5False\u22c5a  + \u212f        \u22c5\u212f       \u22c5False\u22c5a + \u212f      \u22c5False\n",
        "                                                                              \n",
        "\n",
        "  \u239e   \u03c9_s   \u239b\u03c9_q   \u03c9_s\u239e      \n",
        "\u22c5a\u23a0 - \u2500\u2500\u2500 + \u239c\u2500\u2500\u2500 - \u2500\u2500\u2500\u239f\u22c5False\n",
        "       2    \u239d 2     2 \u23a0      "
       ]
      }
     ],
     "prompt_number": 51
    },
    {
     "cell_type": "code",
     "collapsed": false,
     "input": [
      "H2f = H2e.subs(omega_q/2 - omega_s/2, Delta_s/2)\n",
      "H2f"
     ],
     "language": "python",
     "metadata": {},
     "outputs": [
      {
       "latex": [
        "$$A {{a}^\\dagger} + A {a} + B {\\sigma_-} + B e^{- i \\omega_{d} t} e^{i \\omega_{s} t} {\\sigma_+} + \\Delta_{d} {{a}^\\dagger} {a} + \\frac{\\Delta_{s} {\\sigma_z}}{2} + g \\left(e^{i F t} {\\sigma_+} {{a}^\\dagger} + e^{i \\omega_{d} t} e^{- i \\omega_{s} t} {\\sigma_-} {{a}^\\dagger} + e^{- i \\omega_{d} t} e^{i \\omega_{s} t} {\\sigma_+} {a} + e^{- i F t} {\\sigma_-} {a}\\right) - \\frac{\\omega_{s}}{2}$$"
       ],
       "metadata": {},
       "output_type": "pyout",
       "png": "[encoded data removed]",
       "prompt_number": 53,
       "text": [
        "   \u2020                      -\u2148\u22c5\u03c9_d\u22c5t  \u2148\u22c5\u03c9_s\u22c5t              \u2020     \u0394_s\u22c5False     \u239b\n",
        "A\u22c5a  + A\u22c5a + B\u22c5False + B\u22c5\u212f        \u22c5\u212f       \u22c5False + \u0394_d\u22c5a \u22c5a + \u2500\u2500\u2500\u2500\u2500\u2500\u2500\u2500\u2500 + g\u22c5\u239d\n",
        "                                                                   2          \n",
        "\n",
        " \u2148\u22c5F\u22c5t        \u2020    \u2148\u22c5\u03c9_d\u22c5t  -\u2148\u22c5\u03c9_s\u22c5t        \u2020    -\u2148\u22c5\u03c9_d\u22c5t  \u2148\u22c5\u03c9_s\u22c5t            \n",
        "\u212f     \u22c5False\u22c5a  + \u212f       \u22c5\u212f        \u22c5False\u22c5a  + \u212f        \u22c5\u212f       \u22c5False\u22c5a + \u212f\n",
        "                                                                              \n",
        "\n",
        "-\u2148\u22c5F\u22c5t        \u239e   \u03c9_s\n",
        "      \u22c5False\u22c5a\u23a0 - \u2500\u2500\u2500\n",
        "                   2 "
       ]
      }
     ],
     "prompt_number": 53
    },
    {
     "cell_type": "code",
     "collapsed": false,
     "input": [
      "H2g = H2f.expand()\n",
      "H3 = drop_terms_containing(H2g, [exp( I * (F) * t),\n",
      "                                exp(-I * (F) * t)])\n",
      "\n",
      "H3 = drop_c_number_terms(H3.expand())\n",
      "\n",
      "Eq(Hsym, H3)"
     ],
     "language": "python",
     "metadata": {},
     "outputs": [
      {
       "latex": [
        "$$H = A {{a}^\\dagger} + A {a} + B {\\sigma_-} + B e^{- i \\omega_{d} t} e^{i \\omega_{s} t} {\\sigma_+} + \\Delta_{d} {{a}^\\dagger} {a} + \\frac{\\Delta_{s} {\\sigma_z}}{2} + g e^{i \\omega_{d} t} e^{- i \\omega_{s} t} {\\sigma_-} {{a}^\\dagger} + g e^{- i \\omega_{d} t} e^{i \\omega_{s} t} {\\sigma_+} {a}$$"
       ],
       "metadata": {},
       "output_type": "pyout",
       "png": "[encoded data removed]",
       "prompt_number": 55,
       "text": [
        "       \u2020                      -\u2148\u22c5\u03c9_d\u22c5t  \u2148\u22c5\u03c9_s\u22c5t              \u2020     \u0394_s\u22c5False  \n",
        "H = A\u22c5a  + A\u22c5a + B\u22c5False + B\u22c5\u212f        \u22c5\u212f       \u22c5False + \u0394_d\u22c5a \u22c5a + \u2500\u2500\u2500\u2500\u2500\u2500\u2500\u2500\u2500 +\n",
        "                                                                       2      \n",
        "\n",
        "    \u2148\u22c5\u03c9_d\u22c5t  -\u2148\u22c5\u03c9_s\u22c5t        \u2020      -\u2148\u22c5\u03c9_d\u22c5t  \u2148\u22c5\u03c9_s\u22c5t        \n",
        " g\u22c5\u212f       \u22c5\u212f        \u22c5False\u22c5a  + g\u22c5\u212f        \u22c5\u212f       \u22c5False\u22c5a\n",
        "                                                             "
       ]
      }
     ],
     "prompt_number": 55
    },
    {
     "cell_type": "code",
     "collapsed": false,
     "input": [],
     "language": "python",
     "metadata": {},
     "outputs": [],
     "prompt_number": 55
    },
    {
     "cell_type": "markdown",
     "metadata": {},
     "source": [
      "This is the interaction term of in the Jaynes-Cumming model in the interaction picture. If we transform back to the Schr\u00f6dinger picture we have:"
     ]
    },
    {
     "cell_type": "code",
     "collapsed": false,
     "input": [
      "U = exp(-I * omega_d * t * Dagger(a) * a - I * omega_s * t * sp*sm)\n",
      "\n",
      "\n",
      "H4 = hamiltonian_transformation(U, H3.expand())\n",
      "H4"
     ],
     "language": "python",
     "metadata": {},
     "outputs": [
      {
       "latex": [
        "$$A e^{i \\omega_{d} t} {a} + A e^{- i \\omega_{d} t} {{a}^\\dagger} + B e^{i \\omega_{s} t} {\\sigma_-} + B e^{- i \\omega_{d} t} {\\sigma_+} + \\Delta_{d} {{a}^\\dagger} {a} + \\frac{\\Delta_{s} {\\sigma_z}}{2} + g {\\sigma_-} {{a}^\\dagger} + g {\\sigma_+} {a} - i \\left(i \\omega_{d} {{a}^\\dagger} {a} + i \\omega_{s} {\\sigma_+} {\\sigma_-}\\right)$$"
       ],
       "metadata": {},
       "output_type": "pyout",
       "png": "[encoded data removed]",
       "prompt_number": 56,
       "text": [
        "   \u2148\u22c5\u03c9_d\u22c5t        -\u2148\u22c5\u03c9_d\u22c5t  \u2020      \u2148\u22c5\u03c9_s\u22c5t            -\u2148\u22c5\u03c9_d\u22c5t              \u2020 \n",
        "A\u22c5\u212f       \u22c5a + A\u22c5\u212f        \u22c5a  + B\u22c5\u212f       \u22c5False + B\u22c5\u212f        \u22c5False + \u0394_d\u22c5a \u22c5\n",
        "                                                                              \n",
        "\n",
        "    \u0394_s\u22c5False            \u2020                 \u239b       \u2020                      \u239e\n",
        "a + \u2500\u2500\u2500\u2500\u2500\u2500\u2500\u2500\u2500 + g\u22c5False\u22c5a  + g\u22c5False\u22c5a - \u2148\u22c5\u239d\u2148\u22c5\u03c9_d\u22c5a \u22c5a + \u2148\u22c5\u03c9_s\u22c5False\u22c5False\u23a0\n",
        "        2                                                                  "
       ]
      }
     ],
     "prompt_number": 56
    },
    {
     "cell_type": "code",
     "collapsed": false,
     "input": [
      "H4a = H4.expand()\n",
      "H4a"
     ],
     "language": "python",
     "metadata": {},
     "outputs": [
      {
       "latex": [
        "$$A e^{i \\omega_{d} t} {a} + A e^{- i \\omega_{d} t} {{a}^\\dagger} + B e^{i \\omega_{s} t} {\\sigma_-} + B e^{- i \\omega_{d} t} {\\sigma_+} + \\Delta_{d} {{a}^\\dagger} {a} + \\frac{\\Delta_{s} {\\sigma_z}}{2} + g {\\sigma_-} {{a}^\\dagger} + g {\\sigma_+} {a} + \\omega_{d} {{a}^\\dagger} {a} + \\omega_{s} {\\sigma_+} {\\sigma_-}$$"
       ],
       "metadata": {},
       "output_type": "pyout",
       "png": "[encoded data removed]",
       "prompt_number": 57,
       "text": [
        "   \u2148\u22c5\u03c9_d\u22c5t        -\u2148\u22c5\u03c9_d\u22c5t  \u2020      \u2148\u22c5\u03c9_s\u22c5t            -\u2148\u22c5\u03c9_d\u22c5t              \u2020 \n",
        "A\u22c5\u212f       \u22c5a + A\u22c5\u212f        \u22c5a  + B\u22c5\u212f       \u22c5False + B\u22c5\u212f        \u22c5False + \u0394_d\u22c5a \u22c5\n",
        "                                                                              \n",
        "\n",
        "    \u0394_s\u22c5False            \u2020                    \u2020                    \n",
        "a + \u2500\u2500\u2500\u2500\u2500\u2500\u2500\u2500\u2500 + g\u22c5False\u22c5a  + g\u22c5False\u22c5a + \u03c9_d\u22c5a \u22c5a + \u03c9_s\u22c5False\u22c5False\n",
        "        2                                                          "
       ]
      }
     ],
     "prompt_number": 57
    },
    {
     "cell_type": "code",
     "collapsed": false,
     "input": [
      "H4b = collect(H4a, [Dagger(a)*a,sz,g, A, B])\n",
      "H4b"
     ],
     "language": "python",
     "metadata": {},
     "outputs": [
      {
       "latex": [
        "$$A \\left(e^{i \\omega_{d} t} {a} + e^{- i \\omega_{d} t} {{a}^\\dagger}\\right) + B \\left(e^{i \\omega_{s} t} {\\sigma_-} + e^{- i \\omega_{d} t} {\\sigma_+}\\right) + \\frac{\\Delta_{s} {\\sigma_z}}{2} + g \\left({\\sigma_-} {{a}^\\dagger} + {\\sigma_+} {a}\\right) + \\omega_{s} {\\sigma_+} {\\sigma_-} + \\left(\\Delta_{d} + \\omega_{d}\\right) {{a}^\\dagger} {a}$$"
       ],
       "metadata": {},
       "output_type": "pyout",
       "png": "[encoded data removed]",
       "prompt_number": 58,
       "text": [
        "  \u239b \u2148\u22c5\u03c9_d\u22c5t      -\u2148\u22c5\u03c9_d\u22c5t  \u2020\u239e     \u239b \u2148\u22c5\u03c9_s\u22c5t          -\u2148\u22c5\u03c9_d\u22c5t      \u239e   \u0394_s\u22c5Fal\n",
        "A\u22c5\u239d\u212f       \u22c5a + \u212f        \u22c5a \u23a0 + B\u22c5\u239d\u212f       \u22c5False + \u212f        \u22c5False\u23a0 + \u2500\u2500\u2500\u2500\u2500\u2500\u2500\n",
        "                                                                           2  \n",
        "\n",
        "se     \u239b       \u2020          \u239e                                  \u2020  \n",
        "\u2500\u2500 + g\u22c5\u239dFalse\u22c5a  + False\u22c5a\u23a0 + \u03c9_s\u22c5False\u22c5False + (\u0394_d + \u03c9_d)\u22c5a \u22c5a\n",
        "                                                                "
       ]
      }
     ],
     "prompt_number": 58
    },
    {
     "cell_type": "code",
     "collapsed": false,
     "input": [],
     "language": "python",
     "metadata": {},
     "outputs": [
      {
       "latex": [
        "$$A \\left(e^{i \\omega_{d} t} {a} + e^{- i \\omega_{d} t} {{a}^\\dagger}\\right) + B \\left(e^{i \\omega_{s} t} {\\sigma_-} + e^{- i \\omega_{d} t} {\\sigma_+}\\right) + g \\left({\\sigma_-} {{a}^\\dagger} + {\\sigma_+} {a}\\right) + \\omega_{r} {{a}^\\dagger} {a} + \\omega_{s} {\\sigma_+} {\\sigma_-} + \\left(\\frac{\\omega_{q}}{2} - \\frac{\\omega_{s}}{2}\\right) {\\sigma_z}$$"
       ],
       "metadata": {},
       "output_type": "pyout",
       "png": "[encoded data removed]",
       "prompt_number": 30,
       "text": [
        "  \u239b \u2148\u22c5\u03c9_d\u22c5t      -\u2148\u22c5\u03c9_d\u22c5t  \u2020\u239e     \u239b \u2148\u22c5\u03c9_s\u22c5t          -\u2148\u22c5\u03c9_d\u22c5t      \u239e     \u239b    \n",
        "A\u22c5\u239d\u212f       \u22c5a + \u212f        \u22c5a \u23a0 + B\u22c5\u239d\u212f       \u22c5False + \u212f        \u22c5False\u23a0 + g\u22c5\u239dFals\n",
        "                                                                              \n",
        "\n",
        "   \u2020          \u239e       \u2020                       \u239b\u03c9_q   \u03c9_s\u239e      \n",
        "e\u22c5a  + False\u22c5a\u23a0 + \u03c9\u1d63\u22c5a \u22c5a + \u03c9_s\u22c5False\u22c5False + \u239c\u2500\u2500\u2500 - \u2500\u2500\u2500\u239f\u22c5False\n",
        "                                              \u239d 2     2 \u23a0      "
       ]
      }
     ],
     "prompt_number": 30
    },
    {
     "cell_type": "code",
     "collapsed": false,
     "input": [],
     "language": "python",
     "metadata": {},
     "outputs": []
    },
    {
     "cell_type": "code",
     "collapsed": false,
     "input": [
      "H6a = collect(H6, [Dagger(a)*a,sz,g ]);H6a"
     ],
     "language": "python",
     "metadata": {},
     "outputs": [
      {
       "ename": "NameError",
       "evalue": "name 'H6' is not defined",
       "output_type": "pyerr",
       "traceback": [
        "\u001b[0;31m---------------------------------------------------------------------------\u001b[0m\n\u001b[0;31mNameError\u001b[0m                                 Traceback (most recent call last)",
        "\u001b[0;32m<ipython-input-26-85299ff222f4>\u001b[0m in \u001b[0;36m<module>\u001b[0;34m()\u001b[0m\n\u001b[0;32m----> 1\u001b[0;31m \u001b[0mH6a\u001b[0m \u001b[0;34m=\u001b[0m \u001b[0mcollect\u001b[0m\u001b[0;34m(\u001b[0m\u001b[0mH6\u001b[0m\u001b[0;34m,\u001b[0m \u001b[0;34m[\u001b[0m\u001b[0mDagger\u001b[0m\u001b[0;34m(\u001b[0m\u001b[0ma\u001b[0m\u001b[0;34m)\u001b[0m\u001b[0;34m*\u001b[0m\u001b[0ma\u001b[0m\u001b[0;34m,\u001b[0m\u001b[0msz\u001b[0m\u001b[0;34m,\u001b[0m\u001b[0mg\u001b[0m \u001b[0;34m]\u001b[0m\u001b[0;34m)\u001b[0m\u001b[0;34m;\u001b[0m\u001b[0mH6a\u001b[0m\u001b[0;34m\u001b[0m\u001b[0m\n\u001b[0m",
        "\u001b[0;31mNameError\u001b[0m: name 'H6' is not defined"
       ]
      }
     ],
     "prompt_number": 26
    },
    {
     "cell_type": "code",
     "collapsed": false,
     "input": [
      "H6b = powsimp(H6a)\n",
      "H5 = drop_terms_containing(H6b, [exp( I * (omega_s) * t),\n",
      "                                exp(-I * (omega_s) * t)])\n",
      "\n",
      "H5 = drop_c_number_terms(H5.expand())\n",
      "\n",
      "H5"
     ],
     "language": "python",
     "metadata": {},
     "outputs": [
      {
       "latex": [
        "$$- \\frac{g \\omega_{s}^{5}}{480} t^{5} {\\sigma_y} {{a}^\\dagger} - \\frac{g \\omega_{s}^{5}}{480} t^{5} {\\sigma_y} {a} + \\frac{i g}{96} \\omega_{s}^{4} t^{4} {\\sigma_y} {{a}^\\dagger} + \\frac{i g}{96} \\omega_{s}^{4} t^{4} {\\sigma_y} {a} + \\frac{g \\omega_{s}^{3}}{24} t^{3} {\\sigma_y} {{a}^\\dagger} + \\frac{g \\omega_{s}^{3}}{24} t^{3} {\\sigma_y} {a} - \\frac{i g}{8} \\omega_{s}^{2} t^{2} {\\sigma_y} {{a}^\\dagger} - \\frac{i g}{8} \\omega_{s}^{2} t^{2} {\\sigma_y} {a} - \\frac{g \\omega_{s}}{4} t {\\sigma_y} {{a}^\\dagger} - \\frac{g \\omega_{s}}{4} t {\\sigma_y} {a} - \\frac{g {\\sigma_x}}{4} e^{i \\omega_{s} t} {{a}^\\dagger} - \\frac{g {\\sigma_x}}{4} e^{i \\omega_{s} t} {a} + \\frac{g {\\sigma_+}}{2} {{a}^\\dagger} + \\frac{g {\\sigma_+}}{2} {a} + \\frac{g {\\sigma_x}}{4} {{a}^\\dagger} + \\frac{g {\\sigma_x}}{4} {a} + \\frac{i g}{2} {\\sigma_y} {{a}^\\dagger} + \\frac{i g}{2} {\\sigma_y} {a} + \\frac{g {\\sigma_+}}{2} e^{- i \\omega_{s} t} {{a}^\\dagger} + \\frac{g {\\sigma_+}}{2} e^{- i \\omega_{s} t} {a} + \\frac{\\omega_{q} {\\sigma_z}}{2} + \\omega_{r} {{a}^\\dagger} {a}$$"
       ],
       "metadata": {},
       "output_type": "pyout",
       "png": "[encoded data removed]",
       "prompt_number": 55,
       "text": [
        "       5  5        \u2020        5  5                  4  4        \u2020          4  4 \n",
        "  g\u22c5\u03c9_s \u22c5t \u22c5False\u22c5a    g\u22c5\u03c9_s \u22c5t \u22c5False\u22c5a   \u2148\u22c5g\u22c5\u03c9_s \u22c5t \u22c5False\u22c5a    \u2148\u22c5g\u22c5\u03c9_s \u22c5t \u22c5\n",
        "- \u2500\u2500\u2500\u2500\u2500\u2500\u2500\u2500\u2500\u2500\u2500\u2500\u2500\u2500\u2500\u2500\u2500\u2500 - \u2500\u2500\u2500\u2500\u2500\u2500\u2500\u2500\u2500\u2500\u2500\u2500\u2500\u2500\u2500\u2500\u2500 + \u2500\u2500\u2500\u2500\u2500\u2500\u2500\u2500\u2500\u2500\u2500\u2500\u2500\u2500\u2500\u2500\u2500\u2500\u2500\u2500 + \u2500\u2500\u2500\u2500\u2500\u2500\u2500\u2500\u2500\u2500\u2500\u2500\n",
        "         480                  480                   96                     96 \n",
        "\n",
        "               3  3        \u2020        3  3                  2  2        \u2020       \n",
        "False\u22c5a   g\u22c5\u03c9_s \u22c5t \u22c5False\u22c5a    g\u22c5\u03c9_s \u22c5t \u22c5False\u22c5a   \u2148\u22c5g\u22c5\u03c9_s \u22c5t \u22c5False\u22c5a    \u2148\u22c5g\u22c5\n",
        "\u2500\u2500\u2500\u2500\u2500\u2500\u2500 + \u2500\u2500\u2500\u2500\u2500\u2500\u2500\u2500\u2500\u2500\u2500\u2500\u2500\u2500\u2500\u2500\u2500\u2500 + \u2500\u2500\u2500\u2500\u2500\u2500\u2500\u2500\u2500\u2500\u2500\u2500\u2500\u2500\u2500\u2500\u2500 - \u2500\u2500\u2500\u2500\u2500\u2500\u2500\u2500\u2500\u2500\u2500\u2500\u2500\u2500\u2500\u2500\u2500\u2500\u2500\u2500 - \u2500\u2500\u2500\u2500\n",
        "                  24                   24                   8                 \n",
        "\n",
        "   2  2                          \u2020                        \u2148\u22c5\u03c9_s\u22c5t        \u2020    \n",
        "\u03c9_s \u22c5t \u22c5False\u22c5a   g\u22c5\u03c9_s\u22c5t\u22c5False\u22c5a    g\u22c5\u03c9_s\u22c5t\u22c5False\u22c5a   g\u22c5\u212f       \u22c5False\u22c5a    g\n",
        "\u2500\u2500\u2500\u2500\u2500\u2500\u2500\u2500\u2500\u2500\u2500\u2500\u2500\u2500\u2500 - \u2500\u2500\u2500\u2500\u2500\u2500\u2500\u2500\u2500\u2500\u2500\u2500\u2500\u2500\u2500\u2500 - \u2500\u2500\u2500\u2500\u2500\u2500\u2500\u2500\u2500\u2500\u2500\u2500\u2500\u2500\u2500 - \u2500\u2500\u2500\u2500\u2500\u2500\u2500\u2500\u2500\u2500\u2500\u2500\u2500\u2500\u2500\u2500\u2500\u2500\u2500 - \u2500\n",
        "     8                   4                  4                   4             \n",
        "\n",
        "  \u2148\u22c5\u03c9_s\u22c5t                    \u2020                        \u2020                       \n",
        "\u22c5\u212f       \u22c5False\u22c5a   g\u22c5False\u22c5a    g\u22c5False\u22c5a   g\u22c5False\u22c5a    g\u22c5False\u22c5a   \u2148\u22c5g\u22c5Fals\n",
        "\u2500\u2500\u2500\u2500\u2500\u2500\u2500\u2500\u2500\u2500\u2500\u2500\u2500\u2500\u2500\u2500\u2500 + \u2500\u2500\u2500\u2500\u2500\u2500\u2500\u2500\u2500\u2500 + \u2500\u2500\u2500\u2500\u2500\u2500\u2500\u2500\u2500 + \u2500\u2500\u2500\u2500\u2500\u2500\u2500\u2500\u2500\u2500 + \u2500\u2500\u2500\u2500\u2500\u2500\u2500\u2500\u2500 + \u2500\u2500\u2500\u2500\u2500\u2500\u2500\u2500\n",
        "       4                2            2           4            4            2  \n",
        "\n",
        "   \u2020                    -\u2148\u22c5\u03c9_s\u22c5t        \u2020      -\u2148\u22c5\u03c9_s\u22c5t                       \n",
        "e\u22c5a    \u2148\u22c5g\u22c5False\u22c5a   g\u22c5\u212f        \u22c5False\u22c5a    g\u22c5\u212f        \u22c5False\u22c5a   \u03c9_q\u22c5False   \n",
        "\u2500\u2500\u2500\u2500 + \u2500\u2500\u2500\u2500\u2500\u2500\u2500\u2500\u2500\u2500\u2500 + \u2500\u2500\u2500\u2500\u2500\u2500\u2500\u2500\u2500\u2500\u2500\u2500\u2500\u2500\u2500\u2500\u2500\u2500\u2500\u2500 + \u2500\u2500\u2500\u2500\u2500\u2500\u2500\u2500\u2500\u2500\u2500\u2500\u2500\u2500\u2500\u2500\u2500\u2500\u2500 + \u2500\u2500\u2500\u2500\u2500\u2500\u2500\u2500\u2500 + \n",
        "            2                 2                      2                2       \n",
        "\n",
        "       \n",
        "    \u2020  \n",
        "\u03c9\u1d63\u22c5a \u22c5a\n",
        "       "
       ]
      }
     ],
     "prompt_number": 55
    },
    {
     "cell_type": "code",
     "collapsed": false,
     "input": [
      "H4 = drop_terms_containing(H5, [t**5, t**4,t**3,t**2,t])\n",
      "\n",
      "H5 = drop_c_number_terms(H4.expand())\n",
      "\n",
      "# Eq(Hsym, H5)H\n",
      "H5"
     ],
     "language": "python",
     "metadata": {},
     "outputs": [
      {
       "latex": [
        "$$- \\frac{g {\\sigma_x}}{4} e^{i \\omega_{s} t} {{a}^\\dagger} - \\frac{g {\\sigma_x}}{4} e^{i \\omega_{s} t} {a} + \\frac{g {\\sigma_+}}{2} {{a}^\\dagger} + \\frac{g {\\sigma_+}}{2} {a} + \\frac{g {\\sigma_x}}{4} {{a}^\\dagger} + \\frac{g {\\sigma_x}}{4} {a} + \\frac{i g}{2} {\\sigma_y} {{a}^\\dagger} + \\frac{i g}{2} {\\sigma_y} {a} + \\frac{g {\\sigma_+}}{2} e^{- i \\omega_{s} t} {{a}^\\dagger} + \\frac{g {\\sigma_+}}{2} e^{- i \\omega_{s} t} {a} + \\frac{\\omega_{q} {\\sigma_z}}{2} + \\omega_{r} {{a}^\\dagger} {a}$$"
       ],
       "metadata": {},
       "output_type": "pyout",
       "png": "[encoded data removed]",
       "prompt_number": 57,
       "text": [
        "     \u2148\u22c5\u03c9_s\u22c5t        \u2020      \u2148\u22c5\u03c9_s\u22c5t                    \u2020                       \n",
        "  g\u22c5\u212f       \u22c5False\u22c5a    g\u22c5\u212f       \u22c5False\u22c5a   g\u22c5False\u22c5a    g\u22c5False\u22c5a   g\u22c5False\u22c5\n",
        "- \u2500\u2500\u2500\u2500\u2500\u2500\u2500\u2500\u2500\u2500\u2500\u2500\u2500\u2500\u2500\u2500\u2500\u2500\u2500 - \u2500\u2500\u2500\u2500\u2500\u2500\u2500\u2500\u2500\u2500\u2500\u2500\u2500\u2500\u2500\u2500\u2500\u2500 + \u2500\u2500\u2500\u2500\u2500\u2500\u2500\u2500\u2500\u2500 + \u2500\u2500\u2500\u2500\u2500\u2500\u2500\u2500\u2500 + \u2500\u2500\u2500\u2500\u2500\u2500\u2500\u2500\n",
        "           4                    4                2            2           4   \n",
        "\n",
        " \u2020                          \u2020                    -\u2148\u22c5\u03c9_s\u22c5t        \u2020      -\u2148\u22c5\u03c9_s\n",
        "a    g\u22c5False\u22c5a   \u2148\u22c5g\u22c5False\u22c5a    \u2148\u22c5g\u22c5False\u22c5a   g\u22c5\u212f        \u22c5False\u22c5a    g\u22c5\u212f      \n",
        "\u2500\u2500 + \u2500\u2500\u2500\u2500\u2500\u2500\u2500\u2500\u2500 + \u2500\u2500\u2500\u2500\u2500\u2500\u2500\u2500\u2500\u2500\u2500\u2500 + \u2500\u2500\u2500\u2500\u2500\u2500\u2500\u2500\u2500\u2500\u2500 + \u2500\u2500\u2500\u2500\u2500\u2500\u2500\u2500\u2500\u2500\u2500\u2500\u2500\u2500\u2500\u2500\u2500\u2500\u2500\u2500 + \u2500\u2500\u2500\u2500\u2500\u2500\u2500\u2500\u2500\n",
        "         4            2              2                 2                      \n",
        "\n",
        "\u22c5t                              \n",
        "  \u22c5False\u22c5a   \u03c9_q\u22c5False       \u2020  \n",
        "\u2500\u2500\u2500\u2500\u2500\u2500\u2500\u2500\u2500\u2500 + \u2500\u2500\u2500\u2500\u2500\u2500\u2500\u2500\u2500 + \u03c9\u1d63\u22c5a \u22c5a\n",
        "2                2              "
       ]
      }
     ],
     "prompt_number": 57
    },
    {
     "cell_type": "code",
     "collapsed": false,
     "input": [
      "\n",
      "H = collect(H5, [Dagger(a)*a,sx, g])\n",
      "\n",
      "Eq(Hsym, H)"
     ],
     "language": "python",
     "metadata": {},
     "outputs": [
      {
       "latex": [
        "$$H = g \\left(\\frac{{\\sigma_+} {{a}^\\dagger}}{2} + \\frac{{\\sigma_+} {a}}{2} + \\frac{i {\\sigma_y}}{2} {{a}^\\dagger} + \\frac{i {\\sigma_y}}{2} {a} + \\frac{{\\sigma_+} {{a}^\\dagger}}{2} e^{- i \\omega_{s} t} + \\frac{{\\sigma_+} {a}}{2} e^{- i \\omega_{s} t}\\right) + \\frac{\\omega_{q} {\\sigma_z}}{2} + \\omega_{r} {{a}^\\dagger} {a} + {\\sigma_x} \\left(- \\frac{g {{a}^\\dagger}}{4} e^{i \\omega_{s} t} - \\frac{g {a}}{4} e^{i \\omega_{s} t} + \\frac{g {{a}^\\dagger}}{4} + \\frac{g {a}}{4}\\right)$$"
       ],
       "metadata": {},
       "output_type": "pyout",
       "png": "[encoded data removed]",
       "prompt_number": 58,
       "text": [
        "      \u239b       \u2020                      \u2020                -\u2148\u22c5\u03c9_s\u22c5t        \u2020    -\u2148\u22c5\n",
        "      \u239cFalse\u22c5a    False\u22c5a   \u2148\u22c5False\u22c5a    \u2148\u22c5False\u22c5a   \u212f        \u22c5False\u22c5a    \u212f   \n",
        "H = g\u22c5\u239c\u2500\u2500\u2500\u2500\u2500\u2500\u2500\u2500 + \u2500\u2500\u2500\u2500\u2500\u2500\u2500 + \u2500\u2500\u2500\u2500\u2500\u2500\u2500\u2500\u2500\u2500 + \u2500\u2500\u2500\u2500\u2500\u2500\u2500\u2500\u2500 + \u2500\u2500\u2500\u2500\u2500\u2500\u2500\u2500\u2500\u2500\u2500\u2500\u2500\u2500\u2500\u2500\u2500\u2500 + \u2500\u2500\u2500\u2500\n",
        "      \u239d   2          2          2            2               2                \n",
        "\n",
        "\u03c9_s\u22c5t        \u239e                               \u239b     \u2148\u22c5\u03c9_s\u22c5t  \u2020      \u2148\u22c5\u03c9_s\u22c5t    \n",
        "     \u22c5False\u22c5a\u239f   \u03c9_q\u22c5False       \u2020           \u239c  g\u22c5\u212f       \u22c5a    g\u22c5\u212f       \u22c5a  \n",
        "\u2500\u2500\u2500\u2500\u2500\u2500\u2500\u2500\u2500\u2500\u2500\u2500\u2500\u239f + \u2500\u2500\u2500\u2500\u2500\u2500\u2500\u2500\u2500 + \u03c9\u1d63\u22c5a \u22c5a + False\u22c5\u239c- \u2500\u2500\u2500\u2500\u2500\u2500\u2500\u2500\u2500\u2500\u2500\u2500\u2500 - \u2500\u2500\u2500\u2500\u2500\u2500\u2500\u2500\u2500\u2500\u2500\u2500 +\n",
        "    2        \u23a0       2                       \u239d        4              4        \n",
        "\n",
        "    \u2020      \u239e\n",
        " g\u22c5a    g\u22c5a\u239f\n",
        " \u2500\u2500\u2500\u2500 + \u2500\u2500\u2500\u239f\n",
        "  4      4 \u23a0"
       ]
      }
     ],
     "prompt_number": 58
    },
    {
     "cell_type": "markdown",
     "metadata": {},
     "source": [
      "This is the Jaynes-Cumming model give above, and we have now seen that it is obtained to the dipole interaction Hamiltonian through the rotating wave approximation."
     ]
    },
    {
     "cell_type": "heading",
     "level": 2,
     "metadata": {},
     "source": [
      "Dispersive regime"
     ]
    },
    {
     "cell_type": "markdown",
     "metadata": {},
     "source": [
      "In the dispersive regime, where the two-level system is detuned from the cavity by much more than the interaction strength, $\\Delta \\gg g$, an effective Hamiltonian can be dervied which describes the Stark shift of the two-level system (which depends on the number of photons in the cavity) and the frequency shift of the cavity (which depend on the state of the two-level system).\n",
      "\n",
      "This effective Hamiltonian, which is correct up to second order in the small paramter $g/\\Delta$, is obtained by performing the unitary transformation\n",
      "\n",
      "$$\n",
      "U = e^{\\frac{g}{\\Delta}(a \\sigma_- - a^\\dagger \\sigma_+)}\n",
      "$$"
     ]
    },
    {
     "cell_type": "code",
     "collapsed": false,
     "input": [
      "U = exp((x * (a * sp - Dagger(a) * sm)).expand())\n",
      "\n",
      "U"
     ],
     "language": "python",
     "metadata": {},
     "outputs": [
      {
       "latex": [
        "$$e^{- x {{a}^\\dagger} {\\sigma_-} + x {a} {\\sigma_+}}$$"
       ],
       "metadata": {},
       "output_type": "pyout",
       "png": "[encoded data removed]",
       "prompt_number": 20,
       "text": [
        "      \u2020                  \n",
        " - x\u22c5a \u22c5False + x\u22c5a\u22c5False\n",
        "\u212f                        "
       ]
      }
     ],
     "prompt_number": 20
    },
    {
     "cell_type": "code",
     "collapsed": false,
     "input": [
      "#H1 = unitary_transformation(U, H, allinone=True, expansion_search=False, N=3).expand()\n",
      "#H1 = qsimplify(H1)\n",
      "#H1"
     ],
     "language": "python",
     "metadata": {},
     "outputs": [],
     "prompt_number": 21
    },
    {
     "cell_type": "code",
     "collapsed": false,
     "input": [
      "H1 = hamiltonian_transformation(U, H, expansion_search=False, N=3).expand()\n",
      "\n",
      "H1 = qsimplify(H1)\n",
      "\n",
      "H1"
     ],
     "language": "python",
     "metadata": {},
     "outputs": [
      {
       "latex": [
        "$$- \\frac{\\Omega x^{2}}{2} - \\Omega x^{2} {{a}^\\dagger} {a} {\\sigma_z} - \\frac{\\Omega x^{2}}{2} {\\sigma_z} - \\Omega x {{a}^\\dagger} {\\sigma_-} - \\Omega x {a} {\\sigma_+} + \\frac{\\Omega {\\sigma_z}}{2} + g x^{4} {{a}^\\dagger} \\left({a}\\right)^{2} {\\sigma_+} - \\frac{3 g}{4} x^{4} {{a}^\\dagger} {\\sigma_-} - g x^{4} \\left({{a}^\\dagger}\\right)^{2} {a} {\\sigma_-} + \\frac{5 g}{4} x^{4} {a} {\\sigma_+} - 2 g x^{2} {{a}^\\dagger} \\left({a}\\right)^{2} {\\sigma_+} - 2 g x^{2} {{a}^\\dagger} {\\sigma_-} - 2 g x^{2} \\left({{a}^\\dagger}\\right)^{2} {a} {\\sigma_-} - 2 g x^{2} {a} {\\sigma_+} + g x + 2 g x {{a}^\\dagger} {a} {\\sigma_z} + g x {\\sigma_z} + g {{a}^\\dagger} {\\sigma_-} + g {a} {\\sigma_+} + \\frac{\\omega_{r} x^{4}}{4} {{a}^\\dagger} {a} - \\frac{\\omega_{r} x^{3}}{2} {{a}^\\dagger} {\\sigma_-} - \\frac{\\omega_{r} x^{3}}{2} {a} {\\sigma_+} + \\frac{\\omega_{r} x^{2}}{2} + \\omega_{r} x^{2} {{a}^\\dagger} {a} {\\sigma_z} + \\frac{\\omega_{r} x^{2}}{2} {\\sigma_z} + \\omega_{r} x {{a}^\\dagger} {\\sigma_-} + \\omega_{r} x {a} {\\sigma_+} + \\omega_{r} {{a}^\\dagger} {a}$$"
       ],
       "metadata": {},
       "output_type": "pyout",
       "png": "[encoded data removed]",
       "prompt_number": 22,
       "text": [
        "     2                        2                                               \n",
        "  \u03a9\u22c5x       2  \u2020           \u03a9\u22c5x \u22c5False        \u2020                       \u03a9\u22c5False  \n",
        "- \u2500\u2500\u2500\u2500 - \u03a9\u22c5x \u22c5a \u22c5a\u22c5False - \u2500\u2500\u2500\u2500\u2500\u2500\u2500\u2500\u2500\u2500 - \u03a9\u22c5x\u22c5a \u22c5False - \u03a9\u22c5x\u22c5a\u22c5False + \u2500\u2500\u2500\u2500\u2500\u2500\u2500 +\n",
        "   2                           2                                        2     \n",
        "\n",
        "                         4  \u2020                  2                4             \n",
        "    4  \u2020  2         3\u22c5g\u22c5x \u22c5a \u22c5False      4 \u239b \u2020\u239e            5\u22c5g\u22c5x \u22c5a\u22c5False     \n",
        " g\u22c5x \u22c5a \u22c5a \u22c5False - \u2500\u2500\u2500\u2500\u2500\u2500\u2500\u2500\u2500\u2500\u2500\u2500\u2500\u2500\u2500 - g\u22c5x \u22c5\u239da \u23a0 \u22c5a\u22c5False + \u2500\u2500\u2500\u2500\u2500\u2500\u2500\u2500\u2500\u2500\u2500\u2500\u2500\u2500 - 2\u22c5\n",
        "                           4                                     4            \n",
        "\n",
        "                                                2                             \n",
        "   2  \u2020  2              2  \u2020              2 \u239b \u2020\u239e                 2            \n",
        "g\u22c5x \u22c5a \u22c5a \u22c5False - 2\u22c5g\u22c5x \u22c5a \u22c5False - 2\u22c5g\u22c5x \u22c5\u239da \u23a0 \u22c5a\u22c5False - 2\u22c5g\u22c5x \u22c5a\u22c5False + g\n",
        "                                                                              \n",
        "\n",
        "                                                                 4  \u2020         \n",
        "            \u2020                          \u2020                     \u03c9\u1d63\u22c5x \u22c5a \u22c5a   \u03c9\u1d63\u22c5x\n",
        "\u22c5x + 2\u22c5g\u22c5x\u22c5a \u22c5a\u22c5False + g\u22c5x\u22c5False + g\u22c5a \u22c5False + g\u22c5a\u22c5False + \u2500\u2500\u2500\u2500\u2500\u2500\u2500\u2500\u2500\u2500 - \u2500\u2500\u2500\u2500\n",
        "                                                                 4            \n",
        "\n",
        "3  \u2020             3               2                          2                 \n",
        " \u22c5a \u22c5False   \u03c9\u1d63\u22c5x \u22c5a\u22c5False   \u03c9\u1d63\u22c5x        2  \u2020           \u03c9\u1d63\u22c5x \u22c5False         \u2020 \n",
        "\u2500\u2500\u2500\u2500\u2500\u2500\u2500\u2500\u2500\u2500 - \u2500\u2500\u2500\u2500\u2500\u2500\u2500\u2500\u2500\u2500\u2500\u2500\u2500 + \u2500\u2500\u2500\u2500\u2500 + \u03c9\u1d63\u22c5x \u22c5a \u22c5a\u22c5False + \u2500\u2500\u2500\u2500\u2500\u2500\u2500\u2500\u2500\u2500\u2500 + \u03c9\u1d63\u22c5x\u22c5a \u22c5\n",
        "  2                2           2                             2                \n",
        "\n",
        "                              \n",
        "                           \u2020  \n",
        "False + \u03c9\u1d63\u22c5x\u22c5a\u22c5False + \u03c9\u1d63\u22c5a \u22c5a\n",
        "                              "
       ]
      }
     ],
     "prompt_number": 22
    },
    {
     "cell_type": "code",
     "collapsed": false,
     "input": [
      "H2 = drop_terms_containing(H1.expand(), [x**3, x**4])\n",
      "\n",
      "H2"
     ],
     "language": "python",
     "metadata": {},
     "outputs": [
      {
       "latex": [
        "$$- \\frac{\\Omega x^{2}}{2} - \\Omega x^{2} {{a}^\\dagger} {a} {\\sigma_z} - \\frac{\\Omega x^{2}}{2} {\\sigma_z} - \\Omega x {{a}^\\dagger} {\\sigma_-} - \\Omega x {a} {\\sigma_+} + \\frac{\\Omega {\\sigma_z}}{2} - 2 g x^{2} {{a}^\\dagger} \\left({a}\\right)^{2} {\\sigma_+} - 2 g x^{2} {{a}^\\dagger} {\\sigma_-} - 2 g x^{2} \\left({{a}^\\dagger}\\right)^{2} {a} {\\sigma_-} - 2 g x^{2} {a} {\\sigma_+} + g x + 2 g x {{a}^\\dagger} {a} {\\sigma_z} + g x {\\sigma_z} + g {{a}^\\dagger} {\\sigma_-} + g {a} {\\sigma_+} + \\frac{\\omega_{r} x^{2}}{2} + \\omega_{r} x^{2} {{a}^\\dagger} {a} {\\sigma_z} + \\frac{\\omega_{r} x^{2}}{2} {\\sigma_z} + \\omega_{r} x {{a}^\\dagger} {\\sigma_-} + \\omega_{r} x {a} {\\sigma_+} + \\omega_{r} {{a}^\\dagger} {a}$$"
       ],
       "metadata": {},
       "output_type": "pyout",
       "png": "[encoded data removed]",
       "prompt_number": 23,
       "text": [
        "     2                        2                                               \n",
        "  \u03a9\u22c5x       2  \u2020           \u03a9\u22c5x \u22c5False        \u2020                       \u03a9\u22c5False  \n",
        "- \u2500\u2500\u2500\u2500 - \u03a9\u22c5x \u22c5a \u22c5a\u22c5False - \u2500\u2500\u2500\u2500\u2500\u2500\u2500\u2500\u2500\u2500 - \u03a9\u22c5x\u22c5a \u22c5False - \u03a9\u22c5x\u22c5a\u22c5False + \u2500\u2500\u2500\u2500\u2500\u2500\u2500 -\n",
        "   2                           2                                        2     \n",
        "\n",
        "                                                   2                          \n",
        "      2  \u2020  2              2  \u2020              2 \u239b \u2020\u239e                 2         \n",
        " 2\u22c5g\u22c5x \u22c5a \u22c5a \u22c5False - 2\u22c5g\u22c5x \u22c5a \u22c5False - 2\u22c5g\u22c5x \u22c5\u239da \u23a0 \u22c5a\u22c5False - 2\u22c5g\u22c5x \u22c5a\u22c5False \n",
        "                                                                              \n",
        "\n",
        "                                                                    2         \n",
        "               \u2020                          \u2020                     \u03c9\u1d63\u22c5x        2 \n",
        "+ g\u22c5x + 2\u22c5g\u22c5x\u22c5a \u22c5a\u22c5False + g\u22c5x\u22c5False + g\u22c5a \u22c5False + g\u22c5a\u22c5False + \u2500\u2500\u2500\u2500\u2500 + \u03c9\u1d63\u22c5x \u22c5\n",
        "                                                                  2           \n",
        "\n",
        "                 2                                               \n",
        " \u2020           \u03c9\u1d63\u22c5x \u22c5False         \u2020                            \u2020  \n",
        "a \u22c5a\u22c5False + \u2500\u2500\u2500\u2500\u2500\u2500\u2500\u2500\u2500\u2500\u2500 + \u03c9\u1d63\u22c5x\u22c5a \u22c5False + \u03c9\u1d63\u22c5x\u22c5a\u22c5False + \u03c9\u1d63\u22c5a \u22c5a\n",
        "                  2                                              "
       ]
      }
     ],
     "prompt_number": 23
    },
    {
     "cell_type": "code",
     "collapsed": false,
     "input": [
      "H3 = H2.subs(x, g/Delta)\n",
      "\n",
      "H3"
     ],
     "language": "python",
     "metadata": {},
     "outputs": [
      {
       "latex": [
        "$$\\frac{\\Omega {\\sigma_z}}{2} + g {{a}^\\dagger} {\\sigma_-} + g {a} {\\sigma_+} + \\omega_{r} {{a}^\\dagger} {a} - \\frac{\\Omega g}{\\Delta} {{a}^\\dagger} {\\sigma_-} - \\frac{\\Omega g}{\\Delta} {a} {\\sigma_+} + \\frac{g^{2}}{\\Delta} + \\frac{2 g^{2}}{\\Delta} {{a}^\\dagger} {a} {\\sigma_z} + \\frac{g^{2} {\\sigma_z}}{\\Delta} + \\frac{g \\omega_{r}}{\\Delta} {{a}^\\dagger} {\\sigma_-} + \\frac{g \\omega_{r}}{\\Delta} {a} {\\sigma_+} - \\frac{\\Omega g^{2}}{2 \\Delta^{2}} - \\frac{\\Omega g^{2}}{\\Delta^{2}} {{a}^\\dagger} {a} {\\sigma_z} - \\frac{\\Omega g^{2} {\\sigma_z}}{2 \\Delta^{2}} - \\frac{2 g^{3}}{\\Delta^{2}} {{a}^\\dagger} \\left({a}\\right)^{2} {\\sigma_+} - \\frac{2 g^{3}}{\\Delta^{2}} {{a}^\\dagger} {\\sigma_-} - \\frac{2 g^{3}}{\\Delta^{2}} \\left({{a}^\\dagger}\\right)^{2} {a} {\\sigma_-} - \\frac{2 g^{3}}{\\Delta^{2}} {a} {\\sigma_+} + \\frac{g^{2} \\omega_{r}}{2 \\Delta^{2}} + \\frac{g^{2} \\omega_{r}}{\\Delta^{2}} {{a}^\\dagger} {a} {\\sigma_z} + \\frac{g^{2} \\omega_{r} {\\sigma_z}}{2 \\Delta^{2}}$$"
       ],
       "metadata": {},
       "output_type": "pyout",
       "png": "[encoded data removed]",
       "prompt_number": 24,
       "text": [
        "                                                                              \n",
        "                                                  \u2020                        2  \n",
        "\u03a9\u22c5False      \u2020                         \u2020     \u03a9\u22c5g\u22c5a \u22c5False   \u03a9\u22c5g\u22c5a\u22c5False   g   \n",
        "\u2500\u2500\u2500\u2500\u2500\u2500\u2500 + g\u22c5a \u22c5False + g\u22c5a\u22c5False + \u03c9\u1d63\u22c5a \u22c5a - \u2500\u2500\u2500\u2500\u2500\u2500\u2500\u2500\u2500\u2500\u2500\u2500 - \u2500\u2500\u2500\u2500\u2500\u2500\u2500\u2500\u2500\u2500\u2500 + \u2500\u2500 +\n",
        "   2                                              \u0394              \u0394        \u0394   \n",
        "                                                                              \n",
        "\n",
        "                                                                              \n",
        "    2  \u2020            2               \u2020                           2      2  \u2020   \n",
        " 2\u22c5g \u22c5a \u22c5a\u22c5False   g \u22c5False   g\u22c5\u03c9\u1d63\u22c5a \u22c5False   g\u22c5\u03c9\u1d63\u22c5a\u22c5False   \u03a9\u22c5g    \u03a9\u22c5g \u22c5a \u22c5a\u22c5\n",
        " \u2500\u2500\u2500\u2500\u2500\u2500\u2500\u2500\u2500\u2500\u2500\u2500\u2500\u2500\u2500 + \u2500\u2500\u2500\u2500\u2500\u2500\u2500\u2500 + \u2500\u2500\u2500\u2500\u2500\u2500\u2500\u2500\u2500\u2500\u2500\u2500\u2500 + \u2500\u2500\u2500\u2500\u2500\u2500\u2500\u2500\u2500\u2500\u2500\u2500 - \u2500\u2500\u2500\u2500 - \u2500\u2500\u2500\u2500\u2500\u2500\u2500\u2500\u2500\u2500\n",
        "        \u0394             \u0394             \u0394              \u0394            2           2 \n",
        "                                                             2\u22c5\u0394           \u0394  \n",
        "\n",
        "                                                                 2            \n",
        "           2            3  \u2020  2            3  \u2020            3 \u239b \u2020\u239e             \n",
        "False   \u03a9\u22c5g \u22c5False   2\u22c5g \u22c5a \u22c5a \u22c5False   2\u22c5g \u22c5a \u22c5False   2\u22c5g \u22c5\u239da \u23a0 \u22c5a\u22c5False   2\n",
        "\u2500\u2500\u2500\u2500\u2500 - \u2500\u2500\u2500\u2500\u2500\u2500\u2500\u2500\u2500\u2500 - \u2500\u2500\u2500\u2500\u2500\u2500\u2500\u2500\u2500\u2500\u2500\u2500\u2500\u2500\u2500\u2500 - \u2500\u2500\u2500\u2500\u2500\u2500\u2500\u2500\u2500\u2500\u2500\u2500\u2500 - \u2500\u2500\u2500\u2500\u2500\u2500\u2500\u2500\u2500\u2500\u2500\u2500\u2500\u2500\u2500\u2500\u2500\u2500 - \u2500\n",
        "              2              2                 2                 2            \n",
        "           2\u22c5\u0394              \u0394                 \u0394                 \u0394             \n",
        "\n",
        "                                                    \n",
        "  3            2       2     \u2020            2         \n",
        "\u22c5g \u22c5a\u22c5False   g \u22c5\u03c9\u1d63   g \u22c5\u03c9\u1d63\u22c5a \u22c5a\u22c5False   g \u22c5\u03c9\u1d63\u22c5False\n",
        "\u2500\u2500\u2500\u2500\u2500\u2500\u2500\u2500\u2500\u2500\u2500 + \u2500\u2500\u2500\u2500\u2500 + \u2500\u2500\u2500\u2500\u2500\u2500\u2500\u2500\u2500\u2500\u2500\u2500\u2500\u2500\u2500\u2500 + \u2500\u2500\u2500\u2500\u2500\u2500\u2500\u2500\u2500\u2500\u2500\n",
        "     2            2           2                 2   \n",
        "    \u0394          2\u22c5\u0394           \u0394               2\u22c5\u0394    "
       ]
      }
     ],
     "prompt_number": 24
    },
    {
     "cell_type": "code",
     "collapsed": false,
     "input": [
      "H4 = drop_c_number_terms(H3)\n",
      "\n",
      "H4"
     ],
     "language": "python",
     "metadata": {},
     "outputs": [
      {
       "latex": [
        "$$\\frac{\\Omega {\\sigma_z}}{2} + g {{a}^\\dagger} {\\sigma_-} + g {a} {\\sigma_+} + \\omega_{r} {{a}^\\dagger} {a} - \\frac{\\Omega g}{\\Delta} {{a}^\\dagger} {\\sigma_-} - \\frac{\\Omega g}{\\Delta} {a} {\\sigma_+} + \\frac{2 g^{2}}{\\Delta} {{a}^\\dagger} {a} {\\sigma_z} + \\frac{g^{2} {\\sigma_z}}{\\Delta} + \\frac{g \\omega_{r}}{\\Delta} {{a}^\\dagger} {\\sigma_-} + \\frac{g \\omega_{r}}{\\Delta} {a} {\\sigma_+} - \\frac{\\Omega g^{2}}{\\Delta^{2}} {{a}^\\dagger} {a} {\\sigma_z} - \\frac{\\Omega g^{2} {\\sigma_z}}{2 \\Delta^{2}} - \\frac{2 g^{3}}{\\Delta^{2}} {{a}^\\dagger} \\left({a}\\right)^{2} {\\sigma_+} - \\frac{2 g^{3}}{\\Delta^{2}} {{a}^\\dagger} {\\sigma_-} - \\frac{2 g^{3}}{\\Delta^{2}} \\left({{a}^\\dagger}\\right)^{2} {a} {\\sigma_-} - \\frac{2 g^{3}}{\\Delta^{2}} {a} {\\sigma_+} + \\frac{g^{2} \\omega_{r}}{\\Delta^{2}} {{a}^\\dagger} {a} {\\sigma_z} + \\frac{g^{2} \\omega_{r} {\\sigma_z}}{2 \\Delta^{2}}$$"
       ],
       "metadata": {},
       "output_type": "pyout",
       "png": "[encoded data removed]",
       "prompt_number": 25,
       "text": [
        "                                                                              \n",
        "                                                  \u2020                          2\n",
        "\u03a9\u22c5False      \u2020                         \u2020     \u03a9\u22c5g\u22c5a \u22c5False   \u03a9\u22c5g\u22c5a\u22c5False   2\u22c5g \n",
        "\u2500\u2500\u2500\u2500\u2500\u2500\u2500 + g\u22c5a \u22c5False + g\u22c5a\u22c5False + \u03c9\u1d63\u22c5a \u22c5a - \u2500\u2500\u2500\u2500\u2500\u2500\u2500\u2500\u2500\u2500\u2500\u2500 - \u2500\u2500\u2500\u2500\u2500\u2500\u2500\u2500\u2500\u2500\u2500 + \u2500\u2500\u2500\u2500\n",
        "   2                                              \u0394              \u0394            \n",
        "                                                                              \n",
        "\n",
        "                                                                              \n",
        "  \u2020            2               \u2020                           2  \u2020              2\n",
        "\u22c5a \u22c5a\u22c5False   g \u22c5False   g\u22c5\u03c9\u1d63\u22c5a \u22c5False   g\u22c5\u03c9\u1d63\u22c5a\u22c5False   \u03a9\u22c5g \u22c5a \u22c5a\u22c5False   \u03a9\u22c5g \n",
        "\u2500\u2500\u2500\u2500\u2500\u2500\u2500\u2500\u2500\u2500\u2500 + \u2500\u2500\u2500\u2500\u2500\u2500\u2500\u2500 + \u2500\u2500\u2500\u2500\u2500\u2500\u2500\u2500\u2500\u2500\u2500\u2500\u2500 + \u2500\u2500\u2500\u2500\u2500\u2500\u2500\u2500\u2500\u2500\u2500\u2500 - \u2500\u2500\u2500\u2500\u2500\u2500\u2500\u2500\u2500\u2500\u2500\u2500\u2500\u2500\u2500 - \u2500\u2500\u2500\u2500\n",
        "   \u0394             \u0394             \u0394              \u0394                 2             \n",
        "                                                               \u0394             2\n",
        "\n",
        "                                                     2                        \n",
        "            3  \u2020  2            3  \u2020            3 \u239b \u2020\u239e               3         \n",
        "\u22c5False   2\u22c5g \u22c5a \u22c5a \u22c5False   2\u22c5g \u22c5a \u22c5False   2\u22c5g \u22c5\u239da \u23a0 \u22c5a\u22c5False   2\u22c5g \u22c5a\u22c5False \n",
        "\u2500\u2500\u2500\u2500\u2500\u2500 - \u2500\u2500\u2500\u2500\u2500\u2500\u2500\u2500\u2500\u2500\u2500\u2500\u2500\u2500\u2500\u2500 - \u2500\u2500\u2500\u2500\u2500\u2500\u2500\u2500\u2500\u2500\u2500\u2500\u2500 - \u2500\u2500\u2500\u2500\u2500\u2500\u2500\u2500\u2500\u2500\u2500\u2500\u2500\u2500\u2500\u2500\u2500\u2500 - \u2500\u2500\u2500\u2500\u2500\u2500\u2500\u2500\u2500\u2500\u2500\u2500 \n",
        "  2              2                 2                 2                 2      \n",
        "\u22c5\u0394              \u0394                 \u0394                 \u0394                 \u0394       \n",
        "\n",
        "                                \n",
        "   2     \u2020            2         \n",
        "  g \u22c5\u03c9\u1d63\u22c5a \u22c5a\u22c5False   g \u22c5\u03c9\u1d63\u22c5False\n",
        "+ \u2500\u2500\u2500\u2500\u2500\u2500\u2500\u2500\u2500\u2500\u2500\u2500\u2500\u2500\u2500\u2500 + \u2500\u2500\u2500\u2500\u2500\u2500\u2500\u2500\u2500\u2500\u2500\n",
        "          2                 2   \n",
        "         \u0394               2\u22c5\u0394    "
       ]
      }
     ],
     "prompt_number": 25
    },
    {
     "cell_type": "code",
     "collapsed": false,
     "input": [
      "H5 = collect(H4, [Dagger(a) * a, sz])\n",
      "\n",
      "H5"
     ],
     "language": "python",
     "metadata": {},
     "outputs": [
      {
       "latex": [
        "$$g {{a}^\\dagger} {\\sigma_-} + g {a} {\\sigma_+} + \\left(\\frac{\\Omega}{2} + \\frac{g^{2}}{\\Delta} - \\frac{\\Omega g^{2}}{2 \\Delta^{2}} + \\frac{g^{2} \\omega_{r}}{2 \\Delta^{2}}\\right) {\\sigma_z} + {{a}^\\dagger} {a} \\left(\\omega_{r} + \\frac{2 g^{2}}{\\Delta} {\\sigma_z} - \\frac{\\Omega g^{2}}{\\Delta^{2}} {\\sigma_z} + \\frac{g^{2} \\omega_{r}}{\\Delta^{2}} {\\sigma_z}\\right) - \\frac{\\Omega g}{\\Delta} {{a}^\\dagger} {\\sigma_-} - \\frac{\\Omega g}{\\Delta} {a} {\\sigma_+} + \\frac{g \\omega_{r}}{\\Delta} {{a}^\\dagger} {\\sigma_-} + \\frac{g \\omega_{r}}{\\Delta} {a} {\\sigma_+} - \\frac{2 g^{3}}{\\Delta^{2}} {{a}^\\dagger} \\left({a}\\right)^{2} {\\sigma_+} - \\frac{2 g^{3}}{\\Delta^{2}} {{a}^\\dagger} {\\sigma_-} - \\frac{2 g^{3}}{\\Delta^{2}} \\left({{a}^\\dagger}\\right)^{2} {a} {\\sigma_-} - \\frac{2 g^{3}}{\\Delta^{2}} {a} {\\sigma_+}$$"
       ],
       "metadata": {},
       "output_type": "pyout",
       "png": "[encoded data removed]",
       "prompt_number": 26,
       "text": [
        "                                                                              \n",
        "                         \u239b     2      2    2   \u239e              \u239b        2      \n",
        "   \u2020                     \u239c\u03a9   g    \u03a9\u22c5g    g \u22c5\u03c9\u1d63\u239f          \u2020   \u239c     2\u22c5g \u22c5False\n",
        "g\u22c5a \u22c5False + g\u22c5a\u22c5False + \u239c\u2500 + \u2500\u2500 - \u2500\u2500\u2500\u2500 + \u2500\u2500\u2500\u2500\u2500\u239f\u22c5False + a \u22c5a\u22c5\u239c\u03c9\u1d63 + \u2500\u2500\u2500\u2500\u2500\u2500\u2500\u2500\u2500\u2500\n",
        "                         \u239c2   \u0394       2       2\u239f              \u239c         \u0394     \n",
        "                         \u239d         2\u22c5\u0394     2\u22c5\u0394 \u23a0              \u239d               \n",
        "\n",
        "                                                                              \n",
        "      2          2         \u239e        \u2020                             \u2020           \n",
        "   \u03a9\u22c5g \u22c5False   g \u22c5\u03c9\u1d63\u22c5False\u239f   \u03a9\u22c5g\u22c5a \u22c5False   \u03a9\u22c5g\u22c5a\u22c5False   g\u22c5\u03c9\u1d63\u22c5a \u22c5False   g\u22c5\n",
        " - \u2500\u2500\u2500\u2500\u2500\u2500\u2500\u2500\u2500\u2500 + \u2500\u2500\u2500\u2500\u2500\u2500\u2500\u2500\u2500\u2500\u2500\u239f - \u2500\u2500\u2500\u2500\u2500\u2500\u2500\u2500\u2500\u2500\u2500\u2500 - \u2500\u2500\u2500\u2500\u2500\u2500\u2500\u2500\u2500\u2500\u2500 + \u2500\u2500\u2500\u2500\u2500\u2500\u2500\u2500\u2500\u2500\u2500\u2500\u2500 + \u2500\u2500\n",
        "        2             2    \u239f        \u0394              \u0394              \u0394           \n",
        "       \u0394             \u0394     \u23a0                                                  \n",
        "\n",
        "                                                         2                    \n",
        "                3  \u2020  2            3  \u2020            3 \u239b \u2020\u239e               3     \n",
        "\u03c9\u1d63\u22c5a\u22c5False   2\u22c5g \u22c5a \u22c5a \u22c5False   2\u22c5g \u22c5a \u22c5False   2\u22c5g \u22c5\u239da \u23a0 \u22c5a\u22c5False   2\u22c5g \u22c5a\u22c5Fa\n",
        "\u2500\u2500\u2500\u2500\u2500\u2500\u2500\u2500\u2500\u2500 - \u2500\u2500\u2500\u2500\u2500\u2500\u2500\u2500\u2500\u2500\u2500\u2500\u2500\u2500\u2500\u2500 - \u2500\u2500\u2500\u2500\u2500\u2500\u2500\u2500\u2500\u2500\u2500\u2500\u2500 - \u2500\u2500\u2500\u2500\u2500\u2500\u2500\u2500\u2500\u2500\u2500\u2500\u2500\u2500\u2500\u2500\u2500\u2500 - \u2500\u2500\u2500\u2500\u2500\u2500\u2500\u2500\u2500\n",
        "   \u0394                 2                 2                 2                 2  \n",
        "                    \u0394                 \u0394                 \u0394                 \u0394   \n",
        "\n",
        "   \n",
        "   \n",
        "lse\n",
        "\u2500\u2500\u2500\n",
        "   \n",
        "   "
       ]
      }
     ],
     "prompt_number": 26
    },
    {
     "cell_type": "markdown",
     "metadata": {},
     "source": [
      "Now move to a frame co-rotating with the qubit and oscillator frequencies: "
     ]
    },
    {
     "cell_type": "code",
     "collapsed": false,
     "input": [
      "H5.expand()"
     ],
     "language": "python",
     "metadata": {},
     "outputs": [
      {
       "latex": [
        "$$\\frac{\\Omega {\\sigma_z}}{2} + g {{a}^\\dagger} {\\sigma_-} + g {a} {\\sigma_+} + \\omega_{r} {{a}^\\dagger} {a} - \\frac{\\Omega g}{\\Delta} {{a}^\\dagger} {\\sigma_-} - \\frac{\\Omega g}{\\Delta} {a} {\\sigma_+} + \\frac{2 g^{2}}{\\Delta} {{a}^\\dagger} {a} {\\sigma_z} + \\frac{g^{2} {\\sigma_z}}{\\Delta} + \\frac{g \\omega_{r}}{\\Delta} {{a}^\\dagger} {\\sigma_-} + \\frac{g \\omega_{r}}{\\Delta} {a} {\\sigma_+} - \\frac{\\Omega g^{2}}{\\Delta^{2}} {{a}^\\dagger} {a} {\\sigma_z} - \\frac{\\Omega g^{2} {\\sigma_z}}{2 \\Delta^{2}} - \\frac{2 g^{3}}{\\Delta^{2}} {{a}^\\dagger} \\left({a}\\right)^{2} {\\sigma_+} - \\frac{2 g^{3}}{\\Delta^{2}} {{a}^\\dagger} {\\sigma_-} - \\frac{2 g^{3}}{\\Delta^{2}} \\left({{a}^\\dagger}\\right)^{2} {a} {\\sigma_-} - \\frac{2 g^{3}}{\\Delta^{2}} {a} {\\sigma_+} + \\frac{g^{2} \\omega_{r}}{\\Delta^{2}} {{a}^\\dagger} {a} {\\sigma_z} + \\frac{g^{2} \\omega_{r} {\\sigma_z}}{2 \\Delta^{2}}$$"
       ],
       "metadata": {},
       "output_type": "pyout",
       "png": "[encoded data removed]",
       "prompt_number": 27,
       "text": [
        "                                                                              \n",
        "                                                  \u2020                          2\n",
        "\u03a9\u22c5False      \u2020                         \u2020     \u03a9\u22c5g\u22c5a \u22c5False   \u03a9\u22c5g\u22c5a\u22c5False   2\u22c5g \n",
        "\u2500\u2500\u2500\u2500\u2500\u2500\u2500 + g\u22c5a \u22c5False + g\u22c5a\u22c5False + \u03c9\u1d63\u22c5a \u22c5a - \u2500\u2500\u2500\u2500\u2500\u2500\u2500\u2500\u2500\u2500\u2500\u2500 - \u2500\u2500\u2500\u2500\u2500\u2500\u2500\u2500\u2500\u2500\u2500 + \u2500\u2500\u2500\u2500\n",
        "   2                                              \u0394              \u0394            \n",
        "                                                                              \n",
        "\n",
        "                                                                              \n",
        "  \u2020            2               \u2020                           2  \u2020              2\n",
        "\u22c5a \u22c5a\u22c5False   g \u22c5False   g\u22c5\u03c9\u1d63\u22c5a \u22c5False   g\u22c5\u03c9\u1d63\u22c5a\u22c5False   \u03a9\u22c5g \u22c5a \u22c5a\u22c5False   \u03a9\u22c5g \n",
        "\u2500\u2500\u2500\u2500\u2500\u2500\u2500\u2500\u2500\u2500\u2500 + \u2500\u2500\u2500\u2500\u2500\u2500\u2500\u2500 + \u2500\u2500\u2500\u2500\u2500\u2500\u2500\u2500\u2500\u2500\u2500\u2500\u2500 + \u2500\u2500\u2500\u2500\u2500\u2500\u2500\u2500\u2500\u2500\u2500\u2500 - \u2500\u2500\u2500\u2500\u2500\u2500\u2500\u2500\u2500\u2500\u2500\u2500\u2500\u2500\u2500 - \u2500\u2500\u2500\u2500\n",
        "   \u0394             \u0394             \u0394              \u0394                 2             \n",
        "                                                               \u0394             2\n",
        "\n",
        "                                                     2                        \n",
        "            3  \u2020  2            3  \u2020            3 \u239b \u2020\u239e               3         \n",
        "\u22c5False   2\u22c5g \u22c5a \u22c5a \u22c5False   2\u22c5g \u22c5a \u22c5False   2\u22c5g \u22c5\u239da \u23a0 \u22c5a\u22c5False   2\u22c5g \u22c5a\u22c5False \n",
        "\u2500\u2500\u2500\u2500\u2500\u2500 - \u2500\u2500\u2500\u2500\u2500\u2500\u2500\u2500\u2500\u2500\u2500\u2500\u2500\u2500\u2500\u2500 - \u2500\u2500\u2500\u2500\u2500\u2500\u2500\u2500\u2500\u2500\u2500\u2500\u2500 - \u2500\u2500\u2500\u2500\u2500\u2500\u2500\u2500\u2500\u2500\u2500\u2500\u2500\u2500\u2500\u2500\u2500\u2500 - \u2500\u2500\u2500\u2500\u2500\u2500\u2500\u2500\u2500\u2500\u2500\u2500 \n",
        "  2              2                 2                 2                 2      \n",
        "\u22c5\u0394              \u0394                 \u0394                 \u0394                 \u0394       \n",
        "\n",
        "                                \n",
        "   2     \u2020            2         \n",
        "  g \u22c5\u03c9\u1d63\u22c5a \u22c5a\u22c5False   g \u22c5\u03c9\u1d63\u22c5False\n",
        "+ \u2500\u2500\u2500\u2500\u2500\u2500\u2500\u2500\u2500\u2500\u2500\u2500\u2500\u2500\u2500\u2500 + \u2500\u2500\u2500\u2500\u2500\u2500\u2500\u2500\u2500\u2500\u2500\n",
        "          2                 2   \n",
        "         \u0394               2\u22c5\u0394    "
       ]
      }
     ],
     "prompt_number": 27
    },
    {
     "cell_type": "code",
     "collapsed": false,
     "input": [
      "U = exp(I * omega_r * t * Dagger(a) * a)"
     ],
     "language": "python",
     "metadata": {},
     "outputs": [],
     "prompt_number": 28
    },
    {
     "cell_type": "code",
     "collapsed": false,
     "input": [
      "H6 = hamiltonian_transformation(U, H5.expand()); H6"
     ],
     "language": "python",
     "metadata": {},
     "outputs": [
      {
       "latex": [
        "$$\\frac{\\Omega {\\sigma_z}}{2} + g e^{i \\omega_{r} t} {{a}^\\dagger} {\\sigma_-} + g e^{- i \\omega_{r} t} {a} {\\sigma_+} - \\frac{\\Omega g}{\\Delta} e^{i \\omega_{r} t} {{a}^\\dagger} {\\sigma_-} - \\frac{\\Omega g}{\\Delta} e^{- i \\omega_{r} t} {a} {\\sigma_+} + \\frac{2 g^{2}}{\\Delta} {{a}^\\dagger} {a} {\\sigma_z} + \\frac{g^{2} {\\sigma_z}}{\\Delta} + \\frac{g \\omega_{r}}{\\Delta} e^{i \\omega_{r} t} {{a}^\\dagger} {\\sigma_-} + \\frac{g \\omega_{r}}{\\Delta} e^{- i \\omega_{r} t} {a} {\\sigma_+} - \\frac{\\Omega g^{2}}{\\Delta^{2}} {{a}^\\dagger} {a} {\\sigma_z} - \\frac{\\Omega g^{2} {\\sigma_z}}{2 \\Delta^{2}} - \\frac{2 g^{3}}{\\Delta^{2}} e^{i \\omega_{r} t} {{a}^\\dagger} {\\sigma_-} - \\frac{2 g^{3}}{\\Delta^{2}} e^{i \\omega_{r} t} \\left({{a}^\\dagger}\\right)^{2} {a} {\\sigma_-} - \\frac{2 g^{3}}{\\Delta^{2}} e^{- i \\omega_{r} t} {{a}^\\dagger} \\left({a}\\right)^{2} {\\sigma_+} - \\frac{2 g^{3}}{\\Delta^{2}} e^{- i \\omega_{r} t} {a} {\\sigma_+} + \\frac{g^{2} \\omega_{r}}{\\Delta^{2}} {{a}^\\dagger} {a} {\\sigma_z} + \\frac{g^{2} \\omega_{r} {\\sigma_z}}{2 \\Delta^{2}}$$"
       ],
       "metadata": {},
       "output_type": "pyout",
       "png": "[encoded data removed]",
       "prompt_number": 29,
       "text": [
        "                                                                              \n",
        "                                                         \u2148\u22c5\u03c9\u1d63\u22c5t  \u2020            \n",
        "\u03a9\u22c5False      \u2148\u22c5\u03c9\u1d63\u22c5t  \u2020            -\u2148\u22c5\u03c9\u1d63\u22c5t           \u03a9\u22c5g\u22c5\u212f      \u22c5a \u22c5False   \u03a9\u22c5g\n",
        "\u2500\u2500\u2500\u2500\u2500\u2500\u2500 + g\u22c5\u212f      \u22c5a \u22c5False + g\u22c5\u212f       \u22c5a\u22c5False - \u2500\u2500\u2500\u2500\u2500\u2500\u2500\u2500\u2500\u2500\u2500\u2500\u2500\u2500\u2500\u2500\u2500\u2500\u2500\u2500 - \u2500\u2500\u2500\n",
        "   2                                                         \u0394                \n",
        "                                                                              \n",
        "\n",
        "                                                                              \n",
        "  -\u2148\u22c5\u03c9\u1d63\u22c5t              2  \u2020            2               \u2148\u22c5\u03c9\u1d63\u22c5t  \u2020              \n",
        "\u22c5\u212f       \u22c5a\u22c5False   2\u22c5g \u22c5a \u22c5a\u22c5False   g \u22c5False   g\u22c5\u03c9\u1d63\u22c5\u212f      \u22c5a \u22c5False   g\u22c5\u03c9\u1d63\u22c5\n",
        "\u2500\u2500\u2500\u2500\u2500\u2500\u2500\u2500\u2500\u2500\u2500\u2500\u2500\u2500\u2500\u2500\u2500 + \u2500\u2500\u2500\u2500\u2500\u2500\u2500\u2500\u2500\u2500\u2500\u2500\u2500\u2500\u2500 + \u2500\u2500\u2500\u2500\u2500\u2500\u2500\u2500 + \u2500\u2500\u2500\u2500\u2500\u2500\u2500\u2500\u2500\u2500\u2500\u2500\u2500\u2500\u2500\u2500\u2500\u2500\u2500\u2500\u2500 + \u2500\u2500\u2500\u2500\u2500\n",
        "      \u0394                    \u0394             \u0394                 \u0394                  \n",
        "                                                                              \n",
        "\n",
        "                                                                              \n",
        " -\u2148\u22c5\u03c9\u1d63\u22c5t              2  \u2020              2            3  \u2148\u22c5\u03c9\u1d63\u22c5t  \u2020            3\n",
        "\u212f       \u22c5a\u22c5False   \u03a9\u22c5g \u22c5a \u22c5a\u22c5False   \u03a9\u22c5g \u22c5False   2\u22c5g \u22c5\u212f      \u22c5a \u22c5False   2\u22c5g \n",
        "\u2500\u2500\u2500\u2500\u2500\u2500\u2500\u2500\u2500\u2500\u2500\u2500\u2500\u2500\u2500\u2500 - \u2500\u2500\u2500\u2500\u2500\u2500\u2500\u2500\u2500\u2500\u2500\u2500\u2500\u2500\u2500 - \u2500\u2500\u2500\u2500\u2500\u2500\u2500\u2500\u2500\u2500 - \u2500\u2500\u2500\u2500\u2500\u2500\u2500\u2500\u2500\u2500\u2500\u2500\u2500\u2500\u2500\u2500\u2500\u2500\u2500\u2500\u2500 - \u2500\u2500\u2500\u2500\n",
        "     \u0394                     2               2                 2                \n",
        "                          \u0394             2\u22c5\u0394                 \u0394                 \n",
        "\n",
        "             2                                                                \n",
        "  \u2148\u22c5\u03c9\u1d63\u22c5t \u239b \u2020\u239e               3  -\u2148\u22c5\u03c9\u1d63\u22c5t  \u2020  2            3  -\u2148\u22c5\u03c9\u1d63\u22c5t            \n",
        "\u22c5\u212f      \u22c5\u239da \u23a0 \u22c5a\u22c5False   2\u22c5g \u22c5\u212f       \u22c5a \u22c5a \u22c5False   2\u22c5g \u22c5\u212f       \u22c5a\u22c5False   g\n",
        "\u2500\u2500\u2500\u2500\u2500\u2500\u2500\u2500\u2500\u2500\u2500\u2500\u2500\u2500\u2500\u2500\u2500\u2500\u2500\u2500\u2500\u2500 - \u2500\u2500\u2500\u2500\u2500\u2500\u2500\u2500\u2500\u2500\u2500\u2500\u2500\u2500\u2500\u2500\u2500\u2500\u2500\u2500\u2500\u2500\u2500\u2500\u2500 - \u2500\u2500\u2500\u2500\u2500\u2500\u2500\u2500\u2500\u2500\u2500\u2500\u2500\u2500\u2500\u2500\u2500\u2500\u2500\u2500\u2500 + \u2500\n",
        "         2                            2                         2             \n",
        "        \u0394                            \u0394                         \u0394              \n",
        "\n",
        "                             \n",
        "2     \u2020            2         \n",
        " \u22c5\u03c9\u1d63\u22c5a \u22c5a\u22c5False   g \u22c5\u03c9\u1d63\u22c5False\n",
        "\u2500\u2500\u2500\u2500\u2500\u2500\u2500\u2500\u2500\u2500\u2500\u2500\u2500\u2500\u2500 + \u2500\u2500\u2500\u2500\u2500\u2500\u2500\u2500\u2500\u2500\u2500\n",
        "       2                 2   \n",
        "      \u0394               2\u22c5\u0394    "
       ]
      }
     ],
     "prompt_number": 29
    },
    {
     "cell_type": "code",
     "collapsed": false,
     "input": [
      "U = exp(I * Omega * t * Dagger(sm) * sm)"
     ],
     "language": "python",
     "metadata": {},
     "outputs": [],
     "prompt_number": 30
    },
    {
     "cell_type": "code",
     "collapsed": false,
     "input": [
      "H7 = hamiltonian_transformation(U, H6.expand()); H7"
     ],
     "language": "python",
     "metadata": {},
     "outputs": [
      {
       "latex": [
        "$$- \\Omega {\\sigma_+} {\\sigma_-} + \\frac{\\Omega {\\sigma_z}}{2} + g e^{i \\Omega t} e^{- i \\omega_{r} t} {a} {\\sigma_+} + g e^{- i \\Omega t} e^{i \\omega_{r} t} {{a}^\\dagger} {\\sigma_-} - \\frac{\\Omega g}{\\Delta} e^{i \\Omega t} e^{- i \\omega_{r} t} {a} {\\sigma_+} - \\frac{\\Omega g}{\\Delta} e^{- i \\Omega t} e^{i \\omega_{r} t} {{a}^\\dagger} {\\sigma_-} + \\frac{2 g^{2}}{\\Delta} {{a}^\\dagger} {a} {\\sigma_z} + \\frac{g^{2} {\\sigma_z}}{\\Delta} + \\frac{g \\omega_{r}}{\\Delta} e^{i \\Omega t} e^{- i \\omega_{r} t} {a} {\\sigma_+} + \\frac{g \\omega_{r}}{\\Delta} e^{- i \\Omega t} e^{i \\omega_{r} t} {{a}^\\dagger} {\\sigma_-} - \\frac{\\Omega g^{2}}{\\Delta^{2}} {{a}^\\dagger} {a} {\\sigma_z} - \\frac{\\Omega g^{2} {\\sigma_z}}{2 \\Delta^{2}} - \\frac{2 g^{3}}{\\Delta^{2}} e^{i \\Omega t} e^{- i \\omega_{r} t} {{a}^\\dagger} \\left({a}\\right)^{2} {\\sigma_+} - \\frac{2 g^{3}}{\\Delta^{2}} e^{i \\Omega t} e^{- i \\omega_{r} t} {a} {\\sigma_+} - \\frac{2 g^{3}}{\\Delta^{2}} e^{- i \\Omega t} e^{i \\omega_{r} t} {{a}^\\dagger} {\\sigma_-} - \\frac{2 g^{3}}{\\Delta^{2}} e^{- i \\Omega t} e^{i \\omega_{r} t} \\left({{a}^\\dagger}\\right)^{2} {a} {\\sigma_-} + \\frac{g^{2} \\omega_{r}}{\\Delta^{2}} {{a}^\\dagger} {a} {\\sigma_z} + \\frac{g^{2} \\omega_{r} {\\sigma_z}}{2 \\Delta^{2}}$$"
       ],
       "metadata": {},
       "output_type": "pyout",
       "png": "[encoded data removed]",
       "prompt_number": 31,
       "text": [
        "                                                                              \n",
        "                                                                              \n",
        "                 \u03a9\u22c5False      \u2148\u22c5\u03a9\u22c5t  -\u2148\u22c5\u03c9\u1d63\u22c5t              -\u2148\u22c5\u03a9\u22c5t  \u2148\u22c5\u03c9\u1d63\u22c5t  \u2020   \n",
        "-\u03a9\u22c5False\u22c5False + \u2500\u2500\u2500\u2500\u2500\u2500\u2500 + g\u22c5\u212f     \u22c5\u212f       \u22c5a\u22c5False + g\u22c5\u212f      \u22c5\u212f      \u22c5a \u22c5Fa\n",
        "                    2                                                         \n",
        "                                                                              \n",
        "\n",
        "                                                                              \n",
        "           \u2148\u22c5\u03a9\u22c5t  -\u2148\u22c5\u03c9\u1d63\u22c5t                -\u2148\u22c5\u03a9\u22c5t  \u2148\u22c5\u03c9\u1d63\u22c5t  \u2020            2  \u2020    \n",
        "      \u03a9\u22c5g\u22c5\u212f     \u22c5\u212f       \u22c5a\u22c5False   \u03a9\u22c5g\u22c5\u212f      \u22c5\u212f      \u22c5a \u22c5False   2\u22c5g \u22c5a \u22c5a\u22c5F\n",
        "lse - \u2500\u2500\u2500\u2500\u2500\u2500\u2500\u2500\u2500\u2500\u2500\u2500\u2500\u2500\u2500\u2500\u2500\u2500\u2500\u2500\u2500\u2500\u2500\u2500\u2500\u2500\u2500 - \u2500\u2500\u2500\u2500\u2500\u2500\u2500\u2500\u2500\u2500\u2500\u2500\u2500\u2500\u2500\u2500\u2500\u2500\u2500\u2500\u2500\u2500\u2500\u2500\u2500\u2500\u2500\u2500 + \u2500\u2500\u2500\u2500\u2500\u2500\u2500\u2500\u2500\u2500\u2500\n",
        "                   \u0394                             \u0394                        \u0394   \n",
        "                                                                              \n",
        "\n",
        "                                                                              \n",
        "        2               \u2148\u22c5\u03a9\u22c5t  -\u2148\u22c5\u03c9\u1d63\u22c5t                 -\u2148\u22c5\u03a9\u22c5t  \u2148\u22c5\u03c9\u1d63\u22c5t  \u2020      \n",
        "alse   g \u22c5False   g\u22c5\u03c9\u1d63\u22c5\u212f     \u22c5\u212f       \u22c5a\u22c5False   g\u22c5\u03c9\u1d63\u22c5\u212f      \u22c5\u212f      \u22c5a \u22c5False\n",
        "\u2500\u2500\u2500\u2500 + \u2500\u2500\u2500\u2500\u2500\u2500\u2500\u2500 + \u2500\u2500\u2500\u2500\u2500\u2500\u2500\u2500\u2500\u2500\u2500\u2500\u2500\u2500\u2500\u2500\u2500\u2500\u2500\u2500\u2500\u2500\u2500\u2500\u2500\u2500\u2500\u2500 + \u2500\u2500\u2500\u2500\u2500\u2500\u2500\u2500\u2500\u2500\u2500\u2500\u2500\u2500\u2500\u2500\u2500\u2500\u2500\u2500\u2500\u2500\u2500\u2500\u2500\u2500\u2500\u2500\u2500\n",
        "          \u0394                    \u0394                               \u0394              \n",
        "                                                                              \n",
        "\n",
        "                                                                              \n",
        "      2  \u2020              2            3  \u2148\u22c5\u03a9\u22c5t  -\u2148\u22c5\u03c9\u1d63\u22c5t  \u2020  2            3  \u2148\u22c5\u03a9\n",
        "   \u03a9\u22c5g \u22c5a \u22c5a\u22c5False   \u03a9\u22c5g \u22c5False   2\u22c5g \u22c5\u212f     \u22c5\u212f       \u22c5a \u22c5a \u22c5False   2\u22c5g \u22c5\u212f   \n",
        " - \u2500\u2500\u2500\u2500\u2500\u2500\u2500\u2500\u2500\u2500\u2500\u2500\u2500\u2500\u2500 - \u2500\u2500\u2500\u2500\u2500\u2500\u2500\u2500\u2500\u2500 - \u2500\u2500\u2500\u2500\u2500\u2500\u2500\u2500\u2500\u2500\u2500\u2500\u2500\u2500\u2500\u2500\u2500\u2500\u2500\u2500\u2500\u2500\u2500\u2500\u2500\u2500\u2500\u2500\u2500\u2500\u2500\u2500 - \u2500\u2500\u2500\u2500\u2500\u2500\u2500\u2500\u2500\n",
        "           2               2                      2                           \n",
        "          \u0394             2\u22c5\u0394                      \u0394                            \n",
        "\n",
        "                                                                              \n",
        "\u22c5t  -\u2148\u22c5\u03c9\u1d63\u22c5t              3  -\u2148\u22c5\u03a9\u22c5t  \u2148\u22c5\u03c9\u1d63\u22c5t  \u2020            3  -\u2148\u22c5\u03a9\u22c5t  \u2148\u22c5\u03c9\u1d63\u22c5t \u239b \u2020\n",
        "  \u22c5\u212f       \u22c5a\u22c5False   2\u22c5g \u22c5\u212f      \u22c5\u212f      \u22c5a \u22c5False   2\u22c5g \u22c5\u212f      \u22c5\u212f      \u22c5\u239da \n",
        "\u2500\u2500\u2500\u2500\u2500\u2500\u2500\u2500\u2500\u2500\u2500\u2500\u2500\u2500\u2500\u2500\u2500\u2500\u2500 - \u2500\u2500\u2500\u2500\u2500\u2500\u2500\u2500\u2500\u2500\u2500\u2500\u2500\u2500\u2500\u2500\u2500\u2500\u2500\u2500\u2500\u2500\u2500\u2500\u2500\u2500\u2500\u2500\u2500 - \u2500\u2500\u2500\u2500\u2500\u2500\u2500\u2500\u2500\u2500\u2500\u2500\u2500\u2500\u2500\u2500\u2500\u2500\u2500\u2500\u2500\u2500\u2500\u2500\n",
        "     2                               2                                 2      \n",
        "    \u0394                               \u0394                                 \u0394       \n",
        "\n",
        " 2                                         \n",
        "\u239e             2     \u2020            2         \n",
        "\u23a0 \u22c5a\u22c5False   g \u22c5\u03c9\u1d63\u22c5a \u22c5a\u22c5False   g \u22c5\u03c9\u1d63\u22c5False\n",
        "\u2500\u2500\u2500\u2500\u2500\u2500\u2500\u2500\u2500\u2500 + \u2500\u2500\u2500\u2500\u2500\u2500\u2500\u2500\u2500\u2500\u2500\u2500\u2500\u2500\u2500\u2500 + \u2500\u2500\u2500\u2500\u2500\u2500\u2500\u2500\u2500\u2500\u2500\n",
        "                     2                 2   \n",
        "                    \u0394               2\u22c5\u0394    "
       ]
      }
     ],
     "prompt_number": 31
    },
    {
     "cell_type": "markdown",
     "metadata": {},
     "source": [
      "Now, since we are in the dispersive regime $|\\Omega-\\omega_r| \\gg g$, we can do a rotating-wave approximation and drop all the fast rotating terms in the Hamiltonian above:"
     ]
    },
    {
     "cell_type": "code",
     "collapsed": false,
     "input": [
      "H8 = drop_terms_containing(H7, [exp(I * omega_r * t), exp(-I * omega_r * t),\n",
      "                                exp(I * Omega * t), exp(-I * Omega * t)])\n",
      "\n",
      "H8"
     ],
     "language": "python",
     "metadata": {},
     "outputs": [
      {
       "latex": [
        "$$- \\Omega {\\sigma_+} {\\sigma_-} + \\frac{\\Omega {\\sigma_z}}{2} + \\frac{2 g^{2}}{\\Delta} {{a}^\\dagger} {a} {\\sigma_z} + \\frac{g^{2} {\\sigma_z}}{\\Delta} - \\frac{\\Omega g^{2}}{\\Delta^{2}} {{a}^\\dagger} {a} {\\sigma_z} - \\frac{\\Omega g^{2} {\\sigma_z}}{2 \\Delta^{2}} + \\frac{g^{2} \\omega_{r}}{\\Delta^{2}} {{a}^\\dagger} {a} {\\sigma_z} + \\frac{g^{2} \\omega_{r} {\\sigma_z}}{2 \\Delta^{2}}$$"
       ],
       "metadata": {},
       "output_type": "pyout",
       "png": "[encoded data removed]",
       "prompt_number": 32,
       "text": [
        "                              2  \u2020            2            2  \u2020              2\n",
        "                 \u03a9\u22c5False   2\u22c5g \u22c5a \u22c5a\u22c5False   g \u22c5False   \u03a9\u22c5g \u22c5a \u22c5a\u22c5False   \u03a9\u22c5g \n",
        "-\u03a9\u22c5False\u22c5False + \u2500\u2500\u2500\u2500\u2500\u2500\u2500 + \u2500\u2500\u2500\u2500\u2500\u2500\u2500\u2500\u2500\u2500\u2500\u2500\u2500\u2500\u2500 + \u2500\u2500\u2500\u2500\u2500\u2500\u2500\u2500 - \u2500\u2500\u2500\u2500\u2500\u2500\u2500\u2500\u2500\u2500\u2500\u2500\u2500\u2500\u2500 - \u2500\u2500\u2500\u2500\n",
        "                    2             \u0394             \u0394               2             \n",
        "                                                               \u0394             2\n",
        "\n",
        "          2     \u2020            2         \n",
        "\u22c5False   g \u22c5\u03c9\u1d63\u22c5a \u22c5a\u22c5False   g \u22c5\u03c9\u1d63\u22c5False\n",
        "\u2500\u2500\u2500\u2500\u2500\u2500 + \u2500\u2500\u2500\u2500\u2500\u2500\u2500\u2500\u2500\u2500\u2500\u2500\u2500\u2500\u2500\u2500 + \u2500\u2500\u2500\u2500\u2500\u2500\u2500\u2500\u2500\u2500\u2500\n",
        "  2              2                 2   \n",
        "\u22c5\u0394              \u0394               2\u22c5\u0394    "
       ]
      }
     ],
     "prompt_number": 32
    },
    {
     "cell_type": "code",
     "collapsed": false,
     "input": [
      "H9 = qsimplify(H8)\n",
      "\n",
      "H9 = collect(H9, [Dagger(a) * a, sz])\n",
      "\n",
      "H9"
     ],
     "language": "python",
     "metadata": {},
     "outputs": [
      {
       "latex": [
        "$$- \\frac{\\Omega}{2} + \\left(\\frac{g^{2}}{\\Delta} - \\frac{\\Omega g^{2}}{2 \\Delta^{2}} + \\frac{g^{2} \\omega_{r}}{2 \\Delta^{2}}\\right) {\\sigma_z} + {{a}^\\dagger} {a} \\left(\\frac{2 g^{2}}{\\Delta} {\\sigma_z} - \\frac{\\Omega g^{2}}{\\Delta^{2}} {\\sigma_z} + \\frac{g^{2} \\omega_{r}}{\\Delta^{2}} {\\sigma_z}\\right)$$"
       ],
       "metadata": {},
       "output_type": "pyout",
       "png": "[encoded data removed]",
       "prompt_number": 33,
       "text": [
        "      \u239b 2      2    2   \u239e              \u239b   2            2          2         \u239e\n",
        "  \u03a9   \u239cg    \u03a9\u22c5g    g \u22c5\u03c9\u1d63\u239f          \u2020   \u239c2\u22c5g \u22c5False   \u03a9\u22c5g \u22c5False   g \u22c5\u03c9\u1d63\u22c5False\u239f\n",
        "- \u2500 + \u239c\u2500\u2500 - \u2500\u2500\u2500\u2500 + \u2500\u2500\u2500\u2500\u2500\u239f\u22c5False + a \u22c5a\u22c5\u239c\u2500\u2500\u2500\u2500\u2500\u2500\u2500\u2500\u2500\u2500 - \u2500\u2500\u2500\u2500\u2500\u2500\u2500\u2500\u2500\u2500 + \u2500\u2500\u2500\u2500\u2500\u2500\u2500\u2500\u2500\u2500\u2500\u239f\n",
        "  2   \u239c\u0394       2       2\u239f              \u239c    \u0394             2             2    \u239f\n",
        "      \u239d     2\u22c5\u0394     2\u22c5\u0394 \u23a0              \u239d                 \u0394             \u0394     \u23a0"
       ]
      }
     ],
     "prompt_number": 33
    },
    {
     "cell_type": "markdown",
     "metadata": {},
     "source": [
      "Now move back to the lab frame:"
     ]
    },
    {
     "cell_type": "code",
     "collapsed": false,
     "input": [
      "U = exp(-I * omega_r * t * Dagger(a) * a)"
     ],
     "language": "python",
     "metadata": {},
     "outputs": [],
     "prompt_number": 34
    },
    {
     "cell_type": "code",
     "collapsed": false,
     "input": [
      "H10 = hamiltonian_transformation(U, H9.expand()); H10"
     ],
     "language": "python",
     "metadata": {},
     "outputs": [
      {
       "latex": [
        "$$- \\frac{\\Omega}{2} + \\omega_{r} {{a}^\\dagger} {a} + \\frac{2 g^{2}}{\\Delta} {{a}^\\dagger} {a} {\\sigma_z} + \\frac{g^{2} {\\sigma_z}}{\\Delta} - \\frac{\\Omega g^{2}}{\\Delta^{2}} {{a}^\\dagger} {a} {\\sigma_z} - \\frac{\\Omega g^{2} {\\sigma_z}}{2 \\Delta^{2}} + \\frac{g^{2} \\omega_{r}}{\\Delta^{2}} {{a}^\\dagger} {a} {\\sigma_z} + \\frac{g^{2} \\omega_{r} {\\sigma_z}}{2 \\Delta^{2}}$$"
       ],
       "metadata": {},
       "output_type": "pyout",
       "png": "[encoded data removed]",
       "prompt_number": 35,
       "text": [
        "                   2  \u2020            2            2  \u2020              2          2\n",
        "  \u03a9       \u2020     2\u22c5g \u22c5a \u22c5a\u22c5False   g \u22c5False   \u03a9\u22c5g \u22c5a \u22c5a\u22c5False   \u03a9\u22c5g \u22c5False   g \n",
        "- \u2500 + \u03c9\u1d63\u22c5a \u22c5a + \u2500\u2500\u2500\u2500\u2500\u2500\u2500\u2500\u2500\u2500\u2500\u2500\u2500\u2500\u2500 + \u2500\u2500\u2500\u2500\u2500\u2500\u2500\u2500 - \u2500\u2500\u2500\u2500\u2500\u2500\u2500\u2500\u2500\u2500\u2500\u2500\u2500\u2500\u2500 - \u2500\u2500\u2500\u2500\u2500\u2500\u2500\u2500\u2500\u2500 + \u2500\u2500\n",
        "  2                    \u0394             \u0394               2               2        \n",
        "                                                    \u0394             2\u22c5\u0394         \n",
        "\n",
        "     \u2020            2         \n",
        "\u22c5\u03c9\u1d63\u22c5a \u22c5a\u22c5False   g \u22c5\u03c9\u1d63\u22c5False\n",
        "\u2500\u2500\u2500\u2500\u2500\u2500\u2500\u2500\u2500\u2500\u2500\u2500\u2500\u2500 + \u2500\u2500\u2500\u2500\u2500\u2500\u2500\u2500\u2500\u2500\u2500\n",
        "      2                 2   \n",
        "     \u0394               2\u22c5\u0394    "
       ]
      }
     ],
     "prompt_number": 35
    },
    {
     "cell_type": "code",
     "collapsed": false,
     "input": [
      "U = exp(-I * Omega * t * Dagger(sm) * sm)"
     ],
     "language": "python",
     "metadata": {},
     "outputs": [],
     "prompt_number": 36
    },
    {
     "cell_type": "code",
     "collapsed": false,
     "input": [
      "H11 = hamiltonian_transformation(U, H10.expand()); H11"
     ],
     "language": "python",
     "metadata": {},
     "outputs": [
      {
       "latex": [
        "$$- \\frac{\\Omega}{2} + \\Omega {\\sigma_+} {\\sigma_-} + \\omega_{r} {{a}^\\dagger} {a} + \\frac{2 g^{2}}{\\Delta} {{a}^\\dagger} {a} {\\sigma_z} + \\frac{g^{2} {\\sigma_z}}{\\Delta} - \\frac{\\Omega g^{2}}{\\Delta^{2}} {{a}^\\dagger} {a} {\\sigma_z} - \\frac{\\Omega g^{2} {\\sigma_z}}{2 \\Delta^{2}} + \\frac{g^{2} \\omega_{r}}{\\Delta^{2}} {{a}^\\dagger} {a} {\\sigma_z} + \\frac{g^{2} \\omega_{r} {\\sigma_z}}{2 \\Delta^{2}}$$"
       ],
       "metadata": {},
       "output_type": "pyout",
       "png": "[encoded data removed]",
       "prompt_number": 37,
       "text": [
        "                                   2  \u2020            2            2  \u2020          \n",
        "  \u03a9                       \u2020     2\u22c5g \u22c5a \u22c5a\u22c5False   g \u22c5False   \u03a9\u22c5g \u22c5a \u22c5a\u22c5False  \n",
        "- \u2500 + \u03a9\u22c5False\u22c5False + \u03c9\u1d63\u22c5a \u22c5a + \u2500\u2500\u2500\u2500\u2500\u2500\u2500\u2500\u2500\u2500\u2500\u2500\u2500\u2500\u2500 + \u2500\u2500\u2500\u2500\u2500\u2500\u2500\u2500 - \u2500\u2500\u2500\u2500\u2500\u2500\u2500\u2500\u2500\u2500\u2500\u2500\u2500\u2500\u2500 -\n",
        "  2                                    \u0394             \u0394               2        \n",
        "                                                                    \u0394         \n",
        "\n",
        "    2          2     \u2020            2         \n",
        " \u03a9\u22c5g \u22c5False   g \u22c5\u03c9\u1d63\u22c5a \u22c5a\u22c5False   g \u22c5\u03c9\u1d63\u22c5False\n",
        " \u2500\u2500\u2500\u2500\u2500\u2500\u2500\u2500\u2500\u2500 + \u2500\u2500\u2500\u2500\u2500\u2500\u2500\u2500\u2500\u2500\u2500\u2500\u2500\u2500\u2500\u2500 + \u2500\u2500\u2500\u2500\u2500\u2500\u2500\u2500\u2500\u2500\u2500\n",
        "       2              2                 2   \n",
        "    2\u22c5\u0394              \u0394               2\u22c5\u0394    "
       ]
      }
     ],
     "prompt_number": 37
    },
    {
     "cell_type": "code",
     "collapsed": false,
     "input": [
      "H12 = qsimplify(H11)\n",
      "\n",
      "H12 = collect(H12, [Dagger(a) * a, sz])\n",
      "\n",
      "H12 = H12.subs(omega_r, Omega-Delta).expand().collect([Dagger(a)*a, sz]).subs(Omega-Delta,omega_r)\n",
      "\n",
      "Eq(Hsym, H12)"
     ],
     "language": "python",
     "metadata": {},
     "outputs": [
      {
       "latex": [
        "$$H = \\left(\\frac{\\Omega}{2} + \\frac{g^{2}}{2 \\Delta}\\right) {\\sigma_z} + {{a}^\\dagger} {a} \\left(\\omega_{r} + \\frac{g^{2} {\\sigma_z}}{\\Delta}\\right)$$"
       ],
       "metadata": {},
       "output_type": "pyout",
       "png": "[encoded data removed]",
       "prompt_number": 38,
       "text": [
        "    \u239b      2\u239e              \u239b      2      \u239e\n",
        "    \u239c\u03a9    g \u239f          \u2020   \u239c     g \u22c5False\u239f\n",
        "H = \u239c\u2500 + \u2500\u2500\u2500\u239f\u22c5False + a \u22c5a\u22c5\u239c\u03c9\u1d63 + \u2500\u2500\u2500\u2500\u2500\u2500\u2500\u2500\u239f\n",
        "    \u239d2   2\u22c5\u0394\u23a0              \u239d        \u0394    \u23a0"
       ]
      }
     ],
     "prompt_number": 38
    },
    {
     "cell_type": "markdown",
     "metadata": {},
     "source": [
      "This is the Hamiltonian of the Jaynes-Cummings model in the the dispersive regime. It can be interpreted as the resonator having a qubit-state-dependent frequency shift, or alternatively that the qubit is feeling a resonator-photon-number dependent Stark-shift."
     ]
    },
    {
     "cell_type": "heading",
     "level": 2,
     "metadata": {},
     "source": [
      "Versions"
     ]
    },
    {
     "cell_type": "code",
     "collapsed": false,
     "input": [
      "%reload_ext version_information\n",
      "\n",
      "%version_information sympy, sympsi"
     ],
     "language": "python",
     "metadata": {},
     "outputs": [
      {
       "html": [
        "<table><tr><th>Software</th><th>Version</th></tr><tr><td>Python</td><td>3.4.1 (default, Sep 20 2014, 19:44:17) [GCC 4.2.1 Compatible Apple LLVM 5.1 (clang-503.0.40)]</td></tr><tr><td>IPython</td><td>2.1.0</td></tr><tr><td>OS</td><td>Darwin 13.4.0 x86_64 i386 64bit</td></tr><tr><td>sympy</td><td>0.7.5-git</td></tr><tr><td>sympsi</td><td>0.1.0.dev-9060485</td></tr><tr><td colspan='2'>Thu Oct 09 16:25:51 2014 JST</td></tr></table>"
       ],
       "json": [
        "{\"Software versions\": [{\"version\": \"3.4.1 (default, Sep 20 2014, 19:44:17) [GCC 4.2.1 Compatible Apple LLVM 5.1 (clang-503.0.40)]\", \"module\": \"Python\"}, {\"version\": \"2.1.0\", \"module\": \"IPython\"}, {\"version\": \"Darwin 13.4.0 x86_64 i386 64bit\", \"module\": \"OS\"}, {\"version\": \"0.7.5-git\", \"module\": \"sympy\"}, {\"version\": \"0.1.0.dev-9060485\", \"module\": \"sympsi\"}]}"
       ],
       "latex": [
        "\\begin{tabular}{|l|l|}\\hline\n",
        "{\\bf Software} & {\\bf Version} \\\\ \\hline\\hline\n",
        "Python & 3.4.1 (default, Sep 20 2014, 19:44:17) [GCC 4.2.1 Compatible Apple LLVM 5.1 (clang-503.0.40)] \\\\ \\hline\n",
        "IPython & 2.1.0 \\\\ \\hline\n",
        "OS & Darwin 13.4.0 x86\\letterunderscore{}64 i386 64bit \\\\ \\hline\n",
        "sympy & 0.7.5-git \\\\ \\hline\n",
        "sympsi & 0.1.0.dev-9060485 \\\\ \\hline\n",
        "\\hline \\multicolumn{2}{|l|}{Thu Oct 09 16:25:51 2014 JST} \\\\ \\hline\n",
        "\\end{tabular}\n"
       ],
       "metadata": {},
       "output_type": "pyout",
       "prompt_number": 35,
       "text": [
        "Software versions\n",
        "Python 3.4.1 (default, Sep 20 2014, 19:44:17) [GCC 4.2.1 Compatible Apple LLVM 5.1 (clang-503.0.40)]\n",
        "IPython 2.1.0\n",
        "OS Darwin 13.4.0 x86_64 i386 64bit\n",
        "sympy 0.7.5-git\n",
        "sympsi 0.1.0.dev-9060485\n",
        "Thu Oct 09 16:25:51 2014 JST"
       ]
      }
     ],
     "prompt_number": 35
    }
   ],
   "metadata": {}
  }
 ]
}