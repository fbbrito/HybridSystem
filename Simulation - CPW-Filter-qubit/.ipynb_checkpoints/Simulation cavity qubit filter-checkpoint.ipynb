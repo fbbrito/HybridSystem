{
 "metadata": {
  "name": "",
  "signature": "sha256:8b8ae5d1ee9429b9e8e2bd07fbe63666c84b2ecfa29113ac4fff83afb2a9e0e4"
 },
 "nbformat": 3,
 "nbformat_minor": 0,
 "worksheets": []
}