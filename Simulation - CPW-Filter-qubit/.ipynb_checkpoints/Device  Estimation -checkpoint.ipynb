{
 "metadata": {
  "name": "",
  "signature": "sha256:2dd437928fcc722e8644d9035383cbe19161ef59e1bb21edde7fc6fe8e2dfd19"
 },
 "nbformat": 3,
 "nbformat_minor": 0,
 "worksheets": [
  {
   "cells": [
    {
     "cell_type": "code",
     "collapsed": false,
     "input": [
      "%pylab inline"
     ],
     "language": "python",
     "metadata": {},
     "outputs": [
      {
       "output_type": "stream",
       "stream": "stdout",
       "text": [
        "Populating the interactive namespace from numpy and matplotlib\n"
       ]
      }
     ],
     "prompt_number": 1
    },
    {
     "cell_type": "code",
     "collapsed": false,
     "input": [
      "h = 6.62606957e-34 # Planck Contant\n",
      "hbar = h/(2*pi) # Planck Constant over 2 Pi\n",
      "heV = 4.136E-15 # h in eV\n",
      "qe = 1.60217657e-19 # Electric Charge\n",
      "hbar = h/2/pi\n",
      "DelAl = 0.180e-3 * qe # V\n",
      "kB = 1.3806488e-23 # Boltzmann Constant\n",
      "e0 = 8.854e-12 # Permittivity vacuum, F/m"
     ],
     "language": "python",
     "metadata": {},
     "outputs": [],
     "prompt_number": 2
    },
    {
     "cell_type": "code",
     "collapsed": false,
     "input": [
      "# 1 : ground \n",
      "# 2 : botton Cap\n",
      "# 3 : Top Cap\n",
      "# 4 : Gate\n",
      "\n",
      "C12 = 113*1e-15\n",
      "C13 = 84*1e-15\n",
      "C14 =58*1e-15\n",
      "C23 =50.134*1e-15\n",
      "C24 = 0.607*1e-15\n",
      "C34 =9.826*1e-15\n",
      "\n",
      "Cj = 2 * 1e-15 # Junctions\n",
      "\n",
      "Cg = (C34+C13)*(C24+C12)/(C34+C13+C12+C24) # Gate capacitance\n",
      "\n",
      "Ct = Cg + C23 + Cj # Total Capacitance\n",
      "\n",
      "print(\"Ct = \", Ct/1e-15, 'fF')\n",
      "Ec = qe**2/(2*Ct)/h\n",
      "print('Ec =',Ec/1e9,'GHz')\n",
      "\n",
      "\n",
      "\n",
      "\n",
      "\n",
      "R = 20e3 # Ohms\n",
      "T = 20e-3 # K\n",
      "Ej =2 * DelAl*tanh(DelAl/(2*kB*T))/(8*qe**2*R)\n",
      "#Ej = 2*DelAl/(8*qe*R)\n",
      "print('Ej =', Ej/1e9,'GHz')\n",
      "\n",
      "E01 = sqrt(8*Ec*Ej)\n",
      "print('w01 = ', E01/1e9, 'GHz')\n",
      "\n",
      "\n",
      "beta = Cg/Ct\n",
      "Vrms = sqrt(hbar*2*pi*5e9/2/beta)\n",
      "\n",
      "mat = 1/2*(Ej/8/Ec)**(1/4)/sqrt(2)\n",
      "\n",
      "g = 2*beta*qe*Vrms*mat/h\n",
      "\n",
      "print('g =', g,'MHz')\n",
      "\n"
     ],
     "language": "python",
     "metadata": {},
     "outputs": [
      {
       "output_type": "stream",
       "stream": "stdout",
       "text": [
        "Ct =  103.5206664513361 fF\n",
        "Ec = 0.1871146133104413 GHz\n",
        "Ej = 14.0433959785 GHz\n",
        "w01 =  4.58495331107 GHz\n",
        "g = 271.34241887 MHz\n"
       ]
      }
     ],
     "prompt_number": 3
    },
    {
     "cell_type": "code",
     "collapsed": false,
     "input": [
      "Vrms,mat"
     ],
     "language": "python",
     "metadata": {},
     "outputs": [
      {
       "metadata": {},
       "output_type": "pyout",
       "prompt_number": 4,
       "text": [
        "(1.8267802478099438e-12, 0.61876197725847726)"
       ]
      }
     ],
     "prompt_number": 4
    },
    {
     "cell_type": "code",
     "collapsed": false,
     "input": [
      "# Cavity kappa\n",
      "Q = 20e3\n",
      "freqCav = 5e9\n",
      "kappa = freqCav/Q\n",
      "print('Kappa =', kappa/1e9, ' GHz')"
     ],
     "language": "python",
     "metadata": {},
     "outputs": [
      {
       "output_type": "stream",
       "stream": "stdout",
       "text": [
        "Kappa = 0.00025  GHz\n"
       ]
      }
     ],
     "prompt_number": 5
    },
    {
     "cell_type": "code",
     "collapsed": false,
     "input": [
      "# qubit \n",
      "Qqubit = 4.3e9/1e6\n",
      "freqQubit = 4.3e9\n",
      "gamma = freqQubit/Qqubit\n",
      "print('Gamma =', gamma/1e9, ' GHz')\n"
     ],
     "language": "python",
     "metadata": {},
     "outputs": [
      {
       "output_type": "stream",
       "stream": "stdout",
       "text": [
        "Gamma = 0.001  GHz\n"
       ]
      }
     ],
     "prompt_number": 6
    },
    {
     "cell_type": "markdown",
     "metadata": {},
     "source": [
      "#test code for measurement data"
     ]
    },
    {
     "cell_type": "code",
     "collapsed": false,
     "input": [
      "ls"
     ],
     "language": "python",
     "metadata": {},
     "outputs": [
      {
       "output_type": "stream",
       "stream": "stdout",
       "text": [
        "Experimental data.ipynb\r\n",
        "Program Recover IQ from pulsed data.ipynb\r\n",
        "Simulation cavity qubit filter.ipynb\r\n",
        "\u001b[1m\u001b[36mdata\u001b[m\u001b[m/\r\n"
       ]
      }
     ],
     "prompt_number": 7
    },
    {
     "cell_type": "code",
     "collapsed": false,
     "input": [],
     "language": "python",
     "metadata": {},
     "outputs": [
      {
       "output_type": "stream",
       "stream": "stdout",
       "text": [
        "/Users/rouxinol/Python/Manuscripts/CPW-Filter-qubit/data\n"
       ]
      }
     ],
     "prompt_number": 8
    },
    {
     "cell_type": "code",
     "collapsed": false,
     "input": [],
     "language": "python",
     "metadata": {},
     "outputs": [],
     "prompt_number": 8
    },
    {
     "cell_type": "code",
     "collapsed": false,
     "input": [],
     "language": "python",
     "metadata": {},
     "outputs": [],
     "prompt_number": 9
    },
    {
     "cell_type": "code",
     "collapsed": false,
     "input": [
      "\n"
     ],
     "language": "python",
     "metadata": {},
     "outputs": [],
     "prompt_number": 10
    },
    {
     "cell_type": "code",
     "collapsed": false,
     "input": [],
     "language": "python",
     "metadata": {},
     "outputs": [],
     "prompt_number": 11
    },
    {
     "cell_type": "code",
     "collapsed": false,
     "input": [],
     "language": "python",
     "metadata": {},
     "outputs": [
      {
       "metadata": {},
       "output_type": "pyout",
       "prompt_number": 12,
       "text": [
        "(81.527691315008369, 2542.761020876143)"
       ]
      }
     ],
     "prompt_number": 12
    },
    {
     "cell_type": "code",
     "collapsed": false,
     "input": [
      "3.14158*432"
     ],
     "language": "python",
     "metadata": {},
     "outputs": [
      {
       "metadata": {},
       "output_type": "pyout",
       "prompt_number": 14,
       "text": [
        "1357.16256"
       ]
      }
     ],
     "prompt_number": 14
    },
    {
     "cell_type": "code",
     "collapsed": false,
     "input": [],
     "language": "python",
     "metadata": {},
     "outputs": [
      {
       "metadata": {},
       "output_type": "pyout",
       "prompt_number": 15,
       "text": [
        "58.395059722548446"
       ]
      }
     ],
     "prompt_number": 15
    },
    {
     "cell_type": "code",
     "collapsed": false,
     "input": [
      "\n"
     ],
     "language": "python",
     "metadata": {},
     "outputs": [],
     "prompt_number": 24
    },
    {
     "cell_type": "code",
     "collapsed": false,
     "input": [],
     "language": "python",
     "metadata": {},
     "outputs": []
    }
   ],
   "metadata": {}
  }
 ]
}