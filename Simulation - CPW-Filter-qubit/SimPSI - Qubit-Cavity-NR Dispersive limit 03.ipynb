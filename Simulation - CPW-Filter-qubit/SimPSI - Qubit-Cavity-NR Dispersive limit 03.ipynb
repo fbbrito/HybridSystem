{
 "cells": [
  {
   "cell_type": "markdown",
   "metadata": {},
   "source": [
    "## Symbolic derivation qubit-cavity-NR with one DriveHamiltonian"
   ]
  },
  {
   "cell_type": "markdown",
   "metadata": {},
   "source": [
    "<style>\n",
    "p {\n",
    "    font-family: \"Liberation Serif\", serif;\n",
    "    font-size: 12pt;\n",
    "}\n",
    "</style>"
   ]
  },
  {
   "cell_type": "markdown",
   "metadata": {},
   "source": [
    "\n",
    "Based on: J. R. Johansson (robert@riken.jp), [http://jrjohansson.github.io](http://jrjohansson.github.io), and Eunjong Kim."
   ]
  },
  {
   "cell_type": "markdown",
   "metadata": {},
   "source": [
    "## Setup modules"
   ]
  },
  {
   "cell_type": "code",
   "execution_count": 1,
   "metadata": {
    "collapsed": false
   },
   "outputs": [],
   "source": [
    "from sympy import *\n",
    "init_printing()"
   ]
  },
  {
   "cell_type": "code",
   "execution_count": 2,
   "metadata": {
    "collapsed": false
   },
   "outputs": [],
   "source": [
    "from sympsi import *\n",
    "from sympsi.boson import *\n",
    "from sympsi.pauli import *"
   ]
  },
  {
   "cell_type": "markdown",
   "metadata": {},
   "source": [
    "## The Jaynes-Cummings model"
   ]
  },
  {
   "cell_type": "markdown",
   "metadata": {},
   "source": [
    "The [Jaynes-Cummings model](http://en.wikipedia.org/wiki/Jaynes%E2%80%93Cummings_model) is one of the most elementary quantum mechanical models light-matter interaction. It describes a single two-level atom that interacts with a single harmonic-oscillator mode of a electromagnetic cavity.\n",
    "\n",
    "The Hamiltonian for a two-level system in its eigenbasis can be written as\n",
    "\n",
    "$$\n",
    "H = \\frac{1}{2}\\omega_q \\sigma_z\n",
    "$$\n",
    "\n",
    "and the Hamiltonian of a quantum harmonic oscillator (cavity or nanomechanical resonator, NR) is\n",
    "\n",
    "$$\n",
    "H = \\hbar\\omega_r (a^\\dagger a + 1/2)\n",
    "$$\n",
    "\n",
    "$$\n",
    "H = \\hbar\\omega_{NR} (b^\\dagger b + 1/2)\n",
    "$$\n",
    "\n",
    "The atom interacts with the electromagnetic field produced by the cavity (NR) mode $a + a^\\dagger$ ($b + b^\\dagger$) through its dipole moment. The dipole-transition operators is $\\sigma_x$ (which cause a transition from the two dipole states of the atom). The combined atom-cavity Hamiltonian can therefore be written in the form\n",
    "\n",
    "$$\n",
    "H = \n",
    "\\hbar \\omega_r (a^\\dagger a + 1/2)\n",
    "+\n",
    "\\hbar \\omega_{NR} (b^\\dagger b + 1/2)\n",
    "+ \\frac{1}{2}\\hbar\\Omega\\sigma_z \n",
    "+\n",
    "\\hbar\n",
    "\\sigma_x \\left( g(a + a^\\dagger)\n",
    "+\n",
    "\\lambda(b + b^\\dagger)\\right)\n",
    "$$\n",
    "\n",
    "\n"
   ]
  },
  {
   "cell_type": "markdown",
   "metadata": {},
   "source": [
    "Although the Jaynes-Cumming Hamiltonian allow us to evolve the given initial state according to the Schrödinger Equation, in an experiment we would like to predicte the response of the coupled cavity-NR-qubit system under the influence of driving fields for the cavity and qubit, and also account for the effects of dissipation and dephasing (not treated here)\n",
    "\n",
    "The external coherent-state input may be incorporated in the Jaynes-Cummings Hamiltonian by addition of terms involving the amplitude of the driving field $\\vec{E_d} \\left(\\vec{E_s}\\right)$ and it's frequency $\\omega_d\\left(\\omega_s\\right)$\n",
    "\n",
    "$$\n",
    "H_{cavity} = \n",
    "E_d \\left(e^{i\\omega_dt}a +e^{-i\\omega_dt}a^\\dagger\\right)\n",
    "$$\n",
    "\n",
    "$$\n",
    "H_{qubit} = \n",
    "E_s \\left(e^{i\\omega_st}\\sigma_- +e^{-i\\omega_st}\\sigma_+\\right)\n",
    "$$\n",
    "\n",
    "$$\n",
    "H_{NR} = \n",
    "E_p \\left(e^{i\\omega_st}b +e^{-i\\omega_st}b^\\dagger\\right)\n",
    "$$"
   ]
  },
  {
   "cell_type": "markdown",
   "metadata": {},
   "source": [
    "To obtain the Jaynes-Cumming Hamiltonian \n",
    "\n",
    "$$\n",
    "?\n",
    "H = \n",
    "\\hbar\\omega_r (a^\\dagger a + 1/2)\n",
    "%-\\frac{1}{2}\\Delta\\sigma_x \n",
    "+ \\frac{1}{2}\\hbar\\Omega\\sigma_z \n",
    "+\n",
    "\\hbar\n",
    "\\sigma_x \\left( g(a + a^\\dagger)\n",
    "+\n",
    "\\lambda(b + b^\\dagger)\\right)\n",
    "$$\n",
    "\n",
    "we also need to perform a rotating-wave approximation which simplifies the interaction part of the Hamiltonian. In the following we will begin with looking at how these two Hamiltonians are related.\n",
    "\n",
    "To represent the atom-cavity Hamiltonian in SymPy we creates an instances of the operator classes `BosonOp` and `SigmaX`, `SigmaY`, and `SigmaZ`, and use these to construct the Hamiltonian (we work in units where $\\hbar = 1$)."
   ]
  },
  {
   "cell_type": "code",
   "execution_count": 3,
   "metadata": {
    "collapsed": false
   },
   "outputs": [],
   "source": [
    "# CPW, qubit and NR energies\n",
    "omega_r, omega_q, omega_nr = symbols(\"omega_r, omega_q, omega_{NR}\") \n",
    "# Coupling CPW-qubit, NR_qubit\n",
    "g, L, chi, eps = symbols(\"g, lambda, chi, epsilon\")\n",
    "# Detuning \n",
    "\n",
    "# Drives and detunnings\n",
    "\n",
    "Delta_d, Delta_s, Delta_p  = symbols(\" Delta_d, Delta_s, Delta_p \")\n",
    "\n",
    "A, B, C = symbols(\"A,B,C\") # Electric field amplitude\n",
    "\n",
    "omega_d, omega_s, omega_p = symbols(\"omega_d, omega_s, omega_p\") # drive frequencies\n",
    "\n",
    "# Detunning CPW-qubit, NR-qubit\n",
    "\n",
    "Delta_CPW, Delta_NR = symbols(\"Delta_{CPW},Delta_{NR}\")\n",
    "\n",
    "# auxilary variables\n",
    "\n",
    "x, y, t, Hsym = symbols(\"x, y, t, H \") \n",
    "\n",
    "Delta_SP, Delta_SD = symbols(\"Delta_{SP},Delta_{SD}\")"
   ]
  },
  {
   "cell_type": "code",
   "execution_count": 4,
   "metadata": {
    "collapsed": false
   },
   "outputs": [],
   "source": [
    "# omega_r, omega_q, g, Delta_d, Delta_s, t, x, chi, Hsym = symbols(\"omega_r, omega_q, g, Delta_d, Delta_s, t, x, chi, H\")\n",
    "\n",
    "# A, B, C = symbols(\"A,B,C\") # Electric field amplitude\n",
    "\n",
    "# omega_d, omega_s = symbols(\"omega_d, omega_s\") # \n",
    "\n",
    "# omega_nr, L = symbols(\"omega_{NR},lambda\")\n",
    "\n",
    "# Delta,Delta_t = symbols(\"Delta,Delta_t\")\n",
    "\n",
    "# y, omega_t = symbols(\"y, omega_t\")"
   ]
  },
  {
   "cell_type": "code",
   "execution_count": 5,
   "metadata": {
    "collapsed": false
   },
   "outputs": [],
   "source": [
    "\n",
    "sx, sy, sz, sm, sp = SigmaX(), SigmaY(), SigmaZ(), SigmaMinus(), SigmaPlus()\n",
    "a = BosonOp(\"a\")\n",
    "b = BosonOp(\"b\")"
   ]
  },
  {
   "cell_type": "code",
   "execution_count": 6,
   "metadata": {
    "collapsed": false
   },
   "outputs": [
    {
     "data": {
      "image/png": "[encoded data removed]",
      "text/latex": [
       "$$H = A \\left(e^{i \\omega_{d} t} {a} + e^{- i \\omega_{d} t} {{a}^\\dagger}\\right) + g {\\sigma_x} \\left({{a}^\\dagger} + {a}\\right) + \\lambda {\\sigma_x} \\left({{b}^\\dagger} + {b}\\right) + \\frac{\\omega_{q} {\\sigma_z}}{2} + \\omega_{r} {{a}^\\dagger} {a} + \\omega_{{NR}} {{b}^\\dagger} {b}$$"
      ],
      "text/plain": [
       "      ⎛ ⅈ⋅ω_d⋅t      -ⅈ⋅ω_d⋅t  †⎞           ⎛ †    ⎞           ⎛ †    ⎞   ω_q⋅\n",
       "H = A⋅⎝ℯ       ⋅a + ℯ        ⋅a ⎠ + g⋅False⋅⎝a  + a⎠ + λ⋅False⋅⎝b  + b⎠ + ────\n",
       "                                                                              \n",
       "\n",
       "False       †             †  \n",
       "───── + ωᵣ⋅a ⋅a + ω_{NR}⋅b ⋅b\n",
       "2                            "
      ]
     },
     "execution_count": 6,
     "metadata": {},
     "output_type": "execute_result"
    }
   ],
   "source": [
    "H = omega_r * Dagger(a) * a + omega_q/2 * sz + omega_nr * Dagger(b) * b \n",
    "\n",
    "H_int = sx*(g  * (a + Dagger(a)))\n",
    "H_int_2 = sx *( L * (b + Dagger(b)))\n",
    "\n",
    "\n",
    "H_drive_r = A * (exp(I*omega_d*t)*a + exp(-I*omega_d*t)*Dagger(a))\n",
    "H_drive_q = B * (exp(I*omega_s*t)*sm + exp(-I*omega_s*t)*sp)\n",
    "H_drive_NR = C * (exp(I*omega_p*t)*b + exp(-I*omega_p*t)*Dagger(b))\n",
    "H_total  =  H +   H_drive_r  + H_int + H_int_2#+ H_drive_q + H_drive_NR #+ H_int + H_int_2 +\n",
    "Eq(Hsym,H_total)\n"
   ]
  },
  {
   "cell_type": "code",
   "execution_count": 7,
   "metadata": {
    "collapsed": true
   },
   "outputs": [],
   "source": [
    "# trick to simplify exponents\n",
    "def simplify_exp(e):\n",
    "    if isinstance(e, exp):\n",
    "        return exp(simplify(e.exp.expand()))\n",
    "\n",
    "    if isinstance(e, (Add, Mul)):\n",
    "        return type(e)(*(simplify_exp(arg) for arg in e.args)) \n",
    "\n",
    "    return e"
   ]
  },
  {
   "cell_type": "markdown",
   "metadata": {},
   "source": [
    "##Linearized Interaction"
   ]
  },
  {
   "cell_type": "code",
   "execution_count": 23,
   "metadata": {
    "collapsed": false
   },
   "outputs": [
    {
     "data": {
      "image/png": "[encoded data removed]",
      "text/latex": [
       "$$e^{i \\omega_{d} t {{a}^\\dagger} {a}}$$"
      ],
      "text/plain": [
       "          †  \n",
       " ⅈ⋅ω_d⋅t⋅a ⋅a\n",
       "ℯ            "
      ]
     },
     "execution_count": 23,
     "metadata": {},
     "output_type": "execute_result"
    }
   ],
   "source": [
    "\n",
    "U = exp(I *Dagger(a)*a * omega_d * t )\n",
    "\n",
    "U"
   ]
  },
  {
   "cell_type": "code",
   "execution_count": 24,
   "metadata": {
    "collapsed": false
   },
   "outputs": [
    {
     "data": {
      "image/png": "[encoded data removed]",
      "text/latex": [
       "$$A \\left({{a}^\\dagger} + {a}\\right) + g {\\sigma_x} \\left(e^{i \\omega_{d} t} {{a}^\\dagger} + e^{- i \\omega_{d} t} {a}\\right) + \\lambda {\\sigma_x} \\left({{b}^\\dagger} + {b}\\right) - \\omega_{d} {{a}^\\dagger} {a} + \\frac{\\omega_{q} {\\sigma_z}}{2} + \\omega_{r} {{a}^\\dagger} {a} + \\omega_{{NR}} {{b}^\\dagger} {b}$$"
      ],
      "text/plain": [
       "  ⎛ †    ⎞           ⎛ ⅈ⋅ω_d⋅t  †    -ⅈ⋅ω_d⋅t  ⎞           ⎛ †    ⎞        †  \n",
       "A⋅⎝a  + a⎠ + g⋅False⋅⎝ℯ       ⋅a  + ℯ        ⋅a⎠ + λ⋅False⋅⎝b  + b⎠ - ω_d⋅a ⋅a\n",
       "                                                                              \n",
       "\n",
       "   ω_q⋅False       †             †  \n",
       " + ───────── + ωᵣ⋅a ⋅a + ω_{NR}⋅b ⋅b\n",
       "       2                            "
      ]
     },
     "execution_count": 24,
     "metadata": {},
     "output_type": "execute_result"
    }
   ],
   "source": [
    "\n",
    "H1 = hamiltonian_transformation(U, H_total, independent=True)\n",
    "\n",
    "H1"
   ]
  },
  {
   "cell_type": "code",
   "execution_count": 25,
   "metadata": {
    "collapsed": false
   },
   "outputs": [
    {
     "data": {
      "image/png": "[encoded data removed]",
      "text/latex": [
       "$$A {{a}^\\dagger} + A {a} + g e^{i \\omega_{d} t} {\\sigma_x} {{a}^\\dagger} + g e^{- i \\omega_{d} t} {\\sigma_x} {a} + \\lambda {\\sigma_x} {{b}^\\dagger} + \\lambda {\\sigma_x} {b} - \\omega_{d} {{a}^\\dagger} {a} + \\frac{\\omega_{q} {\\sigma_z}}{2} + \\omega_{r} {{a}^\\dagger} {a} + \\omega_{{NR}} {{b}^\\dagger} {b}$$"
      ],
      "text/plain": [
       "   †            ⅈ⋅ω_d⋅t        †      -ⅈ⋅ω_d⋅t                    †           \n",
       "A⋅a  + A⋅a + g⋅ℯ       ⋅False⋅a  + g⋅ℯ        ⋅False⋅a + λ⋅False⋅b  + λ⋅False⋅\n",
       "                                                                              \n",
       "\n",
       "         †     ω_q⋅False       †             †  \n",
       "b - ω_d⋅a ⋅a + ───────── + ωᵣ⋅a ⋅a + ω_{NR}⋅b ⋅b\n",
       "                   2                            "
      ]
     },
     "execution_count": 25,
     "metadata": {},
     "output_type": "execute_result"
    }
   ],
   "source": [
    "H2 = drop_terms_containing(H1.expand(), [exp(-2*I*omega_d*t), exp(2*I*omega_d*t)])\n",
    "H2"
   ]
  },
  {
   "cell_type": "code",
   "execution_count": 26,
   "metadata": {
    "collapsed": false
   },
   "outputs": [
    {
     "data": {
      "image/png": "[encoded data removed]",
      "text/latex": [
       "$$A {{a}^\\dagger} + A {a} + \\Delta_{{CPW}} {{a}^\\dagger} {a} + g e^{i \\omega_{d} t} {\\sigma_x} {{a}^\\dagger} + g e^{- i \\omega_{d} t} {\\sigma_x} {a} + \\lambda {\\sigma_x} {{b}^\\dagger} + \\lambda {\\sigma_x} {b} + \\frac{\\omega_{q} {\\sigma_z}}{2} + \\omega_{{NR}} {{b}^\\dagger} {b}$$"
      ],
      "text/plain": [
       "   †                  †        ⅈ⋅ω_d⋅t        †      -ⅈ⋅ω_d⋅t                 \n",
       "A⋅a  + A⋅a + Δ_{CPW}⋅a ⋅a + g⋅ℯ       ⋅False⋅a  + g⋅ℯ        ⋅False⋅a + λ⋅Fals\n",
       "                                                                              \n",
       "\n",
       "   †               ω_q⋅False           †  \n",
       "e⋅b  + λ⋅False⋅b + ───────── + ω_{NR}⋅b ⋅b\n",
       "                       2                  "
      ]
     },
     "execution_count": 26,
     "metadata": {},
     "output_type": "execute_result"
    }
   ],
   "source": [
    "H3 = H2.subs(omega_r, Delta_CPW + omega_d).expand()\n",
    "\n",
    "H3"
   ]
  },
  {
   "cell_type": "code",
   "execution_count": 27,
   "metadata": {
    "collapsed": false
   },
   "outputs": [
    {
     "data": {
      "image/png": "[encoded data removed]",
      "text/latex": [
       "$$A \\left({{a}^\\dagger} + {a}\\right) + \\Delta_{{CPW}} {{a}^\\dagger} {a} + g \\left(e^{i \\omega_{d} t} {\\sigma_x} {{a}^\\dagger} + e^{- i \\omega_{d} t} {\\sigma_x} {a}\\right) + \\lambda {\\sigma_x} \\left({{b}^\\dagger} + {b}\\right) + \\frac{\\omega_{q} {\\sigma_z}}{2} + \\omega_{{NR}} {{b}^\\dagger} {b}$$"
      ],
      "text/plain": [
       "  ⎛ †    ⎞            †       ⎛ ⅈ⋅ω_d⋅t        †    -ⅈ⋅ω_d⋅t        ⎞         \n",
       "A⋅⎝a  + a⎠ + Δ_{CPW}⋅a ⋅a + g⋅⎝ℯ       ⋅False⋅a  + ℯ        ⋅False⋅a⎠ + λ⋅Fals\n",
       "                                                                              \n",
       "\n",
       "  ⎛ †    ⎞   ω_q⋅False           †  \n",
       "e⋅⎝b  + b⎠ + ───────── + ω_{NR}⋅b ⋅b\n",
       "                 2                  "
      ]
     },
     "execution_count": 27,
     "metadata": {},
     "output_type": "execute_result"
    }
   ],
   "source": [
    "collect(H3, [g,L*sx, A])"
   ]
  },
  {
   "cell_type": "code",
   "execution_count": 17,
   "metadata": {
    "collapsed": false
   },
   "outputs": [
    {
     "data": {
      "image/png": "[encoded data removed]",
      "text/latex": [
       "$$e^{i \\omega_{d} t {\\sigma_x} \\left({{a}^\\dagger} + {a}\\right)}$$"
      ],
      "text/plain": [
       "               ⎛ †    ⎞\n",
       " ⅈ⋅ω_d⋅t⋅False⋅⎝a  + a⎠\n",
       "ℯ                      "
      ]
     },
     "execution_count": 17,
     "metadata": {},
     "output_type": "execute_result"
    }
   ],
   "source": [
    "U = exp(I * sx * (Dagger(a)+a) * omega_d* t)\n",
    "U"
   ]
  },
  {
   "cell_type": "code",
   "execution_count": 18,
   "metadata": {
    "collapsed": false
   },
   "outputs": [
    {
     "name": "stdout",
     "output_type": "stream",
     "text": [
      "Failed to identify series expansions: list index out of range\n"
     ]
    },
    {
     "ename": "AttributeError",
     "evalue": "'IndexError' object has no attribute 'subs'",
     "output_type": "error",
     "traceback": [
      "\u001b[1;31m---------------------------------------------------------------------------\u001b[0m",
      "\u001b[1;31mAttributeError\u001b[0m                            Traceback (most recent call last)",
      "\u001b[1;32m<ipython-input-18-d7c42be0812e>\u001b[0m in \u001b[0;36m<module>\u001b[1;34m()\u001b[0m\n\u001b[1;32m----> 1\u001b[1;33m \u001b[0mH4\u001b[0m \u001b[1;33m=\u001b[0m \u001b[0mhamiltonian_transformation\u001b[0m\u001b[1;33m(\u001b[0m\u001b[0mU\u001b[0m\u001b[1;33m,\u001b[0m \u001b[0mH3\u001b[0m\u001b[1;33m,\u001b[0m \u001b[0mindependent\u001b[0m\u001b[1;33m=\u001b[0m\u001b[1;32mTrue\u001b[0m\u001b[1;33m)\u001b[0m\u001b[1;33m\u001b[0m\u001b[0m\n\u001b[0m\u001b[0;32m      2\u001b[0m \u001b[1;33m\u001b[0m\u001b[0m\n\u001b[0;32m      3\u001b[0m \u001b[0mH4\u001b[0m\u001b[1;33m\u001b[0m\u001b[0m\n",
      "\u001b[1;32m/usr/local/lib/python3.4/dist-packages/sympsi/qutility.py\u001b[0m in \u001b[0;36mhamiltonian_transformation\u001b[1;34m(U, H, N, collect_operators, independent, expansion_search)\u001b[0m\n\u001b[0;32m   1108\u001b[0m                                   \u001b[0mcollect_operators\u001b[0m\u001b[1;33m=\u001b[0m\u001b[0mcollect_operators\u001b[0m\u001b[1;33m,\u001b[0m\u001b[1;33m\u001b[0m\u001b[0m\n\u001b[0;32m   1109\u001b[0m                                   \u001b[0mindependent\u001b[0m\u001b[1;33m=\u001b[0m\u001b[0mindependent\u001b[0m\u001b[1;33m,\u001b[0m\u001b[1;33m\u001b[0m\u001b[0m\n\u001b[1;32m-> 1110\u001b[1;33m                                   expansion_search=expansion_search)\n\u001b[0m\u001b[0;32m   1111\u001b[0m     \u001b[1;32mreturn\u001b[0m \u001b[0mH_st\u001b[0m \u001b[1;33m+\u001b[0m \u001b[0mH_td\u001b[0m\u001b[1;33m\u001b[0m\u001b[0m\n\u001b[0;32m   1112\u001b[0m \u001b[1;33m\u001b[0m\u001b[0m\n",
      "\u001b[1;32m/usr/local/lib/python3.4/dist-packages/sympsi/qutility.py\u001b[0m in \u001b[0;36munitary_transformation\u001b[1;34m(U, O, N, collect_operators, independent, allinone, expansion_search)\u001b[0m\n\u001b[0;32m   1083\u001b[0m                                       \u001b[0mindependent\u001b[0m\u001b[1;33m=\u001b[0m\u001b[0mindependent\u001b[0m\u001b[1;33m,\u001b[0m\u001b[1;33m\u001b[0m\u001b[0m\n\u001b[0;32m   1084\u001b[0m                                       expansion_search=expansion_search)\n\u001b[1;32m-> 1085\u001b[1;33m                     for op in ops}\n\u001b[0m\u001b[0;32m   1086\u001b[0m \u001b[1;33m\u001b[0m\u001b[0m\n\u001b[0;32m   1087\u001b[0m         \u001b[1;31m#return O.subs(ops_subs, simultaneous=True) # XXX: this this\u001b[0m\u001b[1;33m\u001b[0m\u001b[1;33m\u001b[0m\u001b[0m\n",
      "\u001b[1;32m/usr/local/lib/python3.4/dist-packages/sympsi/qutility.py\u001b[0m in \u001b[0;36m<dictcomp>\u001b[1;34m(.0)\u001b[0m\n\u001b[0;32m   1083\u001b[0m                                       \u001b[0mindependent\u001b[0m\u001b[1;33m=\u001b[0m\u001b[0mindependent\u001b[0m\u001b[1;33m,\u001b[0m\u001b[1;33m\u001b[0m\u001b[0m\n\u001b[0;32m   1084\u001b[0m                                       expansion_search=expansion_search)\n\u001b[1;32m-> 1085\u001b[1;33m                     for op in ops}\n\u001b[0m\u001b[0;32m   1086\u001b[0m \u001b[1;33m\u001b[0m\u001b[0m\n\u001b[0;32m   1087\u001b[0m         \u001b[1;31m#return O.subs(ops_subs, simultaneous=True) # XXX: this this\u001b[0m\u001b[1;33m\u001b[0m\u001b[1;33m\u001b[0m\u001b[0m\n",
      "\u001b[1;32m/usr/local/lib/python3.4/dist-packages/sympsi/qutility.py\u001b[0m in \u001b[0;36mbch_expansion\u001b[1;34m(A, B, N, collect_operators, independent, expansion_search)\u001b[0m\n\u001b[0;32m   1041\u001b[0m     \u001b[1;32mif\u001b[0m \u001b[0mexpansion_search\u001b[0m \u001b[1;32mand\u001b[0m \u001b[0mc_list\u001b[0m\u001b[1;33m:\u001b[0m\u001b[1;33m\u001b[0m\u001b[0m\n\u001b[0;32m   1042\u001b[0m         \u001b[0me_collected\u001b[0m \u001b[1;33m=\u001b[0m \u001b[0m_expansion_search\u001b[0m\u001b[1;33m(\u001b[0m\u001b[0me_collected\u001b[0m\u001b[1;33m,\u001b[0m \u001b[0mrep_list\u001b[0m\u001b[1;33m,\u001b[0m \u001b[0mN\u001b[0m\u001b[1;33m)\u001b[0m\u001b[1;33m\u001b[0m\u001b[0m\n\u001b[1;32m-> 1043\u001b[1;33m         e_collected = e_collected.subs({rep_list[n]: var_list[n]\n\u001b[0m\u001b[0;32m   1044\u001b[0m                                         for n in range(nvar)})\n\u001b[0;32m   1045\u001b[0m \u001b[1;33m\u001b[0m\u001b[0m\n",
      "\u001b[1;31mAttributeError\u001b[0m: 'IndexError' object has no attribute 'subs'"
     ]
    }
   ],
   "source": [
    "H4 = hamiltonian_transformation(U, H3, independent=True)\n",
    "\n",
    "H4"
   ]
  },
  {
   "cell_type": "code",
   "execution_count": null,
   "metadata": {
    "collapsed": false
   },
   "outputs": [],
   "source": [
    "collect(H4, [g*sx,L*sx,A])"
   ]
  },
  {
   "cell_type": "code",
   "execution_count": null,
   "metadata": {
    "collapsed": true
   },
   "outputs": [],
   "source": []
  }
 ],
 "metadata": {
  "kernelspec": {
   "display_name": "Python 3",
   "language": "python",
   "name": "python3"
  },
  "language_info": {
   "codemirror_mode": {
    "name": "ipython",
    "version": 3
   },
   "file_extension": ".py",
   "mimetype": "text/x-python",
   "name": "python",
   "nbconvert_exporter": "python",
   "pygments_lexer": "ipython3",
   "version": "3.4.0"
  }
 },
 "nbformat": 4,
 "nbformat_minor": 0
}
